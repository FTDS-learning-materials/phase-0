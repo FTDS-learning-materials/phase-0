{
  "nbformat": 4,
  "nbformat_minor": 0,
  "metadata": {
    "kernelspec": {
      "display_name": "Python 3",
      "language": "python",
      "name": "python3"
    },
    "language_info": {
      "codemirror_mode": {
        "name": "ipython",
        "version": 3
      },
      "file_extension": ".py",
      "mimetype": "text/x-python",
      "name": "python",
      "nbconvert_exporter": "python",
      "pygments_lexer": "ipython3",
      "version": "3.8.2"
    },
    "toc": {
      "base_numbering": 1,
      "nav_menu": {},
      "number_sections": true,
      "sideBar": true,
      "skip_h1_title": false,
      "title_cell": "Table of Contents",
      "title_sidebar": "Contents",
      "toc_cell": false,
      "toc_position": {},
      "toc_section_display": true,
      "toc_window_display": false
    },
    "colab": {
      "name": "Additional Reference for W2D4PM.ipynb",
      "provenance": [],
      "collapsed_sections": [
        "4OtNH2uhxmbZ",
        "voQYUM6wxmbk",
        "UgE5TgXBxmbr",
        "VuLLYNFhxmcC",
        "Ud5m0ARTxmcF",
        "9FBb1GOSxmcI",
        "O_AKcOk3xmcL",
        "-0-JRqUWxmcN",
        "yupfdgJZxmcQ",
        "koQlLhPCxmcW"
      ]
    }
  },
  "cells": [
    {
      "cell_type": "markdown",
      "metadata": {
        "id": "ERjHfILLxmbS"
      },
      "source": [
        "# Additional Reference (Self Learning)"
      ]
    },
    {
      "cell_type": "markdown",
      "metadata": {
        "id": "4OtNH2uhxmbZ"
      },
      "source": [
        "# NBA dataset analysis\n",
        "\n",
        "Now that you’ve installed Pandas, it’s time to have a look at a dataset. In this session, you’ll analyze NBA results provided by FiveThirtyEight in a 17MB CSV file."
      ]
    },
    {
      "cell_type": "code",
      "metadata": {
        "id": "snEdllaJxmba"
      },
      "source": [
        "import numpy as np\n",
        "import pandas as pd"
      ],
      "execution_count": null,
      "outputs": []
    },
    {
      "cell_type": "markdown",
      "metadata": {
        "id": "isd7zb95xmbb"
      },
      "source": [
        "Here, you follow the convention of importing Pandas in Python with the pd alias. Then, you use .read_csv() to read in your dataset and store it as a DataFrame object in the variable nba.\n",
        "\n",
        "Note: Is your data not in CSV format? No worries! The Pandas Python library provides several similar functions like read_json(), read_html(), and read_sql_table()."
      ]
    },
    {
      "cell_type": "code",
      "metadata": {
        "id": "bQaPOJI-xmbc"
      },
      "source": [
        "df = pd.read_csv('https://raw.githubusercontent.com/ardhiraka/PFDS_sources/master/nbaallelo.csv')"
      ],
      "execution_count": null,
      "outputs": []
    },
    {
      "cell_type": "markdown",
      "metadata": {
        "id": "ZsjUjBv7xmbc"
      },
      "source": [
        "You can see how much data nba contains:"
      ]
    },
    {
      "cell_type": "code",
      "metadata": {
        "id": "zP36t9CExmbd",
        "outputId": "96a4d78d-f8a9-4bb1-a04f-236d6aff086c"
      },
      "source": [
        "len(df)"
      ],
      "execution_count": null,
      "outputs": [
        {
          "data": {
            "text/plain": [
              "126314"
            ]
          },
          "execution_count": 3,
          "metadata": {},
          "output_type": "execute_result"
        }
      ]
    },
    {
      "cell_type": "code",
      "metadata": {
        "id": "Z-6Br0Psxmbe",
        "outputId": "0c2f3927-8d01-4593-d37a-92b34e5d7f15"
      },
      "source": [
        "df.shape"
      ],
      "execution_count": null,
      "outputs": [
        {
          "data": {
            "text/plain": [
              "(126314, 23)"
            ]
          },
          "execution_count": 4,
          "metadata": {},
          "output_type": "execute_result"
        }
      ]
    },
    {
      "cell_type": "markdown",
      "metadata": {
        "id": "Ao88ZIyAxmbf"
      },
      "source": [
        "You use the Python built-in function `len()` to determine the number of rows. You also use the `.shape` attribute of the DataFrame to see its **dimensionality**. The result is a tuple containing the number of rows and columns.\n",
        "\n",
        "Now you know that there are 126,314 rows and 23 columns in your dataset.\n",
        "\n",
        "But how can you be sure the dataset really contains basketball stats? You can have a look at the first five rows with `.head()`:"
      ]
    },
    {
      "cell_type": "code",
      "metadata": {
        "id": "vPnfsK-1xmbg",
        "outputId": "3566f9f6-49e7-4762-ceb0-2d72b995bc82"
      },
      "source": [
        "df.head()"
      ],
      "execution_count": null,
      "outputs": [
        {
          "data": {
            "text/html": [
              "<div>\n",
              "<style scoped>\n",
              "    .dataframe tbody tr th:only-of-type {\n",
              "        vertical-align: middle;\n",
              "    }\n",
              "\n",
              "    .dataframe tbody tr th {\n",
              "        vertical-align: top;\n",
              "    }\n",
              "\n",
              "    .dataframe thead th {\n",
              "        text-align: right;\n",
              "    }\n",
              "</style>\n",
              "<table border=\"1\" class=\"dataframe\">\n",
              "  <thead>\n",
              "    <tr style=\"text-align: right;\">\n",
              "      <th></th>\n",
              "      <th>gameorder</th>\n",
              "      <th>game_id</th>\n",
              "      <th>lg_id</th>\n",
              "      <th>_iscopy</th>\n",
              "      <th>year_id</th>\n",
              "      <th>date_game</th>\n",
              "      <th>seasongame</th>\n",
              "      <th>is_playoffs</th>\n",
              "      <th>team_id</th>\n",
              "      <th>fran_id</th>\n",
              "      <th>...</th>\n",
              "      <th>win_equiv</th>\n",
              "      <th>opp_id</th>\n",
              "      <th>opp_fran</th>\n",
              "      <th>opp_pts</th>\n",
              "      <th>opp_elo_i</th>\n",
              "      <th>opp_elo_n</th>\n",
              "      <th>game_location</th>\n",
              "      <th>game_result</th>\n",
              "      <th>forecast</th>\n",
              "      <th>notes</th>\n",
              "    </tr>\n",
              "  </thead>\n",
              "  <tbody>\n",
              "    <tr>\n",
              "      <th>0</th>\n",
              "      <td>1</td>\n",
              "      <td>194611010TRH</td>\n",
              "      <td>NBA</td>\n",
              "      <td>0</td>\n",
              "      <td>1947</td>\n",
              "      <td>11/1/1946</td>\n",
              "      <td>1</td>\n",
              "      <td>0</td>\n",
              "      <td>TRH</td>\n",
              "      <td>Huskies</td>\n",
              "      <td>...</td>\n",
              "      <td>40.294830</td>\n",
              "      <td>NYK</td>\n",
              "      <td>Knicks</td>\n",
              "      <td>68</td>\n",
              "      <td>1300.0000</td>\n",
              "      <td>1306.7233</td>\n",
              "      <td>H</td>\n",
              "      <td>L</td>\n",
              "      <td>0.640065</td>\n",
              "      <td>NaN</td>\n",
              "    </tr>\n",
              "    <tr>\n",
              "      <th>1</th>\n",
              "      <td>1</td>\n",
              "      <td>194611010TRH</td>\n",
              "      <td>NBA</td>\n",
              "      <td>1</td>\n",
              "      <td>1947</td>\n",
              "      <td>11/1/1946</td>\n",
              "      <td>1</td>\n",
              "      <td>0</td>\n",
              "      <td>NYK</td>\n",
              "      <td>Knicks</td>\n",
              "      <td>...</td>\n",
              "      <td>41.705170</td>\n",
              "      <td>TRH</td>\n",
              "      <td>Huskies</td>\n",
              "      <td>66</td>\n",
              "      <td>1300.0000</td>\n",
              "      <td>1293.2767</td>\n",
              "      <td>A</td>\n",
              "      <td>W</td>\n",
              "      <td>0.359935</td>\n",
              "      <td>NaN</td>\n",
              "    </tr>\n",
              "    <tr>\n",
              "      <th>2</th>\n",
              "      <td>2</td>\n",
              "      <td>194611020CHS</td>\n",
              "      <td>NBA</td>\n",
              "      <td>0</td>\n",
              "      <td>1947</td>\n",
              "      <td>11/2/1946</td>\n",
              "      <td>1</td>\n",
              "      <td>0</td>\n",
              "      <td>CHS</td>\n",
              "      <td>Stags</td>\n",
              "      <td>...</td>\n",
              "      <td>42.012257</td>\n",
              "      <td>NYK</td>\n",
              "      <td>Knicks</td>\n",
              "      <td>47</td>\n",
              "      <td>1306.7233</td>\n",
              "      <td>1297.0712</td>\n",
              "      <td>H</td>\n",
              "      <td>W</td>\n",
              "      <td>0.631101</td>\n",
              "      <td>NaN</td>\n",
              "    </tr>\n",
              "    <tr>\n",
              "      <th>3</th>\n",
              "      <td>2</td>\n",
              "      <td>194611020CHS</td>\n",
              "      <td>NBA</td>\n",
              "      <td>1</td>\n",
              "      <td>1947</td>\n",
              "      <td>11/2/1946</td>\n",
              "      <td>2</td>\n",
              "      <td>0</td>\n",
              "      <td>NYK</td>\n",
              "      <td>Knicks</td>\n",
              "      <td>...</td>\n",
              "      <td>40.692783</td>\n",
              "      <td>CHS</td>\n",
              "      <td>Stags</td>\n",
              "      <td>63</td>\n",
              "      <td>1300.0000</td>\n",
              "      <td>1309.6521</td>\n",
              "      <td>A</td>\n",
              "      <td>L</td>\n",
              "      <td>0.368899</td>\n",
              "      <td>NaN</td>\n",
              "    </tr>\n",
              "    <tr>\n",
              "      <th>4</th>\n",
              "      <td>3</td>\n",
              "      <td>194611020DTF</td>\n",
              "      <td>NBA</td>\n",
              "      <td>0</td>\n",
              "      <td>1947</td>\n",
              "      <td>11/2/1946</td>\n",
              "      <td>1</td>\n",
              "      <td>0</td>\n",
              "      <td>DTF</td>\n",
              "      <td>Falcons</td>\n",
              "      <td>...</td>\n",
              "      <td>38.864048</td>\n",
              "      <td>WSC</td>\n",
              "      <td>Capitols</td>\n",
              "      <td>50</td>\n",
              "      <td>1300.0000</td>\n",
              "      <td>1320.3811</td>\n",
              "      <td>H</td>\n",
              "      <td>L</td>\n",
              "      <td>0.640065</td>\n",
              "      <td>NaN</td>\n",
              "    </tr>\n",
              "  </tbody>\n",
              "</table>\n",
              "<p>5 rows × 23 columns</p>\n",
              "</div>"
            ],
            "text/plain": [
              "   gameorder       game_id lg_id  _iscopy  year_id  date_game  seasongame  \\\n",
              "0          1  194611010TRH   NBA        0     1947  11/1/1946           1   \n",
              "1          1  194611010TRH   NBA        1     1947  11/1/1946           1   \n",
              "2          2  194611020CHS   NBA        0     1947  11/2/1946           1   \n",
              "3          2  194611020CHS   NBA        1     1947  11/2/1946           2   \n",
              "4          3  194611020DTF   NBA        0     1947  11/2/1946           1   \n",
              "\n",
              "   is_playoffs team_id  fran_id  ...  win_equiv  opp_id  opp_fran  opp_pts  \\\n",
              "0            0     TRH  Huskies  ...  40.294830     NYK    Knicks       68   \n",
              "1            0     NYK   Knicks  ...  41.705170     TRH   Huskies       66   \n",
              "2            0     CHS    Stags  ...  42.012257     NYK    Knicks       47   \n",
              "3            0     NYK   Knicks  ...  40.692783     CHS     Stags       63   \n",
              "4            0     DTF  Falcons  ...  38.864048     WSC  Capitols       50   \n",
              "\n",
              "   opp_elo_i  opp_elo_n  game_location  game_result  forecast notes  \n",
              "0  1300.0000  1306.7233              H            L  0.640065   NaN  \n",
              "1  1300.0000  1293.2767              A            W  0.359935   NaN  \n",
              "2  1306.7233  1297.0712              H            W  0.631101   NaN  \n",
              "3  1300.0000  1309.6521              A            L  0.368899   NaN  \n",
              "4  1300.0000  1320.3811              H            L  0.640065   NaN  \n",
              "\n",
              "[5 rows x 23 columns]"
            ]
          },
          "execution_count": 5,
          "metadata": {},
          "output_type": "execute_result"
        }
      ]
    },
    {
      "cell_type": "markdown",
      "metadata": {
        "id": "mPgzfzqLxmbh"
      },
      "source": [
        "Unless your screen is quite large, your output probably won’t display all 23 columns. Somewhere in the middle, you’ll see a column of ellipses (...) indicating the missing data. If you’re working in a terminal, then that’s probably more readable than wrapping long rows.\n",
        "\n",
        "However, Jupyter notebooks will allow you to scroll. You can configure Pandas to display all 23 columns like this:"
      ]
    },
    {
      "cell_type": "code",
      "metadata": {
        "id": "mLhlYXD9xmbh"
      },
      "source": [
        "pd.set_option(\"display.max.columns\", None)"
      ],
      "execution_count": null,
      "outputs": []
    },
    {
      "cell_type": "markdown",
      "metadata": {
        "id": "Ie_SFx6rxmbi"
      },
      "source": [
        "While it’s practical to see all the columns, you probably won’t need six decimal places! Change it to two:"
      ]
    },
    {
      "cell_type": "code",
      "metadata": {
        "id": "BgfC_fP1xmbi"
      },
      "source": [
        "pd.set_option(\"display.precision\", 2)"
      ],
      "execution_count": null,
      "outputs": []
    },
    {
      "cell_type": "markdown",
      "metadata": {
        "id": "ah6ndLxZxmbi"
      },
      "source": [
        "To verify that you’ve changed the options successfully, you can execute `.head()` again, or you can display the last five rows with `.tail()` instead:\n",
        "\n"
      ]
    },
    {
      "cell_type": "code",
      "metadata": {
        "id": "tB63Zbxbxmbj",
        "outputId": "155cab0b-7dd7-4c0a-dccc-a472fb987469"
      },
      "source": [
        "df.tail()"
      ],
      "execution_count": null,
      "outputs": [
        {
          "data": {
            "text/html": [
              "<div>\n",
              "<style scoped>\n",
              "    .dataframe tbody tr th:only-of-type {\n",
              "        vertical-align: middle;\n",
              "    }\n",
              "\n",
              "    .dataframe tbody tr th {\n",
              "        vertical-align: top;\n",
              "    }\n",
              "\n",
              "    .dataframe thead th {\n",
              "        text-align: right;\n",
              "    }\n",
              "</style>\n",
              "<table border=\"1\" class=\"dataframe\">\n",
              "  <thead>\n",
              "    <tr style=\"text-align: right;\">\n",
              "      <th></th>\n",
              "      <th>gameorder</th>\n",
              "      <th>game_id</th>\n",
              "      <th>lg_id</th>\n",
              "      <th>_iscopy</th>\n",
              "      <th>year_id</th>\n",
              "      <th>date_game</th>\n",
              "      <th>seasongame</th>\n",
              "      <th>is_playoffs</th>\n",
              "      <th>team_id</th>\n",
              "      <th>fran_id</th>\n",
              "      <th>pts</th>\n",
              "      <th>elo_i</th>\n",
              "      <th>elo_n</th>\n",
              "      <th>win_equiv</th>\n",
              "      <th>opp_id</th>\n",
              "      <th>opp_fran</th>\n",
              "      <th>opp_pts</th>\n",
              "      <th>opp_elo_i</th>\n",
              "      <th>opp_elo_n</th>\n",
              "      <th>game_location</th>\n",
              "      <th>game_result</th>\n",
              "      <th>forecast</th>\n",
              "      <th>notes</th>\n",
              "    </tr>\n",
              "  </thead>\n",
              "  <tbody>\n",
              "    <tr>\n",
              "      <th>126309</th>\n",
              "      <td>63155</td>\n",
              "      <td>201506110CLE</td>\n",
              "      <td>NBA</td>\n",
              "      <td>0</td>\n",
              "      <td>2015</td>\n",
              "      <td>6/11/2015</td>\n",
              "      <td>100</td>\n",
              "      <td>1</td>\n",
              "      <td>CLE</td>\n",
              "      <td>Cavaliers</td>\n",
              "      <td>82</td>\n",
              "      <td>1723.41</td>\n",
              "      <td>1704.39</td>\n",
              "      <td>60.31</td>\n",
              "      <td>GSW</td>\n",
              "      <td>Warriors</td>\n",
              "      <td>103</td>\n",
              "      <td>1790.96</td>\n",
              "      <td>1809.98</td>\n",
              "      <td>H</td>\n",
              "      <td>L</td>\n",
              "      <td>0.55</td>\n",
              "      <td>NaN</td>\n",
              "    </tr>\n",
              "    <tr>\n",
              "      <th>126310</th>\n",
              "      <td>63156</td>\n",
              "      <td>201506140GSW</td>\n",
              "      <td>NBA</td>\n",
              "      <td>0</td>\n",
              "      <td>2015</td>\n",
              "      <td>6/14/2015</td>\n",
              "      <td>102</td>\n",
              "      <td>1</td>\n",
              "      <td>GSW</td>\n",
              "      <td>Warriors</td>\n",
              "      <td>104</td>\n",
              "      <td>1809.98</td>\n",
              "      <td>1813.63</td>\n",
              "      <td>68.01</td>\n",
              "      <td>CLE</td>\n",
              "      <td>Cavaliers</td>\n",
              "      <td>91</td>\n",
              "      <td>1704.39</td>\n",
              "      <td>1700.74</td>\n",
              "      <td>H</td>\n",
              "      <td>W</td>\n",
              "      <td>0.77</td>\n",
              "      <td>NaN</td>\n",
              "    </tr>\n",
              "    <tr>\n",
              "      <th>126311</th>\n",
              "      <td>63156</td>\n",
              "      <td>201506140GSW</td>\n",
              "      <td>NBA</td>\n",
              "      <td>1</td>\n",
              "      <td>2015</td>\n",
              "      <td>6/14/2015</td>\n",
              "      <td>101</td>\n",
              "      <td>1</td>\n",
              "      <td>CLE</td>\n",
              "      <td>Cavaliers</td>\n",
              "      <td>91</td>\n",
              "      <td>1704.39</td>\n",
              "      <td>1700.74</td>\n",
              "      <td>60.01</td>\n",
              "      <td>GSW</td>\n",
              "      <td>Warriors</td>\n",
              "      <td>104</td>\n",
              "      <td>1809.98</td>\n",
              "      <td>1813.63</td>\n",
              "      <td>A</td>\n",
              "      <td>L</td>\n",
              "      <td>0.23</td>\n",
              "      <td>NaN</td>\n",
              "    </tr>\n",
              "    <tr>\n",
              "      <th>126312</th>\n",
              "      <td>63157</td>\n",
              "      <td>201506170CLE</td>\n",
              "      <td>NBA</td>\n",
              "      <td>0</td>\n",
              "      <td>2015</td>\n",
              "      <td>6/16/2015</td>\n",
              "      <td>102</td>\n",
              "      <td>1</td>\n",
              "      <td>CLE</td>\n",
              "      <td>Cavaliers</td>\n",
              "      <td>97</td>\n",
              "      <td>1700.74</td>\n",
              "      <td>1692.09</td>\n",
              "      <td>59.29</td>\n",
              "      <td>GSW</td>\n",
              "      <td>Warriors</td>\n",
              "      <td>105</td>\n",
              "      <td>1813.63</td>\n",
              "      <td>1822.29</td>\n",
              "      <td>H</td>\n",
              "      <td>L</td>\n",
              "      <td>0.48</td>\n",
              "      <td>NaN</td>\n",
              "    </tr>\n",
              "    <tr>\n",
              "      <th>126313</th>\n",
              "      <td>63157</td>\n",
              "      <td>201506170CLE</td>\n",
              "      <td>NBA</td>\n",
              "      <td>1</td>\n",
              "      <td>2015</td>\n",
              "      <td>6/16/2015</td>\n",
              "      <td>103</td>\n",
              "      <td>1</td>\n",
              "      <td>GSW</td>\n",
              "      <td>Warriors</td>\n",
              "      <td>105</td>\n",
              "      <td>1813.63</td>\n",
              "      <td>1822.29</td>\n",
              "      <td>68.52</td>\n",
              "      <td>CLE</td>\n",
              "      <td>Cavaliers</td>\n",
              "      <td>97</td>\n",
              "      <td>1700.74</td>\n",
              "      <td>1692.09</td>\n",
              "      <td>A</td>\n",
              "      <td>W</td>\n",
              "      <td>0.52</td>\n",
              "      <td>NaN</td>\n",
              "    </tr>\n",
              "  </tbody>\n",
              "</table>\n",
              "</div>"
            ],
            "text/plain": [
              "        gameorder       game_id lg_id  _iscopy  year_id  date_game  \\\n",
              "126309      63155  201506110CLE   NBA        0     2015  6/11/2015   \n",
              "126310      63156  201506140GSW   NBA        0     2015  6/14/2015   \n",
              "126311      63156  201506140GSW   NBA        1     2015  6/14/2015   \n",
              "126312      63157  201506170CLE   NBA        0     2015  6/16/2015   \n",
              "126313      63157  201506170CLE   NBA        1     2015  6/16/2015   \n",
              "\n",
              "        seasongame  is_playoffs team_id    fran_id  pts    elo_i    elo_n  \\\n",
              "126309         100            1     CLE  Cavaliers   82  1723.41  1704.39   \n",
              "126310         102            1     GSW   Warriors  104  1809.98  1813.63   \n",
              "126311         101            1     CLE  Cavaliers   91  1704.39  1700.74   \n",
              "126312         102            1     CLE  Cavaliers   97  1700.74  1692.09   \n",
              "126313         103            1     GSW   Warriors  105  1813.63  1822.29   \n",
              "\n",
              "        win_equiv opp_id   opp_fran  opp_pts  opp_elo_i  opp_elo_n  \\\n",
              "126309      60.31    GSW   Warriors      103    1790.96    1809.98   \n",
              "126310      68.01    CLE  Cavaliers       91    1704.39    1700.74   \n",
              "126311      60.01    GSW   Warriors      104    1809.98    1813.63   \n",
              "126312      59.29    GSW   Warriors      105    1813.63    1822.29   \n",
              "126313      68.52    CLE  Cavaliers       97    1700.74    1692.09   \n",
              "\n",
              "       game_location game_result  forecast notes  \n",
              "126309             H           L      0.55   NaN  \n",
              "126310             H           W      0.77   NaN  \n",
              "126311             A           L      0.23   NaN  \n",
              "126312             H           L      0.48   NaN  \n",
              "126313             A           W      0.52   NaN  "
            ]
          },
          "execution_count": 8,
          "metadata": {},
          "output_type": "execute_result"
        }
      ]
    },
    {
      "cell_type": "markdown",
      "metadata": {
        "id": "EBKCYrVtxmbj"
      },
      "source": [
        "You can discover some further possibilities of `.head()` and `.tail()` with a small exercise. Can you print the last three lines of your DataFrame?"
      ]
    },
    {
      "cell_type": "code",
      "metadata": {
        "id": "zolCj9YQxmbj",
        "outputId": "23f2824a-03b4-4ada-bcbc-458bed1840dd"
      },
      "source": [
        "df.tail(3)"
      ],
      "execution_count": null,
      "outputs": [
        {
          "data": {
            "text/html": [
              "<div>\n",
              "<style scoped>\n",
              "    .dataframe tbody tr th:only-of-type {\n",
              "        vertical-align: middle;\n",
              "    }\n",
              "\n",
              "    .dataframe tbody tr th {\n",
              "        vertical-align: top;\n",
              "    }\n",
              "\n",
              "    .dataframe thead th {\n",
              "        text-align: right;\n",
              "    }\n",
              "</style>\n",
              "<table border=\"1\" class=\"dataframe\">\n",
              "  <thead>\n",
              "    <tr style=\"text-align: right;\">\n",
              "      <th></th>\n",
              "      <th>gameorder</th>\n",
              "      <th>game_id</th>\n",
              "      <th>lg_id</th>\n",
              "      <th>_iscopy</th>\n",
              "      <th>year_id</th>\n",
              "      <th>date_game</th>\n",
              "      <th>seasongame</th>\n",
              "      <th>is_playoffs</th>\n",
              "      <th>team_id</th>\n",
              "      <th>fran_id</th>\n",
              "      <th>pts</th>\n",
              "      <th>elo_i</th>\n",
              "      <th>elo_n</th>\n",
              "      <th>win_equiv</th>\n",
              "      <th>opp_id</th>\n",
              "      <th>opp_fran</th>\n",
              "      <th>opp_pts</th>\n",
              "      <th>opp_elo_i</th>\n",
              "      <th>opp_elo_n</th>\n",
              "      <th>game_location</th>\n",
              "      <th>game_result</th>\n",
              "      <th>forecast</th>\n",
              "      <th>notes</th>\n",
              "    </tr>\n",
              "  </thead>\n",
              "  <tbody>\n",
              "    <tr>\n",
              "      <th>126311</th>\n",
              "      <td>63156</td>\n",
              "      <td>201506140GSW</td>\n",
              "      <td>NBA</td>\n",
              "      <td>1</td>\n",
              "      <td>2015</td>\n",
              "      <td>6/14/2015</td>\n",
              "      <td>101</td>\n",
              "      <td>1</td>\n",
              "      <td>CLE</td>\n",
              "      <td>Cavaliers</td>\n",
              "      <td>91</td>\n",
              "      <td>1704.39</td>\n",
              "      <td>1700.74</td>\n",
              "      <td>60.01</td>\n",
              "      <td>GSW</td>\n",
              "      <td>Warriors</td>\n",
              "      <td>104</td>\n",
              "      <td>1809.98</td>\n",
              "      <td>1813.63</td>\n",
              "      <td>A</td>\n",
              "      <td>L</td>\n",
              "      <td>0.23</td>\n",
              "      <td>NaN</td>\n",
              "    </tr>\n",
              "    <tr>\n",
              "      <th>126312</th>\n",
              "      <td>63157</td>\n",
              "      <td>201506170CLE</td>\n",
              "      <td>NBA</td>\n",
              "      <td>0</td>\n",
              "      <td>2015</td>\n",
              "      <td>6/16/2015</td>\n",
              "      <td>102</td>\n",
              "      <td>1</td>\n",
              "      <td>CLE</td>\n",
              "      <td>Cavaliers</td>\n",
              "      <td>97</td>\n",
              "      <td>1700.74</td>\n",
              "      <td>1692.09</td>\n",
              "      <td>59.29</td>\n",
              "      <td>GSW</td>\n",
              "      <td>Warriors</td>\n",
              "      <td>105</td>\n",
              "      <td>1813.63</td>\n",
              "      <td>1822.29</td>\n",
              "      <td>H</td>\n",
              "      <td>L</td>\n",
              "      <td>0.48</td>\n",
              "      <td>NaN</td>\n",
              "    </tr>\n",
              "    <tr>\n",
              "      <th>126313</th>\n",
              "      <td>63157</td>\n",
              "      <td>201506170CLE</td>\n",
              "      <td>NBA</td>\n",
              "      <td>1</td>\n",
              "      <td>2015</td>\n",
              "      <td>6/16/2015</td>\n",
              "      <td>103</td>\n",
              "      <td>1</td>\n",
              "      <td>GSW</td>\n",
              "      <td>Warriors</td>\n",
              "      <td>105</td>\n",
              "      <td>1813.63</td>\n",
              "      <td>1822.29</td>\n",
              "      <td>68.52</td>\n",
              "      <td>CLE</td>\n",
              "      <td>Cavaliers</td>\n",
              "      <td>97</td>\n",
              "      <td>1700.74</td>\n",
              "      <td>1692.09</td>\n",
              "      <td>A</td>\n",
              "      <td>W</td>\n",
              "      <td>0.52</td>\n",
              "      <td>NaN</td>\n",
              "    </tr>\n",
              "  </tbody>\n",
              "</table>\n",
              "</div>"
            ],
            "text/plain": [
              "        gameorder       game_id lg_id  _iscopy  year_id  date_game  \\\n",
              "126311      63156  201506140GSW   NBA        1     2015  6/14/2015   \n",
              "126312      63157  201506170CLE   NBA        0     2015  6/16/2015   \n",
              "126313      63157  201506170CLE   NBA        1     2015  6/16/2015   \n",
              "\n",
              "        seasongame  is_playoffs team_id    fran_id  pts    elo_i    elo_n  \\\n",
              "126311         101            1     CLE  Cavaliers   91  1704.39  1700.74   \n",
              "126312         102            1     CLE  Cavaliers   97  1700.74  1692.09   \n",
              "126313         103            1     GSW   Warriors  105  1813.63  1822.29   \n",
              "\n",
              "        win_equiv opp_id   opp_fran  opp_pts  opp_elo_i  opp_elo_n  \\\n",
              "126311      60.01    GSW   Warriors      104    1809.98    1813.63   \n",
              "126312      59.29    GSW   Warriors      105    1813.63    1822.29   \n",
              "126313      68.52    CLE  Cavaliers       97    1700.74    1692.09   \n",
              "\n",
              "       game_location game_result  forecast notes  \n",
              "126311             A           L      0.23   NaN  \n",
              "126312             H           L      0.48   NaN  \n",
              "126313             A           W      0.52   NaN  "
            ]
          },
          "execution_count": 9,
          "metadata": {},
          "output_type": "execute_result"
        }
      ]
    },
    {
      "cell_type": "markdown",
      "metadata": {
        "id": "3w66vuckxmbk"
      },
      "source": [
        "In the data file `nbaallelo.csv` are the following variables:\n",
        "\n",
        "Header | Definition\n",
        "---|---\n",
        "`gameorder` | Play order of game in NBA history\n",
        "`game_id` | Unique ID for each game\n",
        "`lg_id` | Which league the game was played in\n",
        "`_iscopy` | Each row of data is tied to a single team for a single game, so _iscopy flags if this game_id has already occured for the opposing team in the same matchup\n",
        "`year_id` | Season id, named based on year in which the season ended\n",
        "`date_game` | Game date\n",
        "`is_playoffs` | Flag for playoff games\n",
        "`team_id` | Three letter code for team name, from Basketball Reference\n",
        "`fran_id` | Franchise id. Multiple team_ids can fall under the same fran_id due to name changes or moves. Interactive is grouped by fran_id.\n",
        "`pts` | Points scored by team\n",
        "`elo_i` | Team elo entering the game\n",
        "`elo_n` | Team elo following the game\n",
        "`win_equiv` | Equivalent number of wins in a 82-game season for a team of elo_n quality\n",
        "`opp_id` | Team id of opponent\n",
        "`opp_fran` | Franchise id of opponent\n",
        "`opp_pts` | Points scored by opponent\n",
        "`opp_elo_i` | Opponent elo entering the game\n",
        "`opp_elo_n` | Opponent elo following the game\n",
        "`game_location` | Home (H), away (A), or neutral (N)\n",
        "`game_result` | Win or loss for team in the team_id column\n",
        "`forecast` | Elo-based chances of winning for the team in the team_id column, based on elo ratings and game location\n",
        "`notes` | Additional information"
      ]
    },
    {
      "cell_type": "markdown",
      "metadata": {
        "id": "voQYUM6wxmbk"
      },
      "source": [
        "## Getting to Know Your Data\n",
        "\n",
        "You’ve imported a CSV file with the Pandas Python library and had a first look at the contents of your dataset. So far, you’ve only seen the size of your dataset and its first and last few rows. Next, you’ll learn how to examine your data more systematically.\n",
        "\n",
        "### Displaying Data Types\n",
        "\n",
        "The first step in getting to know your data is to discover the different data types it contains. While you can put anything into a list, the columns of a DataFrame contain values of a specific data type. When you compare Pandas and Python data structures, you’ll see that this behavior makes Pandas much faster!\n",
        "\n",
        "You can display all columns and their data types with `.info()`:"
      ]
    },
    {
      "cell_type": "code",
      "metadata": {
        "id": "x-O4de6axmbl",
        "outputId": "157d6398-27da-4b4c-ecae-9eed2221a424"
      },
      "source": [
        "df.info()"
      ],
      "execution_count": null,
      "outputs": [
        {
          "name": "stdout",
          "output_type": "stream",
          "text": [
            "<class 'pandas.core.frame.DataFrame'>\n",
            "RangeIndex: 126314 entries, 0 to 126313\n",
            "Data columns (total 23 columns):\n",
            " #   Column         Non-Null Count   Dtype  \n",
            "---  ------         --------------   -----  \n",
            " 0   gameorder      126314 non-null  int64  \n",
            " 1   game_id        126314 non-null  object \n",
            " 2   lg_id          126314 non-null  object \n",
            " 3   _iscopy        126314 non-null  int64  \n",
            " 4   year_id        126314 non-null  int64  \n",
            " 5   date_game      126314 non-null  object \n",
            " 6   seasongame     126314 non-null  int64  \n",
            " 7   is_playoffs    126314 non-null  int64  \n",
            " 8   team_id        126314 non-null  object \n",
            " 9   fran_id        126314 non-null  object \n",
            " 10  pts            126314 non-null  int64  \n",
            " 11  elo_i          126314 non-null  float64\n",
            " 12  elo_n          126314 non-null  float64\n",
            " 13  win_equiv      126314 non-null  float64\n",
            " 14  opp_id         126314 non-null  object \n",
            " 15  opp_fran       126314 non-null  object \n",
            " 16  opp_pts        126314 non-null  int64  \n",
            " 17  opp_elo_i      126314 non-null  float64\n",
            " 18  opp_elo_n      126314 non-null  float64\n",
            " 19  game_location  126314 non-null  object \n",
            " 20  game_result    126314 non-null  object \n",
            " 21  forecast       126314 non-null  float64\n",
            " 22  notes          5424 non-null    object \n",
            "dtypes: float64(6), int64(7), object(10)\n",
            "memory usage: 22.2+ MB\n"
          ]
        }
      ]
    },
    {
      "cell_type": "markdown",
      "metadata": {
        "id": "uRUFFRmHxmbl"
      },
      "source": [
        "You’ll see a list of all the columns in your dataset and the type of data each column contains. Here, you can see the data types `int64`, `float64`, and `object`. Pandas uses the NumPy library to work with these types. Later, you’ll meet the more complex categorical data type, which the Pandas Python library implements itself."
      ]
    },
    {
      "cell_type": "markdown",
      "metadata": {
        "id": "k2DmzUT3xmbm"
      },
      "source": [
        "### Showing Basics Statistics\n",
        "\n",
        "Now that you’ve seen what data types are in your dataset, it’s time to get an overview of the values each column contains. You can do this with `.describe()`:"
      ]
    },
    {
      "cell_type": "code",
      "metadata": {
        "scrolled": true,
        "id": "C4E3TtmDxmbm",
        "outputId": "25d3c585-9e60-4dbd-8d34-4d9cce0080e1"
      },
      "source": [
        "df.describe()"
      ],
      "execution_count": null,
      "outputs": [
        {
          "data": {
            "text/html": [
              "<div>\n",
              "<style scoped>\n",
              "    .dataframe tbody tr th:only-of-type {\n",
              "        vertical-align: middle;\n",
              "    }\n",
              "\n",
              "    .dataframe tbody tr th {\n",
              "        vertical-align: top;\n",
              "    }\n",
              "\n",
              "    .dataframe thead th {\n",
              "        text-align: right;\n",
              "    }\n",
              "</style>\n",
              "<table border=\"1\" class=\"dataframe\">\n",
              "  <thead>\n",
              "    <tr style=\"text-align: right;\">\n",
              "      <th></th>\n",
              "      <th>gameorder</th>\n",
              "      <th>_iscopy</th>\n",
              "      <th>year_id</th>\n",
              "      <th>seasongame</th>\n",
              "      <th>is_playoffs</th>\n",
              "      <th>pts</th>\n",
              "      <th>elo_i</th>\n",
              "      <th>elo_n</th>\n",
              "      <th>win_equiv</th>\n",
              "      <th>opp_pts</th>\n",
              "      <th>opp_elo_i</th>\n",
              "      <th>opp_elo_n</th>\n",
              "      <th>forecast</th>\n",
              "    </tr>\n",
              "  </thead>\n",
              "  <tbody>\n",
              "    <tr>\n",
              "      <th>count</th>\n",
              "      <td>126314.00</td>\n",
              "      <td>126314.0</td>\n",
              "      <td>126314.00</td>\n",
              "      <td>126314.00</td>\n",
              "      <td>126314.00</td>\n",
              "      <td>126314.00</td>\n",
              "      <td>126314.00</td>\n",
              "      <td>126314.00</td>\n",
              "      <td>126314.00</td>\n",
              "      <td>126314.00</td>\n",
              "      <td>126314.00</td>\n",
              "      <td>126314.00</td>\n",
              "      <td>126314.00</td>\n",
              "    </tr>\n",
              "    <tr>\n",
              "      <th>mean</th>\n",
              "      <td>31579.00</td>\n",
              "      <td>0.5</td>\n",
              "      <td>1988.20</td>\n",
              "      <td>43.53</td>\n",
              "      <td>0.06</td>\n",
              "      <td>102.73</td>\n",
              "      <td>1495.24</td>\n",
              "      <td>1495.24</td>\n",
              "      <td>41.71</td>\n",
              "      <td>102.73</td>\n",
              "      <td>1495.24</td>\n",
              "      <td>1495.24</td>\n",
              "      <td>0.50</td>\n",
              "    </tr>\n",
              "    <tr>\n",
              "      <th>std</th>\n",
              "      <td>18231.93</td>\n",
              "      <td>0.5</td>\n",
              "      <td>17.58</td>\n",
              "      <td>25.38</td>\n",
              "      <td>0.24</td>\n",
              "      <td>14.81</td>\n",
              "      <td>112.14</td>\n",
              "      <td>112.46</td>\n",
              "      <td>10.63</td>\n",
              "      <td>14.81</td>\n",
              "      <td>112.14</td>\n",
              "      <td>112.46</td>\n",
              "      <td>0.22</td>\n",
              "    </tr>\n",
              "    <tr>\n",
              "      <th>min</th>\n",
              "      <td>1.00</td>\n",
              "      <td>0.0</td>\n",
              "      <td>1947.00</td>\n",
              "      <td>1.00</td>\n",
              "      <td>0.00</td>\n",
              "      <td>0.00</td>\n",
              "      <td>1091.64</td>\n",
              "      <td>1085.77</td>\n",
              "      <td>10.15</td>\n",
              "      <td>0.00</td>\n",
              "      <td>1091.64</td>\n",
              "      <td>1085.77</td>\n",
              "      <td>0.02</td>\n",
              "    </tr>\n",
              "    <tr>\n",
              "      <th>25%</th>\n",
              "      <td>15790.00</td>\n",
              "      <td>0.0</td>\n",
              "      <td>1975.00</td>\n",
              "      <td>22.00</td>\n",
              "      <td>0.00</td>\n",
              "      <td>93.00</td>\n",
              "      <td>1417.24</td>\n",
              "      <td>1416.99</td>\n",
              "      <td>34.10</td>\n",
              "      <td>93.00</td>\n",
              "      <td>1417.24</td>\n",
              "      <td>1416.99</td>\n",
              "      <td>0.33</td>\n",
              "    </tr>\n",
              "    <tr>\n",
              "      <th>50%</th>\n",
              "      <td>31579.00</td>\n",
              "      <td>0.5</td>\n",
              "      <td>1990.00</td>\n",
              "      <td>43.00</td>\n",
              "      <td>0.00</td>\n",
              "      <td>103.00</td>\n",
              "      <td>1500.95</td>\n",
              "      <td>1500.95</td>\n",
              "      <td>42.11</td>\n",
              "      <td>103.00</td>\n",
              "      <td>1500.95</td>\n",
              "      <td>1500.95</td>\n",
              "      <td>0.50</td>\n",
              "    </tr>\n",
              "    <tr>\n",
              "      <th>75%</th>\n",
              "      <td>47368.00</td>\n",
              "      <td>1.0</td>\n",
              "      <td>2003.00</td>\n",
              "      <td>65.00</td>\n",
              "      <td>0.00</td>\n",
              "      <td>112.00</td>\n",
              "      <td>1576.06</td>\n",
              "      <td>1576.29</td>\n",
              "      <td>49.64</td>\n",
              "      <td>112.00</td>\n",
              "      <td>1576.06</td>\n",
              "      <td>1576.29</td>\n",
              "      <td>0.67</td>\n",
              "    </tr>\n",
              "    <tr>\n",
              "      <th>max</th>\n",
              "      <td>63157.00</td>\n",
              "      <td>1.0</td>\n",
              "      <td>2015.00</td>\n",
              "      <td>108.00</td>\n",
              "      <td>1.00</td>\n",
              "      <td>186.00</td>\n",
              "      <td>1853.10</td>\n",
              "      <td>1853.10</td>\n",
              "      <td>71.11</td>\n",
              "      <td>186.00</td>\n",
              "      <td>1853.10</td>\n",
              "      <td>1853.10</td>\n",
              "      <td>0.98</td>\n",
              "    </tr>\n",
              "  </tbody>\n",
              "</table>\n",
              "</div>"
            ],
            "text/plain": [
              "       gameorder   _iscopy    year_id  seasongame  is_playoffs        pts  \\\n",
              "count  126314.00  126314.0  126314.00   126314.00    126314.00  126314.00   \n",
              "mean    31579.00       0.5    1988.20       43.53         0.06     102.73   \n",
              "std     18231.93       0.5      17.58       25.38         0.24      14.81   \n",
              "min         1.00       0.0    1947.00        1.00         0.00       0.00   \n",
              "25%     15790.00       0.0    1975.00       22.00         0.00      93.00   \n",
              "50%     31579.00       0.5    1990.00       43.00         0.00     103.00   \n",
              "75%     47368.00       1.0    2003.00       65.00         0.00     112.00   \n",
              "max     63157.00       1.0    2015.00      108.00         1.00     186.00   \n",
              "\n",
              "           elo_i      elo_n  win_equiv    opp_pts  opp_elo_i  opp_elo_n  \\\n",
              "count  126314.00  126314.00  126314.00  126314.00  126314.00  126314.00   \n",
              "mean     1495.24    1495.24      41.71     102.73    1495.24    1495.24   \n",
              "std       112.14     112.46      10.63      14.81     112.14     112.46   \n",
              "min      1091.64    1085.77      10.15       0.00    1091.64    1085.77   \n",
              "25%      1417.24    1416.99      34.10      93.00    1417.24    1416.99   \n",
              "50%      1500.95    1500.95      42.11     103.00    1500.95    1500.95   \n",
              "75%      1576.06    1576.29      49.64     112.00    1576.06    1576.29   \n",
              "max      1853.10    1853.10      71.11     186.00    1853.10    1853.10   \n",
              "\n",
              "        forecast  \n",
              "count  126314.00  \n",
              "mean        0.50  \n",
              "std         0.22  \n",
              "min         0.02  \n",
              "25%         0.33  \n",
              "50%         0.50  \n",
              "75%         0.67  \n",
              "max         0.98  "
            ]
          },
          "execution_count": 11,
          "metadata": {},
          "output_type": "execute_result"
        }
      ]
    },
    {
      "cell_type": "markdown",
      "metadata": {
        "id": "INJymwK2xmbn"
      },
      "source": [
        "### Exploring Your Dataset\n",
        "\n",
        "Exploratory data analysis can help you answer questions about your dataset. For example, you can examine how often specific values occur in a column:"
      ]
    },
    {
      "cell_type": "code",
      "metadata": {
        "scrolled": true,
        "id": "qOMZRITZxmbn",
        "outputId": "65ae1686-2a22-4f96-985c-6f08749cd820"
      },
      "source": [
        "df[\"team_id\"].value_counts()"
      ],
      "execution_count": null,
      "outputs": [
        {
          "data": {
            "text/plain": [
              "BOS    5997\n",
              "NYK    5769\n",
              "LAL    5078\n",
              "DET    4985\n",
              "PHI    4533\n",
              "       ... \n",
              "PIT      60\n",
              "TRH      60\n",
              "INJ      60\n",
              "DTF      60\n",
              "SDS      11\n",
              "Name: team_id, Length: 104, dtype: int64"
            ]
          },
          "execution_count": 12,
          "metadata": {},
          "output_type": "execute_result"
        }
      ]
    },
    {
      "cell_type": "code",
      "metadata": {
        "id": "5ejiSGNyxmbo",
        "outputId": "ae1c1f36-76cf-42b9-db33-85580445cadf"
      },
      "source": [
        "df[\"fran_id\"].value_counts()"
      ],
      "execution_count": null,
      "outputs": [
        {
          "data": {
            "text/plain": [
              "Lakers          6024\n",
              "Celtics         5997\n",
              "Knicks          5769\n",
              "Warriors        5657\n",
              "Pistons         5650\n",
              "Sixers          5644\n",
              "Hawks           5572\n",
              "Kings           5475\n",
              "Wizards         4582\n",
              "Spurs           4309\n",
              "Bulls           4307\n",
              "Pacers          4227\n",
              "Thunder         4178\n",
              "Rockets         4154\n",
              "Nuggets         4120\n",
              "Nets            4106\n",
              "Suns            4080\n",
              "Bucks           4034\n",
              "Trailblazers    3870\n",
              "Cavaliers       3810\n",
              "Clippers        3733\n",
              "Jazz            3555\n",
              "Mavericks       3013\n",
              "Heat            2371\n",
              "Pelicans        2254\n",
              "Magic           2207\n",
              "Timberwolves    2131\n",
              "Grizzlies       1657\n",
              "Raptors         1634\n",
              "Hornets          894\n",
              "Colonels         846\n",
              "Squires          799\n",
              "Spirits          777\n",
              "Stars            756\n",
              "Sounds           697\n",
              "Baltimore        467\n",
              "Floridians       440\n",
              "Condors          430\n",
              "Capitols         291\n",
              "Olympians        282\n",
              "Sails            274\n",
              "Stags            260\n",
              "Bombers          249\n",
              "Steamrollers     168\n",
              "Packers           72\n",
              "Redskins          65\n",
              "Rebels            63\n",
              "Waterloo          62\n",
              "Denver            62\n",
              "Jets              60\n",
              "Falcons           60\n",
              "Huskies           60\n",
              "Ironmen           60\n",
              "Name: fran_id, dtype: int64"
            ]
          },
          "execution_count": 13,
          "metadata": {},
          "output_type": "execute_result"
        }
      ]
    },
    {
      "cell_type": "markdown",
      "metadata": {
        "id": "nzACjFs0xmbo"
      },
      "source": [
        "It seems that a team named \"Lakers\" played 6024 games, but only 5078 of those were played by the Los Angeles Lakers. Find out who the other \"Lakers\" team is:"
      ]
    },
    {
      "cell_type": "code",
      "metadata": {
        "id": "Zc77qLCfxmbp",
        "outputId": "e6ccdb42-5511-4e1a-b24f-2dcce7eb09a9"
      },
      "source": [
        "df.loc[df[\"fran_id\"] == \"Lakers\", \"team_id\"].value_counts()"
      ],
      "execution_count": null,
      "outputs": [
        {
          "data": {
            "text/plain": [
              "LAL    5078\n",
              "MNL     946\n",
              "Name: team_id, dtype: int64"
            ]
          },
          "execution_count": 14,
          "metadata": {},
          "output_type": "execute_result"
        }
      ]
    },
    {
      "cell_type": "markdown",
      "metadata": {
        "id": "nSUcnXB7xmbp"
      },
      "source": [
        "Indeed, the Minneapolis Lakers (\"MNL\") played 946 games. You can even find out when they played those games:"
      ]
    },
    {
      "cell_type": "code",
      "metadata": {
        "scrolled": true,
        "id": "j-NxkzKcxmbq",
        "outputId": "887df9a0-6865-4f58-8e7d-99cbf53c9253"
      },
      "source": [
        "df.loc[df[\"team_id\"] == \"MNL\", \"date_game\"].min()"
      ],
      "execution_count": null,
      "outputs": [
        {
          "data": {
            "text/plain": [
              "'1/1/1949'"
            ]
          },
          "execution_count": 15,
          "metadata": {},
          "output_type": "execute_result"
        }
      ]
    },
    {
      "cell_type": "code",
      "metadata": {
        "id": "3XGkZ9Eyxmbq",
        "outputId": "bfb55270-b66f-4764-f2ae-4e6daa1d1065"
      },
      "source": [
        "df.loc[df[\"team_id\"] == \"MNL\", \"date_game\"].max()"
      ],
      "execution_count": null,
      "outputs": [
        {
          "data": {
            "text/plain": [
              "'4/9/1959'"
            ]
          },
          "execution_count": 16,
          "metadata": {},
          "output_type": "execute_result"
        }
      ]
    },
    {
      "cell_type": "code",
      "metadata": {
        "scrolled": true,
        "id": "wDwKBpEtxmbq",
        "outputId": "3d27bd3f-e6b0-4885-8114-9300811c307d"
      },
      "source": [
        "df.loc[df[\"team_id\"] == \"MNL\", \"date_game\"].agg((\"min\", \"max\"))"
      ],
      "execution_count": null,
      "outputs": [
        {
          "data": {
            "text/plain": [
              "min    1/1/1949\n",
              "max    4/9/1959\n",
              "Name: date_game, dtype: object"
            ]
          },
          "execution_count": 17,
          "metadata": {},
          "output_type": "execute_result"
        }
      ]
    },
    {
      "cell_type": "markdown",
      "metadata": {
        "id": "wn__PVL4xmbq"
      },
      "source": [
        "It looks like the Minneapolis Lakers played between the years of 1949 and 1959. That explains why you might not recognize this team!\n",
        "\n",
        "You’ve also found out why the Boston Celtics team \"BOS\" played the most games in the dataset. Let’s analyze their history also a little bit. Find out how many points the Boston Celtics have scored during all matches contained in this dataset."
      ]
    },
    {
      "cell_type": "code",
      "metadata": {
        "id": "7YvGag9sxmbq",
        "outputId": "6939c8b4-0da7-448c-a50c-174f58997d7f"
      },
      "source": [
        "df.loc[df[\"team_id\"] == \"BOS\", \"pts\"].sum()"
      ],
      "execution_count": null,
      "outputs": [
        {
          "data": {
            "text/plain": [
              "626484"
            ]
          },
          "execution_count": 18,
          "metadata": {},
          "output_type": "execute_result"
        }
      ]
    },
    {
      "cell_type": "markdown",
      "metadata": {
        "id": "kY7mtsW6xmbr"
      },
      "source": [
        "The Boston Celtics scored a total of 626,484 points."
      ]
    },
    {
      "cell_type": "markdown",
      "metadata": {
        "id": "UgE5TgXBxmbr"
      },
      "source": [
        "## Getting to Know Pandas’ Data Structures\n",
        "\n",
        "While a DataFrame provides functions that can feel quite intuitive, the underlying concepts are a bit trickier to understand.\n"
      ]
    },
    {
      "cell_type": "markdown",
      "metadata": {
        "id": "dqEvNTFKxmbx"
      },
      "source": [
        "You can see these concepts in action with the bigger NBA dataset. Does it contain a column called \"points\", or was it called \"pts\"?\n",
        "\n",
        "Because you didn’t specify an index column when you read in the CSV file, Pandas has assigned a RangeIndex to the DataFrame:"
      ]
    },
    {
      "cell_type": "code",
      "metadata": {
        "id": "9EKwDeVExmbx",
        "outputId": "a7e98be8-7ea9-41bf-a400-1a32430cd69f"
      },
      "source": [
        "df.index"
      ],
      "execution_count": null,
      "outputs": [
        {
          "data": {
            "text/plain": [
              "RangeIndex(start=0, stop=126314, step=1)"
            ]
          },
          "execution_count": 38,
          "metadata": {},
          "output_type": "execute_result"
        }
      ]
    },
    {
      "cell_type": "markdown",
      "metadata": {
        "id": "wUkQfg1wxmby"
      },
      "source": [
        "df, like all DataFrame objects, has two axes:"
      ]
    },
    {
      "cell_type": "code",
      "metadata": {
        "id": "8WxOl-ILxmby",
        "outputId": "544cd623-4c73-430f-8da7-507c708e7794"
      },
      "source": [
        "df.axes"
      ],
      "execution_count": null,
      "outputs": [
        {
          "data": {
            "text/plain": [
              "[RangeIndex(start=0, stop=126314, step=1),\n",
              " Index(['gameorder', 'game_id', 'lg_id', '_iscopy', 'year_id', 'date_game',\n",
              "        'seasongame', 'is_playoffs', 'team_id', 'fran_id', 'pts', 'elo_i',\n",
              "        'elo_n', 'win_equiv', 'opp_id', 'opp_fran', 'opp_pts', 'opp_elo_i',\n",
              "        'opp_elo_n', 'game_location', 'game_result', 'forecast', 'notes'],\n",
              "       dtype='object')]"
            ]
          },
          "execution_count": 39,
          "metadata": {},
          "output_type": "execute_result"
        }
      ]
    },
    {
      "cell_type": "markdown",
      "metadata": {
        "id": "OUKs5DJIxmby"
      },
      "source": [
        "You can check the existence of a column with `.keys()`:"
      ]
    },
    {
      "cell_type": "code",
      "metadata": {
        "id": "3Q7N4u9_xmby",
        "outputId": "824236fa-8623-4f54-d5fc-50e40d2d86e7"
      },
      "source": [
        "\"points\" in df.keys()"
      ],
      "execution_count": null,
      "outputs": [
        {
          "data": {
            "text/plain": [
              "False"
            ]
          },
          "execution_count": 40,
          "metadata": {},
          "output_type": "execute_result"
        }
      ]
    },
    {
      "cell_type": "code",
      "metadata": {
        "id": "Stj16hWJxmby",
        "outputId": "b735b87c-278b-489d-cba4-5a3192ce5281"
      },
      "source": [
        "\"pts\" in df.keys()"
      ],
      "execution_count": null,
      "outputs": [
        {
          "data": {
            "text/plain": [
              "True"
            ]
          },
          "execution_count": 41,
          "metadata": {},
          "output_type": "execute_result"
        }
      ]
    },
    {
      "cell_type": "markdown",
      "metadata": {
        "id": "v9AFba0dxmby"
      },
      "source": [
        "The column is called \"pts\", not \"points\"."
      ]
    },
    {
      "cell_type": "markdown",
      "metadata": {
        "id": "n-9Uakv4xmb2"
      },
      "source": [
        "### Accessing DataFrame Elements\n",
        "\n",
        "Since a DataFrame consists of Series objects, you can use the very same tools to access its elements. The crucial difference is the additional dimension of the DataFrame. You’ll use the indexing operator for the columns and the access methods `.loc` and `.iloc` on the rows."
      ]
    },
    {
      "cell_type": "markdown",
      "metadata": {
        "id": "yuAnE6WAxmb_"
      },
      "source": [
        "The second-to-last row is the row with the positional index of -2. You can display it with .iloc:"
      ]
    },
    {
      "cell_type": "code",
      "metadata": {
        "scrolled": false,
        "id": "CVihvml1xmcA",
        "outputId": "06de32cc-5e57-4c04-e2f3-7bee35ee0a0c"
      },
      "source": [
        "df.iloc[-2]"
      ],
      "execution_count": null,
      "outputs": [
        {
          "data": {
            "text/plain": [
              "gameorder               63157\n",
              "game_id          201506170CLE\n",
              "lg_id                     NBA\n",
              "_iscopy                     0\n",
              "year_id                  2015\n",
              "date_game           6/16/2015\n",
              "seasongame                102\n",
              "is_playoffs                 1\n",
              "team_id                   CLE\n",
              "fran_id             Cavaliers\n",
              "pts                        97\n",
              "elo_i                 1.7e+03\n",
              "elo_n                 1.7e+03\n",
              "win_equiv                  59\n",
              "opp_id                    GSW\n",
              "opp_fran             Warriors\n",
              "opp_pts                   105\n",
              "opp_elo_i             1.8e+03\n",
              "opp_elo_n             1.8e+03\n",
              "game_location               H\n",
              "game_result                 L\n",
              "forecast                 0.48\n",
              "notes                     NaN\n",
              "Name: 126312, dtype: object"
            ]
          },
          "execution_count": 63,
          "metadata": {},
          "output_type": "execute_result"
        }
      ]
    },
    {
      "cell_type": "markdown",
      "metadata": {
        "id": "VSEaSSSCxmcA"
      },
      "source": [
        "For a DataFrame, the data access methods .loc and .iloc also accept a second parameter. While the first parameter selects rows based on the indices, the second parameter selects the columns. You can use these parameters together to select a subset of rows and columns from your DataFrame:"
      ]
    },
    {
      "cell_type": "markdown",
      "metadata": {
        "id": "3lDbNoEnxmcB"
      },
      "source": [
        "Select all games between the labels 5555 and 5559. You’re only interested in the names of the teams and the scores, so select those elements as well."
      ]
    },
    {
      "cell_type": "code",
      "metadata": {
        "id": "ZVjhlk2wxmcB",
        "outputId": "713cdc2d-eec5-4a19-fe13-a2d1da8c4d90"
      },
      "source": [
        " df.loc[5555:5559, [\"fran_id\", \"opp_fran\", \"pts\", \"opp_pts\"]]"
      ],
      "execution_count": null,
      "outputs": [
        {
          "data": {
            "text/html": [
              "<div>\n",
              "<style scoped>\n",
              "    .dataframe tbody tr th:only-of-type {\n",
              "        vertical-align: middle;\n",
              "    }\n",
              "\n",
              "    .dataframe tbody tr th {\n",
              "        vertical-align: top;\n",
              "    }\n",
              "\n",
              "    .dataframe thead th {\n",
              "        text-align: right;\n",
              "    }\n",
              "</style>\n",
              "<table border=\"1\" class=\"dataframe\">\n",
              "  <thead>\n",
              "    <tr style=\"text-align: right;\">\n",
              "      <th></th>\n",
              "      <th>fran_id</th>\n",
              "      <th>opp_fran</th>\n",
              "      <th>pts</th>\n",
              "      <th>opp_pts</th>\n",
              "    </tr>\n",
              "  </thead>\n",
              "  <tbody>\n",
              "    <tr>\n",
              "      <th>5555</th>\n",
              "      <td>Pistons</td>\n",
              "      <td>Warriors</td>\n",
              "      <td>83</td>\n",
              "      <td>56</td>\n",
              "    </tr>\n",
              "    <tr>\n",
              "      <th>5556</th>\n",
              "      <td>Celtics</td>\n",
              "      <td>Knicks</td>\n",
              "      <td>95</td>\n",
              "      <td>74</td>\n",
              "    </tr>\n",
              "    <tr>\n",
              "      <th>5557</th>\n",
              "      <td>Knicks</td>\n",
              "      <td>Celtics</td>\n",
              "      <td>74</td>\n",
              "      <td>95</td>\n",
              "    </tr>\n",
              "    <tr>\n",
              "      <th>5558</th>\n",
              "      <td>Kings</td>\n",
              "      <td>Sixers</td>\n",
              "      <td>81</td>\n",
              "      <td>86</td>\n",
              "    </tr>\n",
              "    <tr>\n",
              "      <th>5559</th>\n",
              "      <td>Sixers</td>\n",
              "      <td>Kings</td>\n",
              "      <td>86</td>\n",
              "      <td>81</td>\n",
              "    </tr>\n",
              "  </tbody>\n",
              "</table>\n",
              "</div>"
            ],
            "text/plain": [
              "      fran_id  opp_fran  pts  opp_pts\n",
              "5555  Pistons  Warriors   83       56\n",
              "5556  Celtics    Knicks   95       74\n",
              "5557   Knicks   Celtics   74       95\n",
              "5558    Kings    Sixers   81       86\n",
              "5559   Sixers     Kings   86       81"
            ]
          },
          "execution_count": 65,
          "metadata": {},
          "output_type": "execute_result"
        }
      ]
    },
    {
      "cell_type": "markdown",
      "metadata": {
        "id": "VuLLYNFhxmcC"
      },
      "source": [
        "## Querying Your Dataset\n",
        "\n",
        "Query is a precise request for information, A query can either be a request for data results from your database or for action on the data, or for both.\n",
        "You’ve seen how to access subsets of a huge dataset based on its indices. Now, you’ll select rows based on the values in your dataset’s columns to query your data. For example, you can create a new DataFrame that contains only games played after 2010:"
      ]
    },
    {
      "cell_type": "code",
      "metadata": {
        "id": "OtzwyUPSxmcC",
        "outputId": "fe5730af-26c6-499f-8a8b-0804d548e9af"
      },
      "source": [
        "df"
      ],
      "execution_count": null,
      "outputs": [
        {
          "data": {
            "text/html": [
              "<div>\n",
              "<style scoped>\n",
              "    .dataframe tbody tr th:only-of-type {\n",
              "        vertical-align: middle;\n",
              "    }\n",
              "\n",
              "    .dataframe tbody tr th {\n",
              "        vertical-align: top;\n",
              "    }\n",
              "\n",
              "    .dataframe thead th {\n",
              "        text-align: right;\n",
              "    }\n",
              "</style>\n",
              "<table border=\"1\" class=\"dataframe\">\n",
              "  <thead>\n",
              "    <tr style=\"text-align: right;\">\n",
              "      <th></th>\n",
              "      <th>gameorder</th>\n",
              "      <th>game_id</th>\n",
              "      <th>lg_id</th>\n",
              "      <th>_iscopy</th>\n",
              "      <th>year_id</th>\n",
              "      <th>date_game</th>\n",
              "      <th>seasongame</th>\n",
              "      <th>is_playoffs</th>\n",
              "      <th>team_id</th>\n",
              "      <th>fran_id</th>\n",
              "      <th>pts</th>\n",
              "      <th>elo_i</th>\n",
              "      <th>elo_n</th>\n",
              "      <th>win_equiv</th>\n",
              "      <th>opp_id</th>\n",
              "      <th>opp_fran</th>\n",
              "      <th>opp_pts</th>\n",
              "      <th>opp_elo_i</th>\n",
              "      <th>opp_elo_n</th>\n",
              "      <th>game_location</th>\n",
              "      <th>game_result</th>\n",
              "      <th>forecast</th>\n",
              "      <th>notes</th>\n",
              "    </tr>\n",
              "  </thead>\n",
              "  <tbody>\n",
              "    <tr>\n",
              "      <th>0</th>\n",
              "      <td>1</td>\n",
              "      <td>194611010TRH</td>\n",
              "      <td>NBA</td>\n",
              "      <td>0</td>\n",
              "      <td>1947</td>\n",
              "      <td>11/1/1946</td>\n",
              "      <td>1</td>\n",
              "      <td>0</td>\n",
              "      <td>TRH</td>\n",
              "      <td>Huskies</td>\n",
              "      <td>66</td>\n",
              "      <td>1300.00</td>\n",
              "      <td>1293.28</td>\n",
              "      <td>40.29</td>\n",
              "      <td>NYK</td>\n",
              "      <td>Knicks</td>\n",
              "      <td>68</td>\n",
              "      <td>1300.00</td>\n",
              "      <td>1306.72</td>\n",
              "      <td>H</td>\n",
              "      <td>L</td>\n",
              "      <td>0.64</td>\n",
              "      <td>NaN</td>\n",
              "    </tr>\n",
              "    <tr>\n",
              "      <th>1</th>\n",
              "      <td>1</td>\n",
              "      <td>194611010TRH</td>\n",
              "      <td>NBA</td>\n",
              "      <td>1</td>\n",
              "      <td>1947</td>\n",
              "      <td>11/1/1946</td>\n",
              "      <td>1</td>\n",
              "      <td>0</td>\n",
              "      <td>NYK</td>\n",
              "      <td>Knicks</td>\n",
              "      <td>68</td>\n",
              "      <td>1300.00</td>\n",
              "      <td>1306.72</td>\n",
              "      <td>41.71</td>\n",
              "      <td>TRH</td>\n",
              "      <td>Huskies</td>\n",
              "      <td>66</td>\n",
              "      <td>1300.00</td>\n",
              "      <td>1293.28</td>\n",
              "      <td>A</td>\n",
              "      <td>W</td>\n",
              "      <td>0.36</td>\n",
              "      <td>NaN</td>\n",
              "    </tr>\n",
              "    <tr>\n",
              "      <th>2</th>\n",
              "      <td>2</td>\n",
              "      <td>194611020CHS</td>\n",
              "      <td>NBA</td>\n",
              "      <td>0</td>\n",
              "      <td>1947</td>\n",
              "      <td>11/2/1946</td>\n",
              "      <td>1</td>\n",
              "      <td>0</td>\n",
              "      <td>CHS</td>\n",
              "      <td>Stags</td>\n",
              "      <td>63</td>\n",
              "      <td>1300.00</td>\n",
              "      <td>1309.65</td>\n",
              "      <td>42.01</td>\n",
              "      <td>NYK</td>\n",
              "      <td>Knicks</td>\n",
              "      <td>47</td>\n",
              "      <td>1306.72</td>\n",
              "      <td>1297.07</td>\n",
              "      <td>H</td>\n",
              "      <td>W</td>\n",
              "      <td>0.63</td>\n",
              "      <td>NaN</td>\n",
              "    </tr>\n",
              "    <tr>\n",
              "      <th>3</th>\n",
              "      <td>2</td>\n",
              "      <td>194611020CHS</td>\n",
              "      <td>NBA</td>\n",
              "      <td>1</td>\n",
              "      <td>1947</td>\n",
              "      <td>11/2/1946</td>\n",
              "      <td>2</td>\n",
              "      <td>0</td>\n",
              "      <td>NYK</td>\n",
              "      <td>Knicks</td>\n",
              "      <td>47</td>\n",
              "      <td>1306.72</td>\n",
              "      <td>1297.07</td>\n",
              "      <td>40.69</td>\n",
              "      <td>CHS</td>\n",
              "      <td>Stags</td>\n",
              "      <td>63</td>\n",
              "      <td>1300.00</td>\n",
              "      <td>1309.65</td>\n",
              "      <td>A</td>\n",
              "      <td>L</td>\n",
              "      <td>0.37</td>\n",
              "      <td>NaN</td>\n",
              "    </tr>\n",
              "    <tr>\n",
              "      <th>4</th>\n",
              "      <td>3</td>\n",
              "      <td>194611020DTF</td>\n",
              "      <td>NBA</td>\n",
              "      <td>0</td>\n",
              "      <td>1947</td>\n",
              "      <td>11/2/1946</td>\n",
              "      <td>1</td>\n",
              "      <td>0</td>\n",
              "      <td>DTF</td>\n",
              "      <td>Falcons</td>\n",
              "      <td>33</td>\n",
              "      <td>1300.00</td>\n",
              "      <td>1279.62</td>\n",
              "      <td>38.86</td>\n",
              "      <td>WSC</td>\n",
              "      <td>Capitols</td>\n",
              "      <td>50</td>\n",
              "      <td>1300.00</td>\n",
              "      <td>1320.38</td>\n",
              "      <td>H</td>\n",
              "      <td>L</td>\n",
              "      <td>0.64</td>\n",
              "      <td>NaN</td>\n",
              "    </tr>\n",
              "    <tr>\n",
              "      <th>...</th>\n",
              "      <td>...</td>\n",
              "      <td>...</td>\n",
              "      <td>...</td>\n",
              "      <td>...</td>\n",
              "      <td>...</td>\n",
              "      <td>...</td>\n",
              "      <td>...</td>\n",
              "      <td>...</td>\n",
              "      <td>...</td>\n",
              "      <td>...</td>\n",
              "      <td>...</td>\n",
              "      <td>...</td>\n",
              "      <td>...</td>\n",
              "      <td>...</td>\n",
              "      <td>...</td>\n",
              "      <td>...</td>\n",
              "      <td>...</td>\n",
              "      <td>...</td>\n",
              "      <td>...</td>\n",
              "      <td>...</td>\n",
              "      <td>...</td>\n",
              "      <td>...</td>\n",
              "      <td>...</td>\n",
              "    </tr>\n",
              "    <tr>\n",
              "      <th>126309</th>\n",
              "      <td>63155</td>\n",
              "      <td>201506110CLE</td>\n",
              "      <td>NBA</td>\n",
              "      <td>0</td>\n",
              "      <td>2015</td>\n",
              "      <td>6/11/2015</td>\n",
              "      <td>100</td>\n",
              "      <td>1</td>\n",
              "      <td>CLE</td>\n",
              "      <td>Cavaliers</td>\n",
              "      <td>82</td>\n",
              "      <td>1723.41</td>\n",
              "      <td>1704.39</td>\n",
              "      <td>60.31</td>\n",
              "      <td>GSW</td>\n",
              "      <td>Warriors</td>\n",
              "      <td>103</td>\n",
              "      <td>1790.96</td>\n",
              "      <td>1809.98</td>\n",
              "      <td>H</td>\n",
              "      <td>L</td>\n",
              "      <td>0.55</td>\n",
              "      <td>NaN</td>\n",
              "    </tr>\n",
              "    <tr>\n",
              "      <th>126310</th>\n",
              "      <td>63156</td>\n",
              "      <td>201506140GSW</td>\n",
              "      <td>NBA</td>\n",
              "      <td>0</td>\n",
              "      <td>2015</td>\n",
              "      <td>6/14/2015</td>\n",
              "      <td>102</td>\n",
              "      <td>1</td>\n",
              "      <td>GSW</td>\n",
              "      <td>Warriors</td>\n",
              "      <td>104</td>\n",
              "      <td>1809.98</td>\n",
              "      <td>1813.63</td>\n",
              "      <td>68.01</td>\n",
              "      <td>CLE</td>\n",
              "      <td>Cavaliers</td>\n",
              "      <td>91</td>\n",
              "      <td>1704.39</td>\n",
              "      <td>1700.74</td>\n",
              "      <td>H</td>\n",
              "      <td>W</td>\n",
              "      <td>0.77</td>\n",
              "      <td>NaN</td>\n",
              "    </tr>\n",
              "    <tr>\n",
              "      <th>126311</th>\n",
              "      <td>63156</td>\n",
              "      <td>201506140GSW</td>\n",
              "      <td>NBA</td>\n",
              "      <td>1</td>\n",
              "      <td>2015</td>\n",
              "      <td>6/14/2015</td>\n",
              "      <td>101</td>\n",
              "      <td>1</td>\n",
              "      <td>CLE</td>\n",
              "      <td>Cavaliers</td>\n",
              "      <td>91</td>\n",
              "      <td>1704.39</td>\n",
              "      <td>1700.74</td>\n",
              "      <td>60.01</td>\n",
              "      <td>GSW</td>\n",
              "      <td>Warriors</td>\n",
              "      <td>104</td>\n",
              "      <td>1809.98</td>\n",
              "      <td>1813.63</td>\n",
              "      <td>A</td>\n",
              "      <td>L</td>\n",
              "      <td>0.23</td>\n",
              "      <td>NaN</td>\n",
              "    </tr>\n",
              "    <tr>\n",
              "      <th>126312</th>\n",
              "      <td>63157</td>\n",
              "      <td>201506170CLE</td>\n",
              "      <td>NBA</td>\n",
              "      <td>0</td>\n",
              "      <td>2015</td>\n",
              "      <td>6/16/2015</td>\n",
              "      <td>102</td>\n",
              "      <td>1</td>\n",
              "      <td>CLE</td>\n",
              "      <td>Cavaliers</td>\n",
              "      <td>97</td>\n",
              "      <td>1700.74</td>\n",
              "      <td>1692.09</td>\n",
              "      <td>59.29</td>\n",
              "      <td>GSW</td>\n",
              "      <td>Warriors</td>\n",
              "      <td>105</td>\n",
              "      <td>1813.63</td>\n",
              "      <td>1822.29</td>\n",
              "      <td>H</td>\n",
              "      <td>L</td>\n",
              "      <td>0.48</td>\n",
              "      <td>NaN</td>\n",
              "    </tr>\n",
              "    <tr>\n",
              "      <th>126313</th>\n",
              "      <td>63157</td>\n",
              "      <td>201506170CLE</td>\n",
              "      <td>NBA</td>\n",
              "      <td>1</td>\n",
              "      <td>2015</td>\n",
              "      <td>6/16/2015</td>\n",
              "      <td>103</td>\n",
              "      <td>1</td>\n",
              "      <td>GSW</td>\n",
              "      <td>Warriors</td>\n",
              "      <td>105</td>\n",
              "      <td>1813.63</td>\n",
              "      <td>1822.29</td>\n",
              "      <td>68.52</td>\n",
              "      <td>CLE</td>\n",
              "      <td>Cavaliers</td>\n",
              "      <td>97</td>\n",
              "      <td>1700.74</td>\n",
              "      <td>1692.09</td>\n",
              "      <td>A</td>\n",
              "      <td>W</td>\n",
              "      <td>0.52</td>\n",
              "      <td>NaN</td>\n",
              "    </tr>\n",
              "  </tbody>\n",
              "</table>\n",
              "<p>126314 rows × 23 columns</p>\n",
              "</div>"
            ],
            "text/plain": [
              "        gameorder       game_id lg_id  _iscopy  year_id  date_game  \\\n",
              "0               1  194611010TRH   NBA        0     1947  11/1/1946   \n",
              "1               1  194611010TRH   NBA        1     1947  11/1/1946   \n",
              "2               2  194611020CHS   NBA        0     1947  11/2/1946   \n",
              "3               2  194611020CHS   NBA        1     1947  11/2/1946   \n",
              "4               3  194611020DTF   NBA        0     1947  11/2/1946   \n",
              "...           ...           ...   ...      ...      ...        ...   \n",
              "126309      63155  201506110CLE   NBA        0     2015  6/11/2015   \n",
              "126310      63156  201506140GSW   NBA        0     2015  6/14/2015   \n",
              "126311      63156  201506140GSW   NBA        1     2015  6/14/2015   \n",
              "126312      63157  201506170CLE   NBA        0     2015  6/16/2015   \n",
              "126313      63157  201506170CLE   NBA        1     2015  6/16/2015   \n",
              "\n",
              "        seasongame  is_playoffs team_id    fran_id  pts    elo_i    elo_n  \\\n",
              "0                1            0     TRH    Huskies   66  1300.00  1293.28   \n",
              "1                1            0     NYK     Knicks   68  1300.00  1306.72   \n",
              "2                1            0     CHS      Stags   63  1300.00  1309.65   \n",
              "3                2            0     NYK     Knicks   47  1306.72  1297.07   \n",
              "4                1            0     DTF    Falcons   33  1300.00  1279.62   \n",
              "...            ...          ...     ...        ...  ...      ...      ...   \n",
              "126309         100            1     CLE  Cavaliers   82  1723.41  1704.39   \n",
              "126310         102            1     GSW   Warriors  104  1809.98  1813.63   \n",
              "126311         101            1     CLE  Cavaliers   91  1704.39  1700.74   \n",
              "126312         102            1     CLE  Cavaliers   97  1700.74  1692.09   \n",
              "126313         103            1     GSW   Warriors  105  1813.63  1822.29   \n",
              "\n",
              "        win_equiv opp_id   opp_fran  opp_pts  opp_elo_i  opp_elo_n  \\\n",
              "0           40.29    NYK     Knicks       68    1300.00    1306.72   \n",
              "1           41.71    TRH    Huskies       66    1300.00    1293.28   \n",
              "2           42.01    NYK     Knicks       47    1306.72    1297.07   \n",
              "3           40.69    CHS      Stags       63    1300.00    1309.65   \n",
              "4           38.86    WSC   Capitols       50    1300.00    1320.38   \n",
              "...           ...    ...        ...      ...        ...        ...   \n",
              "126309      60.31    GSW   Warriors      103    1790.96    1809.98   \n",
              "126310      68.01    CLE  Cavaliers       91    1704.39    1700.74   \n",
              "126311      60.01    GSW   Warriors      104    1809.98    1813.63   \n",
              "126312      59.29    GSW   Warriors      105    1813.63    1822.29   \n",
              "126313      68.52    CLE  Cavaliers       97    1700.74    1692.09   \n",
              "\n",
              "       game_location game_result  forecast notes  \n",
              "0                  H           L      0.64   NaN  \n",
              "1                  A           W      0.36   NaN  \n",
              "2                  H           W      0.63   NaN  \n",
              "3                  A           L      0.37   NaN  \n",
              "4                  H           L      0.64   NaN  \n",
              "...              ...         ...       ...   ...  \n",
              "126309             H           L      0.55   NaN  \n",
              "126310             H           W      0.77   NaN  \n",
              "126311             A           L      0.23   NaN  \n",
              "126312             H           L      0.48   NaN  \n",
              "126313             A           W      0.52   NaN  \n",
              "\n",
              "[126314 rows x 23 columns]"
            ]
          },
          "execution_count": 66,
          "metadata": {},
          "output_type": "execute_result"
        }
      ]
    },
    {
      "cell_type": "code",
      "metadata": {
        "id": "l1xoxQljxmcC"
      },
      "source": [
        "current_decade = df[df[\"year_id\"] > 2010]"
      ],
      "execution_count": null,
      "outputs": []
    },
    {
      "cell_type": "code",
      "metadata": {
        "id": "pSFqsrv-xmcC",
        "outputId": "80a98ac8-7451-4814-a038-1fce192089d9"
      },
      "source": [
        "current_decade"
      ],
      "execution_count": null,
      "outputs": [
        {
          "data": {
            "text/html": [
              "<div>\n",
              "<style scoped>\n",
              "    .dataframe tbody tr th:only-of-type {\n",
              "        vertical-align: middle;\n",
              "    }\n",
              "\n",
              "    .dataframe tbody tr th {\n",
              "        vertical-align: top;\n",
              "    }\n",
              "\n",
              "    .dataframe thead th {\n",
              "        text-align: right;\n",
              "    }\n",
              "</style>\n",
              "<table border=\"1\" class=\"dataframe\">\n",
              "  <thead>\n",
              "    <tr style=\"text-align: right;\">\n",
              "      <th></th>\n",
              "      <th>gameorder</th>\n",
              "      <th>game_id</th>\n",
              "      <th>lg_id</th>\n",
              "      <th>_iscopy</th>\n",
              "      <th>year_id</th>\n",
              "      <th>date_game</th>\n",
              "      <th>seasongame</th>\n",
              "      <th>is_playoffs</th>\n",
              "      <th>team_id</th>\n",
              "      <th>fran_id</th>\n",
              "      <th>pts</th>\n",
              "      <th>elo_i</th>\n",
              "      <th>elo_n</th>\n",
              "      <th>win_equiv</th>\n",
              "      <th>opp_id</th>\n",
              "      <th>opp_fran</th>\n",
              "      <th>opp_pts</th>\n",
              "      <th>opp_elo_i</th>\n",
              "      <th>opp_elo_n</th>\n",
              "      <th>game_location</th>\n",
              "      <th>game_result</th>\n",
              "      <th>forecast</th>\n",
              "      <th>notes</th>\n",
              "    </tr>\n",
              "  </thead>\n",
              "  <tbody>\n",
              "    <tr>\n",
              "      <th>113656</th>\n",
              "      <td>56829</td>\n",
              "      <td>201010260BOS</td>\n",
              "      <td>NBA</td>\n",
              "      <td>1</td>\n",
              "      <td>2011</td>\n",
              "      <td>10/26/2010</td>\n",
              "      <td>1</td>\n",
              "      <td>0</td>\n",
              "      <td>MIA</td>\n",
              "      <td>Heat</td>\n",
              "      <td>80</td>\n",
              "      <td>1547.36</td>\n",
              "      <td>1543.16</td>\n",
              "      <td>45.14</td>\n",
              "      <td>BOS</td>\n",
              "      <td>Celtics</td>\n",
              "      <td>88</td>\n",
              "      <td>1625.10</td>\n",
              "      <td>1629.30</td>\n",
              "      <td>A</td>\n",
              "      <td>L</td>\n",
              "      <td>0.26</td>\n",
              "      <td>NaN</td>\n",
              "    </tr>\n",
              "    <tr>\n",
              "      <th>113657</th>\n",
              "      <td>56829</td>\n",
              "      <td>201010260BOS</td>\n",
              "      <td>NBA</td>\n",
              "      <td>0</td>\n",
              "      <td>2011</td>\n",
              "      <td>10/26/2010</td>\n",
              "      <td>1</td>\n",
              "      <td>0</td>\n",
              "      <td>BOS</td>\n",
              "      <td>Celtics</td>\n",
              "      <td>88</td>\n",
              "      <td>1625.10</td>\n",
              "      <td>1629.30</td>\n",
              "      <td>53.75</td>\n",
              "      <td>MIA</td>\n",
              "      <td>Heat</td>\n",
              "      <td>80</td>\n",
              "      <td>1547.36</td>\n",
              "      <td>1543.16</td>\n",
              "      <td>H</td>\n",
              "      <td>W</td>\n",
              "      <td>0.74</td>\n",
              "      <td>NaN</td>\n",
              "    </tr>\n",
              "    <tr>\n",
              "      <th>113658</th>\n",
              "      <td>56830</td>\n",
              "      <td>201010260LAL</td>\n",
              "      <td>NBA</td>\n",
              "      <td>1</td>\n",
              "      <td>2011</td>\n",
              "      <td>10/26/2010</td>\n",
              "      <td>1</td>\n",
              "      <td>0</td>\n",
              "      <td>HOU</td>\n",
              "      <td>Rockets</td>\n",
              "      <td>110</td>\n",
              "      <td>1504.20</td>\n",
              "      <td>1502.60</td>\n",
              "      <td>40.90</td>\n",
              "      <td>LAL</td>\n",
              "      <td>Lakers</td>\n",
              "      <td>112</td>\n",
              "      <td>1647.60</td>\n",
              "      <td>1649.20</td>\n",
              "      <td>A</td>\n",
              "      <td>L</td>\n",
              "      <td>0.20</td>\n",
              "      <td>NaN</td>\n",
              "    </tr>\n",
              "    <tr>\n",
              "      <th>113659</th>\n",
              "      <td>56830</td>\n",
              "      <td>201010260LAL</td>\n",
              "      <td>NBA</td>\n",
              "      <td>0</td>\n",
              "      <td>2011</td>\n",
              "      <td>10/26/2010</td>\n",
              "      <td>1</td>\n",
              "      <td>0</td>\n",
              "      <td>LAL</td>\n",
              "      <td>Lakers</td>\n",
              "      <td>112</td>\n",
              "      <td>1647.60</td>\n",
              "      <td>1649.20</td>\n",
              "      <td>55.61</td>\n",
              "      <td>HOU</td>\n",
              "      <td>Rockets</td>\n",
              "      <td>110</td>\n",
              "      <td>1504.20</td>\n",
              "      <td>1502.60</td>\n",
              "      <td>H</td>\n",
              "      <td>W</td>\n",
              "      <td>0.80</td>\n",
              "      <td>NaN</td>\n",
              "    </tr>\n",
              "    <tr>\n",
              "      <th>113660</th>\n",
              "      <td>56831</td>\n",
              "      <td>201010260POR</td>\n",
              "      <td>NBA</td>\n",
              "      <td>1</td>\n",
              "      <td>2011</td>\n",
              "      <td>10/26/2010</td>\n",
              "      <td>1</td>\n",
              "      <td>0</td>\n",
              "      <td>PHO</td>\n",
              "      <td>Suns</td>\n",
              "      <td>92</td>\n",
              "      <td>1643.02</td>\n",
              "      <td>1630.62</td>\n",
              "      <td>53.88</td>\n",
              "      <td>POR</td>\n",
              "      <td>Trailblazers</td>\n",
              "      <td>106</td>\n",
              "      <td>1552.81</td>\n",
              "      <td>1565.22</td>\n",
              "      <td>A</td>\n",
              "      <td>L</td>\n",
              "      <td>0.49</td>\n",
              "      <td>NaN</td>\n",
              "    </tr>\n",
              "    <tr>\n",
              "      <th>...</th>\n",
              "      <td>...</td>\n",
              "      <td>...</td>\n",
              "      <td>...</td>\n",
              "      <td>...</td>\n",
              "      <td>...</td>\n",
              "      <td>...</td>\n",
              "      <td>...</td>\n",
              "      <td>...</td>\n",
              "      <td>...</td>\n",
              "      <td>...</td>\n",
              "      <td>...</td>\n",
              "      <td>...</td>\n",
              "      <td>...</td>\n",
              "      <td>...</td>\n",
              "      <td>...</td>\n",
              "      <td>...</td>\n",
              "      <td>...</td>\n",
              "      <td>...</td>\n",
              "      <td>...</td>\n",
              "      <td>...</td>\n",
              "      <td>...</td>\n",
              "      <td>...</td>\n",
              "      <td>...</td>\n",
              "    </tr>\n",
              "    <tr>\n",
              "      <th>126309</th>\n",
              "      <td>63155</td>\n",
              "      <td>201506110CLE</td>\n",
              "      <td>NBA</td>\n",
              "      <td>0</td>\n",
              "      <td>2015</td>\n",
              "      <td>6/11/2015</td>\n",
              "      <td>100</td>\n",
              "      <td>1</td>\n",
              "      <td>CLE</td>\n",
              "      <td>Cavaliers</td>\n",
              "      <td>82</td>\n",
              "      <td>1723.41</td>\n",
              "      <td>1704.39</td>\n",
              "      <td>60.31</td>\n",
              "      <td>GSW</td>\n",
              "      <td>Warriors</td>\n",
              "      <td>103</td>\n",
              "      <td>1790.96</td>\n",
              "      <td>1809.98</td>\n",
              "      <td>H</td>\n",
              "      <td>L</td>\n",
              "      <td>0.55</td>\n",
              "      <td>NaN</td>\n",
              "    </tr>\n",
              "    <tr>\n",
              "      <th>126310</th>\n",
              "      <td>63156</td>\n",
              "      <td>201506140GSW</td>\n",
              "      <td>NBA</td>\n",
              "      <td>0</td>\n",
              "      <td>2015</td>\n",
              "      <td>6/14/2015</td>\n",
              "      <td>102</td>\n",
              "      <td>1</td>\n",
              "      <td>GSW</td>\n",
              "      <td>Warriors</td>\n",
              "      <td>104</td>\n",
              "      <td>1809.98</td>\n",
              "      <td>1813.63</td>\n",
              "      <td>68.01</td>\n",
              "      <td>CLE</td>\n",
              "      <td>Cavaliers</td>\n",
              "      <td>91</td>\n",
              "      <td>1704.39</td>\n",
              "      <td>1700.74</td>\n",
              "      <td>H</td>\n",
              "      <td>W</td>\n",
              "      <td>0.77</td>\n",
              "      <td>NaN</td>\n",
              "    </tr>\n",
              "    <tr>\n",
              "      <th>126311</th>\n",
              "      <td>63156</td>\n",
              "      <td>201506140GSW</td>\n",
              "      <td>NBA</td>\n",
              "      <td>1</td>\n",
              "      <td>2015</td>\n",
              "      <td>6/14/2015</td>\n",
              "      <td>101</td>\n",
              "      <td>1</td>\n",
              "      <td>CLE</td>\n",
              "      <td>Cavaliers</td>\n",
              "      <td>91</td>\n",
              "      <td>1704.39</td>\n",
              "      <td>1700.74</td>\n",
              "      <td>60.01</td>\n",
              "      <td>GSW</td>\n",
              "      <td>Warriors</td>\n",
              "      <td>104</td>\n",
              "      <td>1809.98</td>\n",
              "      <td>1813.63</td>\n",
              "      <td>A</td>\n",
              "      <td>L</td>\n",
              "      <td>0.23</td>\n",
              "      <td>NaN</td>\n",
              "    </tr>\n",
              "    <tr>\n",
              "      <th>126312</th>\n",
              "      <td>63157</td>\n",
              "      <td>201506170CLE</td>\n",
              "      <td>NBA</td>\n",
              "      <td>0</td>\n",
              "      <td>2015</td>\n",
              "      <td>6/16/2015</td>\n",
              "      <td>102</td>\n",
              "      <td>1</td>\n",
              "      <td>CLE</td>\n",
              "      <td>Cavaliers</td>\n",
              "      <td>97</td>\n",
              "      <td>1700.74</td>\n",
              "      <td>1692.09</td>\n",
              "      <td>59.29</td>\n",
              "      <td>GSW</td>\n",
              "      <td>Warriors</td>\n",
              "      <td>105</td>\n",
              "      <td>1813.63</td>\n",
              "      <td>1822.29</td>\n",
              "      <td>H</td>\n",
              "      <td>L</td>\n",
              "      <td>0.48</td>\n",
              "      <td>NaN</td>\n",
              "    </tr>\n",
              "    <tr>\n",
              "      <th>126313</th>\n",
              "      <td>63157</td>\n",
              "      <td>201506170CLE</td>\n",
              "      <td>NBA</td>\n",
              "      <td>1</td>\n",
              "      <td>2015</td>\n",
              "      <td>6/16/2015</td>\n",
              "      <td>103</td>\n",
              "      <td>1</td>\n",
              "      <td>GSW</td>\n",
              "      <td>Warriors</td>\n",
              "      <td>105</td>\n",
              "      <td>1813.63</td>\n",
              "      <td>1822.29</td>\n",
              "      <td>68.52</td>\n",
              "      <td>CLE</td>\n",
              "      <td>Cavaliers</td>\n",
              "      <td>97</td>\n",
              "      <td>1700.74</td>\n",
              "      <td>1692.09</td>\n",
              "      <td>A</td>\n",
              "      <td>W</td>\n",
              "      <td>0.52</td>\n",
              "      <td>NaN</td>\n",
              "    </tr>\n",
              "  </tbody>\n",
              "</table>\n",
              "<p>12658 rows × 23 columns</p>\n",
              "</div>"
            ],
            "text/plain": [
              "        gameorder       game_id lg_id  _iscopy  year_id   date_game  \\\n",
              "113656      56829  201010260BOS   NBA        1     2011  10/26/2010   \n",
              "113657      56829  201010260BOS   NBA        0     2011  10/26/2010   \n",
              "113658      56830  201010260LAL   NBA        1     2011  10/26/2010   \n",
              "113659      56830  201010260LAL   NBA        0     2011  10/26/2010   \n",
              "113660      56831  201010260POR   NBA        1     2011  10/26/2010   \n",
              "...           ...           ...   ...      ...      ...         ...   \n",
              "126309      63155  201506110CLE   NBA        0     2015   6/11/2015   \n",
              "126310      63156  201506140GSW   NBA        0     2015   6/14/2015   \n",
              "126311      63156  201506140GSW   NBA        1     2015   6/14/2015   \n",
              "126312      63157  201506170CLE   NBA        0     2015   6/16/2015   \n",
              "126313      63157  201506170CLE   NBA        1     2015   6/16/2015   \n",
              "\n",
              "        seasongame  is_playoffs team_id    fran_id  pts    elo_i    elo_n  \\\n",
              "113656           1            0     MIA       Heat   80  1547.36  1543.16   \n",
              "113657           1            0     BOS    Celtics   88  1625.10  1629.30   \n",
              "113658           1            0     HOU    Rockets  110  1504.20  1502.60   \n",
              "113659           1            0     LAL     Lakers  112  1647.60  1649.20   \n",
              "113660           1            0     PHO       Suns   92  1643.02  1630.62   \n",
              "...            ...          ...     ...        ...  ...      ...      ...   \n",
              "126309         100            1     CLE  Cavaliers   82  1723.41  1704.39   \n",
              "126310         102            1     GSW   Warriors  104  1809.98  1813.63   \n",
              "126311         101            1     CLE  Cavaliers   91  1704.39  1700.74   \n",
              "126312         102            1     CLE  Cavaliers   97  1700.74  1692.09   \n",
              "126313         103            1     GSW   Warriors  105  1813.63  1822.29   \n",
              "\n",
              "        win_equiv opp_id      opp_fran  opp_pts  opp_elo_i  opp_elo_n  \\\n",
              "113656      45.14    BOS       Celtics       88    1625.10    1629.30   \n",
              "113657      53.75    MIA          Heat       80    1547.36    1543.16   \n",
              "113658      40.90    LAL        Lakers      112    1647.60    1649.20   \n",
              "113659      55.61    HOU       Rockets      110    1504.20    1502.60   \n",
              "113660      53.88    POR  Trailblazers      106    1552.81    1565.22   \n",
              "...           ...    ...           ...      ...        ...        ...   \n",
              "126309      60.31    GSW      Warriors      103    1790.96    1809.98   \n",
              "126310      68.01    CLE     Cavaliers       91    1704.39    1700.74   \n",
              "126311      60.01    GSW      Warriors      104    1809.98    1813.63   \n",
              "126312      59.29    GSW      Warriors      105    1813.63    1822.29   \n",
              "126313      68.52    CLE     Cavaliers       97    1700.74    1692.09   \n",
              "\n",
              "       game_location game_result  forecast notes  \n",
              "113656             A           L      0.26   NaN  \n",
              "113657             H           W      0.74   NaN  \n",
              "113658             A           L      0.20   NaN  \n",
              "113659             H           W      0.80   NaN  \n",
              "113660             A           L      0.49   NaN  \n",
              "...              ...         ...       ...   ...  \n",
              "126309             H           L      0.55   NaN  \n",
              "126310             H           W      0.77   NaN  \n",
              "126311             A           L      0.23   NaN  \n",
              "126312             H           L      0.48   NaN  \n",
              "126313             A           W      0.52   NaN  \n",
              "\n",
              "[12658 rows x 23 columns]"
            ]
          },
          "execution_count": 68,
          "metadata": {},
          "output_type": "execute_result"
        }
      ]
    },
    {
      "cell_type": "code",
      "metadata": {
        "id": "_La39SxexmcD",
        "outputId": "f269290c-32fc-4744-9597-4d8a521fcc85"
      },
      "source": [
        "current_decade.shape"
      ],
      "execution_count": null,
      "outputs": [
        {
          "data": {
            "text/plain": [
              "(12658, 23)"
            ]
          },
          "execution_count": 69,
          "metadata": {},
          "output_type": "execute_result"
        }
      ]
    },
    {
      "cell_type": "markdown",
      "metadata": {
        "id": "xIKBGdjRxmcD"
      },
      "source": [
        "You still have all 23 columns, but your new DataFrame only consists of rows where the value in the `\"year_id\"` column is greater than 2010.\n",
        "\n",
        "You can also select the rows where a specific field is not null:"
      ]
    },
    {
      "cell_type": "code",
      "metadata": {
        "id": "0wHTk1bNxmcD",
        "outputId": "2e0347ba-634d-4b68-c26c-45000b24de5b"
      },
      "source": [
        "games_with_notes = df[df[\"notes\"].notnull()]\n",
        "games_with_notes.shape"
      ],
      "execution_count": null,
      "outputs": [
        {
          "data": {
            "text/plain": [
              "(5424, 23)"
            ]
          },
          "execution_count": 70,
          "metadata": {},
          "output_type": "execute_result"
        }
      ]
    },
    {
      "cell_type": "markdown",
      "metadata": {
        "id": "KJslYTMpxmcD"
      },
      "source": [
        "This can be helpful if you want to avoid any missing values in a column. You can also use `.notna()` to achieve the same goal.\n",
        "\n",
        "You can even access values of the object data type as `str` and perform string methods on them:"
      ]
    },
    {
      "cell_type": "code",
      "metadata": {
        "id": "GMGXrsSKxmcD"
      },
      "source": [
        "ers = df[df[\"fran_id\"].str.endswith(\"ers\")]"
      ],
      "execution_count": null,
      "outputs": []
    },
    {
      "cell_type": "code",
      "metadata": {
        "id": "hXm3iURjxmcD",
        "outputId": "7ea76645-6522-4748-f83a-82a5d27def7b"
      },
      "source": [
        "ers.shape"
      ],
      "execution_count": null,
      "outputs": [
        {
          "data": {
            "text/plain": [
              "(27797, 23)"
            ]
          },
          "execution_count": 72,
          "metadata": {},
          "output_type": "execute_result"
        }
      ]
    },
    {
      "cell_type": "markdown",
      "metadata": {
        "id": "7BUcPRLSxmcE"
      },
      "source": [
        "You use `.str.endswith()` to filter your dataset and find all games where the home team’s name ends with `\"ers\"`."
      ]
    },
    {
      "cell_type": "markdown",
      "metadata": {
        "id": "h5W2jkKoxmcE"
      },
      "source": [
        "Do a search for Baltimore games where both teams scored over 100 points. In order to see each game only once, you’ll need to exclude duplicates:"
      ]
    },
    {
      "cell_type": "code",
      "metadata": {
        "id": "vF935iUWxmcE",
        "colab": {
          "base_uri": "https://localhost:8080/",
          "height": 274
        },
        "outputId": "555748a1-7023-4a5b-b4b9-bca9b570e61b"
      },
      "source": [
        "df[\n",
        "    (df[\"_iscopy\"] == 0) &\n",
        "    (df[\"pts\"] > 100) &\n",
        "    (df[\"opp_pts\"] > 100) &\n",
        "    (df[\"team_id\"] == \"BLB\")\n",
        "]"
      ],
      "execution_count": null,
      "outputs": [
        {
          "output_type": "execute_result",
          "data": {
            "text/html": [
              "<div>\n",
              "<style scoped>\n",
              "    .dataframe tbody tr th:only-of-type {\n",
              "        vertical-align: middle;\n",
              "    }\n",
              "\n",
              "    .dataframe tbody tr th {\n",
              "        vertical-align: top;\n",
              "    }\n",
              "\n",
              "    .dataframe thead th {\n",
              "        text-align: right;\n",
              "    }\n",
              "</style>\n",
              "<table border=\"1\" class=\"dataframe\">\n",
              "  <thead>\n",
              "    <tr style=\"text-align: right;\">\n",
              "      <th></th>\n",
              "      <th>gameorder</th>\n",
              "      <th>game_id</th>\n",
              "      <th>lg_id</th>\n",
              "      <th>_iscopy</th>\n",
              "      <th>year_id</th>\n",
              "      <th>date_game</th>\n",
              "      <th>seasongame</th>\n",
              "      <th>is_playoffs</th>\n",
              "      <th>team_id</th>\n",
              "      <th>fran_id</th>\n",
              "      <th>pts</th>\n",
              "      <th>elo_i</th>\n",
              "      <th>elo_n</th>\n",
              "      <th>win_equiv</th>\n",
              "      <th>opp_id</th>\n",
              "      <th>opp_fran</th>\n",
              "      <th>opp_pts</th>\n",
              "      <th>opp_elo_i</th>\n",
              "      <th>opp_elo_n</th>\n",
              "      <th>game_location</th>\n",
              "      <th>game_result</th>\n",
              "      <th>forecast</th>\n",
              "      <th>notes</th>\n",
              "    </tr>\n",
              "  </thead>\n",
              "  <tbody>\n",
              "    <tr>\n",
              "      <th>1726</th>\n",
              "      <td>864</td>\n",
              "      <td>194902260BLB</td>\n",
              "      <td>NBA</td>\n",
              "      <td>0</td>\n",
              "      <td>1949</td>\n",
              "      <td>2/26/1949</td>\n",
              "      <td>53</td>\n",
              "      <td>0</td>\n",
              "      <td>BLB</td>\n",
              "      <td>Baltimore</td>\n",
              "      <td>114</td>\n",
              "      <td>1421.9351</td>\n",
              "      <td>1419.4280</td>\n",
              "      <td>38.557545</td>\n",
              "      <td>MNL</td>\n",
              "      <td>Lakers</td>\n",
              "      <td>115</td>\n",
              "      <td>1637.9852</td>\n",
              "      <td>1640.4923</td>\n",
              "      <td>H</td>\n",
              "      <td>L</td>\n",
              "      <td>0.338936</td>\n",
              "      <td>NaN</td>\n",
              "    </tr>\n",
              "    <tr>\n",
              "      <th>4890</th>\n",
              "      <td>2446</td>\n",
              "      <td>195301100BLB</td>\n",
              "      <td>NBA</td>\n",
              "      <td>0</td>\n",
              "      <td>1953</td>\n",
              "      <td>1/10/1953</td>\n",
              "      <td>32</td>\n",
              "      <td>0</td>\n",
              "      <td>BLB</td>\n",
              "      <td>Baltimore</td>\n",
              "      <td>126</td>\n",
              "      <td>1328.6687</td>\n",
              "      <td>1356.6470</td>\n",
              "      <td>25.797792</td>\n",
              "      <td>BOS</td>\n",
              "      <td>Celtics</td>\n",
              "      <td>105</td>\n",
              "      <td>1591.1434</td>\n",
              "      <td>1563.1652</td>\n",
              "      <td>H</td>\n",
              "      <td>W</td>\n",
              "      <td>0.281855</td>\n",
              "      <td>NaN</td>\n",
              "    </tr>\n",
              "    <tr>\n",
              "      <th>4909</th>\n",
              "      <td>2455</td>\n",
              "      <td>195301140BLB</td>\n",
              "      <td>NBA</td>\n",
              "      <td>0</td>\n",
              "      <td>1953</td>\n",
              "      <td>1/14/1953</td>\n",
              "      <td>34</td>\n",
              "      <td>0</td>\n",
              "      <td>BLB</td>\n",
              "      <td>Baltimore</td>\n",
              "      <td>104</td>\n",
              "      <td>1349.8323</td>\n",
              "      <td>1346.3594</td>\n",
              "      <td>24.876236</td>\n",
              "      <td>MNL</td>\n",
              "      <td>Lakers</td>\n",
              "      <td>112</td>\n",
              "      <td>1665.4396</td>\n",
              "      <td>1668.9125</td>\n",
              "      <td>H</td>\n",
              "      <td>L</td>\n",
              "      <td>0.224238</td>\n",
              "      <td>NaN</td>\n",
              "    </tr>\n",
              "    <tr>\n",
              "      <th>5208</th>\n",
              "      <td>2605</td>\n",
              "      <td>195303110BLB</td>\n",
              "      <td>NBA</td>\n",
              "      <td>0</td>\n",
              "      <td>1953</td>\n",
              "      <td>3/11/1953</td>\n",
              "      <td>66</td>\n",
              "      <td>0</td>\n",
              "      <td>BLB</td>\n",
              "      <td>Baltimore</td>\n",
              "      <td>107</td>\n",
              "      <td>1284.5239</td>\n",
              "      <td>1282.2396</td>\n",
              "      <td>19.579676</td>\n",
              "      <td>NYK</td>\n",
              "      <td>Knicks</td>\n",
              "      <td>113</td>\n",
              "      <td>1649.1516</td>\n",
              "      <td>1651.4359</td>\n",
              "      <td>H</td>\n",
              "      <td>L</td>\n",
              "      <td>0.178973</td>\n",
              "      <td>at Boston MA</td>\n",
              "    </tr>\n",
              "    <tr>\n",
              "      <th>5825</th>\n",
              "      <td>2913</td>\n",
              "      <td>195402220BLB</td>\n",
              "      <td>NBA</td>\n",
              "      <td>0</td>\n",
              "      <td>1954</td>\n",
              "      <td>2/22/1954</td>\n",
              "      <td>60</td>\n",
              "      <td>0</td>\n",
              "      <td>BLB</td>\n",
              "      <td>Baltimore</td>\n",
              "      <td>110</td>\n",
              "      <td>1303.7493</td>\n",
              "      <td>1301.9685</td>\n",
              "      <td>20.736986</td>\n",
              "      <td>BOS</td>\n",
              "      <td>Celtics</td>\n",
              "      <td>111</td>\n",
              "      <td>1591.4943</td>\n",
              "      <td>1593.2749</td>\n",
              "      <td>H</td>\n",
              "      <td>L</td>\n",
              "      <td>0.253365</td>\n",
              "      <td>at Worcester MA</td>\n",
              "    </tr>\n",
              "  </tbody>\n",
              "</table>\n",
              "</div>"
            ],
            "text/plain": [
              "      gameorder       game_id lg_id  ...  game_result  forecast            notes\n",
              "1726        864  194902260BLB   NBA  ...            L  0.338936              NaN\n",
              "4890       2446  195301100BLB   NBA  ...            W  0.281855              NaN\n",
              "4909       2455  195301140BLB   NBA  ...            L  0.224238              NaN\n",
              "5208       2605  195303110BLB   NBA  ...            L  0.178973     at Boston MA\n",
              "5825       2913  195402220BLB   NBA  ...            L  0.253365  at Worcester MA\n",
              "\n",
              "[5 rows x 23 columns]"
            ]
          },
          "metadata": {},
          "execution_count": 3
        }
      ]
    },
    {
      "cell_type": "code",
      "metadata": {
        "colab": {
          "base_uri": "https://localhost:8080/",
          "height": 274
        },
        "id": "E0DrSgEw6-11",
        "outputId": "1300acef-1e58-4008-b770-e68ca36d8218"
      },
      "source": [
        "df.query(\"_iscopy == 0 & pts > 100 & \\\n",
        "          opp_pts > 100 & \\\n",
        "          team_id == 'BLB'\")"
      ],
      "execution_count": null,
      "outputs": [
        {
          "output_type": "execute_result",
          "data": {
            "text/html": [
              "<div>\n",
              "<style scoped>\n",
              "    .dataframe tbody tr th:only-of-type {\n",
              "        vertical-align: middle;\n",
              "    }\n",
              "\n",
              "    .dataframe tbody tr th {\n",
              "        vertical-align: top;\n",
              "    }\n",
              "\n",
              "    .dataframe thead th {\n",
              "        text-align: right;\n",
              "    }\n",
              "</style>\n",
              "<table border=\"1\" class=\"dataframe\">\n",
              "  <thead>\n",
              "    <tr style=\"text-align: right;\">\n",
              "      <th></th>\n",
              "      <th>gameorder</th>\n",
              "      <th>game_id</th>\n",
              "      <th>lg_id</th>\n",
              "      <th>_iscopy</th>\n",
              "      <th>year_id</th>\n",
              "      <th>date_game</th>\n",
              "      <th>seasongame</th>\n",
              "      <th>is_playoffs</th>\n",
              "      <th>team_id</th>\n",
              "      <th>fran_id</th>\n",
              "      <th>pts</th>\n",
              "      <th>elo_i</th>\n",
              "      <th>elo_n</th>\n",
              "      <th>win_equiv</th>\n",
              "      <th>opp_id</th>\n",
              "      <th>opp_fran</th>\n",
              "      <th>opp_pts</th>\n",
              "      <th>opp_elo_i</th>\n",
              "      <th>opp_elo_n</th>\n",
              "      <th>game_location</th>\n",
              "      <th>game_result</th>\n",
              "      <th>forecast</th>\n",
              "      <th>notes</th>\n",
              "    </tr>\n",
              "  </thead>\n",
              "  <tbody>\n",
              "    <tr>\n",
              "      <th>1726</th>\n",
              "      <td>864</td>\n",
              "      <td>194902260BLB</td>\n",
              "      <td>NBA</td>\n",
              "      <td>0</td>\n",
              "      <td>1949</td>\n",
              "      <td>2/26/1949</td>\n",
              "      <td>53</td>\n",
              "      <td>0</td>\n",
              "      <td>BLB</td>\n",
              "      <td>Baltimore</td>\n",
              "      <td>114</td>\n",
              "      <td>1421.9351</td>\n",
              "      <td>1419.4280</td>\n",
              "      <td>38.557545</td>\n",
              "      <td>MNL</td>\n",
              "      <td>Lakers</td>\n",
              "      <td>115</td>\n",
              "      <td>1637.9852</td>\n",
              "      <td>1640.4923</td>\n",
              "      <td>H</td>\n",
              "      <td>L</td>\n",
              "      <td>0.338936</td>\n",
              "      <td>NaN</td>\n",
              "    </tr>\n",
              "    <tr>\n",
              "      <th>4890</th>\n",
              "      <td>2446</td>\n",
              "      <td>195301100BLB</td>\n",
              "      <td>NBA</td>\n",
              "      <td>0</td>\n",
              "      <td>1953</td>\n",
              "      <td>1/10/1953</td>\n",
              "      <td>32</td>\n",
              "      <td>0</td>\n",
              "      <td>BLB</td>\n",
              "      <td>Baltimore</td>\n",
              "      <td>126</td>\n",
              "      <td>1328.6687</td>\n",
              "      <td>1356.6470</td>\n",
              "      <td>25.797792</td>\n",
              "      <td>BOS</td>\n",
              "      <td>Celtics</td>\n",
              "      <td>105</td>\n",
              "      <td>1591.1434</td>\n",
              "      <td>1563.1652</td>\n",
              "      <td>H</td>\n",
              "      <td>W</td>\n",
              "      <td>0.281855</td>\n",
              "      <td>NaN</td>\n",
              "    </tr>\n",
              "    <tr>\n",
              "      <th>4909</th>\n",
              "      <td>2455</td>\n",
              "      <td>195301140BLB</td>\n",
              "      <td>NBA</td>\n",
              "      <td>0</td>\n",
              "      <td>1953</td>\n",
              "      <td>1/14/1953</td>\n",
              "      <td>34</td>\n",
              "      <td>0</td>\n",
              "      <td>BLB</td>\n",
              "      <td>Baltimore</td>\n",
              "      <td>104</td>\n",
              "      <td>1349.8323</td>\n",
              "      <td>1346.3594</td>\n",
              "      <td>24.876236</td>\n",
              "      <td>MNL</td>\n",
              "      <td>Lakers</td>\n",
              "      <td>112</td>\n",
              "      <td>1665.4396</td>\n",
              "      <td>1668.9125</td>\n",
              "      <td>H</td>\n",
              "      <td>L</td>\n",
              "      <td>0.224238</td>\n",
              "      <td>NaN</td>\n",
              "    </tr>\n",
              "    <tr>\n",
              "      <th>5208</th>\n",
              "      <td>2605</td>\n",
              "      <td>195303110BLB</td>\n",
              "      <td>NBA</td>\n",
              "      <td>0</td>\n",
              "      <td>1953</td>\n",
              "      <td>3/11/1953</td>\n",
              "      <td>66</td>\n",
              "      <td>0</td>\n",
              "      <td>BLB</td>\n",
              "      <td>Baltimore</td>\n",
              "      <td>107</td>\n",
              "      <td>1284.5239</td>\n",
              "      <td>1282.2396</td>\n",
              "      <td>19.579676</td>\n",
              "      <td>NYK</td>\n",
              "      <td>Knicks</td>\n",
              "      <td>113</td>\n",
              "      <td>1649.1516</td>\n",
              "      <td>1651.4359</td>\n",
              "      <td>H</td>\n",
              "      <td>L</td>\n",
              "      <td>0.178973</td>\n",
              "      <td>at Boston MA</td>\n",
              "    </tr>\n",
              "    <tr>\n",
              "      <th>5825</th>\n",
              "      <td>2913</td>\n",
              "      <td>195402220BLB</td>\n",
              "      <td>NBA</td>\n",
              "      <td>0</td>\n",
              "      <td>1954</td>\n",
              "      <td>2/22/1954</td>\n",
              "      <td>60</td>\n",
              "      <td>0</td>\n",
              "      <td>BLB</td>\n",
              "      <td>Baltimore</td>\n",
              "      <td>110</td>\n",
              "      <td>1303.7493</td>\n",
              "      <td>1301.9685</td>\n",
              "      <td>20.736986</td>\n",
              "      <td>BOS</td>\n",
              "      <td>Celtics</td>\n",
              "      <td>111</td>\n",
              "      <td>1591.4943</td>\n",
              "      <td>1593.2749</td>\n",
              "      <td>H</td>\n",
              "      <td>L</td>\n",
              "      <td>0.253365</td>\n",
              "      <td>at Worcester MA</td>\n",
              "    </tr>\n",
              "  </tbody>\n",
              "</table>\n",
              "</div>"
            ],
            "text/plain": [
              "      gameorder       game_id lg_id  ...  game_result  forecast            notes\n",
              "1726        864  194902260BLB   NBA  ...            L  0.338936              NaN\n",
              "4890       2446  195301100BLB   NBA  ...            W  0.281855              NaN\n",
              "4909       2455  195301140BLB   NBA  ...            L  0.224238              NaN\n",
              "5208       2605  195303110BLB   NBA  ...            L  0.178973     at Boston MA\n",
              "5825       2913  195402220BLB   NBA  ...            L  0.253365  at Worcester MA\n",
              "\n",
              "[5 rows x 23 columns]"
            ]
          },
          "metadata": {},
          "execution_count": 10
        }
      ]
    },
    {
      "cell_type": "markdown",
      "metadata": {
        "id": "UzR2nnW0xmcE"
      },
      "source": [
        "Here, you use `df[\"_iscopy\"] == 0` to include only the entries that aren’t copies.\n",
        "\n",
        "Your output should contain five eventful games"
      ]
    },
    {
      "cell_type": "markdown",
      "metadata": {
        "id": "0l9upEN_xmcE"
      },
      "source": [
        "Try to build another query with multiple criteria. In the spring of 1992, both teams from Los Angeles had to play a home game at another court. Query your dataset to find those two games. Both teams have an ID starting with \"LA\".\n",
        "\n",
        "You can use `.str` to find the team IDs that start with \"LA\", and you can assume that such an unusual game would have some notes:"
      ]
    },
    {
      "cell_type": "code",
      "metadata": {
        "id": "XJHeFf7TxmcE",
        "outputId": "324c7a1b-94e2-417a-a7b4-0cb21ece2f22"
      },
      "source": [
        "df[\n",
        "    (df[\"_iscopy\"] == 0) &\n",
        "    (df[\"team_id\"].str.startswith(\"LA\")) &\n",
        "    (df[\"year_id\"] == 1992) &\n",
        "    (df[\"notes\"].notnull())\n",
        "]"
      ],
      "execution_count": null,
      "outputs": [
        {
          "data": {
            "text/html": [
              "<div>\n",
              "<style scoped>\n",
              "    .dataframe tbody tr th:only-of-type {\n",
              "        vertical-align: middle;\n",
              "    }\n",
              "\n",
              "    .dataframe tbody tr th {\n",
              "        vertical-align: top;\n",
              "    }\n",
              "\n",
              "    .dataframe thead th {\n",
              "        text-align: right;\n",
              "    }\n",
              "</style>\n",
              "<table border=\"1\" class=\"dataframe\">\n",
              "  <thead>\n",
              "    <tr style=\"text-align: right;\">\n",
              "      <th></th>\n",
              "      <th>gameorder</th>\n",
              "      <th>game_id</th>\n",
              "      <th>lg_id</th>\n",
              "      <th>_iscopy</th>\n",
              "      <th>year_id</th>\n",
              "      <th>date_game</th>\n",
              "      <th>seasongame</th>\n",
              "      <th>is_playoffs</th>\n",
              "      <th>team_id</th>\n",
              "      <th>fran_id</th>\n",
              "      <th>pts</th>\n",
              "      <th>elo_i</th>\n",
              "      <th>elo_n</th>\n",
              "      <th>win_equiv</th>\n",
              "      <th>opp_id</th>\n",
              "      <th>opp_fran</th>\n",
              "      <th>opp_pts</th>\n",
              "      <th>opp_elo_i</th>\n",
              "      <th>opp_elo_n</th>\n",
              "      <th>game_location</th>\n",
              "      <th>game_result</th>\n",
              "      <th>forecast</th>\n",
              "      <th>notes</th>\n",
              "    </tr>\n",
              "  </thead>\n",
              "  <tbody>\n",
              "    <tr>\n",
              "      <th>68901</th>\n",
              "      <td>34451</td>\n",
              "      <td>199205030LAC</td>\n",
              "      <td>NBA</td>\n",
              "      <td>0</td>\n",
              "      <td>1992</td>\n",
              "      <td>5/3/1992</td>\n",
              "      <td>86</td>\n",
              "      <td>1</td>\n",
              "      <td>LAC</td>\n",
              "      <td>Clippers</td>\n",
              "      <td>115</td>\n",
              "      <td>1546.90</td>\n",
              "      <td>1556.0</td>\n",
              "      <td>47.89</td>\n",
              "      <td>UTA</td>\n",
              "      <td>Jazz</td>\n",
              "      <td>107</td>\n",
              "      <td>1647.51</td>\n",
              "      <td>1638.41</td>\n",
              "      <td>H</td>\n",
              "      <td>W</td>\n",
              "      <td>0.50</td>\n",
              "      <td>at Anaheim, CA (Anaheim Convention Center)</td>\n",
              "    </tr>\n",
              "    <tr>\n",
              "      <th>68903</th>\n",
              "      <td>34452</td>\n",
              "      <td>199205030LAL</td>\n",
              "      <td>NBA</td>\n",
              "      <td>0</td>\n",
              "      <td>1992</td>\n",
              "      <td>5/3/1992</td>\n",
              "      <td>86</td>\n",
              "      <td>1</td>\n",
              "      <td>LAL</td>\n",
              "      <td>Lakers</td>\n",
              "      <td>76</td>\n",
              "      <td>1489.65</td>\n",
              "      <td>1474.4</td>\n",
              "      <td>39.40</td>\n",
              "      <td>POR</td>\n",
              "      <td>Trailblazers</td>\n",
              "      <td>102</td>\n",
              "      <td>1655.12</td>\n",
              "      <td>1670.37</td>\n",
              "      <td>H</td>\n",
              "      <td>L</td>\n",
              "      <td>0.41</td>\n",
              "      <td>at Las Vegas, NV</td>\n",
              "    </tr>\n",
              "  </tbody>\n",
              "</table>\n",
              "</div>"
            ],
            "text/plain": [
              "       gameorder       game_id lg_id  _iscopy  year_id date_game  seasongame  \\\n",
              "68901      34451  199205030LAC   NBA        0     1992  5/3/1992          86   \n",
              "68903      34452  199205030LAL   NBA        0     1992  5/3/1992          86   \n",
              "\n",
              "       is_playoffs team_id   fran_id  pts    elo_i   elo_n  win_equiv opp_id  \\\n",
              "68901            1     LAC  Clippers  115  1546.90  1556.0      47.89    UTA   \n",
              "68903            1     LAL    Lakers   76  1489.65  1474.4      39.40    POR   \n",
              "\n",
              "           opp_fran  opp_pts  opp_elo_i  opp_elo_n game_location game_result  \\\n",
              "68901          Jazz      107    1647.51    1638.41             H           W   \n",
              "68903  Trailblazers      102    1655.12    1670.37             H           L   \n",
              "\n",
              "       forecast                                       notes  \n",
              "68901      0.50  at Anaheim, CA (Anaheim Convention Center)  \n",
              "68903      0.41                            at Las Vegas, NV  "
            ]
          },
          "execution_count": 74,
          "metadata": {},
          "output_type": "execute_result"
        }
      ]
    },
    {
      "cell_type": "markdown",
      "metadata": {
        "id": "MjMmWkQ-xmcF"
      },
      "source": [
        "When you know how to query your dataset with multiple criteria, you’ll be able to answer more specific questions about your dataset."
      ]
    },
    {
      "cell_type": "markdown",
      "metadata": {
        "id": "Ud5m0ARTxmcF"
      },
      "source": [
        "## Grouping and Aggregating Your Data\n",
        "\n",
        "You may also want to learn other features of your dataset, like the sum, mean, or average value of a group of elements. Luckily, the Pandas Python library offers grouping and aggregation functions to help you accomplish this task."
      ]
    },
    {
      "cell_type": "markdown",
      "metadata": {
        "id": "WCUiXyoGxmcF"
      },
      "source": [
        "Remember, a column of a DataFrame is actually a Series object. For this reason, you can use these same functions on the columns of nba:"
      ]
    },
    {
      "cell_type": "code",
      "metadata": {
        "id": "jo3E9i8OxmcF"
      },
      "source": [
        "points = df[\"pts\"]"
      ],
      "execution_count": null,
      "outputs": []
    },
    {
      "cell_type": "code",
      "metadata": {
        "id": "Ohv5t5ufxmcF",
        "outputId": "aec8f0ec-3c6a-45d7-dfd3-f687109f2bfb"
      },
      "source": [
        "points.sum()"
      ],
      "execution_count": null,
      "outputs": [
        {
          "data": {
            "text/plain": [
              "12976235"
            ]
          },
          "execution_count": 78,
          "metadata": {},
          "output_type": "execute_result"
        }
      ]
    },
    {
      "cell_type": "markdown",
      "metadata": {
        "id": "2FdXFXijxmcG"
      },
      "source": [
        "A DataFrame can have multiple columns, which introduces new possibilities for aggregations, like grouping:"
      ]
    },
    {
      "cell_type": "code",
      "metadata": {
        "id": "Rj9I2huGxmcG",
        "outputId": "f6604a47-de6e-453b-8922-77007c608965"
      },
      "source": [
        "df.head(3)"
      ],
      "execution_count": null,
      "outputs": [
        {
          "data": {
            "text/html": [
              "<div>\n",
              "<style scoped>\n",
              "    .dataframe tbody tr th:only-of-type {\n",
              "        vertical-align: middle;\n",
              "    }\n",
              "\n",
              "    .dataframe tbody tr th {\n",
              "        vertical-align: top;\n",
              "    }\n",
              "\n",
              "    .dataframe thead th {\n",
              "        text-align: right;\n",
              "    }\n",
              "</style>\n",
              "<table border=\"1\" class=\"dataframe\">\n",
              "  <thead>\n",
              "    <tr style=\"text-align: right;\">\n",
              "      <th></th>\n",
              "      <th>gameorder</th>\n",
              "      <th>game_id</th>\n",
              "      <th>lg_id</th>\n",
              "      <th>_iscopy</th>\n",
              "      <th>year_id</th>\n",
              "      <th>date_game</th>\n",
              "      <th>seasongame</th>\n",
              "      <th>is_playoffs</th>\n",
              "      <th>team_id</th>\n",
              "      <th>fran_id</th>\n",
              "      <th>pts</th>\n",
              "      <th>elo_i</th>\n",
              "      <th>elo_n</th>\n",
              "      <th>win_equiv</th>\n",
              "      <th>opp_id</th>\n",
              "      <th>opp_fran</th>\n",
              "      <th>opp_pts</th>\n",
              "      <th>opp_elo_i</th>\n",
              "      <th>opp_elo_n</th>\n",
              "      <th>game_location</th>\n",
              "      <th>game_result</th>\n",
              "      <th>forecast</th>\n",
              "      <th>notes</th>\n",
              "    </tr>\n",
              "  </thead>\n",
              "  <tbody>\n",
              "    <tr>\n",
              "      <th>0</th>\n",
              "      <td>1</td>\n",
              "      <td>194611010TRH</td>\n",
              "      <td>NBA</td>\n",
              "      <td>0</td>\n",
              "      <td>1947</td>\n",
              "      <td>11/1/1946</td>\n",
              "      <td>1</td>\n",
              "      <td>0</td>\n",
              "      <td>TRH</td>\n",
              "      <td>Huskies</td>\n",
              "      <td>66</td>\n",
              "      <td>1300.0</td>\n",
              "      <td>1293.28</td>\n",
              "      <td>40.29</td>\n",
              "      <td>NYK</td>\n",
              "      <td>Knicks</td>\n",
              "      <td>68</td>\n",
              "      <td>1300.00</td>\n",
              "      <td>1306.72</td>\n",
              "      <td>H</td>\n",
              "      <td>L</td>\n",
              "      <td>0.64</td>\n",
              "      <td>NaN</td>\n",
              "    </tr>\n",
              "    <tr>\n",
              "      <th>1</th>\n",
              "      <td>1</td>\n",
              "      <td>194611010TRH</td>\n",
              "      <td>NBA</td>\n",
              "      <td>1</td>\n",
              "      <td>1947</td>\n",
              "      <td>11/1/1946</td>\n",
              "      <td>1</td>\n",
              "      <td>0</td>\n",
              "      <td>NYK</td>\n",
              "      <td>Knicks</td>\n",
              "      <td>68</td>\n",
              "      <td>1300.0</td>\n",
              "      <td>1306.72</td>\n",
              "      <td>41.71</td>\n",
              "      <td>TRH</td>\n",
              "      <td>Huskies</td>\n",
              "      <td>66</td>\n",
              "      <td>1300.00</td>\n",
              "      <td>1293.28</td>\n",
              "      <td>A</td>\n",
              "      <td>W</td>\n",
              "      <td>0.36</td>\n",
              "      <td>NaN</td>\n",
              "    </tr>\n",
              "    <tr>\n",
              "      <th>2</th>\n",
              "      <td>2</td>\n",
              "      <td>194611020CHS</td>\n",
              "      <td>NBA</td>\n",
              "      <td>0</td>\n",
              "      <td>1947</td>\n",
              "      <td>11/2/1946</td>\n",
              "      <td>1</td>\n",
              "      <td>0</td>\n",
              "      <td>CHS</td>\n",
              "      <td>Stags</td>\n",
              "      <td>63</td>\n",
              "      <td>1300.0</td>\n",
              "      <td>1309.65</td>\n",
              "      <td>42.01</td>\n",
              "      <td>NYK</td>\n",
              "      <td>Knicks</td>\n",
              "      <td>47</td>\n",
              "      <td>1306.72</td>\n",
              "      <td>1297.07</td>\n",
              "      <td>H</td>\n",
              "      <td>W</td>\n",
              "      <td>0.63</td>\n",
              "      <td>NaN</td>\n",
              "    </tr>\n",
              "  </tbody>\n",
              "</table>\n",
              "</div>"
            ],
            "text/plain": [
              "   gameorder       game_id lg_id  _iscopy  year_id  date_game  seasongame  \\\n",
              "0          1  194611010TRH   NBA        0     1947  11/1/1946           1   \n",
              "1          1  194611010TRH   NBA        1     1947  11/1/1946           1   \n",
              "2          2  194611020CHS   NBA        0     1947  11/2/1946           1   \n",
              "\n",
              "   is_playoffs team_id  fran_id  pts   elo_i    elo_n  win_equiv opp_id  \\\n",
              "0            0     TRH  Huskies   66  1300.0  1293.28      40.29    NYK   \n",
              "1            0     NYK   Knicks   68  1300.0  1306.72      41.71    TRH   \n",
              "2            0     CHS    Stags   63  1300.0  1309.65      42.01    NYK   \n",
              "\n",
              "  opp_fran  opp_pts  opp_elo_i  opp_elo_n game_location game_result  forecast  \\\n",
              "0   Knicks       68    1300.00    1306.72             H           L      0.64   \n",
              "1  Huskies       66    1300.00    1293.28             A           W      0.36   \n",
              "2   Knicks       47    1306.72    1297.07             H           W      0.63   \n",
              "\n",
              "  notes  \n",
              "0   NaN  \n",
              "1   NaN  \n",
              "2   NaN  "
            ]
          },
          "execution_count": 79,
          "metadata": {},
          "output_type": "execute_result"
        }
      ]
    },
    {
      "cell_type": "code",
      "metadata": {
        "id": "kclDssGAxmcG",
        "outputId": "232d05bb-2792-4bae-856c-723b2e739fc4"
      },
      "source": [
        "df.groupby(\"fran_id\", sort=False)[\"pts\"].sum()"
      ],
      "execution_count": null,
      "outputs": [
        {
          "data": {
            "text/plain": [
              "fran_id\n",
              "Huskies           3995\n",
              "Knicks          582497\n",
              "Stags            20398\n",
              "Falcons           3797\n",
              "Capitols         22387\n",
              "Celtics         626484\n",
              "Steamrollers     12372\n",
              "Ironmen           3674\n",
              "Bombers          17793\n",
              "Rebels            4474\n",
              "Warriors        591224\n",
              "Baltimore        37219\n",
              "Jets              4482\n",
              "Pistons         572758\n",
              "Lakers          637444\n",
              "Kings           569245\n",
              "Hawks           567261\n",
              "Denver            4818\n",
              "Olympians        22864\n",
              "Redskins          5372\n",
              "Waterloo          4921\n",
              "Packers           6193\n",
              "Sixers          585891\n",
              "Wizards         474809\n",
              "Bulls           437269\n",
              "Thunder         437735\n",
              "Squires          91127\n",
              "Stars            84940\n",
              "Rockets         432504\n",
              "Colonels         94435\n",
              "Pacers          438288\n",
              "Nuggets         445780\n",
              "Spurs           453822\n",
              "Spirits          85874\n",
              "Sounds           75582\n",
              "Floridians       49568\n",
              "Nets            417809\n",
              "Condors          49642\n",
              "Bucks           418326\n",
              "Suns            437486\n",
              "Clippers        380523\n",
              "Cavaliers       380416\n",
              "Trailblazers    402695\n",
              "Sails            30080\n",
              "Jazz            363155\n",
              "Mavericks       309239\n",
              "Pelicans        220794\n",
              "Heat            229103\n",
              "Timberwolves    207693\n",
              "Magic           219436\n",
              "Grizzlies       157683\n",
              "Raptors         158370\n",
              "Hornets          84489\n",
              "Name: pts, dtype: int64"
            ]
          },
          "execution_count": 80,
          "metadata": {},
          "output_type": "execute_result"
        }
      ]
    },
    {
      "cell_type": "markdown",
      "metadata": {
        "id": "-idtsfaTxmcG"
      },
      "source": [
        "By default, Pandas sorts the group keys during the call to `.groupby()`. If you don’t want to sort, then pass sort=False. This parameter can lead to performance gains.\n",
        "\n",
        "You can also group by multiple columns:"
      ]
    },
    {
      "cell_type": "code",
      "metadata": {
        "id": "U8_nymZ5xmcG",
        "outputId": "de22726a-c703-4462-81ee-b5ce9c800371"
      },
      "source": [
        "df[\n",
        "    (df[\"fran_id\"] == \"Spurs\") &\n",
        "    (df[\"year_id\"] > 2010)\n",
        "].groupby([\"year_id\", \"game_result\"])[\"game_id\"].count()"
      ],
      "execution_count": null,
      "outputs": [
        {
          "data": {
            "text/plain": [
              "year_id  game_result\n",
              "2011     L              25\n",
              "         W              63\n",
              "2012     L              20\n",
              "         W              60\n",
              "2013     L              30\n",
              "         W              73\n",
              "2014     L              27\n",
              "         W              78\n",
              "2015     L              31\n",
              "         W              58\n",
              "Name: game_id, dtype: int64"
            ]
          },
          "execution_count": 81,
          "metadata": {},
          "output_type": "execute_result"
        }
      ]
    },
    {
      "cell_type": "markdown",
      "metadata": {
        "id": "gAuHDvsPxmcH"
      },
      "source": [
        "You can practice these basics with an exercise. Take a look at the Golden State Warriors’ 2014-15 season (year_id: 2015).\n",
        "\n",
        "How many wins and losses did they score during the regular season and the playoffs?\n",
        "\n",
        "First, you can group by the `\"is_playoffs\"` field, then by the result:"
      ]
    },
    {
      "cell_type": "code",
      "metadata": {
        "id": "ufl0yHwjxmcH",
        "outputId": "c2d6c890-ec12-4bac-eb04-1d4e5888a8f4"
      },
      "source": [
        "df[\n",
        "    (df[\"fran_id\"] == \"Warriors\") &\n",
        "    (df[\"year_id\"] == 2015)\n",
        "].groupby([\"is_playoffs\", \"game_result\"])[\"game_id\"].count()"
      ],
      "execution_count": null,
      "outputs": [
        {
          "data": {
            "text/plain": [
              "is_playoffs  game_result\n",
              "0            L              15\n",
              "             W              67\n",
              "1            L               5\n",
              "             W              16\n",
              "Name: game_id, dtype: int64"
            ]
          },
          "execution_count": 82,
          "metadata": {},
          "output_type": "execute_result"
        }
      ]
    },
    {
      "cell_type": "markdown",
      "metadata": {
        "id": "9BkXGD5vxmcH"
      },
      "source": [
        "`is_playoffs=0` shows the results for the regular season, and `is_playoffs=1` shows the results for the playoffs."
      ]
    },
    {
      "cell_type": "markdown",
      "metadata": {
        "id": "9FBb1GOSxmcI"
      },
      "source": [
        "## Manipulating Columns\n",
        "\n",
        "You’ll need to know how to manipulate your dataset’s columns in different phases of the data analysis process. You can add and drop columns as part of the initial data cleaning phase, or later based on the insights of your analysis.\n",
        "\n",
        "Create a copy of your original DataFrame to work with:"
      ]
    },
    {
      "cell_type": "code",
      "metadata": {
        "id": "hya7SSttxmcI",
        "outputId": "485767f7-b55b-4f0c-c81d-af1384821e75"
      },
      "source": [
        "df"
      ],
      "execution_count": null,
      "outputs": [
        {
          "data": {
            "text/html": [
              "<div>\n",
              "<style scoped>\n",
              "    .dataframe tbody tr th:only-of-type {\n",
              "        vertical-align: middle;\n",
              "    }\n",
              "\n",
              "    .dataframe tbody tr th {\n",
              "        vertical-align: top;\n",
              "    }\n",
              "\n",
              "    .dataframe thead th {\n",
              "        text-align: right;\n",
              "    }\n",
              "</style>\n",
              "<table border=\"1\" class=\"dataframe\">\n",
              "  <thead>\n",
              "    <tr style=\"text-align: right;\">\n",
              "      <th></th>\n",
              "      <th>gameorder</th>\n",
              "      <th>game_id</th>\n",
              "      <th>lg_id</th>\n",
              "      <th>_iscopy</th>\n",
              "      <th>year_id</th>\n",
              "      <th>date_game</th>\n",
              "      <th>seasongame</th>\n",
              "      <th>is_playoffs</th>\n",
              "      <th>team_id</th>\n",
              "      <th>fran_id</th>\n",
              "      <th>pts</th>\n",
              "      <th>elo_i</th>\n",
              "      <th>elo_n</th>\n",
              "      <th>win_equiv</th>\n",
              "      <th>opp_id</th>\n",
              "      <th>opp_fran</th>\n",
              "      <th>opp_pts</th>\n",
              "      <th>opp_elo_i</th>\n",
              "      <th>opp_elo_n</th>\n",
              "      <th>game_location</th>\n",
              "      <th>game_result</th>\n",
              "      <th>forecast</th>\n",
              "      <th>notes</th>\n",
              "    </tr>\n",
              "  </thead>\n",
              "  <tbody>\n",
              "    <tr>\n",
              "      <th>0</th>\n",
              "      <td>1</td>\n",
              "      <td>194611010TRH</td>\n",
              "      <td>NBA</td>\n",
              "      <td>0</td>\n",
              "      <td>1947</td>\n",
              "      <td>11/1/1946</td>\n",
              "      <td>1</td>\n",
              "      <td>0</td>\n",
              "      <td>TRH</td>\n",
              "      <td>Huskies</td>\n",
              "      <td>66</td>\n",
              "      <td>1300.00</td>\n",
              "      <td>1293.28</td>\n",
              "      <td>40.29</td>\n",
              "      <td>NYK</td>\n",
              "      <td>Knicks</td>\n",
              "      <td>68</td>\n",
              "      <td>1300.00</td>\n",
              "      <td>1306.72</td>\n",
              "      <td>H</td>\n",
              "      <td>L</td>\n",
              "      <td>0.64</td>\n",
              "      <td>NaN</td>\n",
              "    </tr>\n",
              "    <tr>\n",
              "      <th>1</th>\n",
              "      <td>1</td>\n",
              "      <td>194611010TRH</td>\n",
              "      <td>NBA</td>\n",
              "      <td>1</td>\n",
              "      <td>1947</td>\n",
              "      <td>11/1/1946</td>\n",
              "      <td>1</td>\n",
              "      <td>0</td>\n",
              "      <td>NYK</td>\n",
              "      <td>Knicks</td>\n",
              "      <td>68</td>\n",
              "      <td>1300.00</td>\n",
              "      <td>1306.72</td>\n",
              "      <td>41.71</td>\n",
              "      <td>TRH</td>\n",
              "      <td>Huskies</td>\n",
              "      <td>66</td>\n",
              "      <td>1300.00</td>\n",
              "      <td>1293.28</td>\n",
              "      <td>A</td>\n",
              "      <td>W</td>\n",
              "      <td>0.36</td>\n",
              "      <td>NaN</td>\n",
              "    </tr>\n",
              "    <tr>\n",
              "      <th>2</th>\n",
              "      <td>2</td>\n",
              "      <td>194611020CHS</td>\n",
              "      <td>NBA</td>\n",
              "      <td>0</td>\n",
              "      <td>1947</td>\n",
              "      <td>11/2/1946</td>\n",
              "      <td>1</td>\n",
              "      <td>0</td>\n",
              "      <td>CHS</td>\n",
              "      <td>Stags</td>\n",
              "      <td>63</td>\n",
              "      <td>1300.00</td>\n",
              "      <td>1309.65</td>\n",
              "      <td>42.01</td>\n",
              "      <td>NYK</td>\n",
              "      <td>Knicks</td>\n",
              "      <td>47</td>\n",
              "      <td>1306.72</td>\n",
              "      <td>1297.07</td>\n",
              "      <td>H</td>\n",
              "      <td>W</td>\n",
              "      <td>0.63</td>\n",
              "      <td>NaN</td>\n",
              "    </tr>\n",
              "    <tr>\n",
              "      <th>3</th>\n",
              "      <td>2</td>\n",
              "      <td>194611020CHS</td>\n",
              "      <td>NBA</td>\n",
              "      <td>1</td>\n",
              "      <td>1947</td>\n",
              "      <td>11/2/1946</td>\n",
              "      <td>2</td>\n",
              "      <td>0</td>\n",
              "      <td>NYK</td>\n",
              "      <td>Knicks</td>\n",
              "      <td>47</td>\n",
              "      <td>1306.72</td>\n",
              "      <td>1297.07</td>\n",
              "      <td>40.69</td>\n",
              "      <td>CHS</td>\n",
              "      <td>Stags</td>\n",
              "      <td>63</td>\n",
              "      <td>1300.00</td>\n",
              "      <td>1309.65</td>\n",
              "      <td>A</td>\n",
              "      <td>L</td>\n",
              "      <td>0.37</td>\n",
              "      <td>NaN</td>\n",
              "    </tr>\n",
              "    <tr>\n",
              "      <th>4</th>\n",
              "      <td>3</td>\n",
              "      <td>194611020DTF</td>\n",
              "      <td>NBA</td>\n",
              "      <td>0</td>\n",
              "      <td>1947</td>\n",
              "      <td>11/2/1946</td>\n",
              "      <td>1</td>\n",
              "      <td>0</td>\n",
              "      <td>DTF</td>\n",
              "      <td>Falcons</td>\n",
              "      <td>33</td>\n",
              "      <td>1300.00</td>\n",
              "      <td>1279.62</td>\n",
              "      <td>38.86</td>\n",
              "      <td>WSC</td>\n",
              "      <td>Capitols</td>\n",
              "      <td>50</td>\n",
              "      <td>1300.00</td>\n",
              "      <td>1320.38</td>\n",
              "      <td>H</td>\n",
              "      <td>L</td>\n",
              "      <td>0.64</td>\n",
              "      <td>NaN</td>\n",
              "    </tr>\n",
              "    <tr>\n",
              "      <th>...</th>\n",
              "      <td>...</td>\n",
              "      <td>...</td>\n",
              "      <td>...</td>\n",
              "      <td>...</td>\n",
              "      <td>...</td>\n",
              "      <td>...</td>\n",
              "      <td>...</td>\n",
              "      <td>...</td>\n",
              "      <td>...</td>\n",
              "      <td>...</td>\n",
              "      <td>...</td>\n",
              "      <td>...</td>\n",
              "      <td>...</td>\n",
              "      <td>...</td>\n",
              "      <td>...</td>\n",
              "      <td>...</td>\n",
              "      <td>...</td>\n",
              "      <td>...</td>\n",
              "      <td>...</td>\n",
              "      <td>...</td>\n",
              "      <td>...</td>\n",
              "      <td>...</td>\n",
              "      <td>...</td>\n",
              "    </tr>\n",
              "    <tr>\n",
              "      <th>126309</th>\n",
              "      <td>63155</td>\n",
              "      <td>201506110CLE</td>\n",
              "      <td>NBA</td>\n",
              "      <td>0</td>\n",
              "      <td>2015</td>\n",
              "      <td>6/11/2015</td>\n",
              "      <td>100</td>\n",
              "      <td>1</td>\n",
              "      <td>CLE</td>\n",
              "      <td>Cavaliers</td>\n",
              "      <td>82</td>\n",
              "      <td>1723.41</td>\n",
              "      <td>1704.39</td>\n",
              "      <td>60.31</td>\n",
              "      <td>GSW</td>\n",
              "      <td>Warriors</td>\n",
              "      <td>103</td>\n",
              "      <td>1790.96</td>\n",
              "      <td>1809.98</td>\n",
              "      <td>H</td>\n",
              "      <td>L</td>\n",
              "      <td>0.55</td>\n",
              "      <td>NaN</td>\n",
              "    </tr>\n",
              "    <tr>\n",
              "      <th>126310</th>\n",
              "      <td>63156</td>\n",
              "      <td>201506140GSW</td>\n",
              "      <td>NBA</td>\n",
              "      <td>0</td>\n",
              "      <td>2015</td>\n",
              "      <td>6/14/2015</td>\n",
              "      <td>102</td>\n",
              "      <td>1</td>\n",
              "      <td>GSW</td>\n",
              "      <td>Warriors</td>\n",
              "      <td>104</td>\n",
              "      <td>1809.98</td>\n",
              "      <td>1813.63</td>\n",
              "      <td>68.01</td>\n",
              "      <td>CLE</td>\n",
              "      <td>Cavaliers</td>\n",
              "      <td>91</td>\n",
              "      <td>1704.39</td>\n",
              "      <td>1700.74</td>\n",
              "      <td>H</td>\n",
              "      <td>W</td>\n",
              "      <td>0.77</td>\n",
              "      <td>NaN</td>\n",
              "    </tr>\n",
              "    <tr>\n",
              "      <th>126311</th>\n",
              "      <td>63156</td>\n",
              "      <td>201506140GSW</td>\n",
              "      <td>NBA</td>\n",
              "      <td>1</td>\n",
              "      <td>2015</td>\n",
              "      <td>6/14/2015</td>\n",
              "      <td>101</td>\n",
              "      <td>1</td>\n",
              "      <td>CLE</td>\n",
              "      <td>Cavaliers</td>\n",
              "      <td>91</td>\n",
              "      <td>1704.39</td>\n",
              "      <td>1700.74</td>\n",
              "      <td>60.01</td>\n",
              "      <td>GSW</td>\n",
              "      <td>Warriors</td>\n",
              "      <td>104</td>\n",
              "      <td>1809.98</td>\n",
              "      <td>1813.63</td>\n",
              "      <td>A</td>\n",
              "      <td>L</td>\n",
              "      <td>0.23</td>\n",
              "      <td>NaN</td>\n",
              "    </tr>\n",
              "    <tr>\n",
              "      <th>126312</th>\n",
              "      <td>63157</td>\n",
              "      <td>201506170CLE</td>\n",
              "      <td>NBA</td>\n",
              "      <td>0</td>\n",
              "      <td>2015</td>\n",
              "      <td>6/16/2015</td>\n",
              "      <td>102</td>\n",
              "      <td>1</td>\n",
              "      <td>CLE</td>\n",
              "      <td>Cavaliers</td>\n",
              "      <td>97</td>\n",
              "      <td>1700.74</td>\n",
              "      <td>1692.09</td>\n",
              "      <td>59.29</td>\n",
              "      <td>GSW</td>\n",
              "      <td>Warriors</td>\n",
              "      <td>105</td>\n",
              "      <td>1813.63</td>\n",
              "      <td>1822.29</td>\n",
              "      <td>H</td>\n",
              "      <td>L</td>\n",
              "      <td>0.48</td>\n",
              "      <td>NaN</td>\n",
              "    </tr>\n",
              "    <tr>\n",
              "      <th>126313</th>\n",
              "      <td>63157</td>\n",
              "      <td>201506170CLE</td>\n",
              "      <td>NBA</td>\n",
              "      <td>1</td>\n",
              "      <td>2015</td>\n",
              "      <td>6/16/2015</td>\n",
              "      <td>103</td>\n",
              "      <td>1</td>\n",
              "      <td>GSW</td>\n",
              "      <td>Warriors</td>\n",
              "      <td>105</td>\n",
              "      <td>1813.63</td>\n",
              "      <td>1822.29</td>\n",
              "      <td>68.52</td>\n",
              "      <td>CLE</td>\n",
              "      <td>Cavaliers</td>\n",
              "      <td>97</td>\n",
              "      <td>1700.74</td>\n",
              "      <td>1692.09</td>\n",
              "      <td>A</td>\n",
              "      <td>W</td>\n",
              "      <td>0.52</td>\n",
              "      <td>NaN</td>\n",
              "    </tr>\n",
              "  </tbody>\n",
              "</table>\n",
              "<p>126314 rows × 23 columns</p>\n",
              "</div>"
            ],
            "text/plain": [
              "        gameorder       game_id lg_id  _iscopy  year_id  date_game  \\\n",
              "0               1  194611010TRH   NBA        0     1947  11/1/1946   \n",
              "1               1  194611010TRH   NBA        1     1947  11/1/1946   \n",
              "2               2  194611020CHS   NBA        0     1947  11/2/1946   \n",
              "3               2  194611020CHS   NBA        1     1947  11/2/1946   \n",
              "4               3  194611020DTF   NBA        0     1947  11/2/1946   \n",
              "...           ...           ...   ...      ...      ...        ...   \n",
              "126309      63155  201506110CLE   NBA        0     2015  6/11/2015   \n",
              "126310      63156  201506140GSW   NBA        0     2015  6/14/2015   \n",
              "126311      63156  201506140GSW   NBA        1     2015  6/14/2015   \n",
              "126312      63157  201506170CLE   NBA        0     2015  6/16/2015   \n",
              "126313      63157  201506170CLE   NBA        1     2015  6/16/2015   \n",
              "\n",
              "        seasongame  is_playoffs team_id    fran_id  pts    elo_i    elo_n  \\\n",
              "0                1            0     TRH    Huskies   66  1300.00  1293.28   \n",
              "1                1            0     NYK     Knicks   68  1300.00  1306.72   \n",
              "2                1            0     CHS      Stags   63  1300.00  1309.65   \n",
              "3                2            0     NYK     Knicks   47  1306.72  1297.07   \n",
              "4                1            0     DTF    Falcons   33  1300.00  1279.62   \n",
              "...            ...          ...     ...        ...  ...      ...      ...   \n",
              "126309         100            1     CLE  Cavaliers   82  1723.41  1704.39   \n",
              "126310         102            1     GSW   Warriors  104  1809.98  1813.63   \n",
              "126311         101            1     CLE  Cavaliers   91  1704.39  1700.74   \n",
              "126312         102            1     CLE  Cavaliers   97  1700.74  1692.09   \n",
              "126313         103            1     GSW   Warriors  105  1813.63  1822.29   \n",
              "\n",
              "        win_equiv opp_id   opp_fran  opp_pts  opp_elo_i  opp_elo_n  \\\n",
              "0           40.29    NYK     Knicks       68    1300.00    1306.72   \n",
              "1           41.71    TRH    Huskies       66    1300.00    1293.28   \n",
              "2           42.01    NYK     Knicks       47    1306.72    1297.07   \n",
              "3           40.69    CHS      Stags       63    1300.00    1309.65   \n",
              "4           38.86    WSC   Capitols       50    1300.00    1320.38   \n",
              "...           ...    ...        ...      ...        ...        ...   \n",
              "126309      60.31    GSW   Warriors      103    1790.96    1809.98   \n",
              "126310      68.01    CLE  Cavaliers       91    1704.39    1700.74   \n",
              "126311      60.01    GSW   Warriors      104    1809.98    1813.63   \n",
              "126312      59.29    GSW   Warriors      105    1813.63    1822.29   \n",
              "126313      68.52    CLE  Cavaliers       97    1700.74    1692.09   \n",
              "\n",
              "       game_location game_result  forecast notes  \n",
              "0                  H           L      0.64   NaN  \n",
              "1                  A           W      0.36   NaN  \n",
              "2                  H           W      0.63   NaN  \n",
              "3                  A           L      0.37   NaN  \n",
              "4                  H           L      0.64   NaN  \n",
              "...              ...         ...       ...   ...  \n",
              "126309             H           L      0.55   NaN  \n",
              "126310             H           W      0.77   NaN  \n",
              "126311             A           L      0.23   NaN  \n",
              "126312             H           L      0.48   NaN  \n",
              "126313             A           W      0.52   NaN  \n",
              "\n",
              "[126314 rows x 23 columns]"
            ]
          },
          "execution_count": 127,
          "metadata": {},
          "output_type": "execute_result"
        }
      ]
    },
    {
      "cell_type": "code",
      "metadata": {
        "id": "AsBm-DVRxmcI"
      },
      "source": [
        "nba = df.copy()"
      ],
      "execution_count": null,
      "outputs": []
    },
    {
      "cell_type": "code",
      "metadata": {
        "id": "nMjWaroMxmcI",
        "outputId": "8535bb5e-c8ca-4d33-fc5c-0181d7198bc3"
      },
      "source": [
        "nba.shape"
      ],
      "execution_count": null,
      "outputs": [
        {
          "data": {
            "text/plain": [
              "(126314, 23)"
            ]
          },
          "execution_count": 84,
          "metadata": {},
          "output_type": "execute_result"
        }
      ]
    },
    {
      "cell_type": "markdown",
      "metadata": {
        "id": "y5nsZqdfxmcI"
      },
      "source": [
        "You can define new columns based on the existing ones:"
      ]
    },
    {
      "cell_type": "code",
      "metadata": {
        "id": "_quwJiaZxmcI"
      },
      "source": [
        "nba[\"difference\"] = df.pts - df.opp_pts"
      ],
      "execution_count": null,
      "outputs": []
    },
    {
      "cell_type": "code",
      "metadata": {
        "id": "65vy5xx4xmcJ",
        "outputId": "d635aa36-7199-42c8-ff78-853b2ede06db"
      },
      "source": [
        "nba"
      ],
      "execution_count": null,
      "outputs": [
        {
          "data": {
            "text/html": [
              "<div>\n",
              "<style scoped>\n",
              "    .dataframe tbody tr th:only-of-type {\n",
              "        vertical-align: middle;\n",
              "    }\n",
              "\n",
              "    .dataframe tbody tr th {\n",
              "        vertical-align: top;\n",
              "    }\n",
              "\n",
              "    .dataframe thead th {\n",
              "        text-align: right;\n",
              "    }\n",
              "</style>\n",
              "<table border=\"1\" class=\"dataframe\">\n",
              "  <thead>\n",
              "    <tr style=\"text-align: right;\">\n",
              "      <th></th>\n",
              "      <th>gameorder</th>\n",
              "      <th>game_id</th>\n",
              "      <th>lg_id</th>\n",
              "      <th>_iscopy</th>\n",
              "      <th>year_id</th>\n",
              "      <th>date_game</th>\n",
              "      <th>seasongame</th>\n",
              "      <th>is_playoffs</th>\n",
              "      <th>team_id</th>\n",
              "      <th>fran_id</th>\n",
              "      <th>pts</th>\n",
              "      <th>win_equiv</th>\n",
              "      <th>opp_id</th>\n",
              "      <th>opp_fran</th>\n",
              "      <th>opp_pts</th>\n",
              "      <th>game_location</th>\n",
              "      <th>game_result</th>\n",
              "      <th>forecast</th>\n",
              "      <th>notes</th>\n",
              "      <th>difference</th>\n",
              "    </tr>\n",
              "  </thead>\n",
              "  <tbody>\n",
              "    <tr>\n",
              "      <th>0</th>\n",
              "      <td>1</td>\n",
              "      <td>194611010TRH</td>\n",
              "      <td>NBA</td>\n",
              "      <td>0</td>\n",
              "      <td>1947</td>\n",
              "      <td>1946-11-01</td>\n",
              "      <td>1</td>\n",
              "      <td>0</td>\n",
              "      <td>TRH</td>\n",
              "      <td>Huskies</td>\n",
              "      <td>66</td>\n",
              "      <td>40.29</td>\n",
              "      <td>NYK</td>\n",
              "      <td>Knicks</td>\n",
              "      <td>68</td>\n",
              "      <td>H</td>\n",
              "      <td>L</td>\n",
              "      <td>0.64</td>\n",
              "      <td>NaN</td>\n",
              "      <td>-2</td>\n",
              "    </tr>\n",
              "    <tr>\n",
              "      <th>1</th>\n",
              "      <td>1</td>\n",
              "      <td>194611010TRH</td>\n",
              "      <td>NBA</td>\n",
              "      <td>1</td>\n",
              "      <td>1947</td>\n",
              "      <td>1946-11-01</td>\n",
              "      <td>1</td>\n",
              "      <td>0</td>\n",
              "      <td>NYK</td>\n",
              "      <td>Knicks</td>\n",
              "      <td>68</td>\n",
              "      <td>41.71</td>\n",
              "      <td>TRH</td>\n",
              "      <td>Huskies</td>\n",
              "      <td>66</td>\n",
              "      <td>A</td>\n",
              "      <td>W</td>\n",
              "      <td>0.36</td>\n",
              "      <td>NaN</td>\n",
              "      <td>2</td>\n",
              "    </tr>\n",
              "    <tr>\n",
              "      <th>2</th>\n",
              "      <td>2</td>\n",
              "      <td>194611020CHS</td>\n",
              "      <td>NBA</td>\n",
              "      <td>0</td>\n",
              "      <td>1947</td>\n",
              "      <td>1946-11-02</td>\n",
              "      <td>1</td>\n",
              "      <td>0</td>\n",
              "      <td>CHS</td>\n",
              "      <td>Stags</td>\n",
              "      <td>63</td>\n",
              "      <td>42.01</td>\n",
              "      <td>NYK</td>\n",
              "      <td>Knicks</td>\n",
              "      <td>47</td>\n",
              "      <td>H</td>\n",
              "      <td>W</td>\n",
              "      <td>0.63</td>\n",
              "      <td>NaN</td>\n",
              "      <td>16</td>\n",
              "    </tr>\n",
              "    <tr>\n",
              "      <th>3</th>\n",
              "      <td>2</td>\n",
              "      <td>194611020CHS</td>\n",
              "      <td>NBA</td>\n",
              "      <td>1</td>\n",
              "      <td>1947</td>\n",
              "      <td>1946-11-02</td>\n",
              "      <td>2</td>\n",
              "      <td>0</td>\n",
              "      <td>NYK</td>\n",
              "      <td>Knicks</td>\n",
              "      <td>47</td>\n",
              "      <td>40.69</td>\n",
              "      <td>CHS</td>\n",
              "      <td>Stags</td>\n",
              "      <td>63</td>\n",
              "      <td>A</td>\n",
              "      <td>L</td>\n",
              "      <td>0.37</td>\n",
              "      <td>NaN</td>\n",
              "      <td>-16</td>\n",
              "    </tr>\n",
              "    <tr>\n",
              "      <th>4</th>\n",
              "      <td>3</td>\n",
              "      <td>194611020DTF</td>\n",
              "      <td>NBA</td>\n",
              "      <td>0</td>\n",
              "      <td>1947</td>\n",
              "      <td>1946-11-02</td>\n",
              "      <td>1</td>\n",
              "      <td>0</td>\n",
              "      <td>DTF</td>\n",
              "      <td>Falcons</td>\n",
              "      <td>33</td>\n",
              "      <td>38.86</td>\n",
              "      <td>WSC</td>\n",
              "      <td>Capitols</td>\n",
              "      <td>50</td>\n",
              "      <td>H</td>\n",
              "      <td>L</td>\n",
              "      <td>0.64</td>\n",
              "      <td>NaN</td>\n",
              "      <td>-17</td>\n",
              "    </tr>\n",
              "    <tr>\n",
              "      <th>...</th>\n",
              "      <td>...</td>\n",
              "      <td>...</td>\n",
              "      <td>...</td>\n",
              "      <td>...</td>\n",
              "      <td>...</td>\n",
              "      <td>...</td>\n",
              "      <td>...</td>\n",
              "      <td>...</td>\n",
              "      <td>...</td>\n",
              "      <td>...</td>\n",
              "      <td>...</td>\n",
              "      <td>...</td>\n",
              "      <td>...</td>\n",
              "      <td>...</td>\n",
              "      <td>...</td>\n",
              "      <td>...</td>\n",
              "      <td>...</td>\n",
              "      <td>...</td>\n",
              "      <td>...</td>\n",
              "      <td>...</td>\n",
              "    </tr>\n",
              "    <tr>\n",
              "      <th>126309</th>\n",
              "      <td>63155</td>\n",
              "      <td>201506110CLE</td>\n",
              "      <td>NBA</td>\n",
              "      <td>0</td>\n",
              "      <td>2015</td>\n",
              "      <td>2015-06-11</td>\n",
              "      <td>100</td>\n",
              "      <td>1</td>\n",
              "      <td>CLE</td>\n",
              "      <td>Cavaliers</td>\n",
              "      <td>82</td>\n",
              "      <td>60.31</td>\n",
              "      <td>GSW</td>\n",
              "      <td>Warriors</td>\n",
              "      <td>103</td>\n",
              "      <td>H</td>\n",
              "      <td>L</td>\n",
              "      <td>0.55</td>\n",
              "      <td>NaN</td>\n",
              "      <td>-21</td>\n",
              "    </tr>\n",
              "    <tr>\n",
              "      <th>126310</th>\n",
              "      <td>63156</td>\n",
              "      <td>201506140GSW</td>\n",
              "      <td>NBA</td>\n",
              "      <td>0</td>\n",
              "      <td>2015</td>\n",
              "      <td>2015-06-14</td>\n",
              "      <td>102</td>\n",
              "      <td>1</td>\n",
              "      <td>GSW</td>\n",
              "      <td>Warriors</td>\n",
              "      <td>104</td>\n",
              "      <td>68.01</td>\n",
              "      <td>CLE</td>\n",
              "      <td>Cavaliers</td>\n",
              "      <td>91</td>\n",
              "      <td>H</td>\n",
              "      <td>W</td>\n",
              "      <td>0.77</td>\n",
              "      <td>NaN</td>\n",
              "      <td>13</td>\n",
              "    </tr>\n",
              "    <tr>\n",
              "      <th>126311</th>\n",
              "      <td>63156</td>\n",
              "      <td>201506140GSW</td>\n",
              "      <td>NBA</td>\n",
              "      <td>1</td>\n",
              "      <td>2015</td>\n",
              "      <td>2015-06-14</td>\n",
              "      <td>101</td>\n",
              "      <td>1</td>\n",
              "      <td>CLE</td>\n",
              "      <td>Cavaliers</td>\n",
              "      <td>91</td>\n",
              "      <td>60.01</td>\n",
              "      <td>GSW</td>\n",
              "      <td>Warriors</td>\n",
              "      <td>104</td>\n",
              "      <td>A</td>\n",
              "      <td>L</td>\n",
              "      <td>0.23</td>\n",
              "      <td>NaN</td>\n",
              "      <td>-13</td>\n",
              "    </tr>\n",
              "    <tr>\n",
              "      <th>126312</th>\n",
              "      <td>63157</td>\n",
              "      <td>201506170CLE</td>\n",
              "      <td>NBA</td>\n",
              "      <td>0</td>\n",
              "      <td>2015</td>\n",
              "      <td>2015-06-16</td>\n",
              "      <td>102</td>\n",
              "      <td>1</td>\n",
              "      <td>CLE</td>\n",
              "      <td>Cavaliers</td>\n",
              "      <td>97</td>\n",
              "      <td>59.29</td>\n",
              "      <td>GSW</td>\n",
              "      <td>Warriors</td>\n",
              "      <td>105</td>\n",
              "      <td>H</td>\n",
              "      <td>L</td>\n",
              "      <td>0.48</td>\n",
              "      <td>NaN</td>\n",
              "      <td>-8</td>\n",
              "    </tr>\n",
              "    <tr>\n",
              "      <th>126313</th>\n",
              "      <td>63157</td>\n",
              "      <td>201506170CLE</td>\n",
              "      <td>NBA</td>\n",
              "      <td>1</td>\n",
              "      <td>2015</td>\n",
              "      <td>2015-06-16</td>\n",
              "      <td>103</td>\n",
              "      <td>1</td>\n",
              "      <td>GSW</td>\n",
              "      <td>Warriors</td>\n",
              "      <td>105</td>\n",
              "      <td>68.52</td>\n",
              "      <td>CLE</td>\n",
              "      <td>Cavaliers</td>\n",
              "      <td>97</td>\n",
              "      <td>A</td>\n",
              "      <td>W</td>\n",
              "      <td>0.52</td>\n",
              "      <td>NaN</td>\n",
              "      <td>8</td>\n",
              "    </tr>\n",
              "  </tbody>\n",
              "</table>\n",
              "<p>126314 rows × 20 columns</p>\n",
              "</div>"
            ],
            "text/plain": [
              "        gameorder       game_id lg_id  _iscopy  year_id  date_game  \\\n",
              "0               1  194611010TRH   NBA        0     1947 1946-11-01   \n",
              "1               1  194611010TRH   NBA        1     1947 1946-11-01   \n",
              "2               2  194611020CHS   NBA        0     1947 1946-11-02   \n",
              "3               2  194611020CHS   NBA        1     1947 1946-11-02   \n",
              "4               3  194611020DTF   NBA        0     1947 1946-11-02   \n",
              "...           ...           ...   ...      ...      ...        ...   \n",
              "126309      63155  201506110CLE   NBA        0     2015 2015-06-11   \n",
              "126310      63156  201506140GSW   NBA        0     2015 2015-06-14   \n",
              "126311      63156  201506140GSW   NBA        1     2015 2015-06-14   \n",
              "126312      63157  201506170CLE   NBA        0     2015 2015-06-16   \n",
              "126313      63157  201506170CLE   NBA        1     2015 2015-06-16   \n",
              "\n",
              "        seasongame  is_playoffs team_id    fran_id  pts  win_equiv opp_id  \\\n",
              "0                1            0     TRH    Huskies   66      40.29    NYK   \n",
              "1                1            0     NYK     Knicks   68      41.71    TRH   \n",
              "2                1            0     CHS      Stags   63      42.01    NYK   \n",
              "3                2            0     NYK     Knicks   47      40.69    CHS   \n",
              "4                1            0     DTF    Falcons   33      38.86    WSC   \n",
              "...            ...          ...     ...        ...  ...        ...    ...   \n",
              "126309         100            1     CLE  Cavaliers   82      60.31    GSW   \n",
              "126310         102            1     GSW   Warriors  104      68.01    CLE   \n",
              "126311         101            1     CLE  Cavaliers   91      60.01    GSW   \n",
              "126312         102            1     CLE  Cavaliers   97      59.29    GSW   \n",
              "126313         103            1     GSW   Warriors  105      68.52    CLE   \n",
              "\n",
              "         opp_fran  opp_pts game_location game_result  forecast notes  \\\n",
              "0          Knicks       68             H           L      0.64   NaN   \n",
              "1         Huskies       66             A           W      0.36   NaN   \n",
              "2          Knicks       47             H           W      0.63   NaN   \n",
              "3           Stags       63             A           L      0.37   NaN   \n",
              "4        Capitols       50             H           L      0.64   NaN   \n",
              "...           ...      ...           ...         ...       ...   ...   \n",
              "126309   Warriors      103             H           L      0.55   NaN   \n",
              "126310  Cavaliers       91             H           W      0.77   NaN   \n",
              "126311   Warriors      104             A           L      0.23   NaN   \n",
              "126312   Warriors      105             H           L      0.48   NaN   \n",
              "126313  Cavaliers       97             A           W      0.52   NaN   \n",
              "\n",
              "        difference  \n",
              "0               -2  \n",
              "1                2  \n",
              "2               16  \n",
              "3              -16  \n",
              "4              -17  \n",
              "...            ...  \n",
              "126309         -21  \n",
              "126310          13  \n",
              "126311         -13  \n",
              "126312          -8  \n",
              "126313           8  \n",
              "\n",
              "[126314 rows x 20 columns]"
            ]
          },
          "execution_count": 128,
          "metadata": {},
          "output_type": "execute_result"
        }
      ]
    },
    {
      "cell_type": "code",
      "metadata": {
        "id": "3dMkIxoPxmcJ",
        "outputId": "b9f2d10e-3ef0-4c26-84e5-25dbe5f6b274"
      },
      "source": [
        "nba.shape"
      ],
      "execution_count": null,
      "outputs": [
        {
          "data": {
            "text/plain": [
              "(126314, 24)"
            ]
          },
          "execution_count": 86,
          "metadata": {},
          "output_type": "execute_result"
        }
      ]
    },
    {
      "cell_type": "markdown",
      "metadata": {
        "id": "KkaIc734xmcJ"
      },
      "source": [
        "Here, you used the `\"pts\"` and `\"opp_pts\"` columns to create a new one called `\"difference\"`. This new column has the same functions as the old ones:"
      ]
    },
    {
      "cell_type": "code",
      "metadata": {
        "id": "TUUVV9fSxmcJ",
        "outputId": "866ad32e-e9c7-4a87-8dbd-023b35b6ddf7"
      },
      "source": [
        "nba[\"difference\"].max()"
      ],
      "execution_count": null,
      "outputs": [
        {
          "data": {
            "text/plain": [
              "68"
            ]
          },
          "execution_count": 87,
          "metadata": {},
          "output_type": "execute_result"
        }
      ]
    },
    {
      "cell_type": "markdown",
      "metadata": {
        "id": "R5RI9xQNxmcJ"
      },
      "source": [
        "Here, you used an aggregation function `.max()` to find the largest value of your new column.\n",
        "\n",
        "You can also rename the columns of your dataset. It seems that `\"game_result\"` and `\"game_location\"` are too verbose, so go ahead and rename them now:"
      ]
    },
    {
      "cell_type": "code",
      "metadata": {
        "id": "BP8xa-8vxmcK",
        "outputId": "f50daa1a-b862-454f-8b2b-fa65329b19d9"
      },
      "source": [
        "renamed_nba = nba.rename(\n",
        "    columns={\"game_result\": \"result\", \"game_location\": \"location\"}\n",
        ")\n",
        "\n",
        "renamed_nba.head()"
      ],
      "execution_count": null,
      "outputs": [
        {
          "data": {
            "text/html": [
              "<div>\n",
              "<style scoped>\n",
              "    .dataframe tbody tr th:only-of-type {\n",
              "        vertical-align: middle;\n",
              "    }\n",
              "\n",
              "    .dataframe tbody tr th {\n",
              "        vertical-align: top;\n",
              "    }\n",
              "\n",
              "    .dataframe thead th {\n",
              "        text-align: right;\n",
              "    }\n",
              "</style>\n",
              "<table border=\"1\" class=\"dataframe\">\n",
              "  <thead>\n",
              "    <tr style=\"text-align: right;\">\n",
              "      <th></th>\n",
              "      <th>gameorder</th>\n",
              "      <th>game_id</th>\n",
              "      <th>lg_id</th>\n",
              "      <th>_iscopy</th>\n",
              "      <th>year_id</th>\n",
              "      <th>date_game</th>\n",
              "      <th>seasongame</th>\n",
              "      <th>is_playoffs</th>\n",
              "      <th>team_id</th>\n",
              "      <th>fran_id</th>\n",
              "      <th>pts</th>\n",
              "      <th>win_equiv</th>\n",
              "      <th>opp_id</th>\n",
              "      <th>opp_fran</th>\n",
              "      <th>opp_pts</th>\n",
              "      <th>location</th>\n",
              "      <th>result</th>\n",
              "      <th>forecast</th>\n",
              "      <th>notes</th>\n",
              "      <th>difference</th>\n",
              "    </tr>\n",
              "  </thead>\n",
              "  <tbody>\n",
              "    <tr>\n",
              "      <th>0</th>\n",
              "      <td>1</td>\n",
              "      <td>194611010TRH</td>\n",
              "      <td>NBA</td>\n",
              "      <td>0</td>\n",
              "      <td>1947</td>\n",
              "      <td>1946-11-01</td>\n",
              "      <td>1</td>\n",
              "      <td>0</td>\n",
              "      <td>TRH</td>\n",
              "      <td>Huskies</td>\n",
              "      <td>66</td>\n",
              "      <td>40.29</td>\n",
              "      <td>NYK</td>\n",
              "      <td>Knicks</td>\n",
              "      <td>68</td>\n",
              "      <td>H</td>\n",
              "      <td>L</td>\n",
              "      <td>0.64</td>\n",
              "      <td>NaN</td>\n",
              "      <td>-2</td>\n",
              "    </tr>\n",
              "    <tr>\n",
              "      <th>1</th>\n",
              "      <td>1</td>\n",
              "      <td>194611010TRH</td>\n",
              "      <td>NBA</td>\n",
              "      <td>1</td>\n",
              "      <td>1947</td>\n",
              "      <td>1946-11-01</td>\n",
              "      <td>1</td>\n",
              "      <td>0</td>\n",
              "      <td>NYK</td>\n",
              "      <td>Knicks</td>\n",
              "      <td>68</td>\n",
              "      <td>41.71</td>\n",
              "      <td>TRH</td>\n",
              "      <td>Huskies</td>\n",
              "      <td>66</td>\n",
              "      <td>A</td>\n",
              "      <td>W</td>\n",
              "      <td>0.36</td>\n",
              "      <td>NaN</td>\n",
              "      <td>2</td>\n",
              "    </tr>\n",
              "    <tr>\n",
              "      <th>2</th>\n",
              "      <td>2</td>\n",
              "      <td>194611020CHS</td>\n",
              "      <td>NBA</td>\n",
              "      <td>0</td>\n",
              "      <td>1947</td>\n",
              "      <td>1946-11-02</td>\n",
              "      <td>1</td>\n",
              "      <td>0</td>\n",
              "      <td>CHS</td>\n",
              "      <td>Stags</td>\n",
              "      <td>63</td>\n",
              "      <td>42.01</td>\n",
              "      <td>NYK</td>\n",
              "      <td>Knicks</td>\n",
              "      <td>47</td>\n",
              "      <td>H</td>\n",
              "      <td>W</td>\n",
              "      <td>0.63</td>\n",
              "      <td>NaN</td>\n",
              "      <td>16</td>\n",
              "    </tr>\n",
              "    <tr>\n",
              "      <th>3</th>\n",
              "      <td>2</td>\n",
              "      <td>194611020CHS</td>\n",
              "      <td>NBA</td>\n",
              "      <td>1</td>\n",
              "      <td>1947</td>\n",
              "      <td>1946-11-02</td>\n",
              "      <td>2</td>\n",
              "      <td>0</td>\n",
              "      <td>NYK</td>\n",
              "      <td>Knicks</td>\n",
              "      <td>47</td>\n",
              "      <td>40.69</td>\n",
              "      <td>CHS</td>\n",
              "      <td>Stags</td>\n",
              "      <td>63</td>\n",
              "      <td>A</td>\n",
              "      <td>L</td>\n",
              "      <td>0.37</td>\n",
              "      <td>NaN</td>\n",
              "      <td>-16</td>\n",
              "    </tr>\n",
              "    <tr>\n",
              "      <th>4</th>\n",
              "      <td>3</td>\n",
              "      <td>194611020DTF</td>\n",
              "      <td>NBA</td>\n",
              "      <td>0</td>\n",
              "      <td>1947</td>\n",
              "      <td>1946-11-02</td>\n",
              "      <td>1</td>\n",
              "      <td>0</td>\n",
              "      <td>DTF</td>\n",
              "      <td>Falcons</td>\n",
              "      <td>33</td>\n",
              "      <td>38.86</td>\n",
              "      <td>WSC</td>\n",
              "      <td>Capitols</td>\n",
              "      <td>50</td>\n",
              "      <td>H</td>\n",
              "      <td>L</td>\n",
              "      <td>0.64</td>\n",
              "      <td>NaN</td>\n",
              "      <td>-17</td>\n",
              "    </tr>\n",
              "  </tbody>\n",
              "</table>\n",
              "</div>"
            ],
            "text/plain": [
              "   gameorder       game_id lg_id  _iscopy  year_id  date_game  seasongame  \\\n",
              "0          1  194611010TRH   NBA        0     1947 1946-11-01           1   \n",
              "1          1  194611010TRH   NBA        1     1947 1946-11-01           1   \n",
              "2          2  194611020CHS   NBA        0     1947 1946-11-02           1   \n",
              "3          2  194611020CHS   NBA        1     1947 1946-11-02           2   \n",
              "4          3  194611020DTF   NBA        0     1947 1946-11-02           1   \n",
              "\n",
              "   is_playoffs team_id  fran_id  pts  win_equiv opp_id  opp_fran  opp_pts  \\\n",
              "0            0     TRH  Huskies   66      40.29    NYK    Knicks       68   \n",
              "1            0     NYK   Knicks   68      41.71    TRH   Huskies       66   \n",
              "2            0     CHS    Stags   63      42.01    NYK    Knicks       47   \n",
              "3            0     NYK   Knicks   47      40.69    CHS     Stags       63   \n",
              "4            0     DTF  Falcons   33      38.86    WSC  Capitols       50   \n",
              "\n",
              "  location result  forecast notes  difference  \n",
              "0        H      L      0.64   NaN          -2  \n",
              "1        A      W      0.36   NaN           2  \n",
              "2        H      W      0.63   NaN          16  \n",
              "3        A      L      0.37   NaN         -16  \n",
              "4        H      L      0.64   NaN         -17  "
            ]
          },
          "execution_count": 129,
          "metadata": {},
          "output_type": "execute_result"
        }
      ]
    },
    {
      "cell_type": "markdown",
      "metadata": {
        "id": "HBdZPoGAxmcK"
      },
      "source": [
        "Note that there’s a new object, `renamed_nba`. Like several other data manipulation methods, `.rename()` returns a new DataFrame by default. If you want to manipulate the original DataFrame directly, then `.rename()` also provides an inplace parameter that you can set to `True`.\n",
        "\n",
        "Your dataset might contain columns that you don’t need. For example, Elo ratings may be a fascinating concept to some, but you won’t analyze them in this tutorial. You can delete the four columns related to Elo:"
      ]
    },
    {
      "cell_type": "code",
      "metadata": {
        "id": "YAcO0iFvxmcK",
        "outputId": "f3f6f2ac-5eab-40fc-fa15-ebc6ad60886f"
      },
      "source": [
        "nba.shape"
      ],
      "execution_count": null,
      "outputs": [
        {
          "data": {
            "text/plain": [
              "(126314, 24)"
            ]
          },
          "execution_count": 89,
          "metadata": {},
          "output_type": "execute_result"
        }
      ]
    },
    {
      "cell_type": "code",
      "metadata": {
        "id": "pRUfXRSYxmcK"
      },
      "source": [
        "elo_columns = [\"elo_i\", \"elo_n\", \"opp_elo_i\", \"opp_elo_n\"]"
      ],
      "execution_count": null,
      "outputs": []
    },
    {
      "cell_type": "code",
      "metadata": {
        "id": "-38aXdpVxmcL"
      },
      "source": [
        "nba.drop(elo_columns, inplace=True, axis=1)"
      ],
      "execution_count": null,
      "outputs": []
    },
    {
      "cell_type": "code",
      "metadata": {
        "id": "zCYH_fEExmcL",
        "outputId": "ba461328-0398-4258-8e82-9b0b43af8497"
      },
      "source": [
        "nba.shape"
      ],
      "execution_count": null,
      "outputs": [
        {
          "data": {
            "text/plain": [
              "(126314, 20)"
            ]
          },
          "execution_count": 92,
          "metadata": {},
          "output_type": "execute_result"
        }
      ]
    },
    {
      "cell_type": "markdown",
      "metadata": {
        "id": "G8j6BXUExmcL"
      },
      "source": [
        "Remember, you added the new column `\"difference\"` in a previous example, bringing the total number of columns to 24. When you remove the four Elo columns, the total number of columns drops to 20."
      ]
    },
    {
      "cell_type": "markdown",
      "metadata": {
        "id": "O_AKcOk3xmcL"
      },
      "source": [
        "## Specifying Data Types\n",
        "\n",
        "When you create a new DataFrame, either by calling a constructor or reading a CSV file, Pandas assigns a data type to each column based on its values. While it does a pretty good job, it’s not perfect. If you choose the right data type for your columns upfront, then you can significantly improve your code’s performance.\n",
        "\n",
        "Take another look at the columns of the nba dataset:"
      ]
    },
    {
      "cell_type": "code",
      "metadata": {
        "id": "hXv4Dj5_xmcL",
        "outputId": "680d3c88-07f8-4ec8-bd1b-64f88cf2e50c"
      },
      "source": [
        "nba.info()"
      ],
      "execution_count": null,
      "outputs": [
        {
          "name": "stdout",
          "output_type": "stream",
          "text": [
            "<class 'pandas.core.frame.DataFrame'>\n",
            "RangeIndex: 126314 entries, 0 to 126313\n",
            "Data columns (total 20 columns):\n",
            " #   Column         Non-Null Count   Dtype  \n",
            "---  ------         --------------   -----  \n",
            " 0   gameorder      126314 non-null  int64  \n",
            " 1   game_id        126314 non-null  object \n",
            " 2   lg_id          126314 non-null  object \n",
            " 3   _iscopy        126314 non-null  int64  \n",
            " 4   year_id        126314 non-null  int64  \n",
            " 5   date_game      126314 non-null  object \n",
            " 6   seasongame     126314 non-null  int64  \n",
            " 7   is_playoffs    126314 non-null  int64  \n",
            " 8   team_id        126314 non-null  object \n",
            " 9   fran_id        126314 non-null  object \n",
            " 10  pts            126314 non-null  int64  \n",
            " 11  win_equiv      126314 non-null  float64\n",
            " 12  opp_id         126314 non-null  object \n",
            " 13  opp_fran       126314 non-null  object \n",
            " 14  opp_pts        126314 non-null  int64  \n",
            " 15  game_location  126314 non-null  object \n",
            " 16  game_result    126314 non-null  object \n",
            " 17  forecast       126314 non-null  float64\n",
            " 18  notes          5424 non-null    object \n",
            " 19  difference     126314 non-null  int64  \n",
            "dtypes: float64(2), int64(8), object(10)\n",
            "memory usage: 19.3+ MB\n"
          ]
        }
      ]
    },
    {
      "cell_type": "markdown",
      "metadata": {
        "id": "GPdPzErnxmcM"
      },
      "source": [
        "Ten of your columns have the data type object. Most of these object columns contain arbitrary text, but there are also some candidates for data type conversion. For example, take a look at the `date_game` column:"
      ]
    },
    {
      "cell_type": "code",
      "metadata": {
        "id": "F36juQ_4xmcM"
      },
      "source": [
        "nba[\"date_game\"] = pd.to_datetime(nba[\"date_game\"])"
      ],
      "execution_count": null,
      "outputs": []
    },
    {
      "cell_type": "markdown",
      "metadata": {
        "id": "8gX04X-exmcM"
      },
      "source": [
        "Here, you use `.to_datetime()` to specify all game dates as datetime objects.\n",
        "\n",
        "Other columns contain text that are a bit more structured. The game_location column can have only three different values:"
      ]
    },
    {
      "cell_type": "code",
      "metadata": {
        "id": "UCtSTTLnxmcM",
        "outputId": "be25cf63-ba34-4134-e4da-225730db37a9"
      },
      "source": [
        "nba[\"game_location\"].nunique()"
      ],
      "execution_count": null,
      "outputs": [
        {
          "data": {
            "text/plain": [
              "3"
            ]
          },
          "execution_count": 95,
          "metadata": {},
          "output_type": "execute_result"
        }
      ]
    },
    {
      "cell_type": "code",
      "metadata": {
        "id": "xSYzwCaKxmcM",
        "outputId": "b05e26f2-ecde-4829-8718-0b5519ef8812"
      },
      "source": [
        "nba[\"game_location\"].value_counts()"
      ],
      "execution_count": null,
      "outputs": [
        {
          "data": {
            "text/plain": [
              "A    63138\n",
              "H    63138\n",
              "N       38\n",
              "Name: game_location, dtype: int64"
            ]
          },
          "execution_count": 96,
          "metadata": {},
          "output_type": "execute_result"
        }
      ]
    },
    {
      "cell_type": "markdown",
      "metadata": {
        "id": "iiq5xWRcxmcM"
      },
      "source": [
        "Which data type would you use in a relational database for such a column? You would probably not use a varchar type, but rather an enum. Pandas provides the categorical data type for the same purpose:"
      ]
    },
    {
      "cell_type": "code",
      "metadata": {
        "id": "GgURHYkzxmcM"
      },
      "source": [
        "nba[\"game_location\"] = pd.Categorical(nba[\"game_location\"])"
      ],
      "execution_count": null,
      "outputs": []
    },
    {
      "cell_type": "code",
      "metadata": {
        "id": "fA8oz7hFxmcN",
        "outputId": "655e8f65-0c93-4fb0-849f-68a9bb503672"
      },
      "source": [
        "nba[\"game_location\"].dtype"
      ],
      "execution_count": null,
      "outputs": [
        {
          "data": {
            "text/plain": [
              "CategoricalDtype(categories=['A', 'H', 'N'], ordered=False)"
            ]
          },
          "execution_count": 98,
          "metadata": {},
          "output_type": "execute_result"
        }
      ]
    },
    {
      "cell_type": "markdown",
      "metadata": {
        "id": "ti2JFxFvxmcN"
      },
      "source": [
        "categorical data has a few advantages over unstructured text. When you specify the categorical data type, you make validation easier and save a ton of memory, as Pandas will only use the unique values internally. The higher the ratio of total values to unique values, the more space savings you’ll get.\n",
        "\n",
        "Run` df.info()` again. You should see that changing the game_location data type from object to categorical has decreased the memory usage."
      ]
    },
    {
      "cell_type": "code",
      "metadata": {
        "id": "y5U4-Cgxz2cO"
      },
      "source": [
        "df.info()"
      ],
      "execution_count": null,
      "outputs": []
    },
    {
      "cell_type": "markdown",
      "metadata": {
        "id": "-0-JRqUWxmcN"
      },
      "source": [
        "## Missing Values\n",
        "\n",
        "Have you ever wondered why `.info()` shows how many non-null values a column contains? The reason why is that this is vital information. Null values often indicate a problem in the data-gathering process. They can make several analysis techniques, like different types of machine learning, difficult or even impossible.\n",
        "\n",
        "When you inspect the nba dataset with `nba.info()`, you’ll see that it’s quite neat. Only the column notes contains null values for the majority of its rows:"
      ]
    },
    {
      "cell_type": "code",
      "metadata": {
        "id": "cRgJeVp2xmcN",
        "outputId": "ddbac2d7-089e-437c-e9c5-d7167b2648c0"
      },
      "source": [
        "nba.info()"
      ],
      "execution_count": null,
      "outputs": [
        {
          "name": "stdout",
          "output_type": "stream",
          "text": [
            "<class 'pandas.core.frame.DataFrame'>\n",
            "RangeIndex: 126314 entries, 0 to 126313\n",
            "Data columns (total 20 columns):\n",
            " #   Column         Non-Null Count   Dtype         \n",
            "---  ------         --------------   -----         \n",
            " 0   gameorder      126314 non-null  int64         \n",
            " 1   game_id        126314 non-null  object        \n",
            " 2   lg_id          126314 non-null  object        \n",
            " 3   _iscopy        126314 non-null  int64         \n",
            " 4   year_id        126314 non-null  int64         \n",
            " 5   date_game      126314 non-null  datetime64[ns]\n",
            " 6   seasongame     126314 non-null  int64         \n",
            " 7   is_playoffs    126314 non-null  int64         \n",
            " 8   team_id        126314 non-null  object        \n",
            " 9   fran_id        126314 non-null  object        \n",
            " 10  pts            126314 non-null  int64         \n",
            " 11  win_equiv      126314 non-null  float64       \n",
            " 12  opp_id         126314 non-null  object        \n",
            " 13  opp_fran       126314 non-null  object        \n",
            " 14  opp_pts        126314 non-null  int64         \n",
            " 15  game_location  126314 non-null  category      \n",
            " 16  game_result    126314 non-null  object        \n",
            " 17  forecast       126314 non-null  float64       \n",
            " 18  notes          5424 non-null    object        \n",
            " 19  difference     126314 non-null  int64         \n",
            "dtypes: category(1), datetime64[ns](1), float64(2), int64(8), object(8)\n",
            "memory usage: 18.4+ MB\n"
          ]
        }
      ]
    },
    {
      "cell_type": "markdown",
      "metadata": {
        "id": "P17M5tvVxmcP"
      },
      "source": [
        "This output shows that the notes column has only 5424 non-null values. That means that over 120,000 rows of your dataset have null values in this column.\n",
        "\n",
        "Sometimes, the easiest way to deal with records containing missing values is to ignore them. You can remove all the rows with missing values using `.dropna()`:"
      ]
    },
    {
      "cell_type": "code",
      "metadata": {
        "id": "Yigv5aUGxmcP"
      },
      "source": [
        "rows_without_missing_data = nba.dropna()"
      ],
      "execution_count": null,
      "outputs": []
    },
    {
      "cell_type": "code",
      "metadata": {
        "id": "BMfmO6pVxmcP",
        "outputId": "d0da0070-852c-4d07-8541-566c4c1aa5a2"
      },
      "source": [
        "rows_without_missing_data.shape"
      ],
      "execution_count": null,
      "outputs": [
        {
          "data": {
            "text/plain": [
              "(5424, 20)"
            ]
          },
          "execution_count": 101,
          "metadata": {},
          "output_type": "execute_result"
        }
      ]
    },
    {
      "cell_type": "markdown",
      "metadata": {
        "id": "0yMV7ZWLxmcP"
      },
      "source": [
        "Of course, this kind of data cleanup doesn’t make sense for your nba dataset, because it’s not a problem for a game to lack notes. But if your dataset contains a million valid records and a hundred where relevant data is missing, then dropping the incomplete records can be a reasonable solution.\n",
        "\n",
        "You can also drop problematic columns if they’re not relevant for your analysis. To do this, use `.dropna()` again and provide the `axis=1` parameter:"
      ]
    },
    {
      "cell_type": "code",
      "metadata": {
        "id": "FcPnhegUxmcP"
      },
      "source": [
        "data_without_missing_columns = nba.dropna(axis=1)"
      ],
      "execution_count": null,
      "outputs": []
    },
    {
      "cell_type": "code",
      "metadata": {
        "id": "sGuXPQ5axmcP",
        "outputId": "72e732c8-0e4b-45cb-9a30-aac4d6e805a0"
      },
      "source": [
        "data_without_missing_columns.shape"
      ],
      "execution_count": null,
      "outputs": [
        {
          "data": {
            "text/plain": [
              "(126314, 19)"
            ]
          },
          "execution_count": 103,
          "metadata": {},
          "output_type": "execute_result"
        }
      ]
    },
    {
      "cell_type": "markdown",
      "metadata": {
        "id": "4EYVZwYXxmcQ"
      },
      "source": [
        "Now, the resulting DataFrame contains all 126,314 games, but not the sometimes empty notes column.\n",
        "\n",
        "If there’s a meaningful default value for your use case, then you can also replace the missing values with that:"
      ]
    },
    {
      "cell_type": "code",
      "metadata": {
        "id": "vM5klbdcxmcQ"
      },
      "source": [
        "data_with_default_notes = nba.copy()"
      ],
      "execution_count": null,
      "outputs": []
    },
    {
      "cell_type": "code",
      "metadata": {
        "id": "QrFjUGZdxmcQ"
      },
      "source": [
        "data_with_default_notes[\"notes\"].fillna(\n",
        "    value=\"no notes at all\",\n",
        "    inplace=True\n",
        ")"
      ],
      "execution_count": null,
      "outputs": []
    },
    {
      "cell_type": "code",
      "metadata": {
        "id": "EksDepcNxmcQ",
        "outputId": "7ae2e69b-ec59-4fea-e40c-d04335c07f51"
      },
      "source": [
        "data_with_default_notes[\"notes\"].describe()"
      ],
      "execution_count": null,
      "outputs": [
        {
          "data": {
            "text/plain": [
              "count              126314\n",
              "unique                232\n",
              "top       no notes at all\n",
              "freq               120890\n",
              "Name: notes, dtype: object"
            ]
          },
          "execution_count": 106,
          "metadata": {},
          "output_type": "execute_result"
        }
      ]
    },
    {
      "cell_type": "markdown",
      "metadata": {
        "id": "7SsGd453xmcQ"
      },
      "source": [
        "Here, you fill the empty notes rows with the string \"no notes at all\"."
      ]
    },
    {
      "cell_type": "markdown",
      "metadata": {
        "id": "yupfdgJZxmcQ"
      },
      "source": [
        "## Invalid Values\n",
        "\n",
        "Invalid values can be even more dangerous than missing values. Often, you can perform your data analysis as expected, but the results you get are peculiar. This is especially important if your dataset is enormous or used manual entry. Invalid values are often more challenging to detect, but you can implement some sanity checks with queries and aggregations.\n",
        "\n",
        "One thing you can do is validate the ranges of your data. For this, `.describe()` is quite handy. Recall that it returns the following output:"
      ]
    },
    {
      "cell_type": "code",
      "metadata": {
        "id": "gXOVPguHxmcR",
        "outputId": "66d48515-488a-420c-ab16-7490d8224002"
      },
      "source": [
        "nba.describe()"
      ],
      "execution_count": null,
      "outputs": [
        {
          "data": {
            "text/html": [
              "<div>\n",
              "<style scoped>\n",
              "    .dataframe tbody tr th:only-of-type {\n",
              "        vertical-align: middle;\n",
              "    }\n",
              "\n",
              "    .dataframe tbody tr th {\n",
              "        vertical-align: top;\n",
              "    }\n",
              "\n",
              "    .dataframe thead th {\n",
              "        text-align: right;\n",
              "    }\n",
              "</style>\n",
              "<table border=\"1\" class=\"dataframe\">\n",
              "  <thead>\n",
              "    <tr style=\"text-align: right;\">\n",
              "      <th></th>\n",
              "      <th>gameorder</th>\n",
              "      <th>_iscopy</th>\n",
              "      <th>year_id</th>\n",
              "      <th>seasongame</th>\n",
              "      <th>is_playoffs</th>\n",
              "      <th>pts</th>\n",
              "      <th>win_equiv</th>\n",
              "      <th>opp_pts</th>\n",
              "      <th>forecast</th>\n",
              "      <th>difference</th>\n",
              "    </tr>\n",
              "  </thead>\n",
              "  <tbody>\n",
              "    <tr>\n",
              "      <th>count</th>\n",
              "      <td>126314.00</td>\n",
              "      <td>126314.0</td>\n",
              "      <td>126314.00</td>\n",
              "      <td>126314.00</td>\n",
              "      <td>126314.00</td>\n",
              "      <td>126314.00</td>\n",
              "      <td>126314.00</td>\n",
              "      <td>126314.00</td>\n",
              "      <td>126314.00</td>\n",
              "      <td>126314.00</td>\n",
              "    </tr>\n",
              "    <tr>\n",
              "      <th>mean</th>\n",
              "      <td>31579.00</td>\n",
              "      <td>0.5</td>\n",
              "      <td>1988.20</td>\n",
              "      <td>43.53</td>\n",
              "      <td>0.06</td>\n",
              "      <td>102.73</td>\n",
              "      <td>41.71</td>\n",
              "      <td>102.73</td>\n",
              "      <td>0.50</td>\n",
              "      <td>0.00</td>\n",
              "    </tr>\n",
              "    <tr>\n",
              "      <th>std</th>\n",
              "      <td>18231.93</td>\n",
              "      <td>0.5</td>\n",
              "      <td>17.58</td>\n",
              "      <td>25.38</td>\n",
              "      <td>0.24</td>\n",
              "      <td>14.81</td>\n",
              "      <td>10.63</td>\n",
              "      <td>14.81</td>\n",
              "      <td>0.22</td>\n",
              "      <td>13.37</td>\n",
              "    </tr>\n",
              "    <tr>\n",
              "      <th>min</th>\n",
              "      <td>1.00</td>\n",
              "      <td>0.0</td>\n",
              "      <td>1947.00</td>\n",
              "      <td>1.00</td>\n",
              "      <td>0.00</td>\n",
              "      <td>0.00</td>\n",
              "      <td>10.15</td>\n",
              "      <td>0.00</td>\n",
              "      <td>0.02</td>\n",
              "      <td>-68.00</td>\n",
              "    </tr>\n",
              "    <tr>\n",
              "      <th>25%</th>\n",
              "      <td>15790.00</td>\n",
              "      <td>0.0</td>\n",
              "      <td>1975.00</td>\n",
              "      <td>22.00</td>\n",
              "      <td>0.00</td>\n",
              "      <td>93.00</td>\n",
              "      <td>34.10</td>\n",
              "      <td>93.00</td>\n",
              "      <td>0.33</td>\n",
              "      <td>-9.00</td>\n",
              "    </tr>\n",
              "    <tr>\n",
              "      <th>50%</th>\n",
              "      <td>31579.00</td>\n",
              "      <td>0.5</td>\n",
              "      <td>1990.00</td>\n",
              "      <td>43.00</td>\n",
              "      <td>0.00</td>\n",
              "      <td>103.00</td>\n",
              "      <td>42.11</td>\n",
              "      <td>103.00</td>\n",
              "      <td>0.50</td>\n",
              "      <td>0.00</td>\n",
              "    </tr>\n",
              "    <tr>\n",
              "      <th>75%</th>\n",
              "      <td>47368.00</td>\n",
              "      <td>1.0</td>\n",
              "      <td>2003.00</td>\n",
              "      <td>65.00</td>\n",
              "      <td>0.00</td>\n",
              "      <td>112.00</td>\n",
              "      <td>49.64</td>\n",
              "      <td>112.00</td>\n",
              "      <td>0.67</td>\n",
              "      <td>9.00</td>\n",
              "    </tr>\n",
              "    <tr>\n",
              "      <th>max</th>\n",
              "      <td>63157.00</td>\n",
              "      <td>1.0</td>\n",
              "      <td>2015.00</td>\n",
              "      <td>108.00</td>\n",
              "      <td>1.00</td>\n",
              "      <td>186.00</td>\n",
              "      <td>71.11</td>\n",
              "      <td>186.00</td>\n",
              "      <td>0.98</td>\n",
              "      <td>68.00</td>\n",
              "    </tr>\n",
              "  </tbody>\n",
              "</table>\n",
              "</div>"
            ],
            "text/plain": [
              "       gameorder   _iscopy    year_id  seasongame  is_playoffs        pts  \\\n",
              "count  126314.00  126314.0  126314.00   126314.00    126314.00  126314.00   \n",
              "mean    31579.00       0.5    1988.20       43.53         0.06     102.73   \n",
              "std     18231.93       0.5      17.58       25.38         0.24      14.81   \n",
              "min         1.00       0.0    1947.00        1.00         0.00       0.00   \n",
              "25%     15790.00       0.0    1975.00       22.00         0.00      93.00   \n",
              "50%     31579.00       0.5    1990.00       43.00         0.00     103.00   \n",
              "75%     47368.00       1.0    2003.00       65.00         0.00     112.00   \n",
              "max     63157.00       1.0    2015.00      108.00         1.00     186.00   \n",
              "\n",
              "       win_equiv    opp_pts   forecast  difference  \n",
              "count  126314.00  126314.00  126314.00   126314.00  \n",
              "mean       41.71     102.73       0.50        0.00  \n",
              "std        10.63      14.81       0.22       13.37  \n",
              "min        10.15       0.00       0.02      -68.00  \n",
              "25%        34.10      93.00       0.33       -9.00  \n",
              "50%        42.11     103.00       0.50        0.00  \n",
              "75%        49.64     112.00       0.67        9.00  \n",
              "max        71.11     186.00       0.98       68.00  "
            ]
          },
          "execution_count": 107,
          "metadata": {},
          "output_type": "execute_result"
        }
      ]
    },
    {
      "cell_type": "markdown",
      "metadata": {
        "id": "-w-w9_lzxmcR"
      },
      "source": [
        "The year_id varies between 1947 and 2015. That sounds plausible.\n",
        "\n",
        "What about pts? How can the minimum be 0? Let’s have a look at those games:"
      ]
    },
    {
      "cell_type": "code",
      "metadata": {
        "id": "HpFDuUbkxmcR",
        "outputId": "ed3d615e-71ff-444a-86ed-906d4ce4e636"
      },
      "source": [
        "nba[nba[\"pts\"] == 0]"
      ],
      "execution_count": null,
      "outputs": [
        {
          "data": {
            "text/html": [
              "<div>\n",
              "<style scoped>\n",
              "    .dataframe tbody tr th:only-of-type {\n",
              "        vertical-align: middle;\n",
              "    }\n",
              "\n",
              "    .dataframe tbody tr th {\n",
              "        vertical-align: top;\n",
              "    }\n",
              "\n",
              "    .dataframe thead th {\n",
              "        text-align: right;\n",
              "    }\n",
              "</style>\n",
              "<table border=\"1\" class=\"dataframe\">\n",
              "  <thead>\n",
              "    <tr style=\"text-align: right;\">\n",
              "      <th></th>\n",
              "      <th>gameorder</th>\n",
              "      <th>game_id</th>\n",
              "      <th>lg_id</th>\n",
              "      <th>_iscopy</th>\n",
              "      <th>year_id</th>\n",
              "      <th>date_game</th>\n",
              "      <th>seasongame</th>\n",
              "      <th>is_playoffs</th>\n",
              "      <th>team_id</th>\n",
              "      <th>fran_id</th>\n",
              "      <th>pts</th>\n",
              "      <th>win_equiv</th>\n",
              "      <th>opp_id</th>\n",
              "      <th>opp_fran</th>\n",
              "      <th>opp_pts</th>\n",
              "      <th>game_location</th>\n",
              "      <th>game_result</th>\n",
              "      <th>forecast</th>\n",
              "      <th>notes</th>\n",
              "      <th>difference</th>\n",
              "    </tr>\n",
              "  </thead>\n",
              "  <tbody>\n",
              "    <tr>\n",
              "      <th>26684</th>\n",
              "      <td>13343</td>\n",
              "      <td>197210260VIR</td>\n",
              "      <td>ABA</td>\n",
              "      <td>1</td>\n",
              "      <td>1973</td>\n",
              "      <td>1972-10-26</td>\n",
              "      <td>7</td>\n",
              "      <td>0</td>\n",
              "      <td>DNR</td>\n",
              "      <td>Nuggets</td>\n",
              "      <td>0</td>\n",
              "      <td>40.41</td>\n",
              "      <td>VIR</td>\n",
              "      <td>Squires</td>\n",
              "      <td>2</td>\n",
              "      <td>A</td>\n",
              "      <td>L</td>\n",
              "      <td>0.33</td>\n",
              "      <td>at Richmond VA; forfeit to VIR</td>\n",
              "      <td>-2</td>\n",
              "    </tr>\n",
              "  </tbody>\n",
              "</table>\n",
              "</div>"
            ],
            "text/plain": [
              "       gameorder       game_id lg_id  _iscopy  year_id  date_game  seasongame  \\\n",
              "26684      13343  197210260VIR   ABA        1     1973 1972-10-26           7   \n",
              "\n",
              "       is_playoffs team_id  fran_id  pts  win_equiv opp_id opp_fran  opp_pts  \\\n",
              "26684            0     DNR  Nuggets    0      40.41    VIR  Squires        2   \n",
              "\n",
              "      game_location game_result  forecast                           notes  \\\n",
              "26684             A           L      0.33  at Richmond VA; forfeit to VIR   \n",
              "\n",
              "       difference  \n",
              "26684          -2  "
            ]
          },
          "execution_count": 108,
          "metadata": {},
          "output_type": "execute_result"
        }
      ]
    },
    {
      "cell_type": "markdown",
      "metadata": {
        "id": "q2FSqB_qxmcR"
      },
      "source": [
        "It seems the game was forfeited. Depending on your analysis, you may want to remove it from the dataset."
      ]
    },
    {
      "cell_type": "markdown",
      "metadata": {
        "id": "-0g83qz0xmcR"
      },
      "source": [
        "**Inconsistent Values**\n",
        "\n",
        "Sometimes a value would be entirely realistic in and of itself, but it doesn’t fit with the values in the other columns. You can define some query criteria that are mutually exclusive and verify that these don’t occur together.\n",
        "\n",
        "In the NBA dataset, the values of the fields pts, opp_pts and game_result should be consistent with each other. You can check this using the `.empty` attribute:"
      ]
    },
    {
      "cell_type": "code",
      "metadata": {
        "id": "pr6MKbf_xmcR",
        "outputId": "54bd759c-a41e-4653-9edb-f32ce05bd640"
      },
      "source": [
        "nba[(nba[\"pts\"] > nba[\"opp_pts\"]) & (nba[\"game_result\"] != 'W')].empty"
      ],
      "execution_count": null,
      "outputs": [
        {
          "data": {
            "text/plain": [
              "True"
            ]
          },
          "execution_count": 109,
          "metadata": {},
          "output_type": "execute_result"
        }
      ]
    },
    {
      "cell_type": "code",
      "metadata": {
        "id": "x3mtVvaSxmcS",
        "outputId": "99d7da84-e7a7-44b2-d397-112b439e939a"
      },
      "source": [
        "nba[(nba[\"pts\"] < nba[\"opp_pts\"]) & (nba[\"game_result\"] != 'L')].empty"
      ],
      "execution_count": null,
      "outputs": [
        {
          "data": {
            "text/plain": [
              "True"
            ]
          },
          "execution_count": 110,
          "metadata": {},
          "output_type": "execute_result"
        }
      ]
    },
    {
      "cell_type": "markdown",
      "metadata": {
        "id": "kkBIOuNgxmcS"
      },
      "source": [
        "Fortunately, both of these queries return an empty DataFrame.\n",
        "\n",
        "Be prepared for surprises whenever you’re working with raw datasets, especially if they were gathered from different sources or through a complex pipeline. You might see rows where a team scored more points than their opponent, but still didn’t win—at least, according to your dataset!"
      ]
    },
    {
      "cell_type": "markdown",
      "metadata": {
        "id": "koQlLhPCxmcW"
      },
      "source": [
        "## Visualizing Your Pandas DataFrame\n",
        "\n",
        "Data visualization is one of the things that works much better in a Jupyter notebook than in a terminal, so go ahead and fire one up.\n",
        "\n",
        "Include this line to show plots directly in the notebook:"
      ]
    },
    {
      "cell_type": "code",
      "metadata": {
        "id": "KIDDM7RHxmcW"
      },
      "source": [
        "%matplotlib inline"
      ],
      "execution_count": null,
      "outputs": []
    },
    {
      "cell_type": "markdown",
      "metadata": {
        "id": "o3Tou2oSxmcW"
      },
      "source": [
        "Both Series and DataFrame objects have a `.plot()` method, which is a wrapper around `matplotlib.pyplot.plot()`. By default, it creates a line plot. Visualize how many points the Knicks scored throughout the seasons:"
      ]
    },
    {
      "cell_type": "code",
      "metadata": {
        "id": "qFWMEtFLxmcW",
        "outputId": "be7ea6ed-0e72-400d-e0e0-0b92ada938e6"
      },
      "source": [
        "nba"
      ],
      "execution_count": null,
      "outputs": [
        {
          "data": {
            "text/html": [
              "<div>\n",
              "<style scoped>\n",
              "    .dataframe tbody tr th:only-of-type {\n",
              "        vertical-align: middle;\n",
              "    }\n",
              "\n",
              "    .dataframe tbody tr th {\n",
              "        vertical-align: top;\n",
              "    }\n",
              "\n",
              "    .dataframe thead th {\n",
              "        text-align: right;\n",
              "    }\n",
              "</style>\n",
              "<table border=\"1\" class=\"dataframe\">\n",
              "  <thead>\n",
              "    <tr style=\"text-align: right;\">\n",
              "      <th></th>\n",
              "      <th>gameorder</th>\n",
              "      <th>game_id</th>\n",
              "      <th>lg_id</th>\n",
              "      <th>_iscopy</th>\n",
              "      <th>year_id</th>\n",
              "      <th>date_game</th>\n",
              "      <th>seasongame</th>\n",
              "      <th>is_playoffs</th>\n",
              "      <th>team_id</th>\n",
              "      <th>fran_id</th>\n",
              "      <th>pts</th>\n",
              "      <th>win_equiv</th>\n",
              "      <th>opp_id</th>\n",
              "      <th>opp_fran</th>\n",
              "      <th>opp_pts</th>\n",
              "      <th>game_location</th>\n",
              "      <th>game_result</th>\n",
              "      <th>forecast</th>\n",
              "      <th>notes</th>\n",
              "      <th>difference</th>\n",
              "    </tr>\n",
              "  </thead>\n",
              "  <tbody>\n",
              "    <tr>\n",
              "      <th>0</th>\n",
              "      <td>1</td>\n",
              "      <td>194611010TRH</td>\n",
              "      <td>NBA</td>\n",
              "      <td>0</td>\n",
              "      <td>1947</td>\n",
              "      <td>1946-11-01</td>\n",
              "      <td>1</td>\n",
              "      <td>0</td>\n",
              "      <td>TRH</td>\n",
              "      <td>Huskies</td>\n",
              "      <td>66</td>\n",
              "      <td>40.29</td>\n",
              "      <td>NYK</td>\n",
              "      <td>Knicks</td>\n",
              "      <td>68</td>\n",
              "      <td>H</td>\n",
              "      <td>L</td>\n",
              "      <td>0.64</td>\n",
              "      <td>NaN</td>\n",
              "      <td>-2</td>\n",
              "    </tr>\n",
              "    <tr>\n",
              "      <th>1</th>\n",
              "      <td>1</td>\n",
              "      <td>194611010TRH</td>\n",
              "      <td>NBA</td>\n",
              "      <td>1</td>\n",
              "      <td>1947</td>\n",
              "      <td>1946-11-01</td>\n",
              "      <td>1</td>\n",
              "      <td>0</td>\n",
              "      <td>NYK</td>\n",
              "      <td>Knicks</td>\n",
              "      <td>68</td>\n",
              "      <td>41.71</td>\n",
              "      <td>TRH</td>\n",
              "      <td>Huskies</td>\n",
              "      <td>66</td>\n",
              "      <td>A</td>\n",
              "      <td>W</td>\n",
              "      <td>0.36</td>\n",
              "      <td>NaN</td>\n",
              "      <td>2</td>\n",
              "    </tr>\n",
              "    <tr>\n",
              "      <th>2</th>\n",
              "      <td>2</td>\n",
              "      <td>194611020CHS</td>\n",
              "      <td>NBA</td>\n",
              "      <td>0</td>\n",
              "      <td>1947</td>\n",
              "      <td>1946-11-02</td>\n",
              "      <td>1</td>\n",
              "      <td>0</td>\n",
              "      <td>CHS</td>\n",
              "      <td>Stags</td>\n",
              "      <td>63</td>\n",
              "      <td>42.01</td>\n",
              "      <td>NYK</td>\n",
              "      <td>Knicks</td>\n",
              "      <td>47</td>\n",
              "      <td>H</td>\n",
              "      <td>W</td>\n",
              "      <td>0.63</td>\n",
              "      <td>NaN</td>\n",
              "      <td>16</td>\n",
              "    </tr>\n",
              "    <tr>\n",
              "      <th>3</th>\n",
              "      <td>2</td>\n",
              "      <td>194611020CHS</td>\n",
              "      <td>NBA</td>\n",
              "      <td>1</td>\n",
              "      <td>1947</td>\n",
              "      <td>1946-11-02</td>\n",
              "      <td>2</td>\n",
              "      <td>0</td>\n",
              "      <td>NYK</td>\n",
              "      <td>Knicks</td>\n",
              "      <td>47</td>\n",
              "      <td>40.69</td>\n",
              "      <td>CHS</td>\n",
              "      <td>Stags</td>\n",
              "      <td>63</td>\n",
              "      <td>A</td>\n",
              "      <td>L</td>\n",
              "      <td>0.37</td>\n",
              "      <td>NaN</td>\n",
              "      <td>-16</td>\n",
              "    </tr>\n",
              "    <tr>\n",
              "      <th>4</th>\n",
              "      <td>3</td>\n",
              "      <td>194611020DTF</td>\n",
              "      <td>NBA</td>\n",
              "      <td>0</td>\n",
              "      <td>1947</td>\n",
              "      <td>1946-11-02</td>\n",
              "      <td>1</td>\n",
              "      <td>0</td>\n",
              "      <td>DTF</td>\n",
              "      <td>Falcons</td>\n",
              "      <td>33</td>\n",
              "      <td>38.86</td>\n",
              "      <td>WSC</td>\n",
              "      <td>Capitols</td>\n",
              "      <td>50</td>\n",
              "      <td>H</td>\n",
              "      <td>L</td>\n",
              "      <td>0.64</td>\n",
              "      <td>NaN</td>\n",
              "      <td>-17</td>\n",
              "    </tr>\n",
              "    <tr>\n",
              "      <th>...</th>\n",
              "      <td>...</td>\n",
              "      <td>...</td>\n",
              "      <td>...</td>\n",
              "      <td>...</td>\n",
              "      <td>...</td>\n",
              "      <td>...</td>\n",
              "      <td>...</td>\n",
              "      <td>...</td>\n",
              "      <td>...</td>\n",
              "      <td>...</td>\n",
              "      <td>...</td>\n",
              "      <td>...</td>\n",
              "      <td>...</td>\n",
              "      <td>...</td>\n",
              "      <td>...</td>\n",
              "      <td>...</td>\n",
              "      <td>...</td>\n",
              "      <td>...</td>\n",
              "      <td>...</td>\n",
              "      <td>...</td>\n",
              "    </tr>\n",
              "    <tr>\n",
              "      <th>126309</th>\n",
              "      <td>63155</td>\n",
              "      <td>201506110CLE</td>\n",
              "      <td>NBA</td>\n",
              "      <td>0</td>\n",
              "      <td>2015</td>\n",
              "      <td>2015-06-11</td>\n",
              "      <td>100</td>\n",
              "      <td>1</td>\n",
              "      <td>CLE</td>\n",
              "      <td>Cavaliers</td>\n",
              "      <td>82</td>\n",
              "      <td>60.31</td>\n",
              "      <td>GSW</td>\n",
              "      <td>Warriors</td>\n",
              "      <td>103</td>\n",
              "      <td>H</td>\n",
              "      <td>L</td>\n",
              "      <td>0.55</td>\n",
              "      <td>NaN</td>\n",
              "      <td>-21</td>\n",
              "    </tr>\n",
              "    <tr>\n",
              "      <th>126310</th>\n",
              "      <td>63156</td>\n",
              "      <td>201506140GSW</td>\n",
              "      <td>NBA</td>\n",
              "      <td>0</td>\n",
              "      <td>2015</td>\n",
              "      <td>2015-06-14</td>\n",
              "      <td>102</td>\n",
              "      <td>1</td>\n",
              "      <td>GSW</td>\n",
              "      <td>Warriors</td>\n",
              "      <td>104</td>\n",
              "      <td>68.01</td>\n",
              "      <td>CLE</td>\n",
              "      <td>Cavaliers</td>\n",
              "      <td>91</td>\n",
              "      <td>H</td>\n",
              "      <td>W</td>\n",
              "      <td>0.77</td>\n",
              "      <td>NaN</td>\n",
              "      <td>13</td>\n",
              "    </tr>\n",
              "    <tr>\n",
              "      <th>126311</th>\n",
              "      <td>63156</td>\n",
              "      <td>201506140GSW</td>\n",
              "      <td>NBA</td>\n",
              "      <td>1</td>\n",
              "      <td>2015</td>\n",
              "      <td>2015-06-14</td>\n",
              "      <td>101</td>\n",
              "      <td>1</td>\n",
              "      <td>CLE</td>\n",
              "      <td>Cavaliers</td>\n",
              "      <td>91</td>\n",
              "      <td>60.01</td>\n",
              "      <td>GSW</td>\n",
              "      <td>Warriors</td>\n",
              "      <td>104</td>\n",
              "      <td>A</td>\n",
              "      <td>L</td>\n",
              "      <td>0.23</td>\n",
              "      <td>NaN</td>\n",
              "      <td>-13</td>\n",
              "    </tr>\n",
              "    <tr>\n",
              "      <th>126312</th>\n",
              "      <td>63157</td>\n",
              "      <td>201506170CLE</td>\n",
              "      <td>NBA</td>\n",
              "      <td>0</td>\n",
              "      <td>2015</td>\n",
              "      <td>2015-06-16</td>\n",
              "      <td>102</td>\n",
              "      <td>1</td>\n",
              "      <td>CLE</td>\n",
              "      <td>Cavaliers</td>\n",
              "      <td>97</td>\n",
              "      <td>59.29</td>\n",
              "      <td>GSW</td>\n",
              "      <td>Warriors</td>\n",
              "      <td>105</td>\n",
              "      <td>H</td>\n",
              "      <td>L</td>\n",
              "      <td>0.48</td>\n",
              "      <td>NaN</td>\n",
              "      <td>-8</td>\n",
              "    </tr>\n",
              "    <tr>\n",
              "      <th>126313</th>\n",
              "      <td>63157</td>\n",
              "      <td>201506170CLE</td>\n",
              "      <td>NBA</td>\n",
              "      <td>1</td>\n",
              "      <td>2015</td>\n",
              "      <td>2015-06-16</td>\n",
              "      <td>103</td>\n",
              "      <td>1</td>\n",
              "      <td>GSW</td>\n",
              "      <td>Warriors</td>\n",
              "      <td>105</td>\n",
              "      <td>68.52</td>\n",
              "      <td>CLE</td>\n",
              "      <td>Cavaliers</td>\n",
              "      <td>97</td>\n",
              "      <td>A</td>\n",
              "      <td>W</td>\n",
              "      <td>0.52</td>\n",
              "      <td>NaN</td>\n",
              "      <td>8</td>\n",
              "    </tr>\n",
              "  </tbody>\n",
              "</table>\n",
              "<p>126314 rows × 20 columns</p>\n",
              "</div>"
            ],
            "text/plain": [
              "        gameorder       game_id lg_id  _iscopy  year_id  date_game  \\\n",
              "0               1  194611010TRH   NBA        0     1947 1946-11-01   \n",
              "1               1  194611010TRH   NBA        1     1947 1946-11-01   \n",
              "2               2  194611020CHS   NBA        0     1947 1946-11-02   \n",
              "3               2  194611020CHS   NBA        1     1947 1946-11-02   \n",
              "4               3  194611020DTF   NBA        0     1947 1946-11-02   \n",
              "...           ...           ...   ...      ...      ...        ...   \n",
              "126309      63155  201506110CLE   NBA        0     2015 2015-06-11   \n",
              "126310      63156  201506140GSW   NBA        0     2015 2015-06-14   \n",
              "126311      63156  201506140GSW   NBA        1     2015 2015-06-14   \n",
              "126312      63157  201506170CLE   NBA        0     2015 2015-06-16   \n",
              "126313      63157  201506170CLE   NBA        1     2015 2015-06-16   \n",
              "\n",
              "        seasongame  is_playoffs team_id    fran_id  pts  win_equiv opp_id  \\\n",
              "0                1            0     TRH    Huskies   66      40.29    NYK   \n",
              "1                1            0     NYK     Knicks   68      41.71    TRH   \n",
              "2                1            0     CHS      Stags   63      42.01    NYK   \n",
              "3                2            0     NYK     Knicks   47      40.69    CHS   \n",
              "4                1            0     DTF    Falcons   33      38.86    WSC   \n",
              "...            ...          ...     ...        ...  ...        ...    ...   \n",
              "126309         100            1     CLE  Cavaliers   82      60.31    GSW   \n",
              "126310         102            1     GSW   Warriors  104      68.01    CLE   \n",
              "126311         101            1     CLE  Cavaliers   91      60.01    GSW   \n",
              "126312         102            1     CLE  Cavaliers   97      59.29    GSW   \n",
              "126313         103            1     GSW   Warriors  105      68.52    CLE   \n",
              "\n",
              "         opp_fran  opp_pts game_location game_result  forecast notes  \\\n",
              "0          Knicks       68             H           L      0.64   NaN   \n",
              "1         Huskies       66             A           W      0.36   NaN   \n",
              "2          Knicks       47             H           W      0.63   NaN   \n",
              "3           Stags       63             A           L      0.37   NaN   \n",
              "4        Capitols       50             H           L      0.64   NaN   \n",
              "...           ...      ...           ...         ...       ...   ...   \n",
              "126309   Warriors      103             H           L      0.55   NaN   \n",
              "126310  Cavaliers       91             H           W      0.77   NaN   \n",
              "126311   Warriors      104             A           L      0.23   NaN   \n",
              "126312   Warriors      105             H           L      0.48   NaN   \n",
              "126313  Cavaliers       97             A           W      0.52   NaN   \n",
              "\n",
              "        difference  \n",
              "0               -2  \n",
              "1                2  \n",
              "2               16  \n",
              "3              -16  \n",
              "4              -17  \n",
              "...            ...  \n",
              "126309         -21  \n",
              "126310          13  \n",
              "126311         -13  \n",
              "126312          -8  \n",
              "126313           8  \n",
              "\n",
              "[126314 rows x 20 columns]"
            ]
          },
          "execution_count": 137,
          "metadata": {},
          "output_type": "execute_result"
        }
      ]
    },
    {
      "cell_type": "code",
      "metadata": {
        "scrolled": true,
        "id": "nR6Scif-xmcW",
        "outputId": "230618aa-44be-4502-b9f7-91e525f2a128"
      },
      "source": [
        "nba[nba[\"fran_id\"] == \"Knicks\"].groupby(\"year_id\")[\"pts\"].sum().plot()"
      ],
      "execution_count": null,
      "outputs": [
        {
          "data": {
            "text/plain": [
              "<matplotlib.axes._subplots.AxesSubplot at 0x129e72790>"
            ]
          },
          "execution_count": 122,
          "metadata": {},
          "output_type": "execute_result"
        },
        {
          "data": {
            "image/png": "[encoded data removed]",
            "text/plain": [
              "<Figure size 432x288 with 1 Axes>"
            ]
          },
          "metadata": {
            "needs_background": "light"
          },
          "output_type": "display_data"
        }
      ]
    },
    {
      "cell_type": "code",
      "metadata": {
        "id": "ceBd-LXhxmcX",
        "outputId": "c627c125-c434-49ad-9f65-9741ac4e5f65"
      },
      "source": [
        "nba[nba[\"fran_id\"] == \"Knicks\"].groupby(\"year_id\")[\"pts\"].sum()"
      ],
      "execution_count": null,
      "outputs": [
        {
          "data": {
            "text/plain": [
              "year_id\n",
              "1947    4234\n",
              "1948    3815\n",
              "1949    5253\n",
              "1950    5924\n",
              "1951    6814\n",
              "        ... \n",
              "2011    9097\n",
              "2012    6872\n",
              "2013    9259\n",
              "2014    8084\n",
              "2015    7535\n",
              "Name: pts, Length: 69, dtype: int64"
            ]
          },
          "execution_count": 123,
          "metadata": {},
          "output_type": "execute_result"
        }
      ]
    },
    {
      "cell_type": "markdown",
      "metadata": {
        "id": "GLirvPtxxmcX"
      },
      "source": [
        "You can also create other types of plots, like a bar plot:"
      ]
    },
    {
      "cell_type": "code",
      "metadata": {
        "id": "JYWw-KeWxmcX",
        "outputId": "f2103ba6-09cf-43ec-e89f-d1b3100e2653"
      },
      "source": [
        "nba[\"fran_id\"].value_counts().head(10).plot(kind=\"bar\")"
      ],
      "execution_count": null,
      "outputs": [
        {
          "data": {
            "text/plain": [
              "<matplotlib.axes._subplots.AxesSubplot at 0x12d4b3710>"
            ]
          },
          "execution_count": 138,
          "metadata": {},
          "output_type": "execute_result"
        },
        {
          "data": {
            "image/png": "[encoded data removed]",
            "text/plain": [
              "<Figure size 432x288 with 1 Axes>"
            ]
          },
          "metadata": {
            "needs_background": "light"
          },
          "output_type": "display_data"
        }
      ]
    },
    {
      "cell_type": "code",
      "metadata": {
        "id": "ZIltVybIxmcX",
        "outputId": "b66bcf7a-1875-4f92-cc71-b59c9e05cbae"
      },
      "source": [
        "nba[\"fran_id\"].value_counts().head(10)"
      ],
      "execution_count": null,
      "outputs": [
        {
          "data": {
            "text/plain": [
              "Lakers      6024\n",
              "Celtics     5997\n",
              "Knicks      5769\n",
              "Warriors    5657\n",
              "Pistons     5650\n",
              "Sixers      5644\n",
              "Hawks       5572\n",
              "Kings       5475\n",
              "Wizards     4582\n",
              "Spurs       4309\n",
              "Name: fran_id, dtype: int64"
            ]
          },
          "execution_count": 125,
          "metadata": {},
          "output_type": "execute_result"
        }
      ]
    }
  ]
}
