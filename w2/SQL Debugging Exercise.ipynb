{
 "cells": [
  {
   "cell_type": "markdown",
   "metadata": {
    "id": "Q9BdXBrV3qY-"
   },
   "source": [
    "# Debugging Exercise"
   ]
  },
  {
   "cell_type": "markdown",
   "metadata": {},
   "source": [
    "## Instructions\n",
    "\n",
    "- Before editing the notebook, be sure to save a copy to your own Google Drive.\n",
    "- Raise your hand if you have completed a number, the Instructor will check your answer.\n",
    "- You can only proceed to the next number if your answer is correct.\n",
    "- Tips: \n",
    "    - Try to understand the error message and which line the error occurs before looking for the solution.\n",
    "    - You can only use your browsing skills to help you answer the problem."
   ]
  },
  {
   "cell_type": "markdown",
   "metadata": {
    "id": "t7VjT7wUmG5L"
   },
   "source": [
    "## Setup"
   ]
  },
  {
   "cell_type": "markdown",
   "metadata": {
    "id": "a6a9IcaZmL-J"
   },
   "source": [
    "Generate Table and Dataset\n",
    "\n",
    "```sql\n",
    "CREATE TABLE sales (\n",
    "    id INT PRIMARY KEY,\n",
    "    product_name VARCHAR(50),\n",
    "    category VARCHAR(50),\n",
    "    price DECIMAL(10, 2),\n",
    "    quantity INT,\n",
    "    sale_date DATE\n",
    ");\n",
    "\n",
    "INSERT INTO sales (id, product_name, category, price, quantity, sale_date) VALUES\n",
    "(1, 'Laptop', 'Electronics', 1000.00, 5, '2024-12-01'),\n",
    "(2, 'Headphones', 'Electronics', 200.00, 10, '2024-12-02'),\n",
    "(3, 'Coffee Mug', 'Home', 15.00, 50, '2024-12-03'),\n",
    "(4, 'Notebook', 'Stationery', 5.00, 100, '2024-12-03'),\n",
    "(5, 'Smartphone', 'Electronics', 800.00, 8, '2024-12-04'),\n",
    "(6, 'Pen', 'Stationery', 2.50, 200, '2024-12-04');\n",
    "```\n",
    "\n",
    "**Note**: Use Query Tool in pgAdmin to execute these queries"
   ]
  },
  {
   "cell_type": "markdown",
   "metadata": {
    "id": "vRTz4qHFmgj2"
   },
   "source": [
    "## 1. New Column\n",
    "Fix the following query to add new column `discount` on `sales` table to record product discount. This column will store **decimal** values and have a default value of **null**\n",
    "\n",
    "```sql\n",
    "ALTER TABLE sales ...;\n",
    "```"
   ]
  },
  {
   "cell_type": "markdown",
   "metadata": {
    "id": "RB6t-SdLpV6S"
   },
   "source": [
    "## 2. Insert New Data\n",
    "Fix the following query to add new data into `sales` table.\n",
    "- **Product Name**: Gaming Chair\n",
    "- **Product Category**: Furniture\n",
    "- **Product Price**: 150.00\n",
    "- **Quantity**: 1\n",
    "- **Sale Date**: May 9th 2025\n",
    "\n",
    "```sql\n",
    "INSERT INTO sales ...;\n",
    "```"
   ]
  },
  {
   "cell_type": "markdown",
   "metadata": {
    "id": "zkd_sRs7ru2a"
   },
   "source": [
    "## 3. Update Product\n",
    "\n",
    "Fix the following query to change the product's **Sale Date** that contains word `phone` (case-insensitive) to **April 10th 2025**\n",
    "\n",
    "```sql\n",
    "UPDATE sales\n",
    "SET ...\n",
    "WHERE ...;\n",
    "```"
   ]
  },
  {
   "cell_type": "markdown",
   "metadata": {
    "id": "03Hn64UksRml"
   },
   "source": [
    "## 4. Remove Old Sales\n",
    "\n",
    "Fix the following query to remove `sales` record before `3rd December 2024`\n",
    "\n",
    "```sql\n",
    "DELETE FROM sales ...;\n",
    "```"
   ]
  },
  {
   "cell_type": "markdown",
   "metadata": {
    "id": "d6TShlqUtFRU"
   },
   "source": [
    "## 5. Total Sales per Category\n",
    "\n",
    "Show total sales in each category. Sort from highest to lowest.\n",
    "\n",
    "| category | total_sales |\n",
    "| --- | --- |\n",
    "| Electronics | 8400.00 |\n",
    "| Stationery | 1000.00 |\n",
    "| Home | 750.00 |\n",
    "| Furniture | 150.00 |\n",
    "\n",
    "**Notes**: `total_sales` is the sum of `price` x `quantity`"
   ]
  },
  {
   "cell_type": "markdown",
   "metadata": {
    "id": "_d7OEGfCvrWA"
   },
   "source": [
    "## 6. Most Expensive Product in Each Category\n",
    "\n",
    "Show the most expensive product in each category. You can use sub-query to produce this ouput.\n",
    "\n",
    "| category | product_name | price\n",
    "| --- | --- | --- |\n",
    "| Home | Coffee Mug | 15.00\n",
    "| Stationery | Notebook | 5.00\n",
    "| Furniture | Gaming Chair | 150.00\n",
    "| Electronics | Smartphone | 800.00"
   ]
  },
  {
   "cell_type": "markdown",
   "metadata": {
    "id": "-XkFdNizxIOs"
   },
   "source": [
    "## 7. Sales Classification\n",
    "\n",
    "Create a query to show a Sales Classification. You can use `CASE-WHEN` to produce this output.\n",
    "\n",
    "| product_name | price | quantity | sales_class\n",
    "| --- | --- | --- | ---\n",
    "| Coffee Mug | 15.00 | 50 | Low\n",
    "| Notebook | 5.00 | 100 | Low\n",
    "| Pen | 2.50 | 200 | Low\n",
    "| Gaming Chair | 150.00 | 1 | Low\n",
    "| Headphones | 200.00 | 10 | Medium\n",
    "| Smartphone | 800.00 | 8 | High\n",
    "\n",
    "**Note**:\n",
    "- Sales is `price` x `quantity`\n",
    "- If Sales is higher than 5000 -> `sales_class` is **High**\n",
    "- If Sales is between 1000 to 5000 -> `sales_class` is **Medium**\n",
    "- If Sales is lower than 1000 -> `sales_class` is **Low**"
   ]
  }
 ],
 "metadata": {
  "colab": {
   "provenance": [],
   "toc_visible": true
  },
  "kernelspec": {
   "display_name": "base",
   "language": "python",
   "name": "python3"
  },
  "language_info": {
   "codemirror_mode": {
    "name": "ipython",
    "version": 3
   },
   "file_extension": ".py",
   "mimetype": "text/x-python",
   "name": "python",
   "nbconvert_exporter": "python",
   "pygments_lexer": "ipython3",
   "version": "3.12.2"
  }
 },
 "nbformat": 4,
 "nbformat_minor": 0
}
