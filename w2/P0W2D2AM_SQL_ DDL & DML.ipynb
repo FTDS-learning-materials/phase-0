{
  "nbformat": 4,
  "nbformat_minor": 0,
  "metadata": {
    "colab": {
      "provenance": []
    },
    "kernelspec": {
      "name": "python3",
      "display_name": "Python 3"
    },
    "language_info": {
      "name": "python"
    }
  },
  "cells": [
    {
      "cell_type": "markdown",
      "source": [
        "# **Data Definition Language - Practice**\n",
        "\n",
        "We will practice using pgadmin and PostgreSQL to create a simple relational database and tables.\n",
        "\n",
        "In previous lecture, we already known about the ERD model and we will make it and directly apply to make our database.\n",
        "\n",
        "\n",
        "We will using a simple case that contains two tables only. You may look at the ERD model below.\n",
        "\n",
        "<img src=\"https://github.com/FTDS-learning-materials/phase-0/blob/main/img/erd-w2d2am.png?raw=true\"><img/>\n",
        "\n",
        "You can see that there are table `students` and `campus` that have relation by `campus.id` and `students.campus_id`."
      ],
      "metadata": {
        "id": "EIVzY8bE3AiF"
      }
    },
    {
      "cell_type": "markdown",
      "source": [
        "## Create the Database\n",
        "\n",
        "First step is that you will make a database named `FTDS`. To create a database in PostgreSQL, you can run on pgadmin:\n",
        "\n",
        "```sql\n",
        "create DATABASE FTDS;\n",
        "\n",
        "```"
      ],
      "metadata": {
        "id": "C7RbNV2eoc3m"
      }
    },
    {
      "cell_type": "markdown",
      "source": [
        "## Create Tables\n",
        "\n",
        "Next, you will create two tables in one time. To running more than queries, you have to put `;` in the end of each query like below:\n",
        "\n",
        "```sql\n",
        "-- create students table\n",
        "CREATE TABLE students (\n",
        "    id SERIAL PRIMARY KEY,\n",
        "    name VARCHAR(50),\n",
        "    age INTEGER,\n",
        "    campus_id INTEGER,\n",
        "    total_grade FLOAT\n",
        ");\n",
        "\n",
        "-- create campus table\n",
        "CREATE TABLE campus (\n",
        "    id SERIAL PRIMARY KEY,\n",
        "    campus_name VARCHAR(50),\n",
        "    batch VARCHAR(10),\n",
        "    start_date DATE\n",
        ");\n",
        "\n",
        "```"
      ],
      "metadata": {
        "id": "6sd3K6-MpO7Y"
      }
    },
    {
      "cell_type": "markdown",
      "source": [
        "# **Data Manipulation Language - Practice**"
      ],
      "metadata": {
        "id": "cgX3Qse2qh-A"
      }
    },
    {
      "cell_type": "markdown",
      "source": [
        "## INSERT\n",
        "\n",
        "Now, you already have two tables but they are empty. The tables expected to be like this:\n",
        "\n",
        "\n",
        "**students table:**\n",
        "\n",
        "| id |    name        | age | campus_id | total_grade |\n",
        "|----|----------------|-----|-----------|-------------|\n",
        "| 1  | Rafif Iman     | 20  | 1         | 85.5        |\n",
        "| 2  | Hana Arisona   | 21  | 2         | 90.2        |\n",
        "| 3  | Raka Purnomo   | 19  | 1         | 78.9        |\n",
        "| 4  | Danu Irfansyah | 20  | 3         | 92.7        |\n",
        "| 5  | Rachman Ardhi  | 22  | 2         | 88.1        |\n",
        "\n",
        "**campus table:**\n",
        "\n",
        "| id | campus_name | batch | start_date |\n",
        "|----|-------------|-------|------------|\n",
        "| 1  | Remote      | RMT-1 | 2023-01-01 |\n",
        "| 2  | Jakarta     | HCK-2 | 2023-02-01 |\n",
        "| 3  | BSD         | BSD-4 | 2023-03-01 |\n",
        "| 4  | Surabaya    | SUB-1 | 2023-04-01 |\n",
        "| 5  | Singapore   | SIN-1 | 2023-05-01 |\n",
        "\n",
        "\n",
        "\n",
        "\n",
        "To insert the data, you can use `INSERT` keyword. You may run two queries simultantly.\n",
        "\n",
        "```sql\n",
        "\n",
        "-- Insert data into the students table\n",
        "INSERT INTO students (name, age, campus_id, total_grade)\n",
        "VALUES\n",
        "    ('Rafif Iman', 20, 1, 85.5),\n",
        "    ('Hana Arisona', 21, 2, 90.2),\n",
        "    ('Raka Purnomo', 19, 1, 78.9),\n",
        "    ('Danu Irfansyah', 20, 3, 92.7),\n",
        "    ('Rachman Ardhi', 22, 2, 88.1);\n",
        "\n",
        "-- Insert data into the campus table\n",
        "INSERT INTO campus (campus_name, batch, start_date)\n",
        "VALUES\n",
        "    ('Remote', 'RMT-1', '2023-01-01'),\n",
        "    ('Jakarta', 'HCK-2', '2023-02-01'),\n",
        "    ('BSD', 'BSD-4', '2023-03-01'),\n",
        "    ('Surabaya', 'SUB-1', '2023-04-01'),\n",
        "    ('Singapore', 'SIN-1', '2023-05-01');\n",
        "\n",
        "```\n"
      ],
      "metadata": {
        "id": "NWJAxhlUqm6z"
      }
    },
    {
      "cell_type": "markdown",
      "source": [
        "You can see your table by running DQL command:\n",
        "\n",
        "```sql\n",
        "SELECT * FROM students;\n",
        "```"
      ],
      "metadata": {
        "id": "mdAAx55usxpa"
      }
    },
    {
      "cell_type": "markdown",
      "source": [
        "## UPDATE\n",
        "\n",
        "Oh no! You made a mistake. You write down the grade of Hana (id=2) which is 90.2, but the correct one is 95.3.\n",
        "\n",
        "To edit the value in the cell, you can run this query:\n",
        "\n",
        "```sql\n",
        "UPDATE Students\n",
        "SET total_grade = 95.3\n",
        "WHERE id = 2;\n",
        "```"
      ],
      "metadata": {
        "id": "h1IhU953tAyZ"
      }
    },
    {
      "cell_type": "markdown",
      "source": [
        "## DELETE\n",
        "\n",
        "In Q3 2023, the Singapore campus had been closed due to some reason. But, the info still on the database. To remove it, you can use `DELETE` keyword.\n",
        "\n",
        "```sql\n",
        "DELETE FROM campus\n",
        "WHERE id = 5;\n",
        "```\n",
        "\n",
        "or\n",
        "\n",
        "```sql\n",
        "DELETE FROM campus\n",
        "WHERE name = 'Singapore';\n",
        "```"
      ],
      "metadata": {
        "id": "dWlXQ87DuixK"
      }
    },
    {
      "cell_type": "markdown",
      "source": [
        "## EXPLAIN\n",
        "\n",
        "`EXPLAIN` is used to analyze the execution plan of a query. We can get the information about how the query will execute and give a result.\n",
        "\n",
        "```sql\n",
        "EXPLAIN SELECT students.name, students.age, campus.campus_name\n",
        "FROM ctudents\n",
        "JOIN campus ON Students.campus_id = campus.id\n",
        "WHERE campus.campus_name = 'Jakarta';\n",
        "```\n",
        "\n",
        "You will retrieve an output like this from query above:\n",
        "\n",
        "```sql\n",
        "QUERY PLAN\n",
        "----------------------------------------------------------------------------------------\n",
        "Nested Loop\n",
        "  Join Filter: (students.campus_id = campus.id)\n",
        "  -> Seq Scan on campus\n",
        "        Filter: (campus_name = 'Jakarta'::text)\n",
        "        Rows Removed by Filter: XXXX\n",
        "  -> Bitmap Heap Scan on students\n",
        "        Recheck Cond: (campus_id = campus.id)\n",
        "        -> Bitmap Index Scan on students_campus_id_idx\n",
        "              Index Cond: (campus_id = campus.id)\n",
        "(9 rows)\n",
        "```\n",
        "\n",
        "\n",
        "- The QUERY PLAN section outlines the steps involved in executing the query. In this example, it involves a nested loop join between the ctudents and campus tables.\n",
        "\n",
        "- The Join Filter line indicates the condition used for joining the tables, which is students.campus_id = campus.id. It specifies that the campus_id of the students table should match the id of the campus table.\n",
        "\n",
        "- The Seq Scan on campus line represents a sequential scan on the campus table, filtering for rows where the campus_name is equal to 'Jakarta'.\n",
        "\n",
        "- The Rows Removed by Filter line indicates the number of rows that were filtered out based on the condition. The actual count (XXXX) will depend on your specific data.\n",
        "\n",
        "- The Bitmap Heap Scan on Students line indicates a bitmap heap scan on the Students table, rechecking the condition for each row.\n",
        "\n",
        "- The Bitmap Index Scan on students_campus_id_idx line represents an index scan on the students_campus_id_idx index, specifically on the campus_id column."
      ],
      "metadata": {
        "id": "4GoweajavKje"
      }
    },
    {
      "cell_type": "markdown",
      "source": [
        "### EXPLAIN ANALYZE\n",
        "\n",
        "You may add `ANALYZE` keyword when you want to know the execute plan of your query. When you use the `EXPLAIN ANALYZE` keywords, PostgreSQL not only provides the execution plan but also actually executes the query and provides the detailed runtime analysis.\n",
        "\n",
        "Here's an example query:\n",
        "\n",
        "```sql\n",
        "EXPLAIN ANALYZE SELECT students.name, students.age, sampus.campus_name\n",
        "FROM students\n",
        "JOIN campus ON students.campus_id = campus.id\n",
        "WHERE campus.campus_name = 'Jakarta';\n",
        "```\n",
        "\n",
        "When you use the `EXPLAIN ANALYZE` keywords, PostgreSQL not only provides the execution plan but also actually executes the query and provides the detailed runtime analysis. Here's an example of the possible output for the given query:\n",
        "\n",
        "```sql\n",
        "QUERY PLAN\n",
        "-----------------------------------------------------------------------------------------------------------------\n",
        "Nested Loop  (cost=0.56..8.58 rows=1 width=47) (actual time=0.045..0.050 rows=2 loops=1)\n",
        "  ->  Index Scan using campus_campus_name_idx on campus  (cost=0.28..4.30 rows=1 width=24) (actual time=0.026..0.027 rows=1 loops=1)\n",
        "        Index Cond: (campus_name = 'Jakarta'::text)\n",
        "  ->  Index Scan using students_campus_id_idx on students  (cost=0.28..4.28 rows=1 width=31) (actual time=0.014..0.015 rows=2 loops=1)\n",
        "        Index Cond: (campus_id = campus.id)\n",
        "Planning Time: 0.179 ms\n",
        "Execution Time: 0.113 ms\n",
        "```\n",
        "\n",
        "\n",
        "- The QUERY PLAN section provides the execution plan for the query.\n",
        "\n",
        "- The Nested Loop indicates that a nested loop join is performed.\n",
        "\n",
        "- The Index Scan using campus_campus_name_idx shows that an index scan is used to find the campus with the name 'Jakarta'.\n",
        "\n",
        "- The Index Scan using students_campus_id_idx line indicates that an index scan is used to find the students matching the campus_id.\n",
        "\n",
        "- The Planning Time displays the time taken for query planning.\n",
        "\n",
        "- The Execution Time shows the actual execution time of the query.\n",
        "\n",
        "This output provides both the execution plan and the runtime analysis of the query, giving you insights into how the query was executed and the time taken for each step."
      ],
      "metadata": {
        "id": "LZdF5pSHwv1z"
      }
    },
    {
      "cell_type": "markdown",
      "source": [
        "You may see that after 'Nested Loop...' line in the output, there is a information that is `(cost=0.28..4.30 rows=1 width=24)`.\n",
        "\n",
        "In the output, `(cost=0.28..4.30 rows=1 width=24)` represents the estimated cost, number of rows, and width of the result for a specific step in the query execution plan.\n",
        "\n",
        "> `cost=0.28..4.30` indicates the estimated cost range for the step. The cost represents an arbitrary unit of computational effort, and the range specifies the minimum and maximum estimated costs.\n",
        "\n",
        "> `rows=1` represents the estimated number of rows that will be returned by the step.\n",
        "\n",
        "> `width=24` represents the estimated width of the result in bytes.\n",
        "\n",
        "The cost values are relative and help the query planner compare different plans to choose the one with the lowest cost. The number of rows and width estimates are used to optimize memory allocation and data transfer during query execution.\n",
        "\n",
        "In this case, if you use `campus_id = campus.id` for the `WHERE` condition instead of `campus_name = 'Jakarta'` since it's faster and less computational cost.\n"
      ],
      "metadata": {
        "id": "ZKE8Z041xkjB"
      }
    },
    {
      "cell_type": "markdown",
      "source": [
        "# ALTER, TRUNCATE, DROP"
      ],
      "metadata": {
        "id": "MoKXsoluza7w"
      }
    },
    {
      "cell_type": "markdown",
      "source": [
        "## ALTER\n",
        "\n",
        "Once again, you had a mistake. You forget to add email column in students table.\n",
        "\n",
        "To add a new column, you may run this query:\n",
        "\n",
        "```sql\n",
        "ALTER TABLE students\n",
        "ADD COLUMN email VARCHAR(100);\n",
        "```\n",
        "\n",
        "and also, perhaps `campus_name` column in campus table has to be renamed into `name` in order to simplify the column name. To do it, you can run this query:\n",
        "\n",
        "```sql\n",
        "ALTER TABLE campus\n",
        "RENAME COLUMN campus_name TO name;\n",
        "```"
      ],
      "metadata": {
        "id": "Lk71t9thzhP7"
      }
    },
    {
      "cell_type": "markdown",
      "source": [
        "## TRUNCATE\n",
        "\n",
        "Suddenly, you want to reset the campus table and make it empty. To do it, you can use `TRUNCATE` keyword:\n",
        "\n",
        "```sql\n",
        "TRUNCATE TABLE campus;\n",
        "```"
      ],
      "metadata": {
        "id": "EBJMsuJR0e0z"
      }
    },
    {
      "cell_type": "markdown",
      "source": [
        "## DROP\n",
        "\n",
        "Then, you want to remove campus table from your database because it is useless. To do it, you may run this query:\n",
        "\n",
        "```sql\n",
        "DROP TABLE campus;\n",
        "```\n"
      ],
      "metadata": {
        "id": "l_TlZjjG0wbI"
      }
    },
    {
      "cell_type": "markdown",
      "source": [
        "## ALTER and DROP Combination\n",
        "\n",
        "Also, you think that you don't need `email` column in students table. You can remove it by run this query:\n",
        "\n",
        "```sql\n",
        "ALTER TABLE students\n",
        "DROP COLUMN email;\n",
        "```"
      ],
      "metadata": {
        "id": "C_mSjAy91XdU"
      }
    }
  ]
}