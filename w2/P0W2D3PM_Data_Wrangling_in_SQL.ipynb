{
  "nbformat": 4,
  "nbformat_minor": 0,
  "metadata": {
    "colab": {
      "provenance": []
    },
    "kernelspec": {
      "name": "python3",
      "display_name": "Python 3"
    },
    "language_info": {
      "name": "python"
    }
  },
  "cells": [
    {
      "cell_type": "markdown",
      "source": [
        "## **DATA WRANGLING**\n",
        "\n",
        "What is Data Wrangling ?\n",
        "\n",
        "1. Data wrangling or data munging, is the process of **transforming** and **mapping** data from one \"raw\" data-source data-form into another format with the intent of making it more appropriate and valuable for a variety of downstream purposes such as analytics.\n",
        "\n",
        "2. We can simply say that the data wrangling process is a **method of data cleaning and data preparation** by converting it from one form to a more understandable form mainly for preliminary data analytics.\n",
        "\n",
        "3. The process of transformation such as :\n",
        "  * Data Exploration\n",
        "  * Data Preparation\n",
        "  * Data Cleaning\n",
        "  * Data Validation\n",
        "  * Data Enrichment\n",
        "  * etc.\n",
        "\n",
        "4. This might mean modifying all of the values in a given column in a certain way, or merging multiple columns together.\n",
        "\n",
        "5. The necessity for data wrangling is often a biproduct of poorly collected or presented data. Data that is entered manually by humans is typically fraught with errors; data collected from websites is often optimized to be displayed on websites, not to be sorted and aggregated.\n",
        "\n",
        "6. You can think Data Wrangling is like Preprocessing in Machine Learning. But, we are using SQL to cleaning the data rather than using Python."
      ],
      "metadata": {
        "id": "c8frdH2mYxTm"
      }
    },
    {
      "cell_type": "markdown",
      "source": [
        "### **DATASET**\n"
      ],
      "metadata": {
        "id": "LGqojdBNY7JB"
      }
    },
    {
      "cell_type": "markdown",
      "source": [
        "#### Table `crunchbase_companies_clean_data`\n",
        "\n",
        "We will use this data for Date Format Wrangling session. Data Definition Language (DDL):\n",
        "```sql\n",
        "CREATE TABLE crunchbase_companies_clean_data (\n",
        "    permalink VARCHAR(50),\n",
        "    name VARCHAR(50),\n",
        "    homepage_url VARCHAR(50),\n",
        "    category_code VARCHAR(50),\n",
        "    funding_total_usd BIGINT,\n",
        "    status VARCHAR(20),\n",
        "    country_code VARCHAR(5),\n",
        "    state_code VARCHAR(5),\n",
        "    region VARCHAR(50),\n",
        "    city VARCHAR(50),\n",
        "    funding_rounds INT,\n",
        "    founded_at VARCHAR(20),\n",
        "    founded_at_clean VARCHAR(20),\n",
        "    id SERIAL PRIMARY KEY\n",
        ");\n",
        "```"
      ],
      "metadata": {
        "id": "NMi0Gon6Y-L-"
      }
    },
    {
      "cell_type": "markdown",
      "source": [
        "#### Table `dc_bikeshare_q1_2012`\n",
        "\n",
        "As for String/Varchar Format Wrangling session, we will use this data. Data Definition Language (DDL):\n",
        "```mysql\n",
        "CREATE TABLE dc_bikeshare_q1_2012 (\n",
        "    id SERIAL PRIMARY KEY,\n",
        "    duration VARCHAR(20),\n",
        "    duration_seconds INT,\n",
        "    start_time TIMESTAMP,\n",
        "    start_station VARCHAR(70),\n",
        "    start_terminal INT,\n",
        "    end_time TIMESTAMP,\n",
        "    end_station VARCHAR(70),\n",
        "    end_terminal INT,\n",
        "    bike_number VARCHAR(10),\n",
        "    rider_type VARCHAR(20)\n",
        ");\n",
        "```"
      ],
      "metadata": {
        "id": "dIWaUhueY-8w"
      }
    },
    {
      "cell_type": "markdown",
      "source": [
        "<h2><b> NOTE: </b></h2>\n",
        "\n",
        "To ease your learning in this session, you can use the sql file to running the DDL and DML to create two tables above.\n",
        "\n",
        "You can access the script [here](https://github.com/FTDS-learning-materials/phase-0/blob/main/src/w2d3pm.sql).\n",
        "\n",
        "You can copy paste into your Query Tool in pgadmin4 or you can download and open the script from pgadmin4."
      ],
      "metadata": {
        "id": "g1oI9cxVKAsP"
      }
    },
    {
      "cell_type": "markdown",
      "source": [
        "#### **Data Exploration**\n",
        "\n",
        "First, you need to know about your dataset. You learned that certain functions work on some data types, but not others.\n",
        "\n",
        "For example, COUNT works with any data type, but SUM only works for numerical data. In order to use SUM, the data must appear to be numeric, but it must also be stored in the database in a numeric form.\n",
        "\n",
        "You might run into this problem, for example, if you have a column that appears to be entirely numeric, but happens to contain spaces or commas. If you upload data to particular SQL databases software with commas in a column full of numbers, that SQL database software will treat that column as non-numeric.\n",
        "\n",
        "Generally, numeric column types in various SQL databases do not support commas or currency symbols. To make things more complicated, SQL databases can store data in many different formats with different levels of precision.\n",
        "\n",
        "To see a list of data types, you can visit the website of each SQL database software, or at a glance, you can visit [this](https://www.w3schools.com/sql/sql_datatypes.asp)."
      ],
      "metadata": {
        "id": "ECIg_V1DZBGB"
      }
    },
    {
      "cell_type": "markdown",
      "source": [
        "### **DATE FORMAT**"
      ],
      "metadata": {
        "id": "Lf4JlI-mZDOL"
      }
    },
    {
      "cell_type": "markdown",
      "source": [
        "\n",
        "#### **Converting Datatype**\n",
        "\n",
        "In our table, you can see in the table `crunchbase_companies_clean_data`, there is a column named `founded_at` and `founded_at_clean`. Let's check the difference between those two with this query:\n",
        "```sql\n",
        "SELECT founded_at, founded_at_clean\n",
        "FROM crunchbase_companies_clean_data;\n",
        "```\n",
        "It looks like these two columns contain the same information but have different time formats. While `founded_at` uses the US date format and `founded_at_clean` uses the PostgreSQL default date format.\n",
        "\n",
        "Let's check further which date format we should use:\n",
        "```sql\n",
        "SELECT founded_at, founded_at_clean\n",
        "FROM crunchbase_companies_clean_data\n",
        "ORDER BY founded_at;\n",
        "```\n",
        "As you can see, the result is not ordered properly. So we can conclude that it's better to make sure our date/datetime format follows SQL defaults. While we're at it, let's practice changing the `founded_at` date format.\n",
        "\n",
        "We can convert the data type at the time of querying so that it doesn't change the original dataset, using:\n",
        "```sql\n",
        "CAST(value AS type)\n",
        "```\n",
        "Oops, it seems that `CAST(founded_at AS DATE)` didn't return the result we expected. Since this function assumes the value has the SQL default format, we need another command. We can use the `TO_DATE` function to specify the format of our value and convert it to the DATE format.\n",
        "```sql\n",
        "TO_DATE(founded_at, 'MM/DD/YY');\n",
        "```\n",
        "\n",
        "You can also apply data type formatting with `ALTER TABLE ... ALTER COLUMN ... TYPE ... USING ... ::...`. This way, your change will be saved and stored in the database. Normally, we can use:\n",
        "```sql\n",
        "ALTER TABLE crunchbase_companies_clean_data\n",
        "ALTER COLUMN founded_at TYPE DATE USING founded_at::date;\n",
        "```\n",
        "But since our DATE format is in US Format, you will get an error message. To overcome this, we need a little workaround:\n",
        "```sql\n",
        "UPDATE crunchbase_companies_clean_data\n",
        "SET founded_at = TO_DATE(founded_at, 'MM/DD/YY');\n",
        "\n",
        "ALTER TABLE crunchbase_companies_clean_data\n",
        "ALTER COLUMN founded_at TYPE DATE USING founded_at::date;\n",
        "```\n",
        "Now, our `founded_at` column has the SQL DATE format and DATE type."
      ],
      "metadata": {
        "id": "IXgvrEBGZE7Y"
      }
    },
    {
      "cell_type": "markdown",
      "source": [
        "---\n",
        "#### ****Deconstruct DATE/DATETIME/TIMESTAMP Format****\n",
        "\n",
        "You've learned how to construct a date field, but what if you want to deconstruct one? You can use EXTRACT to pull the pieces apart one-by-one:\n",
        "\n",
        "```sql\n",
        "SELECT founded_at,\n",
        "       EXTRACT(year FROM founded_at) AS year,\n",
        "       EXTRACT(MONTH FROM founded_at) AS month,\n",
        "       EXTRACT(DAY FROM founded_at) AS day,\n",
        "       EXTRACT(QUARTER FROM founded_at) AS quarter\n",
        "FROM crunchbase_companies_clean_data;\n",
        "```\n",
        "You can also use `HOUR`, `MINUTE` and `SECOND` if your data type is TIMESTAMP or TIME.\n",
        "\n",
        "What if you want to include today's date or time? You can instruct your query to pull the local date and time at the time the query is run using any number of functions. Interestingly, you can run them without a `FROM` clause:\n",
        "\n",
        "```sql\n",
        "SELECT CURRENT_DATE AS date,\n",
        "       CURRENT_TIME AS time,\n",
        "       CURRENT_TIMESTAMP AS timestamp,\n",
        "       LOCALTIME AS local_time,\n",
        "       LOCALTIMESTAMP AS local_timestamp,\n",
        "       NOW() AS now\n",
        "```\n",
        "\n",
        "As you can see, the different options vary in precision. You might notice that these times probably aren't actually your local time. If you run a current time function against a connected database, you might get a result in a different time zone.\n",
        "\n",
        "We can also calculate the time interval using `-` or `+`. You just need to make sure the value/variable used in this function is in `DATE`, `TIMESTAMP`, or `TIMESTAMPTZ` type.\n",
        "\n",
        "\n",
        "```sql\n",
        "SELECT founded_at,\n",
        "       CURRENT_DATE AS local_time,\n",
        "       CURRENT_DATE - founded_at AS founded_time_ago,\n",
        "       founded_at + INTERVAL '10 DAY' AS plus_10_days\n",
        "FROM crunchbase_companies_clean_data;\n",
        "```\n",
        "\n",
        "There are a lot of functions related to Date & Time. These are examples of those functions in [PostgreSQL](https://www.postgresql.org/docs/current/functions-datetime.html)."
      ],
      "metadata": {
        "id": "NveyYhOOZHPE"
      }
    },
    {
      "cell_type": "markdown",
      "source": [
        "---\n",
        "#### **Handling Missing Value**\n",
        "\n",
        "Before we are moving into our next dataset, we can see that founded_at column has several missing value. we can handle these with `COALESCE`. It will impute the missing value with value we put into the function:\n",
        "```mysql\n",
        "SELECT founded_at, COALESCE(founded_at, 'No Date')\n",
        "FROM crunchbase_companies_clean_data;\n",
        "```"
      ],
      "metadata": {
        "id": "G1k5cLi_ZJfx"
      }
    },
    {
      "cell_type": "markdown",
      "source": [
        "### **STRING FORMAT**\n"
      ],
      "metadata": {
        "id": "rWTMVamAZMVE"
      }
    },
    {
      "cell_type": "markdown",
      "source": [
        "\n",
        "#### **LEFT, RIGHT, SUBSTR**\n",
        "You can use `LEFT` to pull a certain number of characters from the left side of a string and present them as a separate string. The syntax is `LEFT(string, number of characters)`.\n",
        "\n",
        "`RIGHT` does the same thing, but from the right side.\n",
        "\n",
        "While `LEFT` and `RIGHT` both create substrings of a specified length, but they only do so starting from the sides of an existing string. If you want to start in the middle of a string, you can use `SUBSTRING`. The syntax is `SUBSTRING(string FROM starting character position FOR # of characters)`\n",
        "\n",
        "As a practical example, we can see that the date field in this dataset begins with a 10-digit date, and includes the timestamp to the right of it. We can pull either the date, timestamp, or minute using this query.\n",
        "\n",
        "```sql\n",
        "SELECT start_time,\n",
        "    LEFT(start_time::TEXT, 10) AS selected_date,\n",
        "    RIGHT(start_time::TEXT, 8) AS selected_time,\n",
        "    SUBSTRING(start_time::TEXT FROM 15 FOR 2) AS selected_minute\n",
        "FROM dc_bikeshare_q1_2012;\n",
        "```\n",
        "\n",
        "The `LENGTH` function returns the length of a string. So `LENGTH(date)` will always return 19 in this dataset. Since we know that the first 10 characters will be the date, and they will be followed by a space (total 11 characters), we could represent the `RIGHT` function like this:\n",
        "\n",
        "```sql\n",
        "SELECT start_time,\n",
        "       RIGHT(start_time::TEXT, LENGTH(start_time::TEXT) - 11) AS selected_time\n",
        "FROM dc_bikeshare_q1_2012;\n",
        "```\n",
        "\n",
        "When using functions within other functions, it's important to remember that **the innermost functions will be evaluated first, followed by the functions that encapsulate them**."
      ],
      "metadata": {
        "id": "DrlILcDRZOHn"
      }
    },
    {
      "cell_type": "markdown",
      "source": [
        "#### **TRIM**\n",
        "The `TRIM` function is used to remove characters from the beginning and end of a string. Here's an example:\n",
        "```mysql\n",
        "SELECT bike_number,\n",
        "\t   TRIM(leading 'W0' FROM bike_number) AS trimmed\n",
        "from dc_bikeshare_q1_2012;\n",
        "```\n",
        "The `TRIM` function takes 3 arguments. First, you have to specify whether you want to remove characters from the beginning ('leading'), the end ('trailing'), or both ('both'). Next you must specify all characters to be trimmed. Any characters included in the single quotes will be removed from both beginning, end, or both sides of the string. Finally, you must specify the text you want to trim using `FROM`."
      ],
      "metadata": {
        "id": "i-E9O-K4ZQRY"
      }
    },
    {
      "cell_type": "markdown",
      "source": [
        "#### **POSITION**\n",
        "`POSITION` allows you to specify a substring, then returns a numerical value equal to the character number (counting from left) where that substring first appears in the target string. For example, the following query will return the position of the character 'A' (case-sensitive) where it first appears in the `descript` field:\n",
        "```mysql\n",
        "SELECT bike_number,\n",
        "       POSITION('1' in bike_number) as pos\n",
        "FROM dc_bikeshare_q1_2012;\n",
        "```"
      ],
      "metadata": {
        "id": "ckyVWanSZSCt"
      }
    },
    {
      "cell_type": "markdown",
      "source": [
        "#### **UPPER AND LOWER**\n",
        "Sometimes, you just don't want your data to look like it's screaming at you.\n",
        "* You can use **`LOWER` to force every character in a string to become lower-case**.\n",
        "* Similarly, you can use **`UPPER` to make all the letters appear in upper-case**:\n",
        "\n",
        "```mysql\n",
        "SELECT start_station,\n",
        "    LOWER(start_station) AS lowered,\n",
        "    UPPER(start_station) AS uppered\n",
        "FROM dc_bikeshare_q1_2012;\n",
        "```"
      ],
      "metadata": {
        "id": "PJ4Sg9PyZUAO"
      }
    },
    {
      "cell_type": "markdown",
      "source": [
        "#### **CONCAT**\n",
        "You can combine strings from several columns together (and with hard-coded values) using `CONCAT`. Simply order the values you want to concatenate and separate them with commas. If you want to hard-code values, enclose them in single quotes. Here's an example:\n",
        "```mysql\n",
        "SELECT start_station,\n",
        "\t   start_terminal,\n",
        "       CONCAT(start_terminal, ' - ', start_station) AS station_id_name\n",
        "FROM dc_bikeshare_q1_2012;\n",
        "```"
      ],
      "metadata": {
        "id": "R3CnPdzrZUHQ"
      }
    },
    {
      "cell_type": "markdown",
      "source": [
        "### SQL CASE\n",
        "\n",
        "The CASE statement is SQL's way of handling if/then logic. The CASE statement is followed by at least one pair of WHEN and THEN statements—SQL's equivalent of IF/THEN in Excel. Because of this pairing, you might be tempted to call this SQL CASE WHEN, but CASE is the accepted term.\n",
        "\n",
        "Every CASE statement must end with the END statement. The ELSE statement is optional, and provides a way to capture values not specified in the WHEN/THEN statements. CASE is easiest to understand in the context of an example:\n",
        "\n",
        "```sql\n",
        "SELECT name, category_code,\n",
        "    CASE\n",
        "        WHEN funding_total_usd > 1000000 THEN 'High Funding'\n",
        "        WHEN funding_total_usd > 100000 THEN 'Medium Funding'\n",
        "        ELSE 'Low Funding'\n",
        "    END AS funding_category\n",
        "FROM crunchbase_companies_clean_data;\n",
        "\n",
        "```"
      ],
      "metadata": {
        "id": "WNE7ZqS5Hl_w"
      }
    },
    {
      "cell_type": "markdown",
      "source": [
        "## Intermediate SQL: Sub Query\n",
        "\n",
        "Subqueries (also known as inner queries or nested queries) are a tool for performing operations in multiple steps. For example, if you wanted to take the sums of several columns, then average all of those values, you'd need to do each aggregation in a distinct step.\n",
        "Subqueries can be used in several places within a query, but it's easiest to start with the FROM statement. Here're some examples of subquery:\n",
        "\n",
        "\n",
        "1. Retrieve a list of start_station along with their respective trip counts, sorted by the trip count in descending order.:\n",
        "\n",
        "```sql\n",
        "SELECT subquery.start_station,\n",
        "       subquery.trip_count\n",
        "FROM (\n",
        "    SELECT start_station,\n",
        "           COUNT(*) AS trip_count\n",
        "    FROM dc_bikeshare_q1_2012\n",
        "    GROUP BY start_station\n",
        ") AS subquery\n",
        "ORDER BY subquery.trip_count DESC;\n",
        "```\n",
        "\n",
        "2. Retrieve list of top funded companies in each region that total funding more than USD 1,000,000 :\n",
        "\n",
        "```sql\n",
        "SELECT name,\n",
        "\tstatus,\n",
        "\tregion,\n",
        "\tfounded_at\n",
        "FROM crunchbase_companies_clean_data AS C\n",
        "WHERE funding_total_usd IN\n",
        "\t\t(SELECT MAX(funding_total_usd)\n",
        "\t\t\tFROM crunchbase_companies_clean_data\n",
        "\t\t\tGROUP BY region\n",
        "\t\t\tHAVING MAX(funding_total_usd) > 1000000)\n",
        "\tAND founded_at IS NOT NULL;\n",
        "```\n"
      ],
      "metadata": {
        "id": "HrrPxtzyZtw1"
      }
    }
  ]
}