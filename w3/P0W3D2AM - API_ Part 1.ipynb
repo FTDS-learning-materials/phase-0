{
  "nbformat": 4,
  "nbformat_minor": 0,
  "metadata": {
    "colab": {
      "provenance": [],
      "toc_visible": true
    },
    "kernelspec": {
      "name": "python3",
      "display_name": "Python 3"
    },
    "language_info": {
      "name": "python"
    }
  },
  "cells": [
    {
      "cell_type": "markdown",
      "source": [
        "# Fetching Data"
      ],
      "metadata": {
        "id": "_sYB7fYd3KT5"
      }
    },
    {
      "cell_type": "markdown",
      "source": [
        "## Using `requests`"
      ],
      "metadata": {
        "id": "9vfqh3dw-Fq9"
      }
    },
    {
      "cell_type": "markdown",
      "source": [
        "`requests` used for making HTTP requests to interact with APIs and web services. It provides a simple and user-friendly interface for sending various types of HTTP requests, such as GET, POST, PUT, DELETE, etc., and handling responses. The `requests` library is widely used for web scraping, API integration, and making HTTP calls in general.\n",
        "\n",
        "Next, we will send HTTP requests, specifically `GET` to access an API that stores weather and earthquake data in Indonesia."
      ],
      "metadata": {
        "id": "KhUsETxwVi1W"
      }
    },
    {
      "cell_type": "code",
      "source": [
        "import requests"
      ],
      "metadata": {
        "id": "R-WhXtCowg6S"
      },
      "execution_count": null,
      "outputs": []
    },
    {
      "cell_type": "markdown",
      "source": [
        "To access the API, we just call the `.get` method and input the API's url. The output will be an information of request status. If we successfully access the API, it will give a 200 response."
      ],
      "metadata": {
        "id": "bgZCj2zeWJiX"
      }
    },
    {
      "cell_type": "code",
      "source": [
        "response = requests.get(\"https://cuaca-gempa-rest-api.vercel.app\")\n",
        "response"
      ],
      "metadata": {
        "colab": {
          "base_uri": "https://localhost:8080/"
        },
        "id": "fqo_65Dn69YF",
        "outputId": "90f35bd4-ce81-4f9c-9bea-b7bc0e3da6f1"
      },
      "execution_count": null,
      "outputs": [
        {
          "output_type": "execute_result",
          "data": {
            "text/plain": [
              "<Response [200]>"
            ]
          },
          "metadata": {},
          "execution_count": 2
        }
      ]
    },
    {
      "cell_type": "markdown",
      "source": [
        "We can specifically access the response status code by `.status_code` attribute."
      ],
      "metadata": {
        "id": "77-G9fAnWby2"
      }
    },
    {
      "cell_type": "code",
      "source": [
        "dir(response)"
      ],
      "metadata": {
        "colab": {
          "base_uri": "https://localhost:8080/"
        },
        "id": "Ry8Opa9jFMR5",
        "outputId": "3f5e3843-0383-4696-8c41-eedeb64416cc"
      },
      "execution_count": null,
      "outputs": [
        {
          "output_type": "execute_result",
          "data": {
            "text/plain": [
              "['__attrs__',\n",
              " '__bool__',\n",
              " '__class__',\n",
              " '__delattr__',\n",
              " '__dict__',\n",
              " '__dir__',\n",
              " '__doc__',\n",
              " '__enter__',\n",
              " '__eq__',\n",
              " '__exit__',\n",
              " '__format__',\n",
              " '__ge__',\n",
              " '__getattribute__',\n",
              " '__getstate__',\n",
              " '__gt__',\n",
              " '__hash__',\n",
              " '__init__',\n",
              " '__init_subclass__',\n",
              " '__iter__',\n",
              " '__le__',\n",
              " '__lt__',\n",
              " '__module__',\n",
              " '__ne__',\n",
              " '__new__',\n",
              " '__nonzero__',\n",
              " '__reduce__',\n",
              " '__reduce_ex__',\n",
              " '__repr__',\n",
              " '__setattr__',\n",
              " '__setstate__',\n",
              " '__sizeof__',\n",
              " '__str__',\n",
              " '__subclasshook__',\n",
              " '__weakref__',\n",
              " '_content',\n",
              " '_content_consumed',\n",
              " '_next',\n",
              " 'apparent_encoding',\n",
              " 'close',\n",
              " 'connection',\n",
              " 'content',\n",
              " 'cookies',\n",
              " 'elapsed',\n",
              " 'encoding',\n",
              " 'headers',\n",
              " 'history',\n",
              " 'is_permanent_redirect',\n",
              " 'is_redirect',\n",
              " 'iter_content',\n",
              " 'iter_lines',\n",
              " 'json',\n",
              " 'links',\n",
              " 'next',\n",
              " 'ok',\n",
              " 'raise_for_status',\n",
              " 'raw',\n",
              " 'reason',\n",
              " 'request',\n",
              " 'status_code',\n",
              " 'text',\n",
              " 'url']"
            ]
          },
          "metadata": {},
          "execution_count": 3
        }
      ]
    },
    {
      "cell_type": "code",
      "source": [
        "response.status_code"
      ],
      "metadata": {
        "colab": {
          "base_uri": "https://localhost:8080/"
        },
        "id": "hcp5QOrq-Rm5",
        "outputId": "5b13dd0a-81dd-4de3-ecec-aef2e542a503"
      },
      "execution_count": null,
      "outputs": [
        {
          "output_type": "execute_result",
          "data": {
            "text/plain": [
              "200"
            ]
          },
          "metadata": {},
          "execution_count": 4
        }
      ]
    },
    {
      "cell_type": "markdown",
      "source": [
        "All data or information that stored in API, will be in `json` format. So, by default, we can extract the json from the API using `.json()` method."
      ],
      "metadata": {
        "id": "NvQZEyPZWjOH"
      }
    },
    {
      "cell_type": "code",
      "source": [
        "response.json()"
      ],
      "metadata": {
        "colab": {
          "base_uri": "https://localhost:8080/"
        },
        "id": "4K5TVULZ7GjS",
        "outputId": "f6e30601-f419-4362-bf88-b3638fe58c16"
      },
      "execution_count": null,
      "outputs": [
        {
          "output_type": "execute_result",
          "data": {
            "text/plain": [
              "{'maintainer': 'Renova Muhamad Reza',\n",
              " 'source': 'https://github.com/renomureza/cuaca-gempa-rest-api',\n",
              " 'endpoint': {'quake': 'https://cuaca-gempa-rest-api.vercel.app/quake',\n",
              "  'weather': {'province': {'example': 'https://cuaca-gempa-rest-api.vercel.app/weather/jawa-barat'},\n",
              "   'city': {'example': 'https://cuaca-gempa-rest-api.vercel.app/weather/jawa-barat/bandung'}}}}"
            ]
          },
          "metadata": {},
          "execution_count": 5
        }
      ]
    },
    {
      "cell_type": "markdown",
      "source": [
        "Another example. We access the latest earthquake event:"
      ],
      "metadata": {
        "id": "v8cQvlBtW5Jx"
      }
    },
    {
      "cell_type": "code",
      "source": [
        "url = 'https://cuaca-gempa-rest-api.vercel.app/quake'\n",
        "response = requests.get(url)\n",
        "\n",
        "print(response.status_code)\n",
        "response.json()"
      ],
      "metadata": {
        "colab": {
          "base_uri": "https://localhost:8080/"
        },
        "id": "xZAVI6DXE4f9",
        "outputId": "31d60812-34a2-42eb-c555-cc199d0883de"
      },
      "execution_count": null,
      "outputs": [
        {
          "output_type": "stream",
          "name": "stdout",
          "text": [
            "200\n"
          ]
        },
        {
          "output_type": "execute_result",
          "data": {
            "text/plain": [
              "{'success': True,\n",
              " 'message': None,\n",
              " 'data': {'tanggal': '07 Agu 2023',\n",
              "  'jam': '17:35:14 WIB',\n",
              "  'datetime': '2023-08-07T10:35:14+00:00',\n",
              "  'coordinates': '-5.73,103.47',\n",
              "  'lintang': '5.73 LS',\n",
              "  'bujur': '103.47 BT',\n",
              "  'magnitude': '4.6',\n",
              "  'kedalaman': '10 km',\n",
              "  'wilayah': 'Pusat gempa berada di Laut 79 km BaratDaya Pesisir Barat',\n",
              "  'potensi': 'Gempa ini dirasakan untuk diteruskan pada masyarakat',\n",
              "  'dirasakan': 'II Liwa',\n",
              "  'shakemap': 'https://data.bmkg.go.id/DataMKG/TEWS/20230807173514.mmi.jpg'}}"
            ]
          },
          "metadata": {},
          "execution_count": 6
        }
      ]
    },
    {
      "cell_type": "markdown",
      "source": [
        "We can interact with data in the API by set the input parameter. The input parameters will be unique for each API and you only know by the documentation.\n",
        "\n",
        "Example below, we want to know the currency rate of USD to IDR."
      ],
      "metadata": {
        "id": "wt_LsObjXAkg"
      }
    },
    {
      "cell_type": "code",
      "source": [
        "url = 'https://api.exchangerate.host/convert?from=USD&to=IDR'\n",
        "response = requests.get(url)\n",
        "data = response.json()\n",
        "\n",
        "print(data)"
      ],
      "metadata": {
        "colab": {
          "base_uri": "https://localhost:8080/"
        },
        "id": "x7OMRseLELip",
        "outputId": "15ec1baf-44e5-4587-f0c9-b2fddebfcf73"
      },
      "execution_count": null,
      "outputs": [
        {
          "output_type": "stream",
          "name": "stdout",
          "text": [
            "{'motd': {'msg': 'If you or your company use this project or like what we doing, please consider backing us so we can continue maintaining and evolving this project.', 'url': 'https://exchangerate.host/#/donate'}, 'success': True, 'query': {'from': 'USD', 'to': 'IDR', 'amount': 1}, 'info': {'rate': 15202.584715}, 'historical': False, 'date': '2023-08-08', 'result': 15202.584715}\n"
          ]
        }
      ]
    },
    {
      "cell_type": "code",
      "source": [
        "# [UPDATE] To display the results vertically rather than horizontally\n",
        "\n",
        "from pprint import pprint\n",
        "pprint(data)"
      ],
      "metadata": {
        "colab": {
          "base_uri": "https://localhost:8080/"
        },
        "id": "_fR3JkEXulSe",
        "outputId": "a25cf0ec-1d5d-4829-8e96-da467633c23f"
      },
      "execution_count": null,
      "outputs": [
        {
          "output_type": "stream",
          "name": "stdout",
          "text": [
            "{'date': '2023-08-08',\n",
            " 'historical': False,\n",
            " 'info': {'rate': 15202.584715},\n",
            " 'motd': {'msg': 'If you or your company use this project or like what we '\n",
            "                 'doing, please consider backing us so we can continue '\n",
            "                 'maintaining and evolving this project.',\n",
            "          'url': 'https://exchangerate.host/#/donate'},\n",
            " 'query': {'amount': 1, 'from': 'USD', 'to': 'IDR'},\n",
            " 'result': 15202.584715,\n",
            " 'success': True}\n"
          ]
        }
      ]
    },
    {
      "cell_type": "markdown",
      "source": [
        "## Read Data from API with Pandas\n",
        "\n",
        "Pandas is a powerful library to read and manipulation data. Pandas can read json that stored in API (online) or a json file, and then stored to a Data Frame."
      ],
      "metadata": {
        "id": "fMb6jC1z-Ivx"
      }
    },
    {
      "cell_type": "code",
      "source": [
        "import pandas as pd\n",
        "import json\n",
        "\n",
        "url = 'https://data.jabarprov.go.id/api-backend/bigdata/diskanlut/od_15086_angka_konsumsi_ikan_berdasarkan_tahun'\n",
        "response = requests.get(url)\n",
        "\n",
        "print(response.status_code)\n",
        "json = response.json()"
      ],
      "metadata": {
        "colab": {
          "base_uri": "https://localhost:8080/"
        },
        "id": "4mGtWV5EFIs7",
        "outputId": "3b4ef05d-a9a4-492e-d650-4423c964a413"
      },
      "execution_count": null,
      "outputs": [
        {
          "output_type": "stream",
          "name": "stdout",
          "text": [
            "200\n"
          ]
        }
      ]
    },
    {
      "cell_type": "markdown",
      "source": [
        "As you know that json is the same as Python dictionary so we can access the keys and the values. For example, we access the keys to give us an overview about the data location."
      ],
      "metadata": {
        "id": "KL2JJgkwXpLc"
      }
    },
    {
      "cell_type": "code",
      "source": [
        "json.keys()"
      ],
      "metadata": {
        "colab": {
          "base_uri": "https://localhost:8080/"
        },
        "id": "3-aQnEnYMq9y",
        "outputId": "a0f3a04f-5e3a-4e60-cb89-aaabd2f59106"
      },
      "execution_count": null,
      "outputs": [
        {
          "output_type": "execute_result",
          "data": {
            "text/plain": [
              "dict_keys(['message', 'error', 'data', 'metadata', 'meta', 'metadata_filter'])"
            ]
          },
          "metadata": {},
          "execution_count": 10
        }
      ]
    },
    {
      "cell_type": "markdown",
      "source": [
        "It seems that the data are stored in `data` key. To make sure our assumption, we need to transform the json into data frame using `pd.json_normalize` or `pd.read_json`"
      ],
      "metadata": {
        "id": "G3muKo_3X40w"
      }
    },
    {
      "cell_type": "code",
      "source": [
        "# [UPDATE] See the data\n",
        "\n",
        "json['data']"
      ],
      "metadata": {
        "colab": {
          "base_uri": "https://localhost:8080/"
        },
        "id": "EnIG5QqEQU8-",
        "outputId": "b11e6bdc-ca82-4eb8-b981-27875487ca6e"
      },
      "execution_count": null,
      "outputs": [
        {
          "output_type": "execute_result",
          "data": {
            "text/plain": [
              "[{'id': 1,\n",
              "  'kode_provinsi': 32,\n",
              "  'nama_provinsi': 'JAWA BARAT',\n",
              "  'target_konsumsi_ikan': 23.89,\n",
              "  'realisasi_konsumsi_ikan': 24.57,\n",
              "  'satuan': 'KILOGRAM PER KAPITA PER TAHUN',\n",
              "  'tahun': 2014},\n",
              " {'id': 2,\n",
              "  'kode_provinsi': 32,\n",
              "  'nama_provinsi': 'JAWA BARAT',\n",
              "  'target_konsumsi_ikan': 25.41,\n",
              "  'realisasi_konsumsi_ikan': 25.88,\n",
              "  'satuan': 'KILOGRAM PER KAPITA PER TAHUN',\n",
              "  'tahun': 2015},\n",
              " {'id': 3,\n",
              "  'kode_provinsi': 32,\n",
              "  'nama_provinsi': 'JAWA BARAT',\n",
              "  'target_konsumsi_ikan': 27.35,\n",
              "  'realisasi_konsumsi_ikan': 27.7,\n",
              "  'satuan': 'KILOGRAM PER KAPITA PER TAHUN',\n",
              "  'tahun': 2016},\n",
              " {'id': 4,\n",
              "  'kode_provinsi': 32,\n",
              "  'nama_provinsi': 'JAWA BARAT',\n",
              "  'target_konsumsi_ikan': 28.53,\n",
              "  'realisasi_konsumsi_ikan': 28.6,\n",
              "  'satuan': 'KILOGRAM PER KAPITA PER TAHUN',\n",
              "  'tahun': 2017},\n",
              " {'id': 5,\n",
              "  'kode_provinsi': 32,\n",
              "  'nama_provinsi': 'JAWA BARAT',\n",
              "  'target_konsumsi_ikan': 29.46,\n",
              "  'realisasi_konsumsi_ikan': 29.64,\n",
              "  'satuan': 'KILOGRAM PER KAPITA PER TAHUN',\n",
              "  'tahun': 2018},\n",
              " {'id': 6,\n",
              "  'kode_provinsi': 32,\n",
              "  'nama_provinsi': 'JAWA BARAT',\n",
              "  'target_konsumsi_ikan': 30.34,\n",
              "  'realisasi_konsumsi_ikan': 30.53,\n",
              "  'satuan': 'KILOGRAM PER KAPITA PER TAHUN',\n",
              "  'tahun': 2019},\n",
              " {'id': 7,\n",
              "  'kode_provinsi': 32,\n",
              "  'nama_provinsi': 'JAWA BARAT',\n",
              "  'target_konsumsi_ikan': 28.0,\n",
              "  'realisasi_konsumsi_ikan': 37.01,\n",
              "  'satuan': 'KILOGRAM PER KAPITA PER TAHUN',\n",
              "  'tahun': 2020},\n",
              " {'id': 8,\n",
              "  'kode_provinsi': 32,\n",
              "  'nama_provinsi': 'JAWA BARAT',\n",
              "  'target_konsumsi_ikan': 28.31,\n",
              "  'realisasi_konsumsi_ikan': 37.71,\n",
              "  'satuan': 'KILOGRAM PER KAPITA PER TAHUN',\n",
              "  'tahun': 2021}]"
            ]
          },
          "metadata": {},
          "execution_count": 11
        }
      ]
    },
    {
      "cell_type": "code",
      "source": [
        "data = pd.json_normalize(json['data'])\n",
        "data"
      ],
      "metadata": {
        "colab": {
          "base_uri": "https://localhost:8080/",
          "height": 483
        },
        "id": "3II0IWy4GigP",
        "outputId": "ab305481-3502-43c9-db5c-6bdb9e5d1f57"
      },
      "execution_count": null,
      "outputs": [
        {
          "output_type": "execute_result",
          "data": {
            "text/plain": [
              "   id  kode_provinsi nama_provinsi  target_konsumsi_ikan  \\\n",
              "0   1             32    JAWA BARAT                 23.89   \n",
              "1   2             32    JAWA BARAT                 25.41   \n",
              "2   3             32    JAWA BARAT                 27.35   \n",
              "3   4             32    JAWA BARAT                 28.53   \n",
              "4   5             32    JAWA BARAT                 29.46   \n",
              "5   6             32    JAWA BARAT                 30.34   \n",
              "6   7             32    JAWA BARAT                 28.00   \n",
              "7   8             32    JAWA BARAT                 28.31   \n",
              "\n",
              "   realisasi_konsumsi_ikan                         satuan  tahun  \n",
              "0                    24.57  KILOGRAM PER KAPITA PER TAHUN   2014  \n",
              "1                    25.88  KILOGRAM PER KAPITA PER TAHUN   2015  \n",
              "2                    27.70  KILOGRAM PER KAPITA PER TAHUN   2016  \n",
              "3                    28.60  KILOGRAM PER KAPITA PER TAHUN   2017  \n",
              "4                    29.64  KILOGRAM PER KAPITA PER TAHUN   2018  \n",
              "5                    30.53  KILOGRAM PER KAPITA PER TAHUN   2019  \n",
              "6                    37.01  KILOGRAM PER KAPITA PER TAHUN   2020  \n",
              "7                    37.71  KILOGRAM PER KAPITA PER TAHUN   2021  "
            ],
            "text/html": [
              "\n",
              "\n",
              "  <div id=\"df-676c60b5-c769-4339-bb4b-384eaf6177f0\">\n",
              "    <div class=\"colab-df-container\">\n",
              "      <div>\n",
              "<style scoped>\n",
              "    .dataframe tbody tr th:only-of-type {\n",
              "        vertical-align: middle;\n",
              "    }\n",
              "\n",
              "    .dataframe tbody tr th {\n",
              "        vertical-align: top;\n",
              "    }\n",
              "\n",
              "    .dataframe thead th {\n",
              "        text-align: right;\n",
              "    }\n",
              "</style>\n",
              "<table border=\"1\" class=\"dataframe\">\n",
              "  <thead>\n",
              "    <tr style=\"text-align: right;\">\n",
              "      <th></th>\n",
              "      <th>id</th>\n",
              "      <th>kode_provinsi</th>\n",
              "      <th>nama_provinsi</th>\n",
              "      <th>target_konsumsi_ikan</th>\n",
              "      <th>realisasi_konsumsi_ikan</th>\n",
              "      <th>satuan</th>\n",
              "      <th>tahun</th>\n",
              "    </tr>\n",
              "  </thead>\n",
              "  <tbody>\n",
              "    <tr>\n",
              "      <th>0</th>\n",
              "      <td>1</td>\n",
              "      <td>32</td>\n",
              "      <td>JAWA BARAT</td>\n",
              "      <td>23.89</td>\n",
              "      <td>24.57</td>\n",
              "      <td>KILOGRAM PER KAPITA PER TAHUN</td>\n",
              "      <td>2014</td>\n",
              "    </tr>\n",
              "    <tr>\n",
              "      <th>1</th>\n",
              "      <td>2</td>\n",
              "      <td>32</td>\n",
              "      <td>JAWA BARAT</td>\n",
              "      <td>25.41</td>\n",
              "      <td>25.88</td>\n",
              "      <td>KILOGRAM PER KAPITA PER TAHUN</td>\n",
              "      <td>2015</td>\n",
              "    </tr>\n",
              "    <tr>\n",
              "      <th>2</th>\n",
              "      <td>3</td>\n",
              "      <td>32</td>\n",
              "      <td>JAWA BARAT</td>\n",
              "      <td>27.35</td>\n",
              "      <td>27.70</td>\n",
              "      <td>KILOGRAM PER KAPITA PER TAHUN</td>\n",
              "      <td>2016</td>\n",
              "    </tr>\n",
              "    <tr>\n",
              "      <th>3</th>\n",
              "      <td>4</td>\n",
              "      <td>32</td>\n",
              "      <td>JAWA BARAT</td>\n",
              "      <td>28.53</td>\n",
              "      <td>28.60</td>\n",
              "      <td>KILOGRAM PER KAPITA PER TAHUN</td>\n",
              "      <td>2017</td>\n",
              "    </tr>\n",
              "    <tr>\n",
              "      <th>4</th>\n",
              "      <td>5</td>\n",
              "      <td>32</td>\n",
              "      <td>JAWA BARAT</td>\n",
              "      <td>29.46</td>\n",
              "      <td>29.64</td>\n",
              "      <td>KILOGRAM PER KAPITA PER TAHUN</td>\n",
              "      <td>2018</td>\n",
              "    </tr>\n",
              "    <tr>\n",
              "      <th>5</th>\n",
              "      <td>6</td>\n",
              "      <td>32</td>\n",
              "      <td>JAWA BARAT</td>\n",
              "      <td>30.34</td>\n",
              "      <td>30.53</td>\n",
              "      <td>KILOGRAM PER KAPITA PER TAHUN</td>\n",
              "      <td>2019</td>\n",
              "    </tr>\n",
              "    <tr>\n",
              "      <th>6</th>\n",
              "      <td>7</td>\n",
              "      <td>32</td>\n",
              "      <td>JAWA BARAT</td>\n",
              "      <td>28.00</td>\n",
              "      <td>37.01</td>\n",
              "      <td>KILOGRAM PER KAPITA PER TAHUN</td>\n",
              "      <td>2020</td>\n",
              "    </tr>\n",
              "    <tr>\n",
              "      <th>7</th>\n",
              "      <td>8</td>\n",
              "      <td>32</td>\n",
              "      <td>JAWA BARAT</td>\n",
              "      <td>28.31</td>\n",
              "      <td>37.71</td>\n",
              "      <td>KILOGRAM PER KAPITA PER TAHUN</td>\n",
              "      <td>2021</td>\n",
              "    </tr>\n",
              "  </tbody>\n",
              "</table>\n",
              "</div>\n",
              "      <button class=\"colab-df-convert\" onclick=\"convertToInteractive('df-676c60b5-c769-4339-bb4b-384eaf6177f0')\"\n",
              "              title=\"Convert this dataframe to an interactive table.\"\n",
              "              style=\"display:none;\">\n",
              "\n",
              "  <svg xmlns=\"http://www.w3.org/2000/svg\" height=\"24px\"viewBox=\"0 0 24 24\"\n",
              "       width=\"24px\">\n",
              "    <path d=\"M0 0h24v24H0V0z\" fill=\"none\"/>\n",
              "    <path d=\"M18.56 5.44l.94 2.06.94-2.06 2.06-.94-2.06-.94-.94-2.06-.94 2.06-2.06.94zm-11 1L8.5 8.5l.94-2.06 2.06-.94-2.06-.94L8.5 2.5l-.94 2.06-2.06.94zm10 10l.94 2.06.94-2.06 2.06-.94-2.06-.94-.94-2.06-.94 2.06-2.06.94z\"/><path d=\"M17.41 7.96l-1.37-1.37c-.4-.4-.92-.59-1.43-.59-.52 0-1.04.2-1.43.59L10.3 9.45l-7.72 7.72c-.78.78-.78 2.05 0 2.83L4 21.41c.39.39.9.59 1.41.59.51 0 1.02-.2 1.41-.59l7.78-7.78 2.81-2.81c.8-.78.8-2.07 0-2.86zM5.41 20L4 18.59l7.72-7.72 1.47 1.35L5.41 20z\"/>\n",
              "  </svg>\n",
              "      </button>\n",
              "\n",
              "\n",
              "\n",
              "    <div id=\"df-123eca42-6c1d-4904-94bf-ddf771eede3b\">\n",
              "      <button class=\"colab-df-quickchart\" onclick=\"quickchart('df-123eca42-6c1d-4904-94bf-ddf771eede3b')\"\n",
              "              title=\"Suggest charts.\"\n",
              "              style=\"display:none;\">\n",
              "\n",
              "<svg xmlns=\"http://www.w3.org/2000/svg\" height=\"24px\"viewBox=\"0 0 24 24\"\n",
              "     width=\"24px\">\n",
              "    <g>\n",
              "        <path d=\"M19 3H5c-1.1 0-2 .9-2 2v14c0 1.1.9 2 2 2h14c1.1 0 2-.9 2-2V5c0-1.1-.9-2-2-2zM9 17H7v-7h2v7zm4 0h-2V7h2v10zm4 0h-2v-4h2v4z\"/>\n",
              "    </g>\n",
              "</svg>\n",
              "      </button>\n",
              "    </div>\n",
              "\n",
              "<style>\n",
              "  .colab-df-quickchart {\n",
              "    background-color: #E8F0FE;\n",
              "    border: none;\n",
              "    border-radius: 50%;\n",
              "    cursor: pointer;\n",
              "    display: none;\n",
              "    fill: #1967D2;\n",
              "    height: 32px;\n",
              "    padding: 0 0 0 0;\n",
              "    width: 32px;\n",
              "  }\n",
              "\n",
              "  .colab-df-quickchart:hover {\n",
              "    background-color: #E2EBFA;\n",
              "    box-shadow: 0px 1px 2px rgba(60, 64, 67, 0.3), 0px 1px 3px 1px rgba(60, 64, 67, 0.15);\n",
              "    fill: #174EA6;\n",
              "  }\n",
              "\n",
              "  [theme=dark] .colab-df-quickchart {\n",
              "    background-color: #3B4455;\n",
              "    fill: #D2E3FC;\n",
              "  }\n",
              "\n",
              "  [theme=dark] .colab-df-quickchart:hover {\n",
              "    background-color: #434B5C;\n",
              "    box-shadow: 0px 1px 3px 1px rgba(0, 0, 0, 0.15);\n",
              "    filter: drop-shadow(0px 1px 2px rgba(0, 0, 0, 0.3));\n",
              "    fill: #FFFFFF;\n",
              "  }\n",
              "</style>\n",
              "\n",
              "    <script>\n",
              "      async function quickchart(key) {\n",
              "        const containerElement = document.querySelector('#' + key);\n",
              "        const charts = await google.colab.kernel.invokeFunction(\n",
              "            'suggestCharts', [key], {});\n",
              "      }\n",
              "    </script>\n",
              "\n",
              "      <script>\n",
              "\n",
              "function displayQuickchartButton(domScope) {\n",
              "  let quickchartButtonEl =\n",
              "    domScope.querySelector('#df-123eca42-6c1d-4904-94bf-ddf771eede3b button.colab-df-quickchart');\n",
              "  quickchartButtonEl.style.display =\n",
              "    google.colab.kernel.accessAllowed ? 'block' : 'none';\n",
              "}\n",
              "\n",
              "        displayQuickchartButton(document);\n",
              "      </script>\n",
              "      <style>\n",
              "    .colab-df-container {\n",
              "      display:flex;\n",
              "      flex-wrap:wrap;\n",
              "      gap: 12px;\n",
              "    }\n",
              "\n",
              "    .colab-df-convert {\n",
              "      background-color: #E8F0FE;\n",
              "      border: none;\n",
              "      border-radius: 50%;\n",
              "      cursor: pointer;\n",
              "      display: none;\n",
              "      fill: #1967D2;\n",
              "      height: 32px;\n",
              "      padding: 0 0 0 0;\n",
              "      width: 32px;\n",
              "    }\n",
              "\n",
              "    .colab-df-convert:hover {\n",
              "      background-color: #E2EBFA;\n",
              "      box-shadow: 0px 1px 2px rgba(60, 64, 67, 0.3), 0px 1px 3px 1px rgba(60, 64, 67, 0.15);\n",
              "      fill: #174EA6;\n",
              "    }\n",
              "\n",
              "    [theme=dark] .colab-df-convert {\n",
              "      background-color: #3B4455;\n",
              "      fill: #D2E3FC;\n",
              "    }\n",
              "\n",
              "    [theme=dark] .colab-df-convert:hover {\n",
              "      background-color: #434B5C;\n",
              "      box-shadow: 0px 1px 3px 1px rgba(0, 0, 0, 0.15);\n",
              "      filter: drop-shadow(0px 1px 2px rgba(0, 0, 0, 0.3));\n",
              "      fill: #FFFFFF;\n",
              "    }\n",
              "  </style>\n",
              "\n",
              "      <script>\n",
              "        const buttonEl =\n",
              "          document.querySelector('#df-676c60b5-c769-4339-bb4b-384eaf6177f0 button.colab-df-convert');\n",
              "        buttonEl.style.display =\n",
              "          google.colab.kernel.accessAllowed ? 'block' : 'none';\n",
              "\n",
              "        async function convertToInteractive(key) {\n",
              "          const element = document.querySelector('#df-676c60b5-c769-4339-bb4b-384eaf6177f0');\n",
              "          const dataTable =\n",
              "            await google.colab.kernel.invokeFunction('convertToInteractive',\n",
              "                                                     [key], {});\n",
              "          if (!dataTable) return;\n",
              "\n",
              "          const docLinkHtml = 'Like what you see? Visit the ' +\n",
              "            '<a target=\"_blank\" href=https://colab.research.google.com/notebooks/data_table.ipynb>data table notebook</a>'\n",
              "            + ' to learn more about interactive tables.';\n",
              "          element.innerHTML = '';\n",
              "          dataTable['output_type'] = 'display_data';\n",
              "          await google.colab.output.renderOutput(dataTable, element);\n",
              "          const docLink = document.createElement('div');\n",
              "          docLink.innerHTML = docLinkHtml;\n",
              "          element.appendChild(docLink);\n",
              "        }\n",
              "      </script>\n",
              "    </div>\n",
              "  </div>\n"
            ]
          },
          "metadata": {},
          "execution_count": 12
        }
      ]
    },
    {
      "cell_type": "markdown",
      "source": [
        "# FastAPI\n",
        "\n",
        "We've already known how to access or fetch an API using `requests` library. However, how to create an API by ourself?\n",
        "\n",
        "Fortunately, Python has a library for building API which is `FastAPI`."
      ],
      "metadata": {
        "id": "rF5T80AJ3GCj"
      }
    },
    {
      "cell_type": "markdown",
      "source": [
        "## SETUP"
      ],
      "metadata": {
        "id": "f2Zh1hTMbHUI"
      }
    },
    {
      "cell_type": "markdown",
      "source": [
        "In order to practice making an API, you will use Visual Studio Code and create a Python script file (.py). After that, you will run it locally.\n",
        "\n",
        "But, before we further do, let's install the FastAPI and Uvicorn using this command:\n",
        "```\n",
        "pip install fastapi uvicorn[standard]\n",
        "```\n",
        "\n",
        "FastAPI is a library that we use for making the APIs and Uvicorn will be our API server."
      ],
      "metadata": {
        "id": "oeq0o_20XZEJ"
      }
    },
    {
      "cell_type": "markdown",
      "source": [
        "## Create Our First API\n",
        "\n",
        "```python\n",
        "from fastapi import FastAPI\n",
        "\n",
        "app = FastAPI()\n",
        "\n",
        "@app.get(\"/\")\n",
        "def root():\n",
        "    return {\"message\": \"Hello World\"}\n",
        "\n",
        "```\n",
        "\n",
        "**Explaination**:\n",
        "\n",
        "1. `from fastapi import FastAPI`: This line imports the `FastAPI` class from the `fastapi` module. `FastAPI` is the main class that allows us to create and define our API routes.\n",
        "\n",
        "2. `app = FastAPI()`: This line creates an instance of the `FastAPI` class and assigns it to the variable `app`. This `app` object will be used to define our API's routes and their corresponding functions.\n",
        "\n",
        "3. `@app.get(\"/\")`: This is a decorator provided by FastAPI, used to define a route for handling GET requests. In this case, the route is specified as \"/\". The function immediately below this decorator (`root()`) will be executed when the server receives a GET request to the root URL (\"/\").\n",
        "\n",
        "4. `def root():`: This is the Python function that handles the GET request to the root URL. When a GET request is made to the root URL (\"/\"), this function is executed.\n",
        "\n",
        "5. `return {\"message\": \"Hello World\"}`: This line returns a Python dictionary as the response to the GET request. The dictionary contains a single key-value pair, where the key is \"message,\" and the value is \"Hello World.\""
      ],
      "metadata": {
        "id": "G1B8nPnmb4-x"
      }
    },
    {
      "cell_type": "markdown",
      "source": [
        "\n",
        "\n",
        "To running the script :\n",
        "\n",
        "```\n",
        "uvicorn <filename-without-the-extension>:<fast-api-instance> --reload\n",
        "```\n",
        "\n",
        "For example if your filename is `main.py` and the instance of `FastAPI()` is called `app`, then the script will be :\n",
        "```\n",
        "uvicorn main:app --reload\n",
        "```\n",
        "\n",
        "or\n",
        "```\n",
        "python -m uvicorn main:app --reload\n",
        "```"
      ],
      "metadata": {
        "id": "eXnG211AvPpE"
      }
    },
    {
      "cell_type": "markdown",
      "source": [
        "### **Explore the Swagger UI**\n",
        "\n",
        "You may need to access the 'docs' via http://localhost:8000/docs\n",
        "\n",
        "If you already enter the Swagger UI, you can easily interact with your API without any code."
      ],
      "metadata": {
        "id": "Vds7PBioEYa-"
      }
    },
    {
      "cell_type": "markdown",
      "source": [
        "## Defining Endpoints\n",
        "\n",
        "You may use the Swagger UI or using Python to test your API"
      ],
      "metadata": {
        "id": "Znx5aSnDd2hv"
      }
    },
    {
      "cell_type": "markdown",
      "source": [
        "### GET\n",
        "\n",
        "Here's our app.py to practice creating an API for `GET` function only:\n",
        "\n",
        "```python\n",
        "from fastapi import FastAPI\n",
        "\n",
        "app = FastAPI()\n",
        "\n",
        "@app.get(\"/\")\n",
        "def root():\n",
        "  return \"This is the main endpoint of this API\"\n",
        "\n",
        "@app.get(\"/names/{name}\")\n",
        "def read_name(name):\n",
        "  return {\"name\":name,\"message\":f\"Hello, my name is {name}\"}\n",
        "\n",
        "@app.get(\"/items/{id}\")\n",
        "def read_items(id):\n",
        "  return {\"id\":id}\n",
        "```\n",
        "\n",
        "To run, you can run the url, `https://localhost:8000/` or `https://localhost:8000/your_name` or `https://localhost:8000/id` on your browser."
      ],
      "metadata": {
        "id": "lNGSW9VapiK9"
      }
    },
    {
      "cell_type": "markdown",
      "source": [
        "### PUT\n",
        "\n",
        "Here's our app.py for updating existing data:\n",
        "\n",
        "```python\n",
        "from fastapi import FastAPI\n",
        "\n",
        "app = FastAPI()\n",
        "\n",
        "df = {\n",
        "    1: {\"name\": \"Hana\", \"age\": 10},\n",
        "    2: {\"name\": \"Rifdah\", \"age\": 18}\n",
        "}\n",
        "\n",
        "@app.get('/data')\n",
        "def read_data():\n",
        "    return df\n",
        "\n",
        "@app.put(\"/items/{item_id}\")\n",
        "def update_item(item_id: int, update_data: dict):\n",
        "\n",
        "    # Perform the update using the data from the request body\n",
        "    df[item_id].update(update_data)\n",
        "\n",
        "    return {\"message\": f\"Item with ID {item_id} has been updated successfully.\"}\n",
        "```\n",
        "\n",
        "Remember that, the way yout update data, it depends of the data type that stored the data. It's different if we using list or dictionary.\n",
        "\n",
        "To test our API, we can fetch the data using local notebook.\n",
        "\n",
        "Codes to be running on your local notebook:\n",
        "\n",
        "```\n",
        "import requests\n",
        "\n",
        "url = \"http://localhost:8000/items/1\"\n",
        "\n",
        "response = requests.put(url, json={\"name\":\"Fahmi\", \"age\":13})\n",
        "print(response.status_code)\n",
        "print(response.json())\n",
        "```\n",
        "\n",
        "or just access the Swagger UI."
      ],
      "metadata": {
        "id": "CbWkTTaGplNL"
      }
    },
    {
      "cell_type": "markdown",
      "source": [
        "### POST\n",
        "\n",
        "Here's our app.py for posting a new data:\n",
        "\n",
        "```python\n",
        "from fastapi import FastAPI\n",
        "\n",
        "app = FastAPI()\n",
        "\n",
        "data = []\n",
        "\n",
        "@app.get('/')\n",
        "def cart():\n",
        "    if len(data)==0:\n",
        "        return \"There are no items in your cart\"\n",
        "    else:\n",
        "        return data\n",
        "\n",
        "@app.post('/input_data/')\n",
        "def add_cart(added_item:dict):\n",
        "    id = len(data) + 1\n",
        "    added_item['id'] = id\n",
        "    data.append(added_item)\n",
        "    return added_item\n",
        "```\n",
        "\n",
        "Codes to be running on your local notebook:\n",
        "\n",
        "```python\n",
        "import requests\n",
        "\n",
        "url = \"http://localhost:8000/input_data/\"\n",
        "\n",
        "response = requests.post(url, json={\"id\":1, \"name\":\"Apple\", \"price\":5000})\n",
        "print(response.status_code)\n",
        "print(response.json())\n",
        "\n",
        "```\n",
        "or just access the Swagger UI."
      ],
      "metadata": {
        "id": "KGIjHkcEpnLL"
      }
    },
    {
      "cell_type": "markdown",
      "source": [
        "### DELETE\n",
        "\n",
        "Here's our app.py to detele a row in a data:\n",
        "```python\n",
        "from fastapi import FastAPI\n",
        "\n",
        "app = FastAPI()\n",
        "\n",
        "df = {\n",
        "    1: {\"name\": \"Hana\", \"age\": 10},\n",
        "    2: {\"name\": \"Rifdah\", \"age\": 18},\n",
        "    3: {\"name\": \"Sakinah\", \"age\": 27}\n",
        "}\n",
        "\n",
        "@app.get('/data')\n",
        "def read_data():\n",
        "    return df\n",
        "\n",
        "@app.delete(\"/items/{item_id}\")\n",
        "def delete_item(item_id: int):\n",
        "    df.pop(item_id)\n",
        "    return {\"message\": f\"Item with ID {item_id} has been deleted successfully.\"}\n",
        "```\n",
        "\n",
        "Code to test the endpoint:\n",
        "\n",
        "```python\n",
        "import requests\n",
        "url = \"http://localhost:8000/items/2\"\n",
        "\n",
        "response = requests.delete(url)\n",
        "print(response.status_code)\n",
        "print(response.json())\n",
        "\n",
        "```\n",
        "\n",
        "or just access the Swagger UI."
      ],
      "metadata": {
        "id": "4Yv6bjjipvXX"
      }
    },
    {
      "cell_type": "markdown",
      "source": [
        "## Error Handling\n",
        "\n",
        "Error handling is a crucial aspect of any web application, including APIs built with FastAPI. FastAPI provides robust error handling mechanisms to help developers manage errors, exceptions, and unexpected situations that may occur during the processing of incoming requests. Proper error handling ensures that the API provides meaningful and consistent responses to clients when errors occur."
      ],
      "metadata": {
        "id": "xAMYrUWQd-u9"
      }
    },
    {
      "cell_type": "markdown",
      "source": [
        "Now, let we take an error from this simple endpoint:\n",
        "\n",
        "```python\n",
        "from fastapi import FastAPI\n",
        "\n",
        "app = FastAPI()\n",
        "\n",
        "@app.get(\"/items/{id}\")\n",
        "def route(id: int):\n",
        "    return {\"item_id\": id}\n",
        "```\n",
        "We created an endpoint to handle `GET` requests by calling the `/items/id`. However, we expecting that the `id` to be an integer.\n",
        "\n",
        "If we input the id by using another data type, like this:\n",
        "```\n",
        "https://localhost:8000/items/two\n",
        "```\n",
        "\n",
        "You will get an error like this:\n",
        "\n",
        "```json\n",
        "{\"detail\":[{\"type\":\"int_parsing\",\n",
        "            \"loc\":[\"path\",\"id\"],\n",
        "            \"msg\":\"Input should be a valid integer, unable to parse string as an integer\",\n",
        "            \"input\":\"two\",\n",
        "            \"url\":\"https://errors.pydantic.dev/2.0.3/v/int_parsing\"\n",
        "            }]\n",
        "      }\n",
        "```"
      ],
      "metadata": {
        "id": "1lAtr6Gfox2N"
      }
    },
    {
      "cell_type": "markdown",
      "source": [
        "Another example. Our code below only provides two rows of data. Our next step is that we want to edit the existing data.\n",
        "\n",
        "```python\n",
        "from fastapi import FastAPI\n",
        "\n",
        "app = FastAPI()\n",
        "\n",
        "df = {\n",
        "    1: {\"name\": \"Hana\", \"age\": 10},\n",
        "    2: {\"name\": \"Rifdah\", \"age\": 18}\n",
        "}\n",
        "\n",
        "@app.get('/data')\n",
        "def read_data():\n",
        "    return df\n",
        "\n",
        "@app.put(\"/items/{item_id}\")\n",
        "def update_item(item_id: int, update_data: dict):\n",
        "    df[item_id].update(update_data)\n",
        "    return {\"message\": f\"Item with ID {item_id} has been updated successfully.\"}\n",
        "```\n",
        "\n",
        "However we set the item_id exceeding the number of rows consciously:\n",
        "\n",
        "```python\n",
        "import requests\n",
        "url = \"http://localhost:8000/items/5\"\n",
        "\n",
        "response = requests.delete(url)\n",
        "print(response.status_code)\n",
        "print(response.json())\n",
        "```\n",
        "\n",
        "What the error that you received?"
      ],
      "metadata": {
        "id": "sFfLY3MBOICN"
      }
    },
    {
      "cell_type": "markdown",
      "source": [
        "---\n",
        "> **[UPDATE]**\n",
        "\n",
        "```\n",
        "import requests\n",
        "url = \"http://localhost:8000/items/5\"\n",
        "\n",
        "response = requests.put(url)\n",
        "print(response.status_code)\n",
        "print(response.json())\n",
        "```"
      ],
      "metadata": {
        "id": "z2pgt5V_10oe"
      }
    },
    {
      "cell_type": "markdown",
      "source": [
        "### Raising HTTPException\n",
        "\n",
        "To handle those errors, we can raise the error using `HTTPException`. Handling errors using `HTTPException` is a common and effective approach in FastAPI. `HTTPException` allows you to raise and handle HTTP-related exceptions with specific status codes and error messages. It simplifies the process of returning meaningful and consistent error responses to clients when errors or exceptional situations occur during request processing.\n",
        "\n",
        "Here's the format of raising the error by response status code:\n",
        "\n",
        "```\n",
        "if condition:\n",
        "  raise HTTPException(status_code=<status>, detail=\"message\")\n",
        "```\n",
        "\n",
        "Example:\n",
        "\n",
        "```python\n",
        "from fastapi import FastAPI, HTTPException\n",
        "\n",
        "app = FastAPI()\n",
        "\n",
        "df = {\n",
        "    1: {\"name\": \"Hana\", \"age\": 10},\n",
        "    2: {\"name\": \"Rifdah\", \"age\": 18}\n",
        "}\n",
        "\n",
        "@app.get('/data')\n",
        "def read_data():\n",
        "    return df\n",
        "\n",
        "@app.put(\"/items/{item_id}\")\n",
        "def update_item(item_id: int, update_data: dict):\n",
        "    if item_id not in df.keys():\n",
        "      raise HTTPException(status_code=404, detail=f\"Item with ID {item_id} not found\")\n",
        "    df[item_id].update(update_data)\n",
        "    return {\"message\": f\"Item with ID {item_id} has been updated successfully.\"}\n",
        "\n",
        "```\n",
        "\n",
        "From the `raise HTTPException` above, when we meet the 404 not-found  error, the API will give message that `Item with ID xx not found`."
      ],
      "metadata": {
        "id": "oyt1NFmYkQ8V"
      }
    },
    {
      "cell_type": "markdown",
      "source": [
        "---\n",
        "\n",
        "## Use Case - Solve a Problem\n",
        "\n",
        "You are a developer working for a startup called \"Toko H8\" that specializes in online shopping. The company wants to build a simple shopping cart API to manage the items added to the users' shopping carts. They have provided you with some initial requirements and data for the API. Your task is to use FastAPI to create the API that allows users to view, add, edit, and delete items in their shopping carts.\n",
        "\n",
        "\n",
        "\n",
        "```python\n",
        "from fastapi import FastAPI, HTTPException\n",
        "\n",
        "app = FastAPI()\n",
        "\n",
        "data = {\"name\":\"shopping cart\",\n",
        "        \"columns\":[\"prod_name\",\"price\",\"num_items\"],\n",
        "        \"items\":{}}\n",
        "\n",
        "@app.get(\"/\")\n",
        "def root():\n",
        "    return {\"message\":\"Welcome to Toko H8 Shopping Cart! There are some features that you can explore\",\n",
        "            \"menu\":{1:\"See shopping cart (/cart)\",\n",
        "                    2:\"Add item (/add) - You may need request\",\n",
        "                    3:\"Edit shopping cart (/edit/id)\",\n",
        "                    4:\"Delete item from shopping cart (/del/id)\"}}\n",
        "\n",
        "@app.get(\"/cart\")\n",
        "def show():\n",
        "    return data\n",
        "\n",
        "@app.post(\"/add\")\n",
        "def add_item(added_item:dict):\n",
        "    id = len(data[\"items\"].keys())+1\n",
        "    data[\"items\"][id] = added_item\n",
        "    return f\"Item successfully added into your cart with ID {id}\"\n",
        "\n",
        "@app.put(\"/edit/{id}\")\n",
        "def update_cart(id:int,updated_cart:dict):\n",
        "    if id not in data['items'].keys():\n",
        "        raise HTTPException(status_code=404, detail=f\"Item with ID {id} not found\")\n",
        "    else:\n",
        "        data[\"items\"][id].update(updated_cart)\n",
        "        return {\"message\": f\"Item with ID {id} has been updated successfully.\"}\n",
        "\n",
        "@app.delete(\"/del/{id}\")\n",
        "def remove_row(id:int):\n",
        "    if id not in data['items'].keys():\n",
        "        raise HTTPException(status_code=404, detail=f\"Item with ID {id} not found\")\n",
        "    else:\n",
        "        data[\"items\"].pop(id)\n",
        "        return {\"message\": f\"Item with ID {id} has been deleted successfully.\"}\n",
        "\n",
        "```"
      ],
      "metadata": {
        "id": "tBHYuLxG26cy"
      }
    }
  ]
}
