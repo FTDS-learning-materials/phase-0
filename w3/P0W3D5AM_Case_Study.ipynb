{
  "nbformat": 4,
  "nbformat_minor": 0,
  "metadata": {
    "colab": {
      "provenance": []
    },
    "kernelspec": {
      "name": "python3",
      "display_name": "Python 3"
    },
    "language_info": {
      "name": "python"
    }
  },
  "cells": [
    {
      "cell_type": "markdown",
      "source": [
        "# Case Study - Customer Retention\n",
        "\n",
        "<center><img src=\"https://1000logos.net/wp-content/uploads/2023/04/Starbucks-logo.png\" height=216, width=384></img></center>\n",
        "\n",
        "#### You are a dedicated data analyst at Starbucks in Kuala Lumpur, Malaysia, have noticed a recent fluctuation in customer loyalty among in-store patrons. Your goal is to not only enhance customer satisfaction as a factor of customer retention but also pave the way for increased revenue."
      ],
      "metadata": {
        "id": "RqgupZ82G-31"
      }
    },
    {
      "cell_type": "markdown",
      "source": [
        "## Business Understanding"
      ],
      "metadata": {
        "id": "s0H0FBkN3aK4"
      }
    },
    {
      "cell_type": "markdown",
      "source": [
        "### Defining the Problem Statements\n",
        "\n",
        "Using SMART framework:\n",
        "\n",
        "1. **Specific**: Enhanching loyalty among existing customers especially in store.\n",
        "\n",
        "2. **Measurable**: Achieve 90% customer retention rate.\n",
        "\n",
        "3. **Achievable**: Increasing quality of product, service, in-store ambience along with the WIFI quality. Also, implement promos.\n",
        "\n",
        "4. **Relevant**: Increasing the customer retention can lead to achieve higher revenue.\n",
        "\n",
        "5. **Time-Bound**: Achieve within the next quarter.\n",
        "\n",
        "`Problem statement`:\n",
        "\n",
        "\n",
        "The goal is to enhance customer loyalty among existing in-store customers, aiming for a 90% customer retention rate within the next quarter. This will be achieved by improving product and service quality, enhancing in-store ambience, optimizing WIFI quality, and implementing strategic promotions, ultimately driving higher revenue.\n"
      ],
      "metadata": {
        "id": "cfU6Pp4rHJMP"
      }
    },
    {
      "cell_type": "markdown",
      "source": [
        "### Breaking Down the Problem\n",
        "\n",
        "Main problem: `improving customer retention as a metric of customer loyalty`\n",
        "\n",
        "To ease our analysis and solve the problem, we need to understand the detail about the problem. To do it, we can use any framework to find the problem's root such as `5W+1H`, `Fish Bond Diagram`, etc. However, we will use `5W+1H`.\n",
        "\n",
        "The `5W+1H`s:\n",
        "- What factors that can lead to customer retention improvement?\n",
        "- Who are people that be loyal to Starbucks?\n",
        "- How will the quality of products and services be enhanced to improve customer retention?\n",
        "- Why is improving customer retention important for company?\n",
        "- etc\n",
        "\n",
        "Moreover, we only focus to answer the top 3 questions to guide our analysis"
      ],
      "metadata": {
        "id": "Av7Uh1Hu2kyT"
      }
    },
    {
      "cell_type": "markdown",
      "source": [
        "## Data Understanding"
      ],
      "metadata": {
        "id": "q8PtR8Lj6Kpf"
      }
    },
    {
      "cell_type": "markdown",
      "source": [
        "### Basic Data Information\n",
        "\n",
        "**Dataset Description**\n",
        "\n",
        "> This dataset is composed of a survey questions of over 100 respondents for their buying behavior at Starbucks.\n",
        "Income is show in Malaysian Ringgit (RM)\n",
        "\n",
        "**Context**\n",
        "\n",
        "> Predict behavior to retain customers. You can analyze all relevant customer data and develop focused customer retention programs\n",
        "\n",
        "**Content**\n",
        "\n",
        "> Demographic info about customers – gender, age range, employment status, income range\n",
        "Their current behavior in buying Starbucks\n",
        "Facilities and features of Starbucks that contribute to the behavior\n",
        "\n",
        "**Columns**\n",
        "```\n",
        "Timestamp\n",
        "1. Your Gender\n",
        "2. Your Age\n",
        "3. Are you currently....?\n",
        "4. What is your annual income?\n",
        "5. How often do you visit Starbucks?\n",
        "6. How do you usually enjoy Starbucks?\n",
        "7. How much time do you normally  spend during your visit?\n",
        "8. The nearest Starbucks's outlet to you is...?\n",
        "9. Do you have Starbucks membership card?\n",
        "10. What do you most frequently purchase at Starbucks?\n",
        "11. On average, how much would you spend at Starbucks per visit?\n",
        "12. How would you rate the quality of Starbucks compared to other brands (Coffee Bean, Old Town White Coffee..) to be:\n",
        "13. How would you rate the price range at Starbucks?\n",
        "14. How important are sales and promotions in your purchase decision?\n",
        "15. How would you rate the ambiance at Starbucks? (lighting, music, etc...)\n",
        "16. You rate the WiFi quality at Starbucks as..\n",
        "17. How would you rate the service at Starbucks? (Promptness, friendliness, etc..)\n",
        "18. How likely you will choose Starbucks for doing business meetings or hangout with friends?\n",
        "19. How do you come to hear of promotions at Starbucks? Check all that apply.\n",
        "20. Will you continue buying at Starbucks?\n",
        "```"
      ],
      "metadata": {
        "id": "eY_kN0zn2ntd"
      }
    },
    {
      "cell_type": "code",
      "execution_count": null,
      "metadata": {
        "id": "JyNYnEWJ5I1Y"
      },
      "outputs": [],
      "source": [
        "import pandas as pd\n",
        "from scipy import stats\n",
        "import requests"
      ]
    },
    {
      "cell_type": "markdown",
      "source": [
        "Our data is from an API that you can access with this url: https:/p0w3casestudy.vercel.app/\n",
        "\n",
        "As we learned on day 2, to fetch data from API we can use requests along with `get` endpoint. In addition, we need to check the data type of the result. Is it in json, string, or something else.\n",
        "\n",
        "However, our result is dictionary, so we can directly convert into Pandas Data Frame."
      ],
      "metadata": {
        "id": "R1TQksfd-HdE"
      }
    },
    {
      "cell_type": "code",
      "source": [
        "url = \"https://p0w3casestudy.vercel.app/\"\n",
        "result = requests.get(url)\n",
        "print(type(result.json()))"
      ],
      "metadata": {
        "colab": {
          "base_uri": "https://localhost:8080/"
        },
        "id": "T5pk3vJC-V_y",
        "outputId": "4c08a1ee-3867-498d-aeef-a6a2e31cc45b"
      },
      "execution_count": null,
      "outputs": [
        {
          "output_type": "stream",
          "name": "stdout",
          "text": [
            "<class 'dict'>\n"
          ]
        }
      ]
    },
    {
      "cell_type": "code",
      "source": [
        "data = pd.DataFrame(result.json())\n",
        "data.head()"
      ],
      "metadata": {
        "colab": {
          "base_uri": "https://localhost:8080/",
          "height": 586
        },
        "id": "N1N5b_jXDUzf",
        "outputId": "04a44882-973e-4f9e-a3d8-1970af60263f"
      },
      "execution_count": null,
      "outputs": [
        {
          "output_type": "execute_result",
          "data": {
            "text/plain": [
              "                      Timestamp  Gender            Age Occupation  \\\n",
              "0  2019/10/01 12:38:43 PM GMT+8  Female  From 20 to 29    Student   \n",
              "1  2019/10/01 12:38:54 PM GMT+8  Female  From 20 to 29    Student   \n",
              "2  2019/10/01 12:38:56 PM GMT+8    Male  From 20 to 29   Employed   \n",
              "3  2019/10/01 12:39:08 PM GMT+8  Female  From 20 to 29    Student   \n",
              "4  2019/10/01 12:39:20 PM GMT+8    Male  From 20 to 29    Student   \n",
              "\n",
              "        Annual Income    Visit  Behaviour                    Time Spend  \\\n",
              "0  Less than RM25,000   Rarely    Dine in  Between 30 minutes to 1 hour   \n",
              "1  Less than RM25,000   Rarely  Take away              Below 30 minutes   \n",
              "2  Less than RM25,000  Monthly    Dine in  Between 30 minutes to 1 hour   \n",
              "3  Less than RM25,000   Rarely  Take away              Below 30 minutes   \n",
              "4  Less than RM25,000  Monthly  Take away  Between 30 minutes to 1 hour   \n",
              "\n",
              "        Distance Membership  ...         Money Spend Quality Rate  Price Rate  \\\n",
              "0     within 1km        Yes  ...      Less than RM20            4           3   \n",
              "1      1km - 3km        Yes  ...      Less than RM20            4           3   \n",
              "2  more than 3km        Yes  ...      Less than RM20            4           3   \n",
              "3  more than 3km         No  ...      Less than RM20            2           1   \n",
              "4      1km - 3km         No  ...  Around RM20 - RM40            3           3   \n",
              "\n",
              "   Importance of Promo  Ambience Rate  WIFI Rate  Service Rate  \\\n",
              "0                    5              5          4             4   \n",
              "1                    4              4          4             5   \n",
              "2                    4              4          4             4   \n",
              "3                    4              3          3             3   \n",
              "4                    4              2          2             3   \n",
              "\n",
              "   Preference Rate                                  Promotion Channel  \\\n",
              "0                3  Starbucks Website/Apps;Social Media;Emails;Dea...   \n",
              "1                2                     Social Media;In Store displays   \n",
              "2                3                       In Store displays;Billboards   \n",
              "3                3                  Through friends and word of mouth   \n",
              "4                3                Starbucks Website/Apps;Social Media   \n",
              "\n",
              "  Buying Again  \n",
              "0          Yes  \n",
              "1          Yes  \n",
              "2          Yes  \n",
              "3           No  \n",
              "4          Yes  \n",
              "\n",
              "[5 rows x 21 columns]"
            ],
            "text/html": [
              "\n",
              "\n",
              "  <div id=\"df-8a9f8be2-799d-42d9-b2df-2d215441ed3e\">\n",
              "    <div class=\"colab-df-container\">\n",
              "      <div>\n",
              "<style scoped>\n",
              "    .dataframe tbody tr th:only-of-type {\n",
              "        vertical-align: middle;\n",
              "    }\n",
              "\n",
              "    .dataframe tbody tr th {\n",
              "        vertical-align: top;\n",
              "    }\n",
              "\n",
              "    .dataframe thead th {\n",
              "        text-align: right;\n",
              "    }\n",
              "</style>\n",
              "<table border=\"1\" class=\"dataframe\">\n",
              "  <thead>\n",
              "    <tr style=\"text-align: right;\">\n",
              "      <th></th>\n",
              "      <th>Timestamp</th>\n",
              "      <th>Gender</th>\n",
              "      <th>Age</th>\n",
              "      <th>Occupation</th>\n",
              "      <th>Annual Income</th>\n",
              "      <th>Visit</th>\n",
              "      <th>Behaviour</th>\n",
              "      <th>Time Spend</th>\n",
              "      <th>Distance</th>\n",
              "      <th>Membership</th>\n",
              "      <th>...</th>\n",
              "      <th>Money Spend</th>\n",
              "      <th>Quality Rate</th>\n",
              "      <th>Price Rate</th>\n",
              "      <th>Importance of Promo</th>\n",
              "      <th>Ambience Rate</th>\n",
              "      <th>WIFI Rate</th>\n",
              "      <th>Service Rate</th>\n",
              "      <th>Preference Rate</th>\n",
              "      <th>Promotion Channel</th>\n",
              "      <th>Buying Again</th>\n",
              "    </tr>\n",
              "  </thead>\n",
              "  <tbody>\n",
              "    <tr>\n",
              "      <th>0</th>\n",
              "      <td>2019/10/01 12:38:43 PM GMT+8</td>\n",
              "      <td>Female</td>\n",
              "      <td>From 20 to 29</td>\n",
              "      <td>Student</td>\n",
              "      <td>Less than RM25,000</td>\n",
              "      <td>Rarely</td>\n",
              "      <td>Dine in</td>\n",
              "      <td>Between 30 minutes to 1 hour</td>\n",
              "      <td>within 1km</td>\n",
              "      <td>Yes</td>\n",
              "      <td>...</td>\n",
              "      <td>Less than RM20</td>\n",
              "      <td>4</td>\n",
              "      <td>3</td>\n",
              "      <td>5</td>\n",
              "      <td>5</td>\n",
              "      <td>4</td>\n",
              "      <td>4</td>\n",
              "      <td>3</td>\n",
              "      <td>Starbucks Website/Apps;Social Media;Emails;Dea...</td>\n",
              "      <td>Yes</td>\n",
              "    </tr>\n",
              "    <tr>\n",
              "      <th>1</th>\n",
              "      <td>2019/10/01 12:38:54 PM GMT+8</td>\n",
              "      <td>Female</td>\n",
              "      <td>From 20 to 29</td>\n",
              "      <td>Student</td>\n",
              "      <td>Less than RM25,000</td>\n",
              "      <td>Rarely</td>\n",
              "      <td>Take away</td>\n",
              "      <td>Below 30 minutes</td>\n",
              "      <td>1km - 3km</td>\n",
              "      <td>Yes</td>\n",
              "      <td>...</td>\n",
              "      <td>Less than RM20</td>\n",
              "      <td>4</td>\n",
              "      <td>3</td>\n",
              "      <td>4</td>\n",
              "      <td>4</td>\n",
              "      <td>4</td>\n",
              "      <td>5</td>\n",
              "      <td>2</td>\n",
              "      <td>Social Media;In Store displays</td>\n",
              "      <td>Yes</td>\n",
              "    </tr>\n",
              "    <tr>\n",
              "      <th>2</th>\n",
              "      <td>2019/10/01 12:38:56 PM GMT+8</td>\n",
              "      <td>Male</td>\n",
              "      <td>From 20 to 29</td>\n",
              "      <td>Employed</td>\n",
              "      <td>Less than RM25,000</td>\n",
              "      <td>Monthly</td>\n",
              "      <td>Dine in</td>\n",
              "      <td>Between 30 minutes to 1 hour</td>\n",
              "      <td>more than 3km</td>\n",
              "      <td>Yes</td>\n",
              "      <td>...</td>\n",
              "      <td>Less than RM20</td>\n",
              "      <td>4</td>\n",
              "      <td>3</td>\n",
              "      <td>4</td>\n",
              "      <td>4</td>\n",
              "      <td>4</td>\n",
              "      <td>4</td>\n",
              "      <td>3</td>\n",
              "      <td>In Store displays;Billboards</td>\n",
              "      <td>Yes</td>\n",
              "    </tr>\n",
              "    <tr>\n",
              "      <th>3</th>\n",
              "      <td>2019/10/01 12:39:08 PM GMT+8</td>\n",
              "      <td>Female</td>\n",
              "      <td>From 20 to 29</td>\n",
              "      <td>Student</td>\n",
              "      <td>Less than RM25,000</td>\n",
              "      <td>Rarely</td>\n",
              "      <td>Take away</td>\n",
              "      <td>Below 30 minutes</td>\n",
              "      <td>more than 3km</td>\n",
              "      <td>No</td>\n",
              "      <td>...</td>\n",
              "      <td>Less than RM20</td>\n",
              "      <td>2</td>\n",
              "      <td>1</td>\n",
              "      <td>4</td>\n",
              "      <td>3</td>\n",
              "      <td>3</td>\n",
              "      <td>3</td>\n",
              "      <td>3</td>\n",
              "      <td>Through friends and word of mouth</td>\n",
              "      <td>No</td>\n",
              "    </tr>\n",
              "    <tr>\n",
              "      <th>4</th>\n",
              "      <td>2019/10/01 12:39:20 PM GMT+8</td>\n",
              "      <td>Male</td>\n",
              "      <td>From 20 to 29</td>\n",
              "      <td>Student</td>\n",
              "      <td>Less than RM25,000</td>\n",
              "      <td>Monthly</td>\n",
              "      <td>Take away</td>\n",
              "      <td>Between 30 minutes to 1 hour</td>\n",
              "      <td>1km - 3km</td>\n",
              "      <td>No</td>\n",
              "      <td>...</td>\n",
              "      <td>Around RM20 - RM40</td>\n",
              "      <td>3</td>\n",
              "      <td>3</td>\n",
              "      <td>4</td>\n",
              "      <td>2</td>\n",
              "      <td>2</td>\n",
              "      <td>3</td>\n",
              "      <td>3</td>\n",
              "      <td>Starbucks Website/Apps;Social Media</td>\n",
              "      <td>Yes</td>\n",
              "    </tr>\n",
              "  </tbody>\n",
              "</table>\n",
              "<p>5 rows × 21 columns</p>\n",
              "</div>\n",
              "      <button class=\"colab-df-convert\" onclick=\"convertToInteractive('df-8a9f8be2-799d-42d9-b2df-2d215441ed3e')\"\n",
              "              title=\"Convert this dataframe to an interactive table.\"\n",
              "              style=\"display:none;\">\n",
              "\n",
              "  <svg xmlns=\"http://www.w3.org/2000/svg\" height=\"24px\"viewBox=\"0 0 24 24\"\n",
              "       width=\"24px\">\n",
              "    <path d=\"M0 0h24v24H0V0z\" fill=\"none\"/>\n",
              "    <path d=\"M18.56 5.44l.94 2.06.94-2.06 2.06-.94-2.06-.94-.94-2.06-.94 2.06-2.06.94zm-11 1L8.5 8.5l.94-2.06 2.06-.94-2.06-.94L8.5 2.5l-.94 2.06-2.06.94zm10 10l.94 2.06.94-2.06 2.06-.94-2.06-.94-.94-2.06-.94 2.06-2.06.94z\"/><path d=\"M17.41 7.96l-1.37-1.37c-.4-.4-.92-.59-1.43-.59-.52 0-1.04.2-1.43.59L10.3 9.45l-7.72 7.72c-.78.78-.78 2.05 0 2.83L4 21.41c.39.39.9.59 1.41.59.51 0 1.02-.2 1.41-.59l7.78-7.78 2.81-2.81c.8-.78.8-2.07 0-2.86zM5.41 20L4 18.59l7.72-7.72 1.47 1.35L5.41 20z\"/>\n",
              "  </svg>\n",
              "      </button>\n",
              "\n",
              "\n",
              "\n",
              "    <div id=\"df-425bebe9-658d-4cea-bdaa-e20031dc41e1\">\n",
              "      <button class=\"colab-df-quickchart\" onclick=\"quickchart('df-425bebe9-658d-4cea-bdaa-e20031dc41e1')\"\n",
              "              title=\"Suggest charts.\"\n",
              "              style=\"display:none;\">\n",
              "\n",
              "<svg xmlns=\"http://www.w3.org/2000/svg\" height=\"24px\"viewBox=\"0 0 24 24\"\n",
              "     width=\"24px\">\n",
              "    <g>\n",
              "        <path d=\"M19 3H5c-1.1 0-2 .9-2 2v14c0 1.1.9 2 2 2h14c1.1 0 2-.9 2-2V5c0-1.1-.9-2-2-2zM9 17H7v-7h2v7zm4 0h-2V7h2v10zm4 0h-2v-4h2v4z\"/>\n",
              "    </g>\n",
              "</svg>\n",
              "      </button>\n",
              "    </div>\n",
              "\n",
              "<style>\n",
              "  .colab-df-quickchart {\n",
              "    background-color: #E8F0FE;\n",
              "    border: none;\n",
              "    border-radius: 50%;\n",
              "    cursor: pointer;\n",
              "    display: none;\n",
              "    fill: #1967D2;\n",
              "    height: 32px;\n",
              "    padding: 0 0 0 0;\n",
              "    width: 32px;\n",
              "  }\n",
              "\n",
              "  .colab-df-quickchart:hover {\n",
              "    background-color: #E2EBFA;\n",
              "    box-shadow: 0px 1px 2px rgba(60, 64, 67, 0.3), 0px 1px 3px 1px rgba(60, 64, 67, 0.15);\n",
              "    fill: #174EA6;\n",
              "  }\n",
              "\n",
              "  [theme=dark] .colab-df-quickchart {\n",
              "    background-color: #3B4455;\n",
              "    fill: #D2E3FC;\n",
              "  }\n",
              "\n",
              "  [theme=dark] .colab-df-quickchart:hover {\n",
              "    background-color: #434B5C;\n",
              "    box-shadow: 0px 1px 3px 1px rgba(0, 0, 0, 0.15);\n",
              "    filter: drop-shadow(0px 1px 2px rgba(0, 0, 0, 0.3));\n",
              "    fill: #FFFFFF;\n",
              "  }\n",
              "</style>\n",
              "\n",
              "    <script>\n",
              "      async function quickchart(key) {\n",
              "        const containerElement = document.querySelector('#' + key);\n",
              "        const charts = await google.colab.kernel.invokeFunction(\n",
              "            'suggestCharts', [key], {});\n",
              "      }\n",
              "    </script>\n",
              "\n",
              "      <script>\n",
              "\n",
              "function displayQuickchartButton(domScope) {\n",
              "  let quickchartButtonEl =\n",
              "    domScope.querySelector('#df-425bebe9-658d-4cea-bdaa-e20031dc41e1 button.colab-df-quickchart');\n",
              "  quickchartButtonEl.style.display =\n",
              "    google.colab.kernel.accessAllowed ? 'block' : 'none';\n",
              "}\n",
              "\n",
              "        displayQuickchartButton(document);\n",
              "      </script>\n",
              "      <style>\n",
              "    .colab-df-container {\n",
              "      display:flex;\n",
              "      flex-wrap:wrap;\n",
              "      gap: 12px;\n",
              "    }\n",
              "\n",
              "    .colab-df-convert {\n",
              "      background-color: #E8F0FE;\n",
              "      border: none;\n",
              "      border-radius: 50%;\n",
              "      cursor: pointer;\n",
              "      display: none;\n",
              "      fill: #1967D2;\n",
              "      height: 32px;\n",
              "      padding: 0 0 0 0;\n",
              "      width: 32px;\n",
              "    }\n",
              "\n",
              "    .colab-df-convert:hover {\n",
              "      background-color: #E2EBFA;\n",
              "      box-shadow: 0px 1px 2px rgba(60, 64, 67, 0.3), 0px 1px 3px 1px rgba(60, 64, 67, 0.15);\n",
              "      fill: #174EA6;\n",
              "    }\n",
              "\n",
              "    [theme=dark] .colab-df-convert {\n",
              "      background-color: #3B4455;\n",
              "      fill: #D2E3FC;\n",
              "    }\n",
              "\n",
              "    [theme=dark] .colab-df-convert:hover {\n",
              "      background-color: #434B5C;\n",
              "      box-shadow: 0px 1px 3px 1px rgba(0, 0, 0, 0.15);\n",
              "      filter: drop-shadow(0px 1px 2px rgba(0, 0, 0, 0.3));\n",
              "      fill: #FFFFFF;\n",
              "    }\n",
              "  </style>\n",
              "\n",
              "      <script>\n",
              "        const buttonEl =\n",
              "          document.querySelector('#df-8a9f8be2-799d-42d9-b2df-2d215441ed3e button.colab-df-convert');\n",
              "        buttonEl.style.display =\n",
              "          google.colab.kernel.accessAllowed ? 'block' : 'none';\n",
              "\n",
              "        async function convertToInteractive(key) {\n",
              "          const element = document.querySelector('#df-8a9f8be2-799d-42d9-b2df-2d215441ed3e');\n",
              "          const dataTable =\n",
              "            await google.colab.kernel.invokeFunction('convertToInteractive',\n",
              "                                                     [key], {});\n",
              "          if (!dataTable) return;\n",
              "\n",
              "          const docLinkHtml = 'Like what you see? Visit the ' +\n",
              "            '<a target=\"_blank\" href=https://colab.research.google.com/notebooks/data_table.ipynb>data table notebook</a>'\n",
              "            + ' to learn more about interactive tables.';\n",
              "          element.innerHTML = '';\n",
              "          dataTable['output_type'] = 'display_data';\n",
              "          await google.colab.output.renderOutput(dataTable, element);\n",
              "          const docLink = document.createElement('div');\n",
              "          docLink.innerHTML = docLinkHtml;\n",
              "          element.appendChild(docLink);\n",
              "        }\n",
              "      </script>\n",
              "    </div>\n",
              "  </div>\n"
            ]
          },
          "metadata": {},
          "execution_count": 4
        }
      ]
    },
    {
      "cell_type": "code",
      "source": [
        "data.info()"
      ],
      "metadata": {
        "id": "LXGCgjQDDdtA",
        "colab": {
          "base_uri": "https://localhost:8080/"
        },
        "outputId": "c5ed9038-24f7-4c72-cb57-eaa540c2d13a"
      },
      "execution_count": null,
      "outputs": [
        {
          "output_type": "stream",
          "name": "stdout",
          "text": [
            "<class 'pandas.core.frame.DataFrame'>\n",
            "Index: 122 entries, 0 to 121\n",
            "Data columns (total 21 columns):\n",
            " #   Column               Non-Null Count  Dtype \n",
            "---  ------               --------------  ----- \n",
            " 0   Timestamp            122 non-null    object\n",
            " 1   Gender               122 non-null    object\n",
            " 2   Age                  122 non-null    object\n",
            " 3   Occupation           122 non-null    object\n",
            " 4   Annual Income        122 non-null    object\n",
            " 5   Visit                122 non-null    object\n",
            " 6   Behaviour            121 non-null    object\n",
            " 7   Time Spend           122 non-null    object\n",
            " 8   Distance             122 non-null    object\n",
            " 9   Membership           122 non-null    object\n",
            " 10  Item Purchase        122 non-null    object\n",
            " 11  Money Spend          122 non-null    object\n",
            " 12  Quality Rate         122 non-null    int64 \n",
            " 13  Price Rate           122 non-null    int64 \n",
            " 14  Importance of Promo  122 non-null    int64 \n",
            " 15  Ambience Rate        122 non-null    int64 \n",
            " 16  WIFI Rate            122 non-null    int64 \n",
            " 17  Service Rate         122 non-null    int64 \n",
            " 18  Preference Rate      122 non-null    int64 \n",
            " 19  Promotion Channel    121 non-null    object\n",
            " 20  Buying Again         122 non-null    object\n",
            "dtypes: int64(7), object(14)\n",
            "memory usage: 21.0+ KB\n"
          ]
        }
      ]
    },
    {
      "cell_type": "markdown",
      "source": [
        "Our data consists of 21 columns and 122 rows. Pretty small for data analysis but it's okey for learning and initial approachment. We have inferential statistics, lol.\n",
        "\n",
        "Unfortunately, we have missing values in our data which are in `Behaviour` and `Promotion Channel` columns. We will take out the row(s) later on."
      ],
      "metadata": {
        "id": "pxuVRtFs7LUb"
      }
    },
    {
      "cell_type": "markdown",
      "source": [
        "## Data Preparation\n",
        "\n",
        "Foretunately, our data is almost perfect to perform data analysis, so we only need to handle the missing values. According to our discussion above, we only need to take out the missing values.\n",
        "\n",
        "However, how about the `Timestamp` column? do we need to convert the data type into `datetime64[ns]`? Hmm, it's not important to do that since the `Timestamp` relates to the record time in the databas. Remember that, our data actually is not time series data, each row represents one customer. Alternatively, we can takout the `Timestamp` from our data."
      ],
      "metadata": {
        "id": "iF7OffH_8Ag3"
      }
    },
    {
      "cell_type": "markdown",
      "source": [
        "### Missing Values Handling"
      ],
      "metadata": {
        "id": "MtOcCC5o8Cr7"
      }
    },
    {
      "cell_type": "code",
      "source": [
        "data = data.dropna()\n",
        "data.info()"
      ],
      "metadata": {
        "colab": {
          "base_uri": "https://localhost:8080/"
        },
        "id": "yTtOmM1ZAFGo",
        "outputId": "b711d251-cc74-4e2c-f5a7-d1490683f1df"
      },
      "execution_count": null,
      "outputs": [
        {
          "output_type": "stream",
          "name": "stdout",
          "text": [
            "<class 'pandas.core.frame.DataFrame'>\n",
            "Index: 121 entries, 0 to 121\n",
            "Data columns (total 21 columns):\n",
            " #   Column               Non-Null Count  Dtype \n",
            "---  ------               --------------  ----- \n",
            " 0   Timestamp            121 non-null    object\n",
            " 1   Gender               121 non-null    object\n",
            " 2   Age                  121 non-null    object\n",
            " 3   Occupation           121 non-null    object\n",
            " 4   Annual Income        121 non-null    object\n",
            " 5   Visit                121 non-null    object\n",
            " 6   Behaviour            121 non-null    object\n",
            " 7   Time Spend           121 non-null    object\n",
            " 8   Distance             121 non-null    object\n",
            " 9   Membership           121 non-null    object\n",
            " 10  Item Purchase        121 non-null    object\n",
            " 11  Money Spend          121 non-null    object\n",
            " 12  Quality Rate         121 non-null    int64 \n",
            " 13  Price Rate           121 non-null    int64 \n",
            " 14  Importance of Promo  121 non-null    int64 \n",
            " 15  Ambience Rate        121 non-null    int64 \n",
            " 16  WIFI Rate            121 non-null    int64 \n",
            " 17  Service Rate         121 non-null    int64 \n",
            " 18  Preference Rate      121 non-null    int64 \n",
            " 19  Promotion Channel    121 non-null    object\n",
            " 20  Buying Again         121 non-null    object\n",
            "dtypes: int64(7), object(14)\n",
            "memory usage: 20.8+ KB\n"
          ]
        }
      ]
    },
    {
      "cell_type": "markdown",
      "source": [
        "Clean from missing values. We only lost 1 row."
      ],
      "metadata": {
        "id": "xOxGhWIBKiqh"
      }
    },
    {
      "cell_type": "code",
      "source": [
        "df = data.drop(columns='Timestamp')\n",
        "df.head()"
      ],
      "metadata": {
        "colab": {
          "base_uri": "https://localhost:8080/",
          "height": 557
        },
        "id": "yW4FkhQV9kQY",
        "outputId": "17d48668-f1f3-41b3-a24d-331c1a5cf75c"
      },
      "execution_count": null,
      "outputs": [
        {
          "output_type": "execute_result",
          "data": {
            "text/plain": [
              "   Gender            Age Occupation       Annual Income    Visit  Behaviour  \\\n",
              "0  Female  From 20 to 29    Student  Less than RM25,000   Rarely    Dine in   \n",
              "1  Female  From 20 to 29    Student  Less than RM25,000   Rarely  Take away   \n",
              "2    Male  From 20 to 29   Employed  Less than RM25,000  Monthly    Dine in   \n",
              "3  Female  From 20 to 29    Student  Less than RM25,000   Rarely  Take away   \n",
              "4    Male  From 20 to 29    Student  Less than RM25,000  Monthly  Take away   \n",
              "\n",
              "                     Time Spend       Distance Membership  \\\n",
              "0  Between 30 minutes to 1 hour     within 1km        Yes   \n",
              "1              Below 30 minutes      1km - 3km        Yes   \n",
              "2  Between 30 minutes to 1 hour  more than 3km        Yes   \n",
              "3              Below 30 minutes  more than 3km         No   \n",
              "4  Between 30 minutes to 1 hour      1km - 3km         No   \n",
              "\n",
              "          Item Purchase         Money Spend  Quality Rate  Price Rate  \\\n",
              "0                Coffee      Less than RM20             4           3   \n",
              "1  Cold drinks;Pastries      Less than RM20             4           3   \n",
              "2                Coffee      Less than RM20             4           3   \n",
              "3                Coffee      Less than RM20             2           1   \n",
              "4     Coffee;Sandwiches  Around RM20 - RM40             3           3   \n",
              "\n",
              "   Importance of Promo  Ambience Rate  WIFI Rate  Service Rate  \\\n",
              "0                    5              5          4             4   \n",
              "1                    4              4          4             5   \n",
              "2                    4              4          4             4   \n",
              "3                    4              3          3             3   \n",
              "4                    4              2          2             3   \n",
              "\n",
              "   Preference Rate                                  Promotion Channel  \\\n",
              "0                3  Starbucks Website/Apps;Social Media;Emails;Dea...   \n",
              "1                2                     Social Media;In Store displays   \n",
              "2                3                       In Store displays;Billboards   \n",
              "3                3                  Through friends and word of mouth   \n",
              "4                3                Starbucks Website/Apps;Social Media   \n",
              "\n",
              "  Buying Again  \n",
              "0          Yes  \n",
              "1          Yes  \n",
              "2          Yes  \n",
              "3           No  \n",
              "4          Yes  "
            ],
            "text/html": [
              "\n",
              "\n",
              "  <div id=\"df-afe3b6c0-257f-4bf3-b201-5661068ef41e\">\n",
              "    <div class=\"colab-df-container\">\n",
              "      <div>\n",
              "<style scoped>\n",
              "    .dataframe tbody tr th:only-of-type {\n",
              "        vertical-align: middle;\n",
              "    }\n",
              "\n",
              "    .dataframe tbody tr th {\n",
              "        vertical-align: top;\n",
              "    }\n",
              "\n",
              "    .dataframe thead th {\n",
              "        text-align: right;\n",
              "    }\n",
              "</style>\n",
              "<table border=\"1\" class=\"dataframe\">\n",
              "  <thead>\n",
              "    <tr style=\"text-align: right;\">\n",
              "      <th></th>\n",
              "      <th>Gender</th>\n",
              "      <th>Age</th>\n",
              "      <th>Occupation</th>\n",
              "      <th>Annual Income</th>\n",
              "      <th>Visit</th>\n",
              "      <th>Behaviour</th>\n",
              "      <th>Time Spend</th>\n",
              "      <th>Distance</th>\n",
              "      <th>Membership</th>\n",
              "      <th>Item Purchase</th>\n",
              "      <th>Money Spend</th>\n",
              "      <th>Quality Rate</th>\n",
              "      <th>Price Rate</th>\n",
              "      <th>Importance of Promo</th>\n",
              "      <th>Ambience Rate</th>\n",
              "      <th>WIFI Rate</th>\n",
              "      <th>Service Rate</th>\n",
              "      <th>Preference Rate</th>\n",
              "      <th>Promotion Channel</th>\n",
              "      <th>Buying Again</th>\n",
              "    </tr>\n",
              "  </thead>\n",
              "  <tbody>\n",
              "    <tr>\n",
              "      <th>0</th>\n",
              "      <td>Female</td>\n",
              "      <td>From 20 to 29</td>\n",
              "      <td>Student</td>\n",
              "      <td>Less than RM25,000</td>\n",
              "      <td>Rarely</td>\n",
              "      <td>Dine in</td>\n",
              "      <td>Between 30 minutes to 1 hour</td>\n",
              "      <td>within 1km</td>\n",
              "      <td>Yes</td>\n",
              "      <td>Coffee</td>\n",
              "      <td>Less than RM20</td>\n",
              "      <td>4</td>\n",
              "      <td>3</td>\n",
              "      <td>5</td>\n",
              "      <td>5</td>\n",
              "      <td>4</td>\n",
              "      <td>4</td>\n",
              "      <td>3</td>\n",
              "      <td>Starbucks Website/Apps;Social Media;Emails;Dea...</td>\n",
              "      <td>Yes</td>\n",
              "    </tr>\n",
              "    <tr>\n",
              "      <th>1</th>\n",
              "      <td>Female</td>\n",
              "      <td>From 20 to 29</td>\n",
              "      <td>Student</td>\n",
              "      <td>Less than RM25,000</td>\n",
              "      <td>Rarely</td>\n",
              "      <td>Take away</td>\n",
              "      <td>Below 30 minutes</td>\n",
              "      <td>1km - 3km</td>\n",
              "      <td>Yes</td>\n",
              "      <td>Cold drinks;Pastries</td>\n",
              "      <td>Less than RM20</td>\n",
              "      <td>4</td>\n",
              "      <td>3</td>\n",
              "      <td>4</td>\n",
              "      <td>4</td>\n",
              "      <td>4</td>\n",
              "      <td>5</td>\n",
              "      <td>2</td>\n",
              "      <td>Social Media;In Store displays</td>\n",
              "      <td>Yes</td>\n",
              "    </tr>\n",
              "    <tr>\n",
              "      <th>2</th>\n",
              "      <td>Male</td>\n",
              "      <td>From 20 to 29</td>\n",
              "      <td>Employed</td>\n",
              "      <td>Less than RM25,000</td>\n",
              "      <td>Monthly</td>\n",
              "      <td>Dine in</td>\n",
              "      <td>Between 30 minutes to 1 hour</td>\n",
              "      <td>more than 3km</td>\n",
              "      <td>Yes</td>\n",
              "      <td>Coffee</td>\n",
              "      <td>Less than RM20</td>\n",
              "      <td>4</td>\n",
              "      <td>3</td>\n",
              "      <td>4</td>\n",
              "      <td>4</td>\n",
              "      <td>4</td>\n",
              "      <td>4</td>\n",
              "      <td>3</td>\n",
              "      <td>In Store displays;Billboards</td>\n",
              "      <td>Yes</td>\n",
              "    </tr>\n",
              "    <tr>\n",
              "      <th>3</th>\n",
              "      <td>Female</td>\n",
              "      <td>From 20 to 29</td>\n",
              "      <td>Student</td>\n",
              "      <td>Less than RM25,000</td>\n",
              "      <td>Rarely</td>\n",
              "      <td>Take away</td>\n",
              "      <td>Below 30 minutes</td>\n",
              "      <td>more than 3km</td>\n",
              "      <td>No</td>\n",
              "      <td>Coffee</td>\n",
              "      <td>Less than RM20</td>\n",
              "      <td>2</td>\n",
              "      <td>1</td>\n",
              "      <td>4</td>\n",
              "      <td>3</td>\n",
              "      <td>3</td>\n",
              "      <td>3</td>\n",
              "      <td>3</td>\n",
              "      <td>Through friends and word of mouth</td>\n",
              "      <td>No</td>\n",
              "    </tr>\n",
              "    <tr>\n",
              "      <th>4</th>\n",
              "      <td>Male</td>\n",
              "      <td>From 20 to 29</td>\n",
              "      <td>Student</td>\n",
              "      <td>Less than RM25,000</td>\n",
              "      <td>Monthly</td>\n",
              "      <td>Take away</td>\n",
              "      <td>Between 30 minutes to 1 hour</td>\n",
              "      <td>1km - 3km</td>\n",
              "      <td>No</td>\n",
              "      <td>Coffee;Sandwiches</td>\n",
              "      <td>Around RM20 - RM40</td>\n",
              "      <td>3</td>\n",
              "      <td>3</td>\n",
              "      <td>4</td>\n",
              "      <td>2</td>\n",
              "      <td>2</td>\n",
              "      <td>3</td>\n",
              "      <td>3</td>\n",
              "      <td>Starbucks Website/Apps;Social Media</td>\n",
              "      <td>Yes</td>\n",
              "    </tr>\n",
              "  </tbody>\n",
              "</table>\n",
              "</div>\n",
              "      <button class=\"colab-df-convert\" onclick=\"convertToInteractive('df-afe3b6c0-257f-4bf3-b201-5661068ef41e')\"\n",
              "              title=\"Convert this dataframe to an interactive table.\"\n",
              "              style=\"display:none;\">\n",
              "\n",
              "  <svg xmlns=\"http://www.w3.org/2000/svg\" height=\"24px\"viewBox=\"0 0 24 24\"\n",
              "       width=\"24px\">\n",
              "    <path d=\"M0 0h24v24H0V0z\" fill=\"none\"/>\n",
              "    <path d=\"M18.56 5.44l.94 2.06.94-2.06 2.06-.94-2.06-.94-.94-2.06-.94 2.06-2.06.94zm-11 1L8.5 8.5l.94-2.06 2.06-.94-2.06-.94L8.5 2.5l-.94 2.06-2.06.94zm10 10l.94 2.06.94-2.06 2.06-.94-2.06-.94-.94-2.06-.94 2.06-2.06.94z\"/><path d=\"M17.41 7.96l-1.37-1.37c-.4-.4-.92-.59-1.43-.59-.52 0-1.04.2-1.43.59L10.3 9.45l-7.72 7.72c-.78.78-.78 2.05 0 2.83L4 21.41c.39.39.9.59 1.41.59.51 0 1.02-.2 1.41-.59l7.78-7.78 2.81-2.81c.8-.78.8-2.07 0-2.86zM5.41 20L4 18.59l7.72-7.72 1.47 1.35L5.41 20z\"/>\n",
              "  </svg>\n",
              "      </button>\n",
              "\n",
              "\n",
              "\n",
              "    <div id=\"df-5ac31146-4cb1-4377-a3bb-891e2ab4d034\">\n",
              "      <button class=\"colab-df-quickchart\" onclick=\"quickchart('df-5ac31146-4cb1-4377-a3bb-891e2ab4d034')\"\n",
              "              title=\"Suggest charts.\"\n",
              "              style=\"display:none;\">\n",
              "\n",
              "<svg xmlns=\"http://www.w3.org/2000/svg\" height=\"24px\"viewBox=\"0 0 24 24\"\n",
              "     width=\"24px\">\n",
              "    <g>\n",
              "        <path d=\"M19 3H5c-1.1 0-2 .9-2 2v14c0 1.1.9 2 2 2h14c1.1 0 2-.9 2-2V5c0-1.1-.9-2-2-2zM9 17H7v-7h2v7zm4 0h-2V7h2v10zm4 0h-2v-4h2v4z\"/>\n",
              "    </g>\n",
              "</svg>\n",
              "      </button>\n",
              "    </div>\n",
              "\n",
              "<style>\n",
              "  .colab-df-quickchart {\n",
              "    background-color: #E8F0FE;\n",
              "    border: none;\n",
              "    border-radius: 50%;\n",
              "    cursor: pointer;\n",
              "    display: none;\n",
              "    fill: #1967D2;\n",
              "    height: 32px;\n",
              "    padding: 0 0 0 0;\n",
              "    width: 32px;\n",
              "  }\n",
              "\n",
              "  .colab-df-quickchart:hover {\n",
              "    background-color: #E2EBFA;\n",
              "    box-shadow: 0px 1px 2px rgba(60, 64, 67, 0.3), 0px 1px 3px 1px rgba(60, 64, 67, 0.15);\n",
              "    fill: #174EA6;\n",
              "  }\n",
              "\n",
              "  [theme=dark] .colab-df-quickchart {\n",
              "    background-color: #3B4455;\n",
              "    fill: #D2E3FC;\n",
              "  }\n",
              "\n",
              "  [theme=dark] .colab-df-quickchart:hover {\n",
              "    background-color: #434B5C;\n",
              "    box-shadow: 0px 1px 3px 1px rgba(0, 0, 0, 0.15);\n",
              "    filter: drop-shadow(0px 1px 2px rgba(0, 0, 0, 0.3));\n",
              "    fill: #FFFFFF;\n",
              "  }\n",
              "</style>\n",
              "\n",
              "    <script>\n",
              "      async function quickchart(key) {\n",
              "        const containerElement = document.querySelector('#' + key);\n",
              "        const charts = await google.colab.kernel.invokeFunction(\n",
              "            'suggestCharts', [key], {});\n",
              "      }\n",
              "    </script>\n",
              "\n",
              "      <script>\n",
              "\n",
              "function displayQuickchartButton(domScope) {\n",
              "  let quickchartButtonEl =\n",
              "    domScope.querySelector('#df-5ac31146-4cb1-4377-a3bb-891e2ab4d034 button.colab-df-quickchart');\n",
              "  quickchartButtonEl.style.display =\n",
              "    google.colab.kernel.accessAllowed ? 'block' : 'none';\n",
              "}\n",
              "\n",
              "        displayQuickchartButton(document);\n",
              "      </script>\n",
              "      <style>\n",
              "    .colab-df-container {\n",
              "      display:flex;\n",
              "      flex-wrap:wrap;\n",
              "      gap: 12px;\n",
              "    }\n",
              "\n",
              "    .colab-df-convert {\n",
              "      background-color: #E8F0FE;\n",
              "      border: none;\n",
              "      border-radius: 50%;\n",
              "      cursor: pointer;\n",
              "      display: none;\n",
              "      fill: #1967D2;\n",
              "      height: 32px;\n",
              "      padding: 0 0 0 0;\n",
              "      width: 32px;\n",
              "    }\n",
              "\n",
              "    .colab-df-convert:hover {\n",
              "      background-color: #E2EBFA;\n",
              "      box-shadow: 0px 1px 2px rgba(60, 64, 67, 0.3), 0px 1px 3px 1px rgba(60, 64, 67, 0.15);\n",
              "      fill: #174EA6;\n",
              "    }\n",
              "\n",
              "    [theme=dark] .colab-df-convert {\n",
              "      background-color: #3B4455;\n",
              "      fill: #D2E3FC;\n",
              "    }\n",
              "\n",
              "    [theme=dark] .colab-df-convert:hover {\n",
              "      background-color: #434B5C;\n",
              "      box-shadow: 0px 1px 3px 1px rgba(0, 0, 0, 0.15);\n",
              "      filter: drop-shadow(0px 1px 2px rgba(0, 0, 0, 0.3));\n",
              "      fill: #FFFFFF;\n",
              "    }\n",
              "  </style>\n",
              "\n",
              "      <script>\n",
              "        const buttonEl =\n",
              "          document.querySelector('#df-afe3b6c0-257f-4bf3-b201-5661068ef41e button.colab-df-convert');\n",
              "        buttonEl.style.display =\n",
              "          google.colab.kernel.accessAllowed ? 'block' : 'none';\n",
              "\n",
              "        async function convertToInteractive(key) {\n",
              "          const element = document.querySelector('#df-afe3b6c0-257f-4bf3-b201-5661068ef41e');\n",
              "          const dataTable =\n",
              "            await google.colab.kernel.invokeFunction('convertToInteractive',\n",
              "                                                     [key], {});\n",
              "          if (!dataTable) return;\n",
              "\n",
              "          const docLinkHtml = 'Like what you see? Visit the ' +\n",
              "            '<a target=\"_blank\" href=https://colab.research.google.com/notebooks/data_table.ipynb>data table notebook</a>'\n",
              "            + ' to learn more about interactive tables.';\n",
              "          element.innerHTML = '';\n",
              "          dataTable['output_type'] = 'display_data';\n",
              "          await google.colab.output.renderOutput(dataTable, element);\n",
              "          const docLink = document.createElement('div');\n",
              "          docLink.innerHTML = docLinkHtml;\n",
              "          element.appendChild(docLink);\n",
              "        }\n",
              "      </script>\n",
              "    </div>\n",
              "  </div>\n"
            ]
          },
          "metadata": {},
          "execution_count": 7
        }
      ]
    },
    {
      "cell_type": "markdown",
      "source": [
        "Created new dataframe without `Timestamp`"
      ],
      "metadata": {
        "id": "WiJwzWBj9fOk"
      }
    },
    {
      "cell_type": "markdown",
      "source": [
        "## Modeling/Exploratory Data Analysis"
      ],
      "metadata": {
        "id": "ZXPzwKU69Qy1"
      }
    },
    {
      "cell_type": "markdown",
      "source": [
        "#### What factors that can lead to customer retention improvement?"
      ],
      "metadata": {
        "id": "6U7zhh3V9vI9"
      }
    },
    {
      "cell_type": "markdown",
      "source": [
        "To answer this question, we will perform chi-squared test since we want to test the relation between two categorical data. But, how about rating data? they are \"numerical\" data aren't they? Moreover, we will treat the rating data as categorical data to ease our works.\n",
        "\n",
        "To perform the test, we need to define the hypothesis:\n",
        "\n",
        "$H_0$: A variable and `buying again` are independent\n",
        "\n",
        "$H_1$: A variable and `buying again` are dependent\n",
        "\n",
        "We will use confidence level of 95%."
      ],
      "metadata": {
        "id": "Ac8V2wG4_Gjz"
      }
    },
    {
      "cell_type": "code",
      "source": [
        "cols = data.drop(columns=['Timestamp','Promotion Channel','Buying Again']).columns\n",
        "\n",
        "for col in cols:\n",
        "  cross = pd.crosstab(data[col],data['Buying Again'])\n",
        "  pval = stats.chi2_contingency(cross).pvalue\n",
        "  prompt = \"and they are dependent\" if pval<0.05 else \"\"\n",
        "  print(f\"P-value of {col} and Buying Again: {pval} {prompt}\")"
      ],
      "metadata": {
        "colab": {
          "base_uri": "https://localhost:8080/"
        },
        "id": "220xJbZ5_HjV",
        "outputId": "c739aea7-aaaf-4ee3-e172-4712cdfc4786"
      },
      "execution_count": null,
      "outputs": [
        {
          "output_type": "stream",
          "name": "stdout",
          "text": [
            "P-value of Gender and Buying Again: 1.0 \n",
            "P-value of Age and Buying Again: 0.6356871673042823 \n",
            "P-value of Occupation and Buying Again: 0.1607051559293076 \n",
            "P-value of Annual Income and Buying Again: 0.7438495801427483 \n",
            "P-value of Visit and Buying Again: 0.0081671269342487 and they are dependent\n",
            "P-value of Behaviour and Buying Again: 0.1968218965282764 \n",
            "P-value of Time Spend and Buying Again: 0.07096869017305363 \n",
            "P-value of Distance and Buying Again: 0.5201380402399829 \n",
            "P-value of Membership and Buying Again: 0.0005711760401142383 and they are dependent\n",
            "P-value of Item Purchase and Buying Again: 0.5439062916107664 \n",
            "P-value of Money Spend and Buying Again: 0.00011367023704496573 and they are dependent\n",
            "P-value of Quality Rate and Buying Again: 6.93854822279136e-05 and they are dependent\n",
            "P-value of Price Rate and Buying Again: 1.45956480340212e-05 and they are dependent\n",
            "P-value of Importance of Promo and Buying Again: 0.853345487868004 \n",
            "P-value of Ambience Rate and Buying Again: 0.006167391361821817 and they are dependent\n",
            "P-value of WIFI Rate and Buying Again: 0.39643879920950315 \n",
            "P-value of Service Rate and Buying Again: 0.03524654945745087 and they are dependent\n",
            "P-value of Preference Rate and Buying Again: 0.0006138429626365041 and they are dependent\n"
          ]
        }
      ]
    },
    {
      "cell_type": "markdown",
      "source": [
        "Based on this, the factors that relate to customer retention are visit intensity, membership, money spend, product quality, price, ambience, service quality, and purpose of visit/preference.\n",
        "\n",
        "However, the detail of which one leads the customers to be loyal, you need to explore each variable.\n",
        "\n",
        "Let's we encode column `Buying Again` to make retention rate calculation easier."
      ],
      "metadata": {
        "id": "99xSw59qASAN"
      }
    },
    {
      "cell_type": "code",
      "source": [
        "df = data.copy()\n",
        "df['Buying Again'] = df['Buying Again'].replace({'Yes':1,'No':0})\n",
        "df['Buying Again'].head()"
      ],
      "metadata": {
        "colab": {
          "base_uri": "https://localhost:8080/"
        },
        "id": "FdvyTcg4YTd8",
        "outputId": "2fa3eea8-b7b8-43ad-b55f-9fec0b014ab5"
      },
      "execution_count": null,
      "outputs": [
        {
          "output_type": "execute_result",
          "data": {
            "text/plain": [
              "0    1\n",
              "1    1\n",
              "2    1\n",
              "3    0\n",
              "4    1\n",
              "Name: Buying Again, dtype: int64"
            ]
          },
          "metadata": {},
          "execution_count": 9
        }
      ]
    },
    {
      "cell_type": "markdown",
      "source": [
        "To explore how the variable and retention relation works, we need to calculate the retention rate at first by measure the average of 'Buying Again'. The mean is the retention rate!"
      ],
      "metadata": {
        "id": "F_zp8g4_c3_P"
      }
    },
    {
      "cell_type": "code",
      "source": [
        "df.groupby('Visit')[['Buying Again']].mean()"
      ],
      "metadata": {
        "colab": {
          "base_uri": "https://localhost:8080/",
          "height": 235
        },
        "id": "1CCDdnrPYot8",
        "outputId": "b311cb02-f5e6-4e19-cf0f-34e9fb58215b"
      },
      "execution_count": null,
      "outputs": [
        {
          "output_type": "execute_result",
          "data": {
            "text/plain": [
              "         Buying Again\n",
              "Visit                \n",
              "Daily        1.000000\n",
              "Monthly      0.961538\n",
              "Never        0.500000\n",
              "Rarely       0.710526\n",
              "Weekly       1.000000"
            ],
            "text/html": [
              "\n",
              "\n",
              "  <div id=\"df-2cac6c04-9700-4137-a98f-12ef9ac1ecbd\">\n",
              "    <div class=\"colab-df-container\">\n",
              "      <div>\n",
              "<style scoped>\n",
              "    .dataframe tbody tr th:only-of-type {\n",
              "        vertical-align: middle;\n",
              "    }\n",
              "\n",
              "    .dataframe tbody tr th {\n",
              "        vertical-align: top;\n",
              "    }\n",
              "\n",
              "    .dataframe thead th {\n",
              "        text-align: right;\n",
              "    }\n",
              "</style>\n",
              "<table border=\"1\" class=\"dataframe\">\n",
              "  <thead>\n",
              "    <tr style=\"text-align: right;\">\n",
              "      <th></th>\n",
              "      <th>Buying Again</th>\n",
              "    </tr>\n",
              "    <tr>\n",
              "      <th>Visit</th>\n",
              "      <th></th>\n",
              "    </tr>\n",
              "  </thead>\n",
              "  <tbody>\n",
              "    <tr>\n",
              "      <th>Daily</th>\n",
              "      <td>1.000000</td>\n",
              "    </tr>\n",
              "    <tr>\n",
              "      <th>Monthly</th>\n",
              "      <td>0.961538</td>\n",
              "    </tr>\n",
              "    <tr>\n",
              "      <th>Never</th>\n",
              "      <td>0.500000</td>\n",
              "    </tr>\n",
              "    <tr>\n",
              "      <th>Rarely</th>\n",
              "      <td>0.710526</td>\n",
              "    </tr>\n",
              "    <tr>\n",
              "      <th>Weekly</th>\n",
              "      <td>1.000000</td>\n",
              "    </tr>\n",
              "  </tbody>\n",
              "</table>\n",
              "</div>\n",
              "      <button class=\"colab-df-convert\" onclick=\"convertToInteractive('df-2cac6c04-9700-4137-a98f-12ef9ac1ecbd')\"\n",
              "              title=\"Convert this dataframe to an interactive table.\"\n",
              "              style=\"display:none;\">\n",
              "\n",
              "  <svg xmlns=\"http://www.w3.org/2000/svg\" height=\"24px\"viewBox=\"0 0 24 24\"\n",
              "       width=\"24px\">\n",
              "    <path d=\"M0 0h24v24H0V0z\" fill=\"none\"/>\n",
              "    <path d=\"M18.56 5.44l.94 2.06.94-2.06 2.06-.94-2.06-.94-.94-2.06-.94 2.06-2.06.94zm-11 1L8.5 8.5l.94-2.06 2.06-.94-2.06-.94L8.5 2.5l-.94 2.06-2.06.94zm10 10l.94 2.06.94-2.06 2.06-.94-2.06-.94-.94-2.06-.94 2.06-2.06.94z\"/><path d=\"M17.41 7.96l-1.37-1.37c-.4-.4-.92-.59-1.43-.59-.52 0-1.04.2-1.43.59L10.3 9.45l-7.72 7.72c-.78.78-.78 2.05 0 2.83L4 21.41c.39.39.9.59 1.41.59.51 0 1.02-.2 1.41-.59l7.78-7.78 2.81-2.81c.8-.78.8-2.07 0-2.86zM5.41 20L4 18.59l7.72-7.72 1.47 1.35L5.41 20z\"/>\n",
              "  </svg>\n",
              "      </button>\n",
              "\n",
              "\n",
              "\n",
              "    <div id=\"df-05b8f8cd-7f3b-4221-abbb-d705b5fa43ab\">\n",
              "      <button class=\"colab-df-quickchart\" onclick=\"quickchart('df-05b8f8cd-7f3b-4221-abbb-d705b5fa43ab')\"\n",
              "              title=\"Suggest charts.\"\n",
              "              style=\"display:none;\">\n",
              "\n",
              "<svg xmlns=\"http://www.w3.org/2000/svg\" height=\"24px\"viewBox=\"0 0 24 24\"\n",
              "     width=\"24px\">\n",
              "    <g>\n",
              "        <path d=\"M19 3H5c-1.1 0-2 .9-2 2v14c0 1.1.9 2 2 2h14c1.1 0 2-.9 2-2V5c0-1.1-.9-2-2-2zM9 17H7v-7h2v7zm4 0h-2V7h2v10zm4 0h-2v-4h2v4z\"/>\n",
              "    </g>\n",
              "</svg>\n",
              "      </button>\n",
              "    </div>\n",
              "\n",
              "<style>\n",
              "  .colab-df-quickchart {\n",
              "    background-color: #E8F0FE;\n",
              "    border: none;\n",
              "    border-radius: 50%;\n",
              "    cursor: pointer;\n",
              "    display: none;\n",
              "    fill: #1967D2;\n",
              "    height: 32px;\n",
              "    padding: 0 0 0 0;\n",
              "    width: 32px;\n",
              "  }\n",
              "\n",
              "  .colab-df-quickchart:hover {\n",
              "    background-color: #E2EBFA;\n",
              "    box-shadow: 0px 1px 2px rgba(60, 64, 67, 0.3), 0px 1px 3px 1px rgba(60, 64, 67, 0.15);\n",
              "    fill: #174EA6;\n",
              "  }\n",
              "\n",
              "  [theme=dark] .colab-df-quickchart {\n",
              "    background-color: #3B4455;\n",
              "    fill: #D2E3FC;\n",
              "  }\n",
              "\n",
              "  [theme=dark] .colab-df-quickchart:hover {\n",
              "    background-color: #434B5C;\n",
              "    box-shadow: 0px 1px 3px 1px rgba(0, 0, 0, 0.15);\n",
              "    filter: drop-shadow(0px 1px 2px rgba(0, 0, 0, 0.3));\n",
              "    fill: #FFFFFF;\n",
              "  }\n",
              "</style>\n",
              "\n",
              "    <script>\n",
              "      async function quickchart(key) {\n",
              "        const containerElement = document.querySelector('#' + key);\n",
              "        const charts = await google.colab.kernel.invokeFunction(\n",
              "            'suggestCharts', [key], {});\n",
              "      }\n",
              "    </script>\n",
              "\n",
              "      <script>\n",
              "\n",
              "function displayQuickchartButton(domScope) {\n",
              "  let quickchartButtonEl =\n",
              "    domScope.querySelector('#df-05b8f8cd-7f3b-4221-abbb-d705b5fa43ab button.colab-df-quickchart');\n",
              "  quickchartButtonEl.style.display =\n",
              "    google.colab.kernel.accessAllowed ? 'block' : 'none';\n",
              "}\n",
              "\n",
              "        displayQuickchartButton(document);\n",
              "      </script>\n",
              "      <style>\n",
              "    .colab-df-container {\n",
              "      display:flex;\n",
              "      flex-wrap:wrap;\n",
              "      gap: 12px;\n",
              "    }\n",
              "\n",
              "    .colab-df-convert {\n",
              "      background-color: #E8F0FE;\n",
              "      border: none;\n",
              "      border-radius: 50%;\n",
              "      cursor: pointer;\n",
              "      display: none;\n",
              "      fill: #1967D2;\n",
              "      height: 32px;\n",
              "      padding: 0 0 0 0;\n",
              "      width: 32px;\n",
              "    }\n",
              "\n",
              "    .colab-df-convert:hover {\n",
              "      background-color: #E2EBFA;\n",
              "      box-shadow: 0px 1px 2px rgba(60, 64, 67, 0.3), 0px 1px 3px 1px rgba(60, 64, 67, 0.15);\n",
              "      fill: #174EA6;\n",
              "    }\n",
              "\n",
              "    [theme=dark] .colab-df-convert {\n",
              "      background-color: #3B4455;\n",
              "      fill: #D2E3FC;\n",
              "    }\n",
              "\n",
              "    [theme=dark] .colab-df-convert:hover {\n",
              "      background-color: #434B5C;\n",
              "      box-shadow: 0px 1px 3px 1px rgba(0, 0, 0, 0.15);\n",
              "      filter: drop-shadow(0px 1px 2px rgba(0, 0, 0, 0.3));\n",
              "      fill: #FFFFFF;\n",
              "    }\n",
              "  </style>\n",
              "\n",
              "      <script>\n",
              "        const buttonEl =\n",
              "          document.querySelector('#df-2cac6c04-9700-4137-a98f-12ef9ac1ecbd button.colab-df-convert');\n",
              "        buttonEl.style.display =\n",
              "          google.colab.kernel.accessAllowed ? 'block' : 'none';\n",
              "\n",
              "        async function convertToInteractive(key) {\n",
              "          const element = document.querySelector('#df-2cac6c04-9700-4137-a98f-12ef9ac1ecbd');\n",
              "          const dataTable =\n",
              "            await google.colab.kernel.invokeFunction('convertToInteractive',\n",
              "                                                     [key], {});\n",
              "          if (!dataTable) return;\n",
              "\n",
              "          const docLinkHtml = 'Like what you see? Visit the ' +\n",
              "            '<a target=\"_blank\" href=https://colab.research.google.com/notebooks/data_table.ipynb>data table notebook</a>'\n",
              "            + ' to learn more about interactive tables.';\n",
              "          element.innerHTML = '';\n",
              "          dataTable['output_type'] = 'display_data';\n",
              "          await google.colab.output.renderOutput(dataTable, element);\n",
              "          const docLink = document.createElement('div');\n",
              "          docLink.innerHTML = docLinkHtml;\n",
              "          element.appendChild(docLink);\n",
              "        }\n",
              "      </script>\n",
              "    </div>\n",
              "  </div>\n"
            ]
          },
          "metadata": {},
          "execution_count": 10
        }
      ]
    },
    {
      "cell_type": "markdown",
      "source": [
        "We see that actually visit intensity to the store is not really affect the customer retention."
      ],
      "metadata": {
        "id": "rRN_PTrpdRxO"
      }
    },
    {
      "cell_type": "code",
      "source": [
        "df.groupby('Membership')[['Buying Again']].mean()"
      ],
      "metadata": {
        "colab": {
          "base_uri": "https://localhost:8080/",
          "height": 142
        },
        "id": "BMagi41KZ_0v",
        "outputId": "7f383f6f-16ca-46f2-b4e5-ec9685bb51f8"
      },
      "execution_count": null,
      "outputs": [
        {
          "output_type": "execute_result",
          "data": {
            "text/plain": [
              "            Buying Again\n",
              "Membership              \n",
              "No              0.639344\n",
              "Yes             0.916667"
            ],
            "text/html": [
              "\n",
              "\n",
              "  <div id=\"df-9de6be2a-8cd3-4fd1-8362-73dea96c350c\">\n",
              "    <div class=\"colab-df-container\">\n",
              "      <div>\n",
              "<style scoped>\n",
              "    .dataframe tbody tr th:only-of-type {\n",
              "        vertical-align: middle;\n",
              "    }\n",
              "\n",
              "    .dataframe tbody tr th {\n",
              "        vertical-align: top;\n",
              "    }\n",
              "\n",
              "    .dataframe thead th {\n",
              "        text-align: right;\n",
              "    }\n",
              "</style>\n",
              "<table border=\"1\" class=\"dataframe\">\n",
              "  <thead>\n",
              "    <tr style=\"text-align: right;\">\n",
              "      <th></th>\n",
              "      <th>Buying Again</th>\n",
              "    </tr>\n",
              "    <tr>\n",
              "      <th>Membership</th>\n",
              "      <th></th>\n",
              "    </tr>\n",
              "  </thead>\n",
              "  <tbody>\n",
              "    <tr>\n",
              "      <th>No</th>\n",
              "      <td>0.639344</td>\n",
              "    </tr>\n",
              "    <tr>\n",
              "      <th>Yes</th>\n",
              "      <td>0.916667</td>\n",
              "    </tr>\n",
              "  </tbody>\n",
              "</table>\n",
              "</div>\n",
              "      <button class=\"colab-df-convert\" onclick=\"convertToInteractive('df-9de6be2a-8cd3-4fd1-8362-73dea96c350c')\"\n",
              "              title=\"Convert this dataframe to an interactive table.\"\n",
              "              style=\"display:none;\">\n",
              "\n",
              "  <svg xmlns=\"http://www.w3.org/2000/svg\" height=\"24px\"viewBox=\"0 0 24 24\"\n",
              "       width=\"24px\">\n",
              "    <path d=\"M0 0h24v24H0V0z\" fill=\"none\"/>\n",
              "    <path d=\"M18.56 5.44l.94 2.06.94-2.06 2.06-.94-2.06-.94-.94-2.06-.94 2.06-2.06.94zm-11 1L8.5 8.5l.94-2.06 2.06-.94-2.06-.94L8.5 2.5l-.94 2.06-2.06.94zm10 10l.94 2.06.94-2.06 2.06-.94-2.06-.94-.94-2.06-.94 2.06-2.06.94z\"/><path d=\"M17.41 7.96l-1.37-1.37c-.4-.4-.92-.59-1.43-.59-.52 0-1.04.2-1.43.59L10.3 9.45l-7.72 7.72c-.78.78-.78 2.05 0 2.83L4 21.41c.39.39.9.59 1.41.59.51 0 1.02-.2 1.41-.59l7.78-7.78 2.81-2.81c.8-.78.8-2.07 0-2.86zM5.41 20L4 18.59l7.72-7.72 1.47 1.35L5.41 20z\"/>\n",
              "  </svg>\n",
              "      </button>\n",
              "\n",
              "\n",
              "\n",
              "    <div id=\"df-ff6be621-8cdf-4838-bf0a-205b999e3a8e\">\n",
              "      <button class=\"colab-df-quickchart\" onclick=\"quickchart('df-ff6be621-8cdf-4838-bf0a-205b999e3a8e')\"\n",
              "              title=\"Suggest charts.\"\n",
              "              style=\"display:none;\">\n",
              "\n",
              "<svg xmlns=\"http://www.w3.org/2000/svg\" height=\"24px\"viewBox=\"0 0 24 24\"\n",
              "     width=\"24px\">\n",
              "    <g>\n",
              "        <path d=\"M19 3H5c-1.1 0-2 .9-2 2v14c0 1.1.9 2 2 2h14c1.1 0 2-.9 2-2V5c0-1.1-.9-2-2-2zM9 17H7v-7h2v7zm4 0h-2V7h2v10zm4 0h-2v-4h2v4z\"/>\n",
              "    </g>\n",
              "</svg>\n",
              "      </button>\n",
              "    </div>\n",
              "\n",
              "<style>\n",
              "  .colab-df-quickchart {\n",
              "    background-color: #E8F0FE;\n",
              "    border: none;\n",
              "    border-radius: 50%;\n",
              "    cursor: pointer;\n",
              "    display: none;\n",
              "    fill: #1967D2;\n",
              "    height: 32px;\n",
              "    padding: 0 0 0 0;\n",
              "    width: 32px;\n",
              "  }\n",
              "\n",
              "  .colab-df-quickchart:hover {\n",
              "    background-color: #E2EBFA;\n",
              "    box-shadow: 0px 1px 2px rgba(60, 64, 67, 0.3), 0px 1px 3px 1px rgba(60, 64, 67, 0.15);\n",
              "    fill: #174EA6;\n",
              "  }\n",
              "\n",
              "  [theme=dark] .colab-df-quickchart {\n",
              "    background-color: #3B4455;\n",
              "    fill: #D2E3FC;\n",
              "  }\n",
              "\n",
              "  [theme=dark] .colab-df-quickchart:hover {\n",
              "    background-color: #434B5C;\n",
              "    box-shadow: 0px 1px 3px 1px rgba(0, 0, 0, 0.15);\n",
              "    filter: drop-shadow(0px 1px 2px rgba(0, 0, 0, 0.3));\n",
              "    fill: #FFFFFF;\n",
              "  }\n",
              "</style>\n",
              "\n",
              "    <script>\n",
              "      async function quickchart(key) {\n",
              "        const containerElement = document.querySelector('#' + key);\n",
              "        const charts = await google.colab.kernel.invokeFunction(\n",
              "            'suggestCharts', [key], {});\n",
              "      }\n",
              "    </script>\n",
              "\n",
              "      <script>\n",
              "\n",
              "function displayQuickchartButton(domScope) {\n",
              "  let quickchartButtonEl =\n",
              "    domScope.querySelector('#df-ff6be621-8cdf-4838-bf0a-205b999e3a8e button.colab-df-quickchart');\n",
              "  quickchartButtonEl.style.display =\n",
              "    google.colab.kernel.accessAllowed ? 'block' : 'none';\n",
              "}\n",
              "\n",
              "        displayQuickchartButton(document);\n",
              "      </script>\n",
              "      <style>\n",
              "    .colab-df-container {\n",
              "      display:flex;\n",
              "      flex-wrap:wrap;\n",
              "      gap: 12px;\n",
              "    }\n",
              "\n",
              "    .colab-df-convert {\n",
              "      background-color: #E8F0FE;\n",
              "      border: none;\n",
              "      border-radius: 50%;\n",
              "      cursor: pointer;\n",
              "      display: none;\n",
              "      fill: #1967D2;\n",
              "      height: 32px;\n",
              "      padding: 0 0 0 0;\n",
              "      width: 32px;\n",
              "    }\n",
              "\n",
              "    .colab-df-convert:hover {\n",
              "      background-color: #E2EBFA;\n",
              "      box-shadow: 0px 1px 2px rgba(60, 64, 67, 0.3), 0px 1px 3px 1px rgba(60, 64, 67, 0.15);\n",
              "      fill: #174EA6;\n",
              "    }\n",
              "\n",
              "    [theme=dark] .colab-df-convert {\n",
              "      background-color: #3B4455;\n",
              "      fill: #D2E3FC;\n",
              "    }\n",
              "\n",
              "    [theme=dark] .colab-df-convert:hover {\n",
              "      background-color: #434B5C;\n",
              "      box-shadow: 0px 1px 3px 1px rgba(0, 0, 0, 0.15);\n",
              "      filter: drop-shadow(0px 1px 2px rgba(0, 0, 0, 0.3));\n",
              "      fill: #FFFFFF;\n",
              "    }\n",
              "  </style>\n",
              "\n",
              "      <script>\n",
              "        const buttonEl =\n",
              "          document.querySelector('#df-9de6be2a-8cd3-4fd1-8362-73dea96c350c button.colab-df-convert');\n",
              "        buttonEl.style.display =\n",
              "          google.colab.kernel.accessAllowed ? 'block' : 'none';\n",
              "\n",
              "        async function convertToInteractive(key) {\n",
              "          const element = document.querySelector('#df-9de6be2a-8cd3-4fd1-8362-73dea96c350c');\n",
              "          const dataTable =\n",
              "            await google.colab.kernel.invokeFunction('convertToInteractive',\n",
              "                                                     [key], {});\n",
              "          if (!dataTable) return;\n",
              "\n",
              "          const docLinkHtml = 'Like what you see? Visit the ' +\n",
              "            '<a target=\"_blank\" href=https://colab.research.google.com/notebooks/data_table.ipynb>data table notebook</a>'\n",
              "            + ' to learn more about interactive tables.';\n",
              "          element.innerHTML = '';\n",
              "          dataTable['output_type'] = 'display_data';\n",
              "          await google.colab.output.renderOutput(dataTable, element);\n",
              "          const docLink = document.createElement('div');\n",
              "          docLink.innerHTML = docLinkHtml;\n",
              "          element.appendChild(docLink);\n",
              "        }\n",
              "      </script>\n",
              "    </div>\n",
              "  </div>\n"
            ]
          },
          "metadata": {},
          "execution_count": 11
        }
      ]
    },
    {
      "cell_type": "markdown",
      "source": [
        "Also, if customers has membership or not, they will keep to be loyal to Starbucks"
      ],
      "metadata": {
        "id": "sz-H7cIgdgZ7"
      }
    },
    {
      "cell_type": "code",
      "source": [
        "df.groupby('Money Spend')[['Buying Again']].mean()"
      ],
      "metadata": {
        "colab": {
          "base_uri": "https://localhost:8080/",
          "height": 204
        },
        "id": "JZrU6hQLab1r",
        "outputId": "4fbf3596-4bb3-4aaa-da41-aee5632cf027"
      },
      "execution_count": null,
      "outputs": [
        {
          "output_type": "execute_result",
          "data": {
            "text/plain": [
              "                    Buying Again\n",
              "Money Spend                     \n",
              "Around RM20 - RM40      0.933333\n",
              "Less than RM20          0.706897\n",
              "More than RM40          1.000000\n",
              "Zero                    0.363636"
            ],
            "text/html": [
              "\n",
              "\n",
              "  <div id=\"df-b76405ac-0ed2-4eaa-97e5-7e1a9e1be009\">\n",
              "    <div class=\"colab-df-container\">\n",
              "      <div>\n",
              "<style scoped>\n",
              "    .dataframe tbody tr th:only-of-type {\n",
              "        vertical-align: middle;\n",
              "    }\n",
              "\n",
              "    .dataframe tbody tr th {\n",
              "        vertical-align: top;\n",
              "    }\n",
              "\n",
              "    .dataframe thead th {\n",
              "        text-align: right;\n",
              "    }\n",
              "</style>\n",
              "<table border=\"1\" class=\"dataframe\">\n",
              "  <thead>\n",
              "    <tr style=\"text-align: right;\">\n",
              "      <th></th>\n",
              "      <th>Buying Again</th>\n",
              "    </tr>\n",
              "    <tr>\n",
              "      <th>Money Spend</th>\n",
              "      <th></th>\n",
              "    </tr>\n",
              "  </thead>\n",
              "  <tbody>\n",
              "    <tr>\n",
              "      <th>Around RM20 - RM40</th>\n",
              "      <td>0.933333</td>\n",
              "    </tr>\n",
              "    <tr>\n",
              "      <th>Less than RM20</th>\n",
              "      <td>0.706897</td>\n",
              "    </tr>\n",
              "    <tr>\n",
              "      <th>More than RM40</th>\n",
              "      <td>1.000000</td>\n",
              "    </tr>\n",
              "    <tr>\n",
              "      <th>Zero</th>\n",
              "      <td>0.363636</td>\n",
              "    </tr>\n",
              "  </tbody>\n",
              "</table>\n",
              "</div>\n",
              "      <button class=\"colab-df-convert\" onclick=\"convertToInteractive('df-b76405ac-0ed2-4eaa-97e5-7e1a9e1be009')\"\n",
              "              title=\"Convert this dataframe to an interactive table.\"\n",
              "              style=\"display:none;\">\n",
              "\n",
              "  <svg xmlns=\"http://www.w3.org/2000/svg\" height=\"24px\"viewBox=\"0 0 24 24\"\n",
              "       width=\"24px\">\n",
              "    <path d=\"M0 0h24v24H0V0z\" fill=\"none\"/>\n",
              "    <path d=\"M18.56 5.44l.94 2.06.94-2.06 2.06-.94-2.06-.94-.94-2.06-.94 2.06-2.06.94zm-11 1L8.5 8.5l.94-2.06 2.06-.94-2.06-.94L8.5 2.5l-.94 2.06-2.06.94zm10 10l.94 2.06.94-2.06 2.06-.94-2.06-.94-.94-2.06-.94 2.06-2.06.94z\"/><path d=\"M17.41 7.96l-1.37-1.37c-.4-.4-.92-.59-1.43-.59-.52 0-1.04.2-1.43.59L10.3 9.45l-7.72 7.72c-.78.78-.78 2.05 0 2.83L4 21.41c.39.39.9.59 1.41.59.51 0 1.02-.2 1.41-.59l7.78-7.78 2.81-2.81c.8-.78.8-2.07 0-2.86zM5.41 20L4 18.59l7.72-7.72 1.47 1.35L5.41 20z\"/>\n",
              "  </svg>\n",
              "      </button>\n",
              "\n",
              "\n",
              "\n",
              "    <div id=\"df-4d0260f0-f302-4064-97a7-d56c8eb2d28e\">\n",
              "      <button class=\"colab-df-quickchart\" onclick=\"quickchart('df-4d0260f0-f302-4064-97a7-d56c8eb2d28e')\"\n",
              "              title=\"Suggest charts.\"\n",
              "              style=\"display:none;\">\n",
              "\n",
              "<svg xmlns=\"http://www.w3.org/2000/svg\" height=\"24px\"viewBox=\"0 0 24 24\"\n",
              "     width=\"24px\">\n",
              "    <g>\n",
              "        <path d=\"M19 3H5c-1.1 0-2 .9-2 2v14c0 1.1.9 2 2 2h14c1.1 0 2-.9 2-2V5c0-1.1-.9-2-2-2zM9 17H7v-7h2v7zm4 0h-2V7h2v10zm4 0h-2v-4h2v4z\"/>\n",
              "    </g>\n",
              "</svg>\n",
              "      </button>\n",
              "    </div>\n",
              "\n",
              "<style>\n",
              "  .colab-df-quickchart {\n",
              "    background-color: #E8F0FE;\n",
              "    border: none;\n",
              "    border-radius: 50%;\n",
              "    cursor: pointer;\n",
              "    display: none;\n",
              "    fill: #1967D2;\n",
              "    height: 32px;\n",
              "    padding: 0 0 0 0;\n",
              "    width: 32px;\n",
              "  }\n",
              "\n",
              "  .colab-df-quickchart:hover {\n",
              "    background-color: #E2EBFA;\n",
              "    box-shadow: 0px 1px 2px rgba(60, 64, 67, 0.3), 0px 1px 3px 1px rgba(60, 64, 67, 0.15);\n",
              "    fill: #174EA6;\n",
              "  }\n",
              "\n",
              "  [theme=dark] .colab-df-quickchart {\n",
              "    background-color: #3B4455;\n",
              "    fill: #D2E3FC;\n",
              "  }\n",
              "\n",
              "  [theme=dark] .colab-df-quickchart:hover {\n",
              "    background-color: #434B5C;\n",
              "    box-shadow: 0px 1px 3px 1px rgba(0, 0, 0, 0.15);\n",
              "    filter: drop-shadow(0px 1px 2px rgba(0, 0, 0, 0.3));\n",
              "    fill: #FFFFFF;\n",
              "  }\n",
              "</style>\n",
              "\n",
              "    <script>\n",
              "      async function quickchart(key) {\n",
              "        const containerElement = document.querySelector('#' + key);\n",
              "        const charts = await google.colab.kernel.invokeFunction(\n",
              "            'suggestCharts', [key], {});\n",
              "      }\n",
              "    </script>\n",
              "\n",
              "      <script>\n",
              "\n",
              "function displayQuickchartButton(domScope) {\n",
              "  let quickchartButtonEl =\n",
              "    domScope.querySelector('#df-4d0260f0-f302-4064-97a7-d56c8eb2d28e button.colab-df-quickchart');\n",
              "  quickchartButtonEl.style.display =\n",
              "    google.colab.kernel.accessAllowed ? 'block' : 'none';\n",
              "}\n",
              "\n",
              "        displayQuickchartButton(document);\n",
              "      </script>\n",
              "      <style>\n",
              "    .colab-df-container {\n",
              "      display:flex;\n",
              "      flex-wrap:wrap;\n",
              "      gap: 12px;\n",
              "    }\n",
              "\n",
              "    .colab-df-convert {\n",
              "      background-color: #E8F0FE;\n",
              "      border: none;\n",
              "      border-radius: 50%;\n",
              "      cursor: pointer;\n",
              "      display: none;\n",
              "      fill: #1967D2;\n",
              "      height: 32px;\n",
              "      padding: 0 0 0 0;\n",
              "      width: 32px;\n",
              "    }\n",
              "\n",
              "    .colab-df-convert:hover {\n",
              "      background-color: #E2EBFA;\n",
              "      box-shadow: 0px 1px 2px rgba(60, 64, 67, 0.3), 0px 1px 3px 1px rgba(60, 64, 67, 0.15);\n",
              "      fill: #174EA6;\n",
              "    }\n",
              "\n",
              "    [theme=dark] .colab-df-convert {\n",
              "      background-color: #3B4455;\n",
              "      fill: #D2E3FC;\n",
              "    }\n",
              "\n",
              "    [theme=dark] .colab-df-convert:hover {\n",
              "      background-color: #434B5C;\n",
              "      box-shadow: 0px 1px 3px 1px rgba(0, 0, 0, 0.15);\n",
              "      filter: drop-shadow(0px 1px 2px rgba(0, 0, 0, 0.3));\n",
              "      fill: #FFFFFF;\n",
              "    }\n",
              "  </style>\n",
              "\n",
              "      <script>\n",
              "        const buttonEl =\n",
              "          document.querySelector('#df-b76405ac-0ed2-4eaa-97e5-7e1a9e1be009 button.colab-df-convert');\n",
              "        buttonEl.style.display =\n",
              "          google.colab.kernel.accessAllowed ? 'block' : 'none';\n",
              "\n",
              "        async function convertToInteractive(key) {\n",
              "          const element = document.querySelector('#df-b76405ac-0ed2-4eaa-97e5-7e1a9e1be009');\n",
              "          const dataTable =\n",
              "            await google.colab.kernel.invokeFunction('convertToInteractive',\n",
              "                                                     [key], {});\n",
              "          if (!dataTable) return;\n",
              "\n",
              "          const docLinkHtml = 'Like what you see? Visit the ' +\n",
              "            '<a target=\"_blank\" href=https://colab.research.google.com/notebooks/data_table.ipynb>data table notebook</a>'\n",
              "            + ' to learn more about interactive tables.';\n",
              "          element.innerHTML = '';\n",
              "          dataTable['output_type'] = 'display_data';\n",
              "          await google.colab.output.renderOutput(dataTable, element);\n",
              "          const docLink = document.createElement('div');\n",
              "          docLink.innerHTML = docLinkHtml;\n",
              "          element.appendChild(docLink);\n",
              "        }\n",
              "      </script>\n",
              "    </div>\n",
              "  </div>\n"
            ]
          },
          "metadata": {},
          "execution_count": 12
        }
      ]
    },
    {
      "cell_type": "markdown",
      "source": [
        "People that spend their money to buy starcuks' products tend to be loyal and will buying again."
      ],
      "metadata": {
        "id": "7MJPX4J9drva"
      }
    },
    {
      "cell_type": "markdown",
      "source": [
        "Rating data are actually ordinal data, so to measure the detail relation, we can use kendall correlation."
      ],
      "metadata": {
        "id": "hpGe2SpPeFx0"
      }
    },
    {
      "cell_type": "code",
      "source": [
        "df.groupby('Quality Rate')[['Buying Again']].mean().reset_index()"
      ],
      "metadata": {
        "colab": {
          "base_uri": "https://localhost:8080/",
          "height": 204
        },
        "id": "kJP9FNKn6mxh",
        "outputId": "fad27a67-6823-4f56-f20d-3b138d76bde2"
      },
      "execution_count": null,
      "outputs": [
        {
          "output_type": "execute_result",
          "data": {
            "text/plain": [
              "   Quality Rate  Buying Again\n",
              "0             1      0.000000\n",
              "1             2      0.250000\n",
              "2             3      0.743590\n",
              "3             4      0.857143\n",
              "4             5      0.913043"
            ],
            "text/html": [
              "\n",
              "\n",
              "  <div id=\"df-9ba527d5-1277-4fe4-8162-e4303cab48da\">\n",
              "    <div class=\"colab-df-container\">\n",
              "      <div>\n",
              "<style scoped>\n",
              "    .dataframe tbody tr th:only-of-type {\n",
              "        vertical-align: middle;\n",
              "    }\n",
              "\n",
              "    .dataframe tbody tr th {\n",
              "        vertical-align: top;\n",
              "    }\n",
              "\n",
              "    .dataframe thead th {\n",
              "        text-align: right;\n",
              "    }\n",
              "</style>\n",
              "<table border=\"1\" class=\"dataframe\">\n",
              "  <thead>\n",
              "    <tr style=\"text-align: right;\">\n",
              "      <th></th>\n",
              "      <th>Quality Rate</th>\n",
              "      <th>Buying Again</th>\n",
              "    </tr>\n",
              "  </thead>\n",
              "  <tbody>\n",
              "    <tr>\n",
              "      <th>0</th>\n",
              "      <td>1</td>\n",
              "      <td>0.000000</td>\n",
              "    </tr>\n",
              "    <tr>\n",
              "      <th>1</th>\n",
              "      <td>2</td>\n",
              "      <td>0.250000</td>\n",
              "    </tr>\n",
              "    <tr>\n",
              "      <th>2</th>\n",
              "      <td>3</td>\n",
              "      <td>0.743590</td>\n",
              "    </tr>\n",
              "    <tr>\n",
              "      <th>3</th>\n",
              "      <td>4</td>\n",
              "      <td>0.857143</td>\n",
              "    </tr>\n",
              "    <tr>\n",
              "      <th>4</th>\n",
              "      <td>5</td>\n",
              "      <td>0.913043</td>\n",
              "    </tr>\n",
              "  </tbody>\n",
              "</table>\n",
              "</div>\n",
              "      <button class=\"colab-df-convert\" onclick=\"convertToInteractive('df-9ba527d5-1277-4fe4-8162-e4303cab48da')\"\n",
              "              title=\"Convert this dataframe to an interactive table.\"\n",
              "              style=\"display:none;\">\n",
              "\n",
              "  <svg xmlns=\"http://www.w3.org/2000/svg\" height=\"24px\"viewBox=\"0 0 24 24\"\n",
              "       width=\"24px\">\n",
              "    <path d=\"M0 0h24v24H0V0z\" fill=\"none\"/>\n",
              "    <path d=\"M18.56 5.44l.94 2.06.94-2.06 2.06-.94-2.06-.94-.94-2.06-.94 2.06-2.06.94zm-11 1L8.5 8.5l.94-2.06 2.06-.94-2.06-.94L8.5 2.5l-.94 2.06-2.06.94zm10 10l.94 2.06.94-2.06 2.06-.94-2.06-.94-.94-2.06-.94 2.06-2.06.94z\"/><path d=\"M17.41 7.96l-1.37-1.37c-.4-.4-.92-.59-1.43-.59-.52 0-1.04.2-1.43.59L10.3 9.45l-7.72 7.72c-.78.78-.78 2.05 0 2.83L4 21.41c.39.39.9.59 1.41.59.51 0 1.02-.2 1.41-.59l7.78-7.78 2.81-2.81c.8-.78.8-2.07 0-2.86zM5.41 20L4 18.59l7.72-7.72 1.47 1.35L5.41 20z\"/>\n",
              "  </svg>\n",
              "      </button>\n",
              "\n",
              "\n",
              "\n",
              "    <div id=\"df-da591f07-6dcf-4af7-bd56-00fe0ea1cc5e\">\n",
              "      <button class=\"colab-df-quickchart\" onclick=\"quickchart('df-da591f07-6dcf-4af7-bd56-00fe0ea1cc5e')\"\n",
              "              title=\"Suggest charts.\"\n",
              "              style=\"display:none;\">\n",
              "\n",
              "<svg xmlns=\"http://www.w3.org/2000/svg\" height=\"24px\"viewBox=\"0 0 24 24\"\n",
              "     width=\"24px\">\n",
              "    <g>\n",
              "        <path d=\"M19 3H5c-1.1 0-2 .9-2 2v14c0 1.1.9 2 2 2h14c1.1 0 2-.9 2-2V5c0-1.1-.9-2-2-2zM9 17H7v-7h2v7zm4 0h-2V7h2v10zm4 0h-2v-4h2v4z\"/>\n",
              "    </g>\n",
              "</svg>\n",
              "      </button>\n",
              "    </div>\n",
              "\n",
              "<style>\n",
              "  .colab-df-quickchart {\n",
              "    background-color: #E8F0FE;\n",
              "    border: none;\n",
              "    border-radius: 50%;\n",
              "    cursor: pointer;\n",
              "    display: none;\n",
              "    fill: #1967D2;\n",
              "    height: 32px;\n",
              "    padding: 0 0 0 0;\n",
              "    width: 32px;\n",
              "  }\n",
              "\n",
              "  .colab-df-quickchart:hover {\n",
              "    background-color: #E2EBFA;\n",
              "    box-shadow: 0px 1px 2px rgba(60, 64, 67, 0.3), 0px 1px 3px 1px rgba(60, 64, 67, 0.15);\n",
              "    fill: #174EA6;\n",
              "  }\n",
              "\n",
              "  [theme=dark] .colab-df-quickchart {\n",
              "    background-color: #3B4455;\n",
              "    fill: #D2E3FC;\n",
              "  }\n",
              "\n",
              "  [theme=dark] .colab-df-quickchart:hover {\n",
              "    background-color: #434B5C;\n",
              "    box-shadow: 0px 1px 3px 1px rgba(0, 0, 0, 0.15);\n",
              "    filter: drop-shadow(0px 1px 2px rgba(0, 0, 0, 0.3));\n",
              "    fill: #FFFFFF;\n",
              "  }\n",
              "</style>\n",
              "\n",
              "    <script>\n",
              "      async function quickchart(key) {\n",
              "        const containerElement = document.querySelector('#' + key);\n",
              "        const charts = await google.colab.kernel.invokeFunction(\n",
              "            'suggestCharts', [key], {});\n",
              "      }\n",
              "    </script>\n",
              "\n",
              "      <script>\n",
              "\n",
              "function displayQuickchartButton(domScope) {\n",
              "  let quickchartButtonEl =\n",
              "    domScope.querySelector('#df-da591f07-6dcf-4af7-bd56-00fe0ea1cc5e button.colab-df-quickchart');\n",
              "  quickchartButtonEl.style.display =\n",
              "    google.colab.kernel.accessAllowed ? 'block' : 'none';\n",
              "}\n",
              "\n",
              "        displayQuickchartButton(document);\n",
              "      </script>\n",
              "      <style>\n",
              "    .colab-df-container {\n",
              "      display:flex;\n",
              "      flex-wrap:wrap;\n",
              "      gap: 12px;\n",
              "    }\n",
              "\n",
              "    .colab-df-convert {\n",
              "      background-color: #E8F0FE;\n",
              "      border: none;\n",
              "      border-radius: 50%;\n",
              "      cursor: pointer;\n",
              "      display: none;\n",
              "      fill: #1967D2;\n",
              "      height: 32px;\n",
              "      padding: 0 0 0 0;\n",
              "      width: 32px;\n",
              "    }\n",
              "\n",
              "    .colab-df-convert:hover {\n",
              "      background-color: #E2EBFA;\n",
              "      box-shadow: 0px 1px 2px rgba(60, 64, 67, 0.3), 0px 1px 3px 1px rgba(60, 64, 67, 0.15);\n",
              "      fill: #174EA6;\n",
              "    }\n",
              "\n",
              "    [theme=dark] .colab-df-convert {\n",
              "      background-color: #3B4455;\n",
              "      fill: #D2E3FC;\n",
              "    }\n",
              "\n",
              "    [theme=dark] .colab-df-convert:hover {\n",
              "      background-color: #434B5C;\n",
              "      box-shadow: 0px 1px 3px 1px rgba(0, 0, 0, 0.15);\n",
              "      filter: drop-shadow(0px 1px 2px rgba(0, 0, 0, 0.3));\n",
              "      fill: #FFFFFF;\n",
              "    }\n",
              "  </style>\n",
              "\n",
              "      <script>\n",
              "        const buttonEl =\n",
              "          document.querySelector('#df-9ba527d5-1277-4fe4-8162-e4303cab48da button.colab-df-convert');\n",
              "        buttonEl.style.display =\n",
              "          google.colab.kernel.accessAllowed ? 'block' : 'none';\n",
              "\n",
              "        async function convertToInteractive(key) {\n",
              "          const element = document.querySelector('#df-9ba527d5-1277-4fe4-8162-e4303cab48da');\n",
              "          const dataTable =\n",
              "            await google.colab.kernel.invokeFunction('convertToInteractive',\n",
              "                                                     [key], {});\n",
              "          if (!dataTable) return;\n",
              "\n",
              "          const docLinkHtml = 'Like what you see? Visit the ' +\n",
              "            '<a target=\"_blank\" href=https://colab.research.google.com/notebooks/data_table.ipynb>data table notebook</a>'\n",
              "            + ' to learn more about interactive tables.';\n",
              "          element.innerHTML = '';\n",
              "          dataTable['output_type'] = 'display_data';\n",
              "          await google.colab.output.renderOutput(dataTable, element);\n",
              "          const docLink = document.createElement('div');\n",
              "          docLink.innerHTML = docLinkHtml;\n",
              "          element.appendChild(docLink);\n",
              "        }\n",
              "      </script>\n",
              "    </div>\n",
              "  </div>\n"
            ]
          },
          "metadata": {},
          "execution_count": 21
        }
      ]
    },
    {
      "cell_type": "code",
      "source": [
        "def corr(col):\n",
        "  tmp = df.groupby(col)[['Buying Again']].mean().reset_index()\n",
        "  tau, pval = stats.kendalltau(tmp[col],tmp['Buying Again'])\n",
        "  print('Kendall Tau:',tau)\n",
        "  print('P-value:',pval)"
      ],
      "metadata": {
        "id": "9r16tQ4v8sDM"
      },
      "execution_count": null,
      "outputs": []
    },
    {
      "cell_type": "code",
      "source": [
        "corr('Quality Rate')"
      ],
      "metadata": {
        "colab": {
          "base_uri": "https://localhost:8080/"
        },
        "id": "B3YASIee8-X2",
        "outputId": "a8b25c96-c172-41fb-dcac-a191442262c2"
      },
      "execution_count": null,
      "outputs": [
        {
          "output_type": "stream",
          "name": "stdout",
          "text": [
            "Kendall Tau: 0.9999999999999999\n",
            "P-value: 0.016666666666666666\n"
          ]
        }
      ]
    },
    {
      "cell_type": "code",
      "source": [
        "corr('Price Rate')"
      ],
      "metadata": {
        "colab": {
          "base_uri": "https://localhost:8080/"
        },
        "id": "hKJQ8MOjahE1",
        "outputId": "f23b4cc0-9923-4ff8-8b67-5dd46d299300"
      },
      "execution_count": null,
      "outputs": [
        {
          "output_type": "stream",
          "name": "stdout",
          "text": [
            "Kendall Tau: 0.9999999999999999\n",
            "P-value: 0.016666666666666666\n"
          ]
        }
      ]
    },
    {
      "cell_type": "code",
      "source": [
        "corr('Ambience Rate')"
      ],
      "metadata": {
        "colab": {
          "base_uri": "https://localhost:8080/"
        },
        "id": "IkdkuI03bFuW",
        "outputId": "3ce7d19f-f81f-47c1-9568-924dcd78b82c"
      },
      "execution_count": null,
      "outputs": [
        {
          "output_type": "stream",
          "name": "stdout",
          "text": [
            "Kendall Tau: 0.9486832980505137\n",
            "P-value: 0.022977401503206065\n"
          ]
        }
      ]
    },
    {
      "cell_type": "code",
      "source": [
        "corr('Service Rate')"
      ],
      "metadata": {
        "colab": {
          "base_uri": "https://localhost:8080/"
        },
        "id": "_0Tg0Rr_bJh5",
        "outputId": "8e9e3fc1-a4a9-4e7a-a73d-71b6055814fd"
      },
      "execution_count": null,
      "outputs": [
        {
          "output_type": "stream",
          "name": "stdout",
          "text": [
            "Kendall Tau: 0.7999999999999999\n",
            "P-value: 0.08333333333333333\n"
          ]
        }
      ]
    },
    {
      "cell_type": "code",
      "source": [
        "corr('Preference Rate')"
      ],
      "metadata": {
        "colab": {
          "base_uri": "https://localhost:8080/"
        },
        "id": "jADaMXfObM89",
        "outputId": "121a8217-e2e0-4033-d686-0576f1975ed7"
      },
      "execution_count": null,
      "outputs": [
        {
          "output_type": "stream",
          "name": "stdout",
          "text": [
            "Kendall Tau: 0.9999999999999999\n",
            "P-value: 0.016666666666666666\n"
          ]
        }
      ]
    },
    {
      "cell_type": "markdown",
      "source": [
        "Based on those corr values, we know that retention rate has high correlation to customer satisfactory against product quality, price, ambience, service quality.\n",
        "\n",
        "And because they are satisfy to Starbucks, they will come to buy the products again and willing to hangout with their friends or doing business meeting in Starbucks.\n",
        "\n",
        "However, only Service rate that shows of p-value more than critical value, 0.05, so mostly, the correlations are occured not by chance randomly and we need more data to prove it. Moreover, we can still continue our analysis and this can be a warning that our conclusion maybe wrong."
      ],
      "metadata": {
        "id": "D0MgEFi19d1r"
      }
    },
    {
      "cell_type": "markdown",
      "source": [
        "#### Who are people that be loyal to Starbucks?"
      ],
      "metadata": {
        "id": "04i4yhWj94OP"
      }
    },
    {
      "cell_type": "code",
      "source": [
        "loyals = data[data['Buying Again']=='Yes']\n",
        "loyals.head()"
      ],
      "metadata": {
        "id": "alvJn7iQ96_C",
        "colab": {
          "base_uri": "https://localhost:8080/",
          "height": 620
        },
        "outputId": "0fd4198b-be80-469b-f8b4-a8368e6174d4"
      },
      "execution_count": null,
      "outputs": [
        {
          "output_type": "execute_result",
          "data": {
            "text/plain": [
              "                      Timestamp  Gender            Age Occupation  \\\n",
              "0  2019/10/01 12:38:43 PM GMT+8  Female  From 20 to 29    Student   \n",
              "1  2019/10/01 12:38:54 PM GMT+8  Female  From 20 to 29    Student   \n",
              "2  2019/10/01 12:38:56 PM GMT+8    Male  From 20 to 29   Employed   \n",
              "4  2019/10/01 12:39:20 PM GMT+8    Male  From 20 to 29    Student   \n",
              "5  2019/10/01 12:39:39 PM GMT+8  Female  From 20 to 29    Student   \n",
              "\n",
              "        Annual Income    Visit  Behaviour                    Time Spend  \\\n",
              "0  Less than RM25,000   Rarely    Dine in  Between 30 minutes to 1 hour   \n",
              "1  Less than RM25,000   Rarely  Take away              Below 30 minutes   \n",
              "2  Less than RM25,000  Monthly    Dine in  Between 30 minutes to 1 hour   \n",
              "4  Less than RM25,000  Monthly  Take away  Between 30 minutes to 1 hour   \n",
              "5  Less than RM25,000   Rarely    Dine in  Between 30 minutes to 1 hour   \n",
              "\n",
              "        Distance Membership  ...         Money Spend Quality Rate  Price Rate  \\\n",
              "0     within 1km        Yes  ...      Less than RM20            4           3   \n",
              "1      1km - 3km        Yes  ...      Less than RM20            4           3   \n",
              "2  more than 3km        Yes  ...      Less than RM20            4           3   \n",
              "4      1km - 3km         No  ...  Around RM20 - RM40            3           3   \n",
              "5  more than 3km         No  ...      Less than RM20            4           3   \n",
              "\n",
              "   Importance of Promo  Ambience Rate  WIFI Rate  Service Rate  \\\n",
              "0                    5              5          4             4   \n",
              "1                    4              4          4             5   \n",
              "2                    4              4          4             4   \n",
              "4                    4              2          2             3   \n",
              "5                    5              5          4             5   \n",
              "\n",
              "   Preference Rate                                  Promotion Channel  \\\n",
              "0                3  Starbucks Website/Apps;Social Media;Emails;Dea...   \n",
              "1                2                     Social Media;In Store displays   \n",
              "2                3                       In Store displays;Billboards   \n",
              "4                3                Starbucks Website/Apps;Social Media   \n",
              "5                4                                       Social Media   \n",
              "\n",
              "  Buying Again  \n",
              "0          Yes  \n",
              "1          Yes  \n",
              "2          Yes  \n",
              "4          Yes  \n",
              "5          Yes  \n",
              "\n",
              "[5 rows x 21 columns]"
            ],
            "text/html": [
              "\n",
              "\n",
              "  <div id=\"df-2ca44a27-92c5-4e0a-a873-d1c5370bb5f5\">\n",
              "    <div class=\"colab-df-container\">\n",
              "      <div>\n",
              "<style scoped>\n",
              "    .dataframe tbody tr th:only-of-type {\n",
              "        vertical-align: middle;\n",
              "    }\n",
              "\n",
              "    .dataframe tbody tr th {\n",
              "        vertical-align: top;\n",
              "    }\n",
              "\n",
              "    .dataframe thead th {\n",
              "        text-align: right;\n",
              "    }\n",
              "</style>\n",
              "<table border=\"1\" class=\"dataframe\">\n",
              "  <thead>\n",
              "    <tr style=\"text-align: right;\">\n",
              "      <th></th>\n",
              "      <th>Timestamp</th>\n",
              "      <th>Gender</th>\n",
              "      <th>Age</th>\n",
              "      <th>Occupation</th>\n",
              "      <th>Annual Income</th>\n",
              "      <th>Visit</th>\n",
              "      <th>Behaviour</th>\n",
              "      <th>Time Spend</th>\n",
              "      <th>Distance</th>\n",
              "      <th>Membership</th>\n",
              "      <th>...</th>\n",
              "      <th>Money Spend</th>\n",
              "      <th>Quality Rate</th>\n",
              "      <th>Price Rate</th>\n",
              "      <th>Importance of Promo</th>\n",
              "      <th>Ambience Rate</th>\n",
              "      <th>WIFI Rate</th>\n",
              "      <th>Service Rate</th>\n",
              "      <th>Preference Rate</th>\n",
              "      <th>Promotion Channel</th>\n",
              "      <th>Buying Again</th>\n",
              "    </tr>\n",
              "  </thead>\n",
              "  <tbody>\n",
              "    <tr>\n",
              "      <th>0</th>\n",
              "      <td>2019/10/01 12:38:43 PM GMT+8</td>\n",
              "      <td>Female</td>\n",
              "      <td>From 20 to 29</td>\n",
              "      <td>Student</td>\n",
              "      <td>Less than RM25,000</td>\n",
              "      <td>Rarely</td>\n",
              "      <td>Dine in</td>\n",
              "      <td>Between 30 minutes to 1 hour</td>\n",
              "      <td>within 1km</td>\n",
              "      <td>Yes</td>\n",
              "      <td>...</td>\n",
              "      <td>Less than RM20</td>\n",
              "      <td>4</td>\n",
              "      <td>3</td>\n",
              "      <td>5</td>\n",
              "      <td>5</td>\n",
              "      <td>4</td>\n",
              "      <td>4</td>\n",
              "      <td>3</td>\n",
              "      <td>Starbucks Website/Apps;Social Media;Emails;Dea...</td>\n",
              "      <td>Yes</td>\n",
              "    </tr>\n",
              "    <tr>\n",
              "      <th>1</th>\n",
              "      <td>2019/10/01 12:38:54 PM GMT+8</td>\n",
              "      <td>Female</td>\n",
              "      <td>From 20 to 29</td>\n",
              "      <td>Student</td>\n",
              "      <td>Less than RM25,000</td>\n",
              "      <td>Rarely</td>\n",
              "      <td>Take away</td>\n",
              "      <td>Below 30 minutes</td>\n",
              "      <td>1km - 3km</td>\n",
              "      <td>Yes</td>\n",
              "      <td>...</td>\n",
              "      <td>Less than RM20</td>\n",
              "      <td>4</td>\n",
              "      <td>3</td>\n",
              "      <td>4</td>\n",
              "      <td>4</td>\n",
              "      <td>4</td>\n",
              "      <td>5</td>\n",
              "      <td>2</td>\n",
              "      <td>Social Media;In Store displays</td>\n",
              "      <td>Yes</td>\n",
              "    </tr>\n",
              "    <tr>\n",
              "      <th>2</th>\n",
              "      <td>2019/10/01 12:38:56 PM GMT+8</td>\n",
              "      <td>Male</td>\n",
              "      <td>From 20 to 29</td>\n",
              "      <td>Employed</td>\n",
              "      <td>Less than RM25,000</td>\n",
              "      <td>Monthly</td>\n",
              "      <td>Dine in</td>\n",
              "      <td>Between 30 minutes to 1 hour</td>\n",
              "      <td>more than 3km</td>\n",
              "      <td>Yes</td>\n",
              "      <td>...</td>\n",
              "      <td>Less than RM20</td>\n",
              "      <td>4</td>\n",
              "      <td>3</td>\n",
              "      <td>4</td>\n",
              "      <td>4</td>\n",
              "      <td>4</td>\n",
              "      <td>4</td>\n",
              "      <td>3</td>\n",
              "      <td>In Store displays;Billboards</td>\n",
              "      <td>Yes</td>\n",
              "    </tr>\n",
              "    <tr>\n",
              "      <th>4</th>\n",
              "      <td>2019/10/01 12:39:20 PM GMT+8</td>\n",
              "      <td>Male</td>\n",
              "      <td>From 20 to 29</td>\n",
              "      <td>Student</td>\n",
              "      <td>Less than RM25,000</td>\n",
              "      <td>Monthly</td>\n",
              "      <td>Take away</td>\n",
              "      <td>Between 30 minutes to 1 hour</td>\n",
              "      <td>1km - 3km</td>\n",
              "      <td>No</td>\n",
              "      <td>...</td>\n",
              "      <td>Around RM20 - RM40</td>\n",
              "      <td>3</td>\n",
              "      <td>3</td>\n",
              "      <td>4</td>\n",
              "      <td>2</td>\n",
              "      <td>2</td>\n",
              "      <td>3</td>\n",
              "      <td>3</td>\n",
              "      <td>Starbucks Website/Apps;Social Media</td>\n",
              "      <td>Yes</td>\n",
              "    </tr>\n",
              "    <tr>\n",
              "      <th>5</th>\n",
              "      <td>2019/10/01 12:39:39 PM GMT+8</td>\n",
              "      <td>Female</td>\n",
              "      <td>From 20 to 29</td>\n",
              "      <td>Student</td>\n",
              "      <td>Less than RM25,000</td>\n",
              "      <td>Rarely</td>\n",
              "      <td>Dine in</td>\n",
              "      <td>Between 30 minutes to 1 hour</td>\n",
              "      <td>more than 3km</td>\n",
              "      <td>No</td>\n",
              "      <td>...</td>\n",
              "      <td>Less than RM20</td>\n",
              "      <td>4</td>\n",
              "      <td>3</td>\n",
              "      <td>5</td>\n",
              "      <td>5</td>\n",
              "      <td>4</td>\n",
              "      <td>5</td>\n",
              "      <td>4</td>\n",
              "      <td>Social Media</td>\n",
              "      <td>Yes</td>\n",
              "    </tr>\n",
              "  </tbody>\n",
              "</table>\n",
              "<p>5 rows × 21 columns</p>\n",
              "</div>\n",
              "      <button class=\"colab-df-convert\" onclick=\"convertToInteractive('df-2ca44a27-92c5-4e0a-a873-d1c5370bb5f5')\"\n",
              "              title=\"Convert this dataframe to an interactive table.\"\n",
              "              style=\"display:none;\">\n",
              "\n",
              "  <svg xmlns=\"http://www.w3.org/2000/svg\" height=\"24px\"viewBox=\"0 0 24 24\"\n",
              "       width=\"24px\">\n",
              "    <path d=\"M0 0h24v24H0V0z\" fill=\"none\"/>\n",
              "    <path d=\"M18.56 5.44l.94 2.06.94-2.06 2.06-.94-2.06-.94-.94-2.06-.94 2.06-2.06.94zm-11 1L8.5 8.5l.94-2.06 2.06-.94-2.06-.94L8.5 2.5l-.94 2.06-2.06.94zm10 10l.94 2.06.94-2.06 2.06-.94-2.06-.94-.94-2.06-.94 2.06-2.06.94z\"/><path d=\"M17.41 7.96l-1.37-1.37c-.4-.4-.92-.59-1.43-.59-.52 0-1.04.2-1.43.59L10.3 9.45l-7.72 7.72c-.78.78-.78 2.05 0 2.83L4 21.41c.39.39.9.59 1.41.59.51 0 1.02-.2 1.41-.59l7.78-7.78 2.81-2.81c.8-.78.8-2.07 0-2.86zM5.41 20L4 18.59l7.72-7.72 1.47 1.35L5.41 20z\"/>\n",
              "  </svg>\n",
              "      </button>\n",
              "\n",
              "\n",
              "\n",
              "    <div id=\"df-c466bbea-3dac-4aed-a2a3-06fe19113f03\">\n",
              "      <button class=\"colab-df-quickchart\" onclick=\"quickchart('df-c466bbea-3dac-4aed-a2a3-06fe19113f03')\"\n",
              "              title=\"Suggest charts.\"\n",
              "              style=\"display:none;\">\n",
              "\n",
              "<svg xmlns=\"http://www.w3.org/2000/svg\" height=\"24px\"viewBox=\"0 0 24 24\"\n",
              "     width=\"24px\">\n",
              "    <g>\n",
              "        <path d=\"M19 3H5c-1.1 0-2 .9-2 2v14c0 1.1.9 2 2 2h14c1.1 0 2-.9 2-2V5c0-1.1-.9-2-2-2zM9 17H7v-7h2v7zm4 0h-2V7h2v10zm4 0h-2v-4h2v4z\"/>\n",
              "    </g>\n",
              "</svg>\n",
              "      </button>\n",
              "    </div>\n",
              "\n",
              "<style>\n",
              "  .colab-df-quickchart {\n",
              "    background-color: #E8F0FE;\n",
              "    border: none;\n",
              "    border-radius: 50%;\n",
              "    cursor: pointer;\n",
              "    display: none;\n",
              "    fill: #1967D2;\n",
              "    height: 32px;\n",
              "    padding: 0 0 0 0;\n",
              "    width: 32px;\n",
              "  }\n",
              "\n",
              "  .colab-df-quickchart:hover {\n",
              "    background-color: #E2EBFA;\n",
              "    box-shadow: 0px 1px 2px rgba(60, 64, 67, 0.3), 0px 1px 3px 1px rgba(60, 64, 67, 0.15);\n",
              "    fill: #174EA6;\n",
              "  }\n",
              "\n",
              "  [theme=dark] .colab-df-quickchart {\n",
              "    background-color: #3B4455;\n",
              "    fill: #D2E3FC;\n",
              "  }\n",
              "\n",
              "  [theme=dark] .colab-df-quickchart:hover {\n",
              "    background-color: #434B5C;\n",
              "    box-shadow: 0px 1px 3px 1px rgba(0, 0, 0, 0.15);\n",
              "    filter: drop-shadow(0px 1px 2px rgba(0, 0, 0, 0.3));\n",
              "    fill: #FFFFFF;\n",
              "  }\n",
              "</style>\n",
              "\n",
              "    <script>\n",
              "      async function quickchart(key) {\n",
              "        const containerElement = document.querySelector('#' + key);\n",
              "        const charts = await google.colab.kernel.invokeFunction(\n",
              "            'suggestCharts', [key], {});\n",
              "      }\n",
              "    </script>\n",
              "\n",
              "      <script>\n",
              "\n",
              "function displayQuickchartButton(domScope) {\n",
              "  let quickchartButtonEl =\n",
              "    domScope.querySelector('#df-c466bbea-3dac-4aed-a2a3-06fe19113f03 button.colab-df-quickchart');\n",
              "  quickchartButtonEl.style.display =\n",
              "    google.colab.kernel.accessAllowed ? 'block' : 'none';\n",
              "}\n",
              "\n",
              "        displayQuickchartButton(document);\n",
              "      </script>\n",
              "      <style>\n",
              "    .colab-df-container {\n",
              "      display:flex;\n",
              "      flex-wrap:wrap;\n",
              "      gap: 12px;\n",
              "    }\n",
              "\n",
              "    .colab-df-convert {\n",
              "      background-color: #E8F0FE;\n",
              "      border: none;\n",
              "      border-radius: 50%;\n",
              "      cursor: pointer;\n",
              "      display: none;\n",
              "      fill: #1967D2;\n",
              "      height: 32px;\n",
              "      padding: 0 0 0 0;\n",
              "      width: 32px;\n",
              "    }\n",
              "\n",
              "    .colab-df-convert:hover {\n",
              "      background-color: #E2EBFA;\n",
              "      box-shadow: 0px 1px 2px rgba(60, 64, 67, 0.3), 0px 1px 3px 1px rgba(60, 64, 67, 0.15);\n",
              "      fill: #174EA6;\n",
              "    }\n",
              "\n",
              "    [theme=dark] .colab-df-convert {\n",
              "      background-color: #3B4455;\n",
              "      fill: #D2E3FC;\n",
              "    }\n",
              "\n",
              "    [theme=dark] .colab-df-convert:hover {\n",
              "      background-color: #434B5C;\n",
              "      box-shadow: 0px 1px 3px 1px rgba(0, 0, 0, 0.15);\n",
              "      filter: drop-shadow(0px 1px 2px rgba(0, 0, 0, 0.3));\n",
              "      fill: #FFFFFF;\n",
              "    }\n",
              "  </style>\n",
              "\n",
              "      <script>\n",
              "        const buttonEl =\n",
              "          document.querySelector('#df-2ca44a27-92c5-4e0a-a873-d1c5370bb5f5 button.colab-df-convert');\n",
              "        buttonEl.style.display =\n",
              "          google.colab.kernel.accessAllowed ? 'block' : 'none';\n",
              "\n",
              "        async function convertToInteractive(key) {\n",
              "          const element = document.querySelector('#df-2ca44a27-92c5-4e0a-a873-d1c5370bb5f5');\n",
              "          const dataTable =\n",
              "            await google.colab.kernel.invokeFunction('convertToInteractive',\n",
              "                                                     [key], {});\n",
              "          if (!dataTable) return;\n",
              "\n",
              "          const docLinkHtml = 'Like what you see? Visit the ' +\n",
              "            '<a target=\"_blank\" href=https://colab.research.google.com/notebooks/data_table.ipynb>data table notebook</a>'\n",
              "            + ' to learn more about interactive tables.';\n",
              "          element.innerHTML = '';\n",
              "          dataTable['output_type'] = 'display_data';\n",
              "          await google.colab.output.renderOutput(dataTable, element);\n",
              "          const docLink = document.createElement('div');\n",
              "          docLink.innerHTML = docLinkHtml;\n",
              "          element.appendChild(docLink);\n",
              "        }\n",
              "      </script>\n",
              "    </div>\n",
              "  </div>\n"
            ]
          },
          "metadata": {},
          "execution_count": 30
        }
      ]
    },
    {
      "cell_type": "code",
      "source": [
        "len(loyals)"
      ],
      "metadata": {
        "colab": {
          "base_uri": "https://localhost:8080/"
        },
        "id": "a01d5uAJ_MEE",
        "outputId": "31213524-8959-473a-b094-209bd477b5b7"
      },
      "execution_count": null,
      "outputs": [
        {
          "output_type": "execute_result",
          "data": {
            "text/plain": [
              "94"
            ]
          },
          "metadata": {},
          "execution_count": 31
        }
      ]
    },
    {
      "cell_type": "markdown",
      "source": [
        "There are 94 out of 121 people that willing to buy again Starbucks products"
      ],
      "metadata": {
        "id": "NjudwKpb_SgC"
      }
    },
    {
      "cell_type": "code",
      "source": [
        "df['Gender'].value_counts()"
      ],
      "metadata": {
        "colab": {
          "base_uri": "https://localhost:8080/"
        },
        "id": "EBrKBZ5R_Y92",
        "outputId": "df15bbf0-810a-4d6b-d475-5bab3972b4ec"
      },
      "execution_count": null,
      "outputs": [
        {
          "output_type": "execute_result",
          "data": {
            "text/plain": [
              "Female    65\n",
              "Male      56\n",
              "Name: Gender, dtype: int64"
            ]
          },
          "metadata": {},
          "execution_count": 32
        }
      ]
    },
    {
      "cell_type": "markdown",
      "source": [
        "Mostly female"
      ],
      "metadata": {
        "id": "GcchP1qd_2uS"
      }
    },
    {
      "cell_type": "code",
      "source": [
        "df['Age'].value_counts()"
      ],
      "metadata": {
        "colab": {
          "base_uri": "https://localhost:8080/"
        },
        "id": "587yVxfX_222",
        "outputId": "8777d7e2-b257-491f-fa60-589c4ac1e59e"
      },
      "execution_count": null,
      "outputs": [
        {
          "output_type": "execute_result",
          "data": {
            "text/plain": [
              "From 20 to 29    84\n",
              "From 30 to 39    17\n",
              "Below 20         13\n",
              "40 and above      7\n",
              "Name: Age, dtype: int64"
            ]
          },
          "metadata": {},
          "execution_count": 33
        }
      ]
    },
    {
      "cell_type": "markdown",
      "source": [
        "They are youngsters"
      ],
      "metadata": {
        "id": "txrC5eqQAk4m"
      }
    },
    {
      "cell_type": "code",
      "source": [
        "df['Occupation'].value_counts()"
      ],
      "metadata": {
        "colab": {
          "base_uri": "https://localhost:8080/"
        },
        "id": "TtGx-1l2_7QG",
        "outputId": "3fe6249d-56f4-4876-d2b5-c5efac10e965"
      },
      "execution_count": null,
      "outputs": [
        {
          "output_type": "execute_result",
          "data": {
            "text/plain": [
              "Employed         60\n",
              "Student          42\n",
              "Self-employed    17\n",
              "Housewife         2\n",
              "Name: Occupation, dtype: int64"
            ]
          },
          "metadata": {},
          "execution_count": 34
        }
      ]
    },
    {
      "cell_type": "markdown",
      "source": [
        "Mostly they have already employed"
      ],
      "metadata": {
        "id": "ZnBY8SHjAoXS"
      }
    },
    {
      "cell_type": "code",
      "source": [
        "df['Annual Income'].value_counts()"
      ],
      "metadata": {
        "colab": {
          "base_uri": "https://localhost:8080/"
        },
        "id": "7ZGSYavNAADb",
        "outputId": "177db8f1-3cf8-4a98-b4a0-c4bcc027efe9"
      },
      "execution_count": null,
      "outputs": [
        {
          "output_type": "execute_result",
          "data": {
            "text/plain": [
              "Less than RM25,000       70\n",
              "RM25,000 - RM50,000      25\n",
              "RM50,000 - RM100,000     17\n",
              "More than RM150,000       6\n",
              "RM100,000 - RM150,000     3\n",
              "Name: Annual Income, dtype: int64"
            ]
          },
          "metadata": {},
          "execution_count": 35
        }
      ]
    },
    {
      "cell_type": "markdown",
      "source": [
        "Mostly their salary not that big (less then RM 25000)"
      ],
      "metadata": {
        "id": "yTzXrOZDAu5R"
      }
    },
    {
      "cell_type": "code",
      "source": [
        "df['Visit'].value_counts()"
      ],
      "metadata": {
        "colab": {
          "base_uri": "https://localhost:8080/"
        },
        "id": "Bea698sjAGDh",
        "outputId": "10c43299-614a-4f6b-a5c2-84b633dac5da"
      },
      "execution_count": null,
      "outputs": [
        {
          "output_type": "execute_result",
          "data": {
            "text/plain": [
              "Rarely     76\n",
              "Monthly    26\n",
              "Weekly      9\n",
              "Never       8\n",
              "Daily       2\n",
              "Name: Visit, dtype: int64"
            ]
          },
          "metadata": {},
          "execution_count": 36
        }
      ]
    },
    {
      "cell_type": "markdown",
      "source": [
        "They are not often to come to Starbucks"
      ],
      "metadata": {
        "id": "8xofFmDkA6pC"
      }
    },
    {
      "cell_type": "code",
      "source": [
        "df['Behaviour'].value_counts()"
      ],
      "metadata": {
        "colab": {
          "base_uri": "https://localhost:8080/"
        },
        "id": "B8bdtOvLAIwb",
        "outputId": "618a0a97-0c19-403c-fd60-69d34f16ca56"
      },
      "execution_count": null,
      "outputs": [
        {
          "output_type": "execute_result",
          "data": {
            "text/plain": [
              "Take away             49\n",
              "Dine in               46\n",
              "Drive-thru            20\n",
              "never                  2\n",
              "Never buy              1\n",
              "I dont like coffee     1\n",
              "Never                  1\n",
              "Never                  1\n",
              "Name: Behaviour, dtype: int64"
            ]
          },
          "metadata": {},
          "execution_count": 37
        }
      ]
    },
    {
      "cell_type": "markdown",
      "source": [
        "Mostly take away and dine-in"
      ],
      "metadata": {
        "id": "1JZHd6rNA-33"
      }
    },
    {
      "cell_type": "code",
      "source": [
        "df['Time Spend'].value_counts()"
      ],
      "metadata": {
        "colab": {
          "base_uri": "https://localhost:8080/"
        },
        "id": "2_6tfuCnAMLt",
        "outputId": "de271bc1-3c7a-4d0b-beef-1ac5cce699cd"
      },
      "execution_count": null,
      "outputs": [
        {
          "output_type": "execute_result",
          "data": {
            "text/plain": [
              "Below 30 minutes                72\n",
              "Between 30 minutes to 1 hour    34\n",
              "Between 1 hour to 2 hours       12\n",
              "More than 3 hours                2\n",
              "Between 2 hours to 3 hours       1\n",
              "Name: Time Spend, dtype: int64"
            ]
          },
          "metadata": {},
          "execution_count": 38
        }
      ]
    },
    {
      "cell_type": "markdown",
      "source": [
        "They don't spend much time in store (perhaps becuase of most of them take away)"
      ],
      "metadata": {
        "id": "5Loc8V84BB0K"
      }
    },
    {
      "cell_type": "code",
      "source": [
        "df['Membership'].value_counts()"
      ],
      "metadata": {
        "colab": {
          "base_uri": "https://localhost:8080/"
        },
        "id": "hllKrYJwAT-n",
        "outputId": "ebd196bb-8456-4972-cd51-1474e52f510d"
      },
      "execution_count": null,
      "outputs": [
        {
          "output_type": "execute_result",
          "data": {
            "text/plain": [
              "No     61\n",
              "Yes    60\n",
              "Name: Membership, dtype: int64"
            ]
          },
          "metadata": {},
          "execution_count": 39
        }
      ]
    },
    {
      "cell_type": "markdown",
      "source": [
        "Possessing the membership or not, it hasn't any difference"
      ],
      "metadata": {
        "id": "6QTxCEH1BO7u"
      }
    },
    {
      "cell_type": "code",
      "source": [
        "df['Money Spend'].value_counts()"
      ],
      "metadata": {
        "colab": {
          "base_uri": "https://localhost:8080/"
        },
        "id": "XbNMEaocAZBP",
        "outputId": "9aeb1389-495c-4680-bdfa-62356e18c59c"
      },
      "execution_count": null,
      "outputs": [
        {
          "output_type": "execute_result",
          "data": {
            "text/plain": [
              "Less than RM20        58\n",
              "Around RM20 - RM40    45\n",
              "Zero                  11\n",
              "More than RM40         7\n",
              "Name: Money Spend, dtype: int64"
            ]
          },
          "metadata": {},
          "execution_count": 41
        }
      ]
    },
    {
      "cell_type": "markdown",
      "source": [
        "Most of them willing to spend less than RM 20. Buying the cheapest ones"
      ],
      "metadata": {
        "id": "9zwA-LF9BYzu"
      }
    },
    {
      "cell_type": "markdown",
      "source": [
        "From this analysis, we can deduce that most of the loyal customers are young individuals with relatively low incomes, tending to be impulsive buyers and more inclined to purchase inexpensive products."
      ],
      "metadata": {
        "id": "l67pRo1bBf4K"
      }
    },
    {
      "cell_type": "markdown",
      "source": [
        "#### How will the quality of products and services be enhanced to improve customer retention?"
      ],
      "metadata": {
        "id": "ovJ2DIOx995w"
      }
    },
    {
      "cell_type": "code",
      "source": [
        "#Products Quality\n",
        "df.groupby('Quality Rate')[['Buying Again']].mean().reset_index()"
      ],
      "metadata": {
        "id": "unqZckWK9_CZ",
        "colab": {
          "base_uri": "https://localhost:8080/",
          "height": 204
        },
        "outputId": "0b9fb4eb-72c7-4f68-9798-773bf3caf3d2"
      },
      "execution_count": null,
      "outputs": [
        {
          "output_type": "execute_result",
          "data": {
            "text/plain": [
              "   Quality Rate  Buying Again\n",
              "0             1      0.000000\n",
              "1             2      0.250000\n",
              "2             3      0.743590\n",
              "3             4      0.857143\n",
              "4             5      0.913043"
            ],
            "text/html": [
              "\n",
              "\n",
              "  <div id=\"df-296135b6-956b-4eb6-a5cd-8923ff693c9b\">\n",
              "    <div class=\"colab-df-container\">\n",
              "      <div>\n",
              "<style scoped>\n",
              "    .dataframe tbody tr th:only-of-type {\n",
              "        vertical-align: middle;\n",
              "    }\n",
              "\n",
              "    .dataframe tbody tr th {\n",
              "        vertical-align: top;\n",
              "    }\n",
              "\n",
              "    .dataframe thead th {\n",
              "        text-align: right;\n",
              "    }\n",
              "</style>\n",
              "<table border=\"1\" class=\"dataframe\">\n",
              "  <thead>\n",
              "    <tr style=\"text-align: right;\">\n",
              "      <th></th>\n",
              "      <th>Quality Rate</th>\n",
              "      <th>Buying Again</th>\n",
              "    </tr>\n",
              "  </thead>\n",
              "  <tbody>\n",
              "    <tr>\n",
              "      <th>0</th>\n",
              "      <td>1</td>\n",
              "      <td>0.000000</td>\n",
              "    </tr>\n",
              "    <tr>\n",
              "      <th>1</th>\n",
              "      <td>2</td>\n",
              "      <td>0.250000</td>\n",
              "    </tr>\n",
              "    <tr>\n",
              "      <th>2</th>\n",
              "      <td>3</td>\n",
              "      <td>0.743590</td>\n",
              "    </tr>\n",
              "    <tr>\n",
              "      <th>3</th>\n",
              "      <td>4</td>\n",
              "      <td>0.857143</td>\n",
              "    </tr>\n",
              "    <tr>\n",
              "      <th>4</th>\n",
              "      <td>5</td>\n",
              "      <td>0.913043</td>\n",
              "    </tr>\n",
              "  </tbody>\n",
              "</table>\n",
              "</div>\n",
              "      <button class=\"colab-df-convert\" onclick=\"convertToInteractive('df-296135b6-956b-4eb6-a5cd-8923ff693c9b')\"\n",
              "              title=\"Convert this dataframe to an interactive table.\"\n",
              "              style=\"display:none;\">\n",
              "\n",
              "  <svg xmlns=\"http://www.w3.org/2000/svg\" height=\"24px\"viewBox=\"0 0 24 24\"\n",
              "       width=\"24px\">\n",
              "    <path d=\"M0 0h24v24H0V0z\" fill=\"none\"/>\n",
              "    <path d=\"M18.56 5.44l.94 2.06.94-2.06 2.06-.94-2.06-.94-.94-2.06-.94 2.06-2.06.94zm-11 1L8.5 8.5l.94-2.06 2.06-.94-2.06-.94L8.5 2.5l-.94 2.06-2.06.94zm10 10l.94 2.06.94-2.06 2.06-.94-2.06-.94-.94-2.06-.94 2.06-2.06.94z\"/><path d=\"M17.41 7.96l-1.37-1.37c-.4-.4-.92-.59-1.43-.59-.52 0-1.04.2-1.43.59L10.3 9.45l-7.72 7.72c-.78.78-.78 2.05 0 2.83L4 21.41c.39.39.9.59 1.41.59.51 0 1.02-.2 1.41-.59l7.78-7.78 2.81-2.81c.8-.78.8-2.07 0-2.86zM5.41 20L4 18.59l7.72-7.72 1.47 1.35L5.41 20z\"/>\n",
              "  </svg>\n",
              "      </button>\n",
              "\n",
              "\n",
              "\n",
              "    <div id=\"df-b31350d5-ff6b-42d2-b000-114a90a538e5\">\n",
              "      <button class=\"colab-df-quickchart\" onclick=\"quickchart('df-b31350d5-ff6b-42d2-b000-114a90a538e5')\"\n",
              "              title=\"Suggest charts.\"\n",
              "              style=\"display:none;\">\n",
              "\n",
              "<svg xmlns=\"http://www.w3.org/2000/svg\" height=\"24px\"viewBox=\"0 0 24 24\"\n",
              "     width=\"24px\">\n",
              "    <g>\n",
              "        <path d=\"M19 3H5c-1.1 0-2 .9-2 2v14c0 1.1.9 2 2 2h14c1.1 0 2-.9 2-2V5c0-1.1-.9-2-2-2zM9 17H7v-7h2v7zm4 0h-2V7h2v10zm4 0h-2v-4h2v4z\"/>\n",
              "    </g>\n",
              "</svg>\n",
              "      </button>\n",
              "    </div>\n",
              "\n",
              "<style>\n",
              "  .colab-df-quickchart {\n",
              "    background-color: #E8F0FE;\n",
              "    border: none;\n",
              "    border-radius: 50%;\n",
              "    cursor: pointer;\n",
              "    display: none;\n",
              "    fill: #1967D2;\n",
              "    height: 32px;\n",
              "    padding: 0 0 0 0;\n",
              "    width: 32px;\n",
              "  }\n",
              "\n",
              "  .colab-df-quickchart:hover {\n",
              "    background-color: #E2EBFA;\n",
              "    box-shadow: 0px 1px 2px rgba(60, 64, 67, 0.3), 0px 1px 3px 1px rgba(60, 64, 67, 0.15);\n",
              "    fill: #174EA6;\n",
              "  }\n",
              "\n",
              "  [theme=dark] .colab-df-quickchart {\n",
              "    background-color: #3B4455;\n",
              "    fill: #D2E3FC;\n",
              "  }\n",
              "\n",
              "  [theme=dark] .colab-df-quickchart:hover {\n",
              "    background-color: #434B5C;\n",
              "    box-shadow: 0px 1px 3px 1px rgba(0, 0, 0, 0.15);\n",
              "    filter: drop-shadow(0px 1px 2px rgba(0, 0, 0, 0.3));\n",
              "    fill: #FFFFFF;\n",
              "  }\n",
              "</style>\n",
              "\n",
              "    <script>\n",
              "      async function quickchart(key) {\n",
              "        const containerElement = document.querySelector('#' + key);\n",
              "        const charts = await google.colab.kernel.invokeFunction(\n",
              "            'suggestCharts', [key], {});\n",
              "      }\n",
              "    </script>\n",
              "\n",
              "      <script>\n",
              "\n",
              "function displayQuickchartButton(domScope) {\n",
              "  let quickchartButtonEl =\n",
              "    domScope.querySelector('#df-b31350d5-ff6b-42d2-b000-114a90a538e5 button.colab-df-quickchart');\n",
              "  quickchartButtonEl.style.display =\n",
              "    google.colab.kernel.accessAllowed ? 'block' : 'none';\n",
              "}\n",
              "\n",
              "        displayQuickchartButton(document);\n",
              "      </script>\n",
              "      <style>\n",
              "    .colab-df-container {\n",
              "      display:flex;\n",
              "      flex-wrap:wrap;\n",
              "      gap: 12px;\n",
              "    }\n",
              "\n",
              "    .colab-df-convert {\n",
              "      background-color: #E8F0FE;\n",
              "      border: none;\n",
              "      border-radius: 50%;\n",
              "      cursor: pointer;\n",
              "      display: none;\n",
              "      fill: #1967D2;\n",
              "      height: 32px;\n",
              "      padding: 0 0 0 0;\n",
              "      width: 32px;\n",
              "    }\n",
              "\n",
              "    .colab-df-convert:hover {\n",
              "      background-color: #E2EBFA;\n",
              "      box-shadow: 0px 1px 2px rgba(60, 64, 67, 0.3), 0px 1px 3px 1px rgba(60, 64, 67, 0.15);\n",
              "      fill: #174EA6;\n",
              "    }\n",
              "\n",
              "    [theme=dark] .colab-df-convert {\n",
              "      background-color: #3B4455;\n",
              "      fill: #D2E3FC;\n",
              "    }\n",
              "\n",
              "    [theme=dark] .colab-df-convert:hover {\n",
              "      background-color: #434B5C;\n",
              "      box-shadow: 0px 1px 3px 1px rgba(0, 0, 0, 0.15);\n",
              "      filter: drop-shadow(0px 1px 2px rgba(0, 0, 0, 0.3));\n",
              "      fill: #FFFFFF;\n",
              "    }\n",
              "  </style>\n",
              "\n",
              "      <script>\n",
              "        const buttonEl =\n",
              "          document.querySelector('#df-296135b6-956b-4eb6-a5cd-8923ff693c9b button.colab-df-convert');\n",
              "        buttonEl.style.display =\n",
              "          google.colab.kernel.accessAllowed ? 'block' : 'none';\n",
              "\n",
              "        async function convertToInteractive(key) {\n",
              "          const element = document.querySelector('#df-296135b6-956b-4eb6-a5cd-8923ff693c9b');\n",
              "          const dataTable =\n",
              "            await google.colab.kernel.invokeFunction('convertToInteractive',\n",
              "                                                     [key], {});\n",
              "          if (!dataTable) return;\n",
              "\n",
              "          const docLinkHtml = 'Like what you see? Visit the ' +\n",
              "            '<a target=\"_blank\" href=https://colab.research.google.com/notebooks/data_table.ipynb>data table notebook</a>'\n",
              "            + ' to learn more about interactive tables.';\n",
              "          element.innerHTML = '';\n",
              "          dataTable['output_type'] = 'display_data';\n",
              "          await google.colab.output.renderOutput(dataTable, element);\n",
              "          const docLink = document.createElement('div');\n",
              "          docLink.innerHTML = docLinkHtml;\n",
              "          element.appendChild(docLink);\n",
              "        }\n",
              "      </script>\n",
              "    </div>\n",
              "  </div>\n"
            ]
          },
          "metadata": {},
          "execution_count": 42
        }
      ]
    },
    {
      "cell_type": "code",
      "source": [
        "corr(\"Quality Rate\")"
      ],
      "metadata": {
        "colab": {
          "base_uri": "https://localhost:8080/"
        },
        "id": "e4IjjhYUCdM_",
        "outputId": "9853e3ee-ad81-4e14-9328-bf92f4fcfce4"
      },
      "execution_count": null,
      "outputs": [
        {
          "output_type": "stream",
          "name": "stdout",
          "text": [
            "Kendall Tau: 0.9999999999999999\n",
            "P-value: 0.016666666666666666\n"
          ]
        }
      ]
    },
    {
      "cell_type": "code",
      "source": [
        "#Products Quality\n",
        "df.groupby('Service Rate')[['Buying Again']].mean().reset_index()"
      ],
      "metadata": {
        "colab": {
          "base_uri": "https://localhost:8080/",
          "height": 204
        },
        "id": "gdXyPsIpCb30",
        "outputId": "1b5d3ba9-7622-4a24-ea50-b6e21a35432e"
      },
      "execution_count": null,
      "outputs": [
        {
          "output_type": "execute_result",
          "data": {
            "text/plain": [
              "   Service Rate  Buying Again\n",
              "0             1      0.000000\n",
              "1             2      0.500000\n",
              "2             3      0.785714\n",
              "3             4      0.725490\n",
              "4             5      0.956522"
            ],
            "text/html": [
              "\n",
              "\n",
              "  <div id=\"df-e7002751-738e-406c-ac3d-5438c13d211d\">\n",
              "    <div class=\"colab-df-container\">\n",
              "      <div>\n",
              "<style scoped>\n",
              "    .dataframe tbody tr th:only-of-type {\n",
              "        vertical-align: middle;\n",
              "    }\n",
              "\n",
              "    .dataframe tbody tr th {\n",
              "        vertical-align: top;\n",
              "    }\n",
              "\n",
              "    .dataframe thead th {\n",
              "        text-align: right;\n",
              "    }\n",
              "</style>\n",
              "<table border=\"1\" class=\"dataframe\">\n",
              "  <thead>\n",
              "    <tr style=\"text-align: right;\">\n",
              "      <th></th>\n",
              "      <th>Service Rate</th>\n",
              "      <th>Buying Again</th>\n",
              "    </tr>\n",
              "  </thead>\n",
              "  <tbody>\n",
              "    <tr>\n",
              "      <th>0</th>\n",
              "      <td>1</td>\n",
              "      <td>0.000000</td>\n",
              "    </tr>\n",
              "    <tr>\n",
              "      <th>1</th>\n",
              "      <td>2</td>\n",
              "      <td>0.500000</td>\n",
              "    </tr>\n",
              "    <tr>\n",
              "      <th>2</th>\n",
              "      <td>3</td>\n",
              "      <td>0.785714</td>\n",
              "    </tr>\n",
              "    <tr>\n",
              "      <th>3</th>\n",
              "      <td>4</td>\n",
              "      <td>0.725490</td>\n",
              "    </tr>\n",
              "    <tr>\n",
              "      <th>4</th>\n",
              "      <td>5</td>\n",
              "      <td>0.956522</td>\n",
              "    </tr>\n",
              "  </tbody>\n",
              "</table>\n",
              "</div>\n",
              "      <button class=\"colab-df-convert\" onclick=\"convertToInteractive('df-e7002751-738e-406c-ac3d-5438c13d211d')\"\n",
              "              title=\"Convert this dataframe to an interactive table.\"\n",
              "              style=\"display:none;\">\n",
              "\n",
              "  <svg xmlns=\"http://www.w3.org/2000/svg\" height=\"24px\"viewBox=\"0 0 24 24\"\n",
              "       width=\"24px\">\n",
              "    <path d=\"M0 0h24v24H0V0z\" fill=\"none\"/>\n",
              "    <path d=\"M18.56 5.44l.94 2.06.94-2.06 2.06-.94-2.06-.94-.94-2.06-.94 2.06-2.06.94zm-11 1L8.5 8.5l.94-2.06 2.06-.94-2.06-.94L8.5 2.5l-.94 2.06-2.06.94zm10 10l.94 2.06.94-2.06 2.06-.94-2.06-.94-.94-2.06-.94 2.06-2.06.94z\"/><path d=\"M17.41 7.96l-1.37-1.37c-.4-.4-.92-.59-1.43-.59-.52 0-1.04.2-1.43.59L10.3 9.45l-7.72 7.72c-.78.78-.78 2.05 0 2.83L4 21.41c.39.39.9.59 1.41.59.51 0 1.02-.2 1.41-.59l7.78-7.78 2.81-2.81c.8-.78.8-2.07 0-2.86zM5.41 20L4 18.59l7.72-7.72 1.47 1.35L5.41 20z\"/>\n",
              "  </svg>\n",
              "      </button>\n",
              "\n",
              "\n",
              "\n",
              "    <div id=\"df-779e019e-c18a-4709-99fd-7a74852206bb\">\n",
              "      <button class=\"colab-df-quickchart\" onclick=\"quickchart('df-779e019e-c18a-4709-99fd-7a74852206bb')\"\n",
              "              title=\"Suggest charts.\"\n",
              "              style=\"display:none;\">\n",
              "\n",
              "<svg xmlns=\"http://www.w3.org/2000/svg\" height=\"24px\"viewBox=\"0 0 24 24\"\n",
              "     width=\"24px\">\n",
              "    <g>\n",
              "        <path d=\"M19 3H5c-1.1 0-2 .9-2 2v14c0 1.1.9 2 2 2h14c1.1 0 2-.9 2-2V5c0-1.1-.9-2-2-2zM9 17H7v-7h2v7zm4 0h-2V7h2v10zm4 0h-2v-4h2v4z\"/>\n",
              "    </g>\n",
              "</svg>\n",
              "      </button>\n",
              "    </div>\n",
              "\n",
              "<style>\n",
              "  .colab-df-quickchart {\n",
              "    background-color: #E8F0FE;\n",
              "    border: none;\n",
              "    border-radius: 50%;\n",
              "    cursor: pointer;\n",
              "    display: none;\n",
              "    fill: #1967D2;\n",
              "    height: 32px;\n",
              "    padding: 0 0 0 0;\n",
              "    width: 32px;\n",
              "  }\n",
              "\n",
              "  .colab-df-quickchart:hover {\n",
              "    background-color: #E2EBFA;\n",
              "    box-shadow: 0px 1px 2px rgba(60, 64, 67, 0.3), 0px 1px 3px 1px rgba(60, 64, 67, 0.15);\n",
              "    fill: #174EA6;\n",
              "  }\n",
              "\n",
              "  [theme=dark] .colab-df-quickchart {\n",
              "    background-color: #3B4455;\n",
              "    fill: #D2E3FC;\n",
              "  }\n",
              "\n",
              "  [theme=dark] .colab-df-quickchart:hover {\n",
              "    background-color: #434B5C;\n",
              "    box-shadow: 0px 1px 3px 1px rgba(0, 0, 0, 0.15);\n",
              "    filter: drop-shadow(0px 1px 2px rgba(0, 0, 0, 0.3));\n",
              "    fill: #FFFFFF;\n",
              "  }\n",
              "</style>\n",
              "\n",
              "    <script>\n",
              "      async function quickchart(key) {\n",
              "        const containerElement = document.querySelector('#' + key);\n",
              "        const charts = await google.colab.kernel.invokeFunction(\n",
              "            'suggestCharts', [key], {});\n",
              "      }\n",
              "    </script>\n",
              "\n",
              "      <script>\n",
              "\n",
              "function displayQuickchartButton(domScope) {\n",
              "  let quickchartButtonEl =\n",
              "    domScope.querySelector('#df-779e019e-c18a-4709-99fd-7a74852206bb button.colab-df-quickchart');\n",
              "  quickchartButtonEl.style.display =\n",
              "    google.colab.kernel.accessAllowed ? 'block' : 'none';\n",
              "}\n",
              "\n",
              "        displayQuickchartButton(document);\n",
              "      </script>\n",
              "      <style>\n",
              "    .colab-df-container {\n",
              "      display:flex;\n",
              "      flex-wrap:wrap;\n",
              "      gap: 12px;\n",
              "    }\n",
              "\n",
              "    .colab-df-convert {\n",
              "      background-color: #E8F0FE;\n",
              "      border: none;\n",
              "      border-radius: 50%;\n",
              "      cursor: pointer;\n",
              "      display: none;\n",
              "      fill: #1967D2;\n",
              "      height: 32px;\n",
              "      padding: 0 0 0 0;\n",
              "      width: 32px;\n",
              "    }\n",
              "\n",
              "    .colab-df-convert:hover {\n",
              "      background-color: #E2EBFA;\n",
              "      box-shadow: 0px 1px 2px rgba(60, 64, 67, 0.3), 0px 1px 3px 1px rgba(60, 64, 67, 0.15);\n",
              "      fill: #174EA6;\n",
              "    }\n",
              "\n",
              "    [theme=dark] .colab-df-convert {\n",
              "      background-color: #3B4455;\n",
              "      fill: #D2E3FC;\n",
              "    }\n",
              "\n",
              "    [theme=dark] .colab-df-convert:hover {\n",
              "      background-color: #434B5C;\n",
              "      box-shadow: 0px 1px 3px 1px rgba(0, 0, 0, 0.15);\n",
              "      filter: drop-shadow(0px 1px 2px rgba(0, 0, 0, 0.3));\n",
              "      fill: #FFFFFF;\n",
              "    }\n",
              "  </style>\n",
              "\n",
              "      <script>\n",
              "        const buttonEl =\n",
              "          document.querySelector('#df-e7002751-738e-406c-ac3d-5438c13d211d button.colab-df-convert');\n",
              "        buttonEl.style.display =\n",
              "          google.colab.kernel.accessAllowed ? 'block' : 'none';\n",
              "\n",
              "        async function convertToInteractive(key) {\n",
              "          const element = document.querySelector('#df-e7002751-738e-406c-ac3d-5438c13d211d');\n",
              "          const dataTable =\n",
              "            await google.colab.kernel.invokeFunction('convertToInteractive',\n",
              "                                                     [key], {});\n",
              "          if (!dataTable) return;\n",
              "\n",
              "          const docLinkHtml = 'Like what you see? Visit the ' +\n",
              "            '<a target=\"_blank\" href=https://colab.research.google.com/notebooks/data_table.ipynb>data table notebook</a>'\n",
              "            + ' to learn more about interactive tables.';\n",
              "          element.innerHTML = '';\n",
              "          dataTable['output_type'] = 'display_data';\n",
              "          await google.colab.output.renderOutput(dataTable, element);\n",
              "          const docLink = document.createElement('div');\n",
              "          docLink.innerHTML = docLinkHtml;\n",
              "          element.appendChild(docLink);\n",
              "        }\n",
              "      </script>\n",
              "    </div>\n",
              "  </div>\n"
            ]
          },
          "metadata": {},
          "execution_count": 45
        }
      ]
    },
    {
      "cell_type": "code",
      "source": [
        "corr(\"Service Rate\")"
      ],
      "metadata": {
        "colab": {
          "base_uri": "https://localhost:8080/"
        },
        "id": "MkPWH7rtCg3y",
        "outputId": "865e9179-3ba8-4786-a481-ca688c184765"
      },
      "execution_count": null,
      "outputs": [
        {
          "output_type": "stream",
          "name": "stdout",
          "text": [
            "Kendall Tau: 0.7999999999999999\n",
            "P-value: 0.08333333333333333\n"
          ]
        }
      ]
    },
    {
      "cell_type": "markdown",
      "source": [
        "We've already know that higher product quality and service rate, can increasing the customer retention rate. This because more people satisfy with the products and service, more willing to come again and buy the products again."
      ],
      "metadata": {
        "id": "OoM9q0HhCnc9"
      }
    },
    {
      "cell_type": "markdown",
      "source": [
        "## Conclusion\n",
        "\n",
        "In conclusion, improving customer retention can be done by enhancing customer satisfactory. In aim to enhanching customer satisfactory, we can improve quality of service and products, improve the in-store ambience since our loyal customers also mostly come to dine-in. Also, Most our loyal customers are youngsters that has small salary, tend to be more consumptive, and willing to pay less."
      ],
      "metadata": {
        "id": "bF66Zi3n-GC8"
      }
    }
  ]
}