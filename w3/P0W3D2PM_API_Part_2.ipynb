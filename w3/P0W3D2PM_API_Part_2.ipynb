{
  "nbformat": 4,
  "nbformat_minor": 0,
  "metadata": {
    "colab": {
      "provenance": []
    },
    "kernelspec": {
      "name": "python3",
      "display_name": "Python 3"
    },
    "language_info": {
      "name": "python"
    }
  },
  "cells": [
    {
      "cell_type": "markdown",
      "source": [
        "# API Headers\n",
        "\n",
        "In API requests, request headers are used to provide additional information for a server to process an API request. For example, they might specify that the data being sent is in JSON format, identify which version of the API to call, or provide an API key for authentication.\n",
        "\n",
        "Below is an example of calling the headers\n",
        "\n",
        "```python\n",
        "from fastapi import FastAPI, Request\n",
        "\n",
        "app = FastAPI()\n",
        "\n",
        "@app.get(\"/example\")\n",
        "def read_example_headers(request: Request):\n",
        "    headers = request.headers\n",
        "    # Access specific header values\n",
        "    user_agent = headers.get(\"user-agent\")\n",
        "    authorization = headers.get(\"authorization\")\n",
        "    custom_header = headers.get(\"custom-header\")\n",
        "\n",
        "    return {\n",
        "        \"User-Agent\": user_agent,\n",
        "        \"Authorization\": authorization,\n",
        "        \"Custom-Header\": custom_header\n",
        "    }\n",
        "```"
      ],
      "metadata": {
        "id": "T05aTHuxxVxW"
      }
    },
    {
      "cell_type": "markdown",
      "source": [
        "## Create the Headers\n",
        "\n",
        "In FastAPI, you can create custom headers in responses by using the Response object and specifying the desired headers.\n",
        "\n",
        "\n",
        "```python\n",
        "\n",
        "from fastapi import FastAPI, Response\n",
        "\n",
        "app = FastAPI()\n",
        "\n",
        "@app.get(\"/example\")\n",
        "def example_endpoint():\n",
        "    content = \"Hello, this is the response content.\"\n",
        "    \n",
        "    # Create a Response object and set custom headers\n",
        "    response = Response(content=content)\n",
        "    response.headers[\"X-Custom-Header\"] = \"This is custom value\"\n",
        "    response.headers[\"Authorization\"] = \"pass_token_1234\"\n",
        "    \n",
        "    return response\n",
        "\n",
        "```"
      ],
      "metadata": {
        "id": "baAGww-2yS5K"
      }
    },
    {
      "cell_type": "markdown",
      "source": [
        "# API Authentication - Create API Key"
      ],
      "metadata": {
        "id": "WSBLK42pknjI"
      }
    },
    {
      "cell_type": "markdown",
      "source": [
        "## API Key\n",
        "\n",
        "\n",
        "```python\n",
        "from fastapi import FastAPI, HTTPException, Header\n",
        "\n",
        "app = FastAPI()\n",
        "\n",
        "API_KEY = \"testingapitokenkey1234\" #testing api token key 1234\n",
        "\n",
        "@app.get(\"/\")\n",
        "def home():\n",
        "  return {\"message\":\"This is my API. Welcome!\"}\n",
        "\n",
        "@app.get(\"/protected\")\n",
        "def protect(api_key: str = Header(None)):\n",
        "\n",
        "  if api_key is None or api_key != API_KEY:\n",
        "        raise HTTPException(status_code=401, detail=\"Invalid API Key\")\n",
        "\n",
        "  return {\"message\":\"This endpoint is protected by API Token Key.\",\n",
        "          \"data\":{\"1\":{\"username\":\"fahmi\",\"password\":\"1234\"},\n",
        "                  \"2\":{\"username\":\"raka\",\"password\":\"abcd123\"},\n",
        "                  \"3\":{\"username\":\"rachman\",\"password\":\"h8teacher\"}\n",
        "                 }\n",
        "          }\n",
        "\n",
        "```"
      ],
      "metadata": {
        "id": "5Q5aTAy4kqOZ"
      }
    },
    {
      "cell_type": "markdown",
      "source": [
        "# Deploy API to Vercel"
      ],
      "metadata": {
        "id": "NSjq-odV7n1w"
      }
    },
    {
      "cell_type": "markdown",
      "source": [
        "## SETUP Your Vercel"
      ],
      "metadata": {
        "id": "FGswFf357qrO"
      }
    },
    {
      "cell_type": "markdown",
      "source": [
        "### Sign Up\n",
        "\n",
        "Please sign up through this link: https://vercel.com/signup. (Then choose `Hobby`)"
      ],
      "metadata": {
        "id": "8e2WvoWt7uEJ"
      }
    },
    {
      "cell_type": "markdown",
      "source": [
        "## Your API\n",
        "\n"
      ],
      "metadata": {
        "id": "fE_55TSz-8LE"
      }
    },
    {
      "cell_type": "markdown",
      "source": [
        "\n",
        "\n",
        "```python\n",
        "from fastapi import FastAPI, HTTPException, Header\n",
        "\n",
        "app = FastAPI()\n",
        "\n",
        "API_KEY = \"phase0h8\"\n",
        "\n",
        "data = {\"name\":\"shopping cart\",\n",
        "        \"columns\":[\"prod_name\",\"price\",\"num_items\"],\n",
        "        \"items\":{}}\n",
        "\n",
        "@app.get(\"/\")\n",
        "def root():\n",
        "    return {\"message\":\"Welcome to Toko H8 Shopping Cart! There are some features that you can explore\",\n",
        "            \"menu\":{1:\"See shopping cart (/data)\",\n",
        "                    2:\"Add item (/add) - You may need request\",\n",
        "                    3:\"Edit shopping cart (/edit/id)\",\n",
        "                    4:\"Delete item from shopping cart (/del/id)\"}}\n",
        "\n",
        "@app.get(\"/cart\")\n",
        "def show():\n",
        "    return data\n",
        "\n",
        "@app.post(\"/add\")\n",
        "def add_item(added_item:dict, api_key: str = Header(None)):\n",
        "    if api_key is None or api_key != API_KEY:\n",
        "        raise HTTPException(status_code=401, detail=\"Invalid API Key. You are not allowed to add data!\")\n",
        "    else:\n",
        "        id = len(data[\"items\"].keys())+1\n",
        "        data[\"items\"][id] = added_item\n",
        "        return f\"Item successfully added into your cart with ID {id}\"\n",
        "\n",
        "@app.put(\"/edit/{id}\")\n",
        "def update_cart(id:int,updated_cart:dict, api_key: str = Header(None)):\n",
        "    if id not in data['items'].keys():\n",
        "        raise HTTPException(status_code=404, detail=f\"Item with ID {id} not found\")\n",
        "    else:\n",
        "        if api_key is None or api_key != API_KEY:\n",
        "            raise HTTPException(status_code=401, detail=\"Invalid API Key. You are not allowed to edit data!\")\n",
        "        else:\n",
        "            data[\"items\"][id].update(updated_cart)\n",
        "            return {\"message\": f\"Item with ID {id} has been updated successfully.\"}\n",
        "\n",
        "@app.delete(\"/del/{id}\")\n",
        "def remove_row(id:int, api_key: str = Header(None)):\n",
        "    if id not in data['items'].keys():\n",
        "        raise HTTPException(status_code=404, detail=f\"Item with ID {id} not found\")\n",
        "    else:\n",
        "        if api_key is None or api_key != API_KEY:\n",
        "            raise HTTPException(status_code=401, detail=\"Invalid API Key. You are not allowed to delete data!\")\n",
        "        else:\n",
        "            data[\"items\"].pop(id)\n",
        "            return {\"message\": f\"Item with ID {id} has been deleted successfully.\"}\n",
        "\n",
        "```"
      ],
      "metadata": {
        "id": "FhLiC0ACA0UB"
      }
    },
    {
      "cell_type": "markdown",
      "source": [
        "## Requirements\n",
        "\n",
        "To build the API on Vercel, you need at least three supporting files:\n",
        "\n",
        "\n",
        "|**No.**|**File**|**Description**|\n",
        "|---|---|---|\n",
        "|1|main.py|this file contains your API (You can change the file name)|\n",
        "|2|requirements.txt|this file contains a list of libraries that you need. Vercel will install them based on the list|\n",
        "|3|vercel.json|This file is the running app configuration|\n",
        "\n",
        "To ease your learning, you can create `requirements.txt` and `vercel.json`  and copy-paste these examples:\n",
        "\n",
        "**requirements.txt**\n",
        "\n",
        "```text\n",
        "fastapi\n",
        "uvicorn[standard]\n",
        "```\n",
        "\n",
        "\n",
        "**vercel.json**\n",
        "\n",
        "```json\n",
        "{\n",
        "  \"devCommand\": \"uvicorn main:app --host 0.0.0.0 --port 3000\",\n",
        "  \"builds\": [\n",
        "    {\n",
        "      \"src\": \"main.py\",\n",
        "      \"use\": \"@vercel/python\"\n",
        "    }\n",
        "  ],\n",
        "  \"routes\": [\n",
        "    {\n",
        "      \"src\": \"/(.*)\",\n",
        "      \"dest\": \"main.py\"\n",
        "    }\n",
        "  ]\n",
        "}\n",
        "```\n",
        "\n",
        "**Notes:** you can change the `main:app` in thecommand `uvicorn main:app ....` into `uvicorn your-app-file:app ....` if your API file is not named `main.py`.\n",
        "\n",
        "For example:\n",
        "\n",
        "Your file is `myapi.py` so you my write `\"uvicorn myapi:app --host 0.0.0.0 --port 3000\"\n",
        "\n",
        "This change also applied for `\"src\"` on `\"builds\"` and `\"routes\"`.\n",
        "\n",
        "---\n",
        "\n",
        "#### Final steps before building the project:\n",
        "\n",
        "1. Create a repository on your GitHub\n",
        "2. Push those three files onto your new repository"
      ],
      "metadata": {
        "id": "mllhn_P5DKGl"
      }
    },
    {
      "cell_type": "markdown",
      "source": [
        "## Make a Project\n",
        "\n",
        "**1. Open your vercel dashboard and then click \"Add New...\" button and choose \"Project\".**\n",
        "\n",
        "<p></p>\n",
        "<img src=\"https://github.com/FTDS-learning-materials/phase-0/blob/main/img/vercel-tutorial-1.png?raw=true\"></img>\n",
        "\n",
        "<br></br>\n",
        "**2. Import your Git repository, select \"Continue with GitHub\". You will processing your GitHub-Vercel connection authentication.**\n",
        "\n",
        "<p></p>\n",
        "<img src=\"https://github.com/FTDS-learning-materials/phase-0/blob/main/img/vercel-tutorial-2.png?raw=true\"></img>\n",
        "\n",
        "<br></br>\n",
        "**3. Then, choose your repository containing your API app and the configurations to be imported.**\n",
        "\n",
        "<p></p>\n",
        "<img src=\"https://github.com/FTDS-learning-materials/phase-0/blob/main/img/vercel-tutorial-3.png?raw=true\"></img>\n",
        "\n",
        "<br></br>\n",
        "**4. Fter that, You can choose your own project name and then click \"Deploy\" button. Next, you have to wait until the deployment process is done. It will takes several seconds.**\n",
        "\n",
        "<p></p>\n",
        "<img src=\"https://github.com/FTDS-learning-materials/phase-0/blob/main/img/vercel-tutorial-4.png?raw=true\"></img>\n",
        "\n",
        "<br></br>\n",
        "**5. Next, you will be directed into this page and to check your project in detail, click on \"Continue to Dashboard\".**\n",
        "\n",
        "<p></p>\n",
        "<img src=\"https://github.com/FTDS-learning-materials/phase-0/blob/main/img/vercel-tutorial-5.png?raw=true\"></img>\n",
        "\n",
        "<br></br>\n",
        "**6. Finally your API has been deployed into Vercel app. Your API url is \"your-app.vercel.app\" in the \"Domains\" section.**\n",
        "\n",
        "<p></p>\n",
        "<img src=\"https://github.com/FTDS-learning-materials/phase-0/blob/main/img/vercel-tutorial-6.png?raw=true\"></img>"
      ],
      "metadata": {
        "id": "vkwz8qOzDNO2"
      }
    }
  ]
}