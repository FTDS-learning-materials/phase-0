{
  "nbformat": 4,
  "nbformat_minor": 0,
  "metadata": {
    "colab": {
      "provenance": []
    },
    "kernelspec": {
      "name": "python3",
      "display_name": "Python 3"
    },
    "language_info": {
      "name": "python"
    }
  },
  "cells": [
    {
      "cell_type": "markdown",
      "source": [
        "# W1D4AM - Python: Object-Oriented Programming\n",
        "\n",
        "In this course, we will learn how to perform the object-oriented programming in Python. You may already learn the theory from the slide and let's we do some practice to develop our understanding."
      ],
      "metadata": {
        "id": "ARlDA1Q8cTem"
      }
    },
    {
      "cell_type": "markdown",
      "source": [
        "# Class and Object\n",
        "\n",
        "Class is the blueprint of an object. Let we make a simple class to define a person/human"
      ],
      "metadata": {
        "id": "mDIvFIm4c5_W"
      }
    },
    {
      "cell_type": "code",
      "execution_count": 1,
      "metadata": {
        "id": "2mvqHiPCXiqh"
      },
      "outputs": [],
      "source": [
        "class Person:\n",
        "  def __init__(self, name, age, gender):\n",
        "    self.name = name\n",
        "    self.age = age\n",
        "    self.gender = gender\n",
        "\n",
        "  def greet(self):\n",
        "    print(f'Hello, my name is {self.name}. I am {self.age} years old and I am a {self.gender}. Nice to meet you!')"
      ]
    },
    {
      "cell_type": "markdown",
      "source": [
        "You may see on the Person class, you define two functions which are `__init__` and `greet`. In class, `__init__` function used to define the `attributes` that are variables that possessed by the object. Meanwhile, `greet` is a function called as `method` in class that can be accessed and can modify the object based on the program that you set."
      ],
      "metadata": {
        "id": "vkjyqfbQJoRk"
      }
    },
    {
      "cell_type": "code",
      "source": [
        "#If we call the class name, you may only get an output like this\n",
        "Person"
      ],
      "metadata": {
        "colab": {
          "base_uri": "https://localhost:8080/"
        },
        "id": "t1ilV61hfVS7",
        "outputId": "75af07d9-174a-43a0-b28e-cfb82da1af8f"
      },
      "execution_count": 2,
      "outputs": [
        {
          "output_type": "execute_result",
          "data": {
            "text/plain": [
              "__main__.Person"
            ]
          },
          "metadata": {},
          "execution_count": 2
        }
      ]
    },
    {
      "cell_type": "markdown",
      "source": [
        "You have defined the Person as a class or blueprint. Now, you will define a person/object whatever you like, you can define yourself using this class.\n",
        "\n",
        "To define an object, the behaviour is the same as function. You just input the argument and ignore the self argument."
      ],
      "metadata": {
        "id": "-1QOZQ5AfdVc"
      }
    },
    {
      "cell_type": "code",
      "source": [
        "john = Person(\"John Smith\", 27, \"Male\")\n",
        "john"
      ],
      "metadata": {
        "colab": {
          "base_uri": "https://localhost:8080/"
        },
        "id": "71NiPGf6fq3l",
        "outputId": "9f8d6d25-b2c8-4146-95fe-14779619a5f1"
      },
      "execution_count": 3,
      "outputs": [
        {
          "output_type": "execute_result",
          "data": {
            "text/plain": [
              "<__main__.Person at 0x7fea863cdb40>"
            ]
          },
          "metadata": {},
          "execution_count": 3
        }
      ]
    },
    {
      "cell_type": "code",
      "source": [
        "print(john.name)\n",
        "print(john.age)\n",
        "print(john.gender)\n",
        "\n",
        "john.greet()"
      ],
      "metadata": {
        "colab": {
          "base_uri": "https://localhost:8080/"
        },
        "id": "XFA6dOHcLH_S",
        "outputId": "ddaa3b04-a86e-47b8-cffb-1aeaa43a9f38"
      },
      "execution_count": 4,
      "outputs": [
        {
          "output_type": "stream",
          "name": "stdout",
          "text": [
            "John Smith\n",
            "27\n",
            "Male\n",
            "Hello, my name is John Smith. I am 27 years old and I am a Male. Nice to meet you!\n"
          ]
        }
      ]
    },
    {
      "cell_type": "markdown",
      "source": [
        "## Self and `__init__()`\n",
        "\n",
        "Self is important in Class. It used for defining \"local variable\" in a class. A class has attributes and methods, so to define the attributes it should follows the `self`.\n",
        "\n",
        "Self also be called when we use the \"local variable\" in the class. Self is very useful that can be a distinction of each object, similar to create a new variable for different similar things (e.g. you want to make variables that stores people's name, so you define them by `name1 = 'Ali'`, `name2 = 'Budi'`, etc.)\n",
        "\n",
        "Self cannot be defined independently, it should follow the `__init__` method."
      ],
      "metadata": {
        "id": "8fgrc0MapiE2"
      }
    },
    {
      "cell_type": "code",
      "source": [
        "#We try to define attributes without self and use __init__() method\n",
        "class Human:\n",
        "  def __init__(name, age):\n",
        "    name = name\n",
        "    age = age\n",
        "\n",
        "  def Display(name, age):\n",
        "    print(name,age)\n",
        "\n",
        "feri = Human(\"Feri\", 19)\n",
        "feri.Display()"
      ],
      "metadata": {
        "colab": {
          "base_uri": "https://localhost:8080/",
          "height": 232
        },
        "id": "ETvxBUiXpg5W",
        "outputId": "ea1ed57f-c1bc-4ca6-9339-15ea36f6e172"
      },
      "execution_count": 40,
      "outputs": [
        {
          "output_type": "error",
          "ename": "TypeError",
          "evalue": "ignored",
          "traceback": [
            "\u001b[0;31m---------------------------------------------------------------------------\u001b[0m",
            "\u001b[0;31mTypeError\u001b[0m                                 Traceback (most recent call last)",
            "\u001b[0;32m<ipython-input-40-712e7c54f0d7>\u001b[0m in \u001b[0;36m<cell line: 10>\u001b[0;34m()\u001b[0m\n\u001b[1;32m      8\u001b[0m     \u001b[0mprint\u001b[0m\u001b[0;34m(\u001b[0m\u001b[0mname\u001b[0m\u001b[0;34m,\u001b[0m\u001b[0mage\u001b[0m\u001b[0;34m)\u001b[0m\u001b[0;34m\u001b[0m\u001b[0;34m\u001b[0m\u001b[0m\n\u001b[1;32m      9\u001b[0m \u001b[0;34m\u001b[0m\u001b[0m\n\u001b[0;32m---> 10\u001b[0;31m \u001b[0mferi\u001b[0m \u001b[0;34m=\u001b[0m \u001b[0mHuman\u001b[0m\u001b[0;34m(\u001b[0m\u001b[0;34m\"Feri\"\u001b[0m\u001b[0;34m,\u001b[0m \u001b[0;36m19\u001b[0m\u001b[0;34m)\u001b[0m\u001b[0;34m\u001b[0m\u001b[0;34m\u001b[0m\u001b[0m\n\u001b[0m\u001b[1;32m     11\u001b[0m \u001b[0mferi\u001b[0m\u001b[0;34m.\u001b[0m\u001b[0mDisplay\u001b[0m\u001b[0;34m(\u001b[0m\u001b[0;34m)\u001b[0m\u001b[0;34m\u001b[0m\u001b[0;34m\u001b[0m\u001b[0m\n",
            "\u001b[0;31mTypeError\u001b[0m: Human.__init__() takes 2 positional arguments but 3 were given"
          ]
        }
      ]
    },
    {
      "cell_type": "markdown",
      "source": [
        "A TypeError appears because we don't define `self` as a argument of `__init__` function but the object automatically will give an input into `self`.\n",
        "\n",
        "How about defining self in `__init__` but the argument called without self."
      ],
      "metadata": {
        "id": "vFQZ8F7jrquD"
      }
    },
    {
      "cell_type": "code",
      "source": [
        "class Human:\n",
        "  def __init__(self, name, age):\n",
        "    self.name = name\n",
        "    self.age = age\n",
        "\n",
        "  def Display(self):\n",
        "    print(name,age)\n",
        "\n",
        "feri = Human(\"Feri\", 19)\n",
        "feri.Display()"
      ],
      "metadata": {
        "colab": {
          "base_uri": "https://localhost:8080/",
          "height": 331
        },
        "id": "mLuDc-lUrpHu",
        "outputId": "07d058cd-f13e-4065-95e0-aedd3d740284"
      },
      "execution_count": 39,
      "outputs": [
        {
          "output_type": "error",
          "ename": "NameError",
          "evalue": "ignored",
          "traceback": [
            "\u001b[0;31m---------------------------------------------------------------------------\u001b[0m",
            "\u001b[0;31mNameError\u001b[0m                                 Traceback (most recent call last)",
            "\u001b[0;32m<ipython-input-39-f67155b4f708>\u001b[0m in \u001b[0;36m<cell line: 10>\u001b[0;34m()\u001b[0m\n\u001b[1;32m      8\u001b[0m \u001b[0;34m\u001b[0m\u001b[0m\n\u001b[1;32m      9\u001b[0m \u001b[0mferi\u001b[0m \u001b[0;34m=\u001b[0m \u001b[0mHuman\u001b[0m\u001b[0;34m(\u001b[0m\u001b[0;34m\"Feri\"\u001b[0m\u001b[0;34m,\u001b[0m \u001b[0;36m19\u001b[0m\u001b[0;34m)\u001b[0m\u001b[0;34m\u001b[0m\u001b[0;34m\u001b[0m\u001b[0m\n\u001b[0;32m---> 10\u001b[0;31m \u001b[0mferi\u001b[0m\u001b[0;34m.\u001b[0m\u001b[0mDisplay\u001b[0m\u001b[0;34m(\u001b[0m\u001b[0;34m)\u001b[0m\u001b[0;34m\u001b[0m\u001b[0;34m\u001b[0m\u001b[0m\n\u001b[0m",
            "\u001b[0;32m<ipython-input-39-f67155b4f708>\u001b[0m in \u001b[0;36mDisplay\u001b[0;34m(self)\u001b[0m\n\u001b[1;32m      5\u001b[0m \u001b[0;34m\u001b[0m\u001b[0m\n\u001b[1;32m      6\u001b[0m   \u001b[0;32mdef\u001b[0m \u001b[0mDisplay\u001b[0m\u001b[0;34m(\u001b[0m\u001b[0mself\u001b[0m\u001b[0;34m)\u001b[0m\u001b[0;34m:\u001b[0m\u001b[0;34m\u001b[0m\u001b[0;34m\u001b[0m\u001b[0m\n\u001b[0;32m----> 7\u001b[0;31m     \u001b[0mprint\u001b[0m\u001b[0;34m(\u001b[0m\u001b[0mname\u001b[0m\u001b[0;34m,\u001b[0m\u001b[0mage\u001b[0m\u001b[0;34m)\u001b[0m\u001b[0;34m\u001b[0m\u001b[0;34m\u001b[0m\u001b[0m\n\u001b[0m\u001b[1;32m      8\u001b[0m \u001b[0;34m\u001b[0m\u001b[0m\n\u001b[1;32m      9\u001b[0m \u001b[0mferi\u001b[0m \u001b[0;34m=\u001b[0m \u001b[0mHuman\u001b[0m\u001b[0;34m(\u001b[0m\u001b[0;34m\"Feri\"\u001b[0m\u001b[0;34m,\u001b[0m \u001b[0;36m19\u001b[0m\u001b[0;34m)\u001b[0m\u001b[0;34m\u001b[0m\u001b[0;34m\u001b[0m\u001b[0m\n",
            "\u001b[0;31mNameError\u001b[0m: name 'name' is not defined"
          ]
        }
      ]
    },
    {
      "cell_type": "markdown",
      "source": [
        "`name` is not define because we define it as `self.name` in the `__init__` method."
      ],
      "metadata": {
        "id": "S-TXfF4EtBSW"
      }
    },
    {
      "cell_type": "markdown",
      "source": [
        "## `__str__()` Method\n",
        "\n",
        "`__str__()` method is used to define how a class object should be represented as a string. It is often used to give an object a human-readable textual representation, which is helpful for logging, debugging, or showing users object information.\n",
        "\n",
        "Simply, it likes `print` but only for class.\n"
      ],
      "metadata": {
        "id": "tjaTr2XxLoRb"
      }
    },
    {
      "cell_type": "code",
      "source": [
        "class friends:\n",
        "  def __init__(self, name1, name2):\n",
        "    self.name1 = name1\n",
        "    self.name2 = name2\n",
        "\n",
        "  def __str__(self):\n",
        "    return f\"{self.name1} and {self.name2} are friends.\""
      ],
      "metadata": {
        "id": "MuaR7kPWLnJT"
      },
      "execution_count": 5,
      "outputs": []
    },
    {
      "cell_type": "code",
      "source": [
        "bff = friends('John','Willy')\n",
        "\n",
        "print(bff) # You dont need to call __str__() like john.greet()"
      ],
      "metadata": {
        "colab": {
          "base_uri": "https://localhost:8080/"
        },
        "id": "A6DKrt_rMsdp",
        "outputId": "36b3e3ff-77df-4030-c10e-86a6e699a5bd"
      },
      "execution_count": 6,
      "outputs": [
        {
          "output_type": "stream",
          "name": "stdout",
          "text": [
            "John and Willy are friends.\n"
          ]
        }
      ]
    },
    {
      "cell_type": "code",
      "source": [
        "print(john) # -> because Person doesn't use __str__() method, if you apply the print directly on the object, it's useless."
      ],
      "metadata": {
        "colab": {
          "base_uri": "https://localhost:8080/"
        },
        "id": "HAv96HGlNDVj",
        "outputId": "f88dc942-f170-462a-ec36-4b4436dd9b71"
      },
      "execution_count": 7,
      "outputs": [
        {
          "output_type": "stream",
          "name": "stdout",
          "text": [
            "<__main__.Person object at 0x7fea863cdb40>\n"
          ]
        }
      ]
    },
    {
      "cell_type": "markdown",
      "source": [
        "# Inheritance\n",
        "\n",
        "Inheritance is a concept that allows you to create a hierarchy of classes that share a set of properties and methods by deriving a class from another class. To inherit classes, you need parent class and child class.\n",
        "\n",
        "Parent class is a class that doesn't use any defined-class and usually be used on the another class that we call it child class. However, a child class is a class that use another class (parent class) inside the class.\n",
        "\n",
        "The analogy is like \"nested\" in conditionals and loops.\n",
        "\n",
        "In this case, we want to make class of FTDS to save live code Phase 0's scores for each student.\n",
        "\n",
        "First, we are going to create Student class to record the student's identity and then we will define FTDS class to record the live code scores of each student"
      ],
      "metadata": {
        "id": "2TuWR0XkNXFG"
      }
    },
    {
      "cell_type": "code",
      "source": [
        "# Parent Class\n",
        "\n",
        "class Student:\n",
        "\n",
        "  def __init__(self, name, batch):\n",
        "    self.name = name\n",
        "    self.batch = batch\n",
        "\n",
        "  def Display(self): #Alternatively, you can use __str__() instead and directly run print(a_student_object_name)\n",
        "    print(self.name, self.batch)"
      ],
      "metadata": {
        "id": "7XJiHNdyNhvc"
      },
      "execution_count": 8,
      "outputs": []
    },
    {
      "cell_type": "code",
      "source": [
        "fahmi = Student(\"Fahmi\",\"RMT-57\")\n",
        "fahmi.Display()"
      ],
      "metadata": {
        "colab": {
          "base_uri": "https://localhost:8080/"
        },
        "id": "OODVM4BtZV8p",
        "outputId": "85ef2d73-c15f-4b9e-cc7c-215805e13d81"
      },
      "execution_count": 9,
      "outputs": [
        {
          "output_type": "stream",
          "name": "stdout",
          "text": [
            "Fahmi RMT-57\n"
          ]
        }
      ]
    },
    {
      "cell_type": "code",
      "source": [
        "# Child Class\n",
        "\n",
        "class FTDS(Student): #as a Child class, you need set the input argument like function, but the input argument will be the Parent class\n",
        "  def __init__(self, name, batch, lc1, lc2, lc3): #attributes from Student should be called in __init__ of this class\n",
        "    self.lc1 = lc1\n",
        "    self.lc2 = lc2\n",
        "    self.lc3 = lc3\n",
        "\n",
        "    Student.__init__(self, name, batch) # __init__ method from Student should be called again in this __init__\n",
        "\n",
        "  def Print(self):\n",
        "    print(f\"Live code 1: {self.lc1}\\nLive code 2: {self.lc2}\\nLive code 3: {self.lc3}\")"
      ],
      "metadata": {
        "id": "RMUgUTNMZcKP"
      },
      "execution_count": 10,
      "outputs": []
    },
    {
      "cell_type": "code",
      "source": [
        "fahmi_score = FTDS(\"Fahmi\", \"RMT-57\", 60, 70, 80)"
      ],
      "metadata": {
        "id": "55Kx_6t7aB6F"
      },
      "execution_count": 11,
      "outputs": []
    },
    {
      "cell_type": "code",
      "source": [
        "fahmi_score.Display()"
      ],
      "metadata": {
        "colab": {
          "base_uri": "https://localhost:8080/"
        },
        "id": "oNoaMjoobOsV",
        "outputId": "30b37978-a7c3-4b08-bfd4-b6434722d60f"
      },
      "execution_count": 12,
      "outputs": [
        {
          "output_type": "stream",
          "name": "stdout",
          "text": [
            "Fahmi RMT-57\n"
          ]
        }
      ]
    },
    {
      "cell_type": "code",
      "source": [
        "fahmi_score.Print()"
      ],
      "metadata": {
        "colab": {
          "base_uri": "https://localhost:8080/"
        },
        "id": "_PlPEkplbRUJ",
        "outputId": "8bbd2ac3-f55c-468e-dee0-3a698d63c01f"
      },
      "execution_count": 13,
      "outputs": [
        {
          "output_type": "stream",
          "name": "stdout",
          "text": [
            "Live code 1: 60\n",
            "Live code 2: 70\n",
            "Live code 3: 80\n"
          ]
        }
      ]
    },
    {
      "cell_type": "markdown",
      "source": [
        "<h1>Types of Inheritance</h1>\n",
        "\n",
        "There are four types of inheritance in OOP. However, our previous discussion is an example of **single inheritance**.\n",
        "\n",
        "\n",
        "<img src=\"https://www.edureka.co/blog/wp-content/uploads/2017/07/Types-of-Inheritance.jpg\"></img>\n",
        "\n",
        "\n",
        "We will practice and discuss the others."
      ],
      "metadata": {
        "id": "zZ5B0XjCgDxJ"
      }
    },
    {
      "cell_type": "markdown",
      "source": [
        "### Multilevel Inheritance\n",
        "\n",
        "In multilevel inheritance, features of the base class and the derived class are further inherited into the new derived class.This similar to Son-Dad-Grandpa relationship."
      ],
      "metadata": {
        "id": "zGqtXiTwg70W"
      }
    },
    {
      "cell_type": "code",
      "source": [
        "#Grandpa Class\n",
        "\n",
        "class Student:\n",
        "  def __init__(self,name,batch):\n",
        "    self.name = name\n",
        "    self.batch = batch\n",
        "\n",
        "  def __str__(self):\n",
        "    return f\"{self.name},{self.batch}\"\n",
        "\n",
        "\n",
        "#Dad Class\n",
        "\n",
        "class LiveCode(Student):\n",
        "  def __init__(self, name, batch, lc1, lc2, lc3):\n",
        "    self.lc1 = lc1\n",
        "    self.lc2 = lc2\n",
        "    self.lc3 = lc3\n",
        "\n",
        "    Student.__init__(self, name, batch)\n",
        "\n",
        "  def Score(self):\n",
        "    print(f\"Live code 1: {self.lc1}\\nLive code 2: {self.lc2}\\nLive code 3: {self.lc3}\")\n",
        "\n",
        "\n",
        "#Son Class\n",
        "\n",
        "class FTDS(LiveCode):\n",
        "  def __init__(self, name, batch, lc1, lc2, lc3):\n",
        "    self.avg = (lc1+lc2+lc3)/3\n",
        "\n",
        "    LiveCode.__init__(self, name, batch, lc1, lc2, lc3)\n",
        "\n",
        "  def Average(self):\n",
        "    print(f\"Your average live code score: {self.avg}\")"
      ],
      "metadata": {
        "id": "mjCIlYNyhErw"
      },
      "execution_count": 23,
      "outputs": []
    },
    {
      "cell_type": "code",
      "source": [
        "Fahmi = FTDS(\"Fahmi\",\"RMT-57\",76,80,90)"
      ],
      "metadata": {
        "id": "gq5krfpGlW5E"
      },
      "execution_count": 24,
      "outputs": []
    },
    {
      "cell_type": "code",
      "source": [
        "Fahmi.Average()"
      ],
      "metadata": {
        "colab": {
          "base_uri": "https://localhost:8080/"
        },
        "id": "hLAEMPEulyft",
        "outputId": "73818261-b3c8-4ffd-996a-21d49e44872e"
      },
      "execution_count": 25,
      "outputs": [
        {
          "output_type": "stream",
          "name": "stdout",
          "text": [
            "Your average live code score: 82.0\n"
          ]
        }
      ]
    },
    {
      "cell_type": "code",
      "source": [
        "print(Fahmi)"
      ],
      "metadata": {
        "colab": {
          "base_uri": "https://localhost:8080/"
        },
        "id": "dzCMkYxNlzse",
        "outputId": "e5076ec4-86d5-4a9f-f2e2-fbe2674c38ed"
      },
      "execution_count": 26,
      "outputs": [
        {
          "output_type": "stream",
          "name": "stdout",
          "text": [
            "Fahmi,RMT-57\n"
          ]
        }
      ]
    },
    {
      "cell_type": "code",
      "source": [
        "Fahmi.Score()"
      ],
      "metadata": {
        "colab": {
          "base_uri": "https://localhost:8080/"
        },
        "id": "-nBH1ROxmOIa",
        "outputId": "21c21c58-c11f-46d4-f0a2-ee94c8810215"
      },
      "execution_count": 27,
      "outputs": [
        {
          "output_type": "stream",
          "name": "stdout",
          "text": [
            "Live code 1: 76\n",
            "Live code 2: 80\n",
            "Live code 3: 90\n"
          ]
        }
      ]
    },
    {
      "cell_type": "markdown",
      "source": [
        "### Hierarchical Inheritance\n",
        "\n",
        "When more than one derived class are created from a single base this type of inheritance is called hierarchical inheritance."
      ],
      "metadata": {
        "id": "cvmacAswhE4M"
      }
    },
    {
      "cell_type": "code",
      "source": [
        "#Parent Class\n",
        "\n",
        "class Student:\n",
        "  def __init__(self, name, batch):\n",
        "    self.name = name\n",
        "    self.batch = batch\n",
        "\n",
        "\n",
        "#Child Classes\n",
        "\n",
        "class FTDS_HCK(Student):\n",
        "  def __init__(self, name, batch):\n",
        "    Student.__init__(self, name, batch)\n",
        "\n",
        "  def __str__(self):\n",
        "    return f\"{self.name} is a student of FTDS Batch-{self.batch} Pondok Indah Campus.\"\n",
        "\n",
        "class FTDS_RMT(Student):\n",
        "  def __init__(self, name, batch):\n",
        "    Student.__init__(self, name, batch)\n",
        "\n",
        "  def __str__(self):\n",
        "    return f\"{self.name} is a student of FTDS Batch-{self.batch} Remote.\"\n",
        "\n",
        "class FTDS_BSD(Student):\n",
        "  def __init__(self, name, batch):\n",
        "    Student.__init__(self, name, batch)\n",
        "\n",
        "  def __str__(self):\n",
        "    return f\"{self.name} is a student of FTDS Batch-{self.batch} BSD Campus.\"\n",
        "\n",
        "class FTDS_SBY(Student):\n",
        "  def __init__(self, name, batch):\n",
        "    Student.__init__(self, name, batch)\n",
        "\n",
        "  def __str__(self):\n",
        "    return f\"{self.name} is a student of FTDS Batch-{self.batch} Surabaya Campus.\""
      ],
      "metadata": {
        "id": "NeLUVoJXhKPN"
      },
      "execution_count": 31,
      "outputs": []
    },
    {
      "cell_type": "code",
      "source": [
        "#HCK\n",
        "rafif = FTDS_HCK(\"Rafif\",5)\n",
        "print(rafif)\n",
        "\n",
        "#RMT\n",
        "hana = FTDS_RMT(\"Hana\",30)\n",
        "print(hana)\n",
        "\n",
        "#BSD\n",
        "vincent = FTDS_BSD(\"Vincent\", 1)\n",
        "print(vincent)\n",
        "\n",
        "#SBY\n",
        "dyco = FTDS_SBY(\"Dyco\", 2)\n",
        "print(dyco)"
      ],
      "metadata": {
        "colab": {
          "base_uri": "https://localhost:8080/"
        },
        "id": "qKECb6rPooIN",
        "outputId": "d1206837-5f86-4cd2-f087-a6d7b646e411"
      },
      "execution_count": 32,
      "outputs": [
        {
          "output_type": "stream",
          "name": "stdout",
          "text": [
            "Rafif is a student of FTDS Batch-5 Pondok Indah Campus.\n",
            "Hana is a student of FTDS Batch-30 Remote.\n",
            "Vincent is a student of FTDS Batch-1 BSD Campus.\n",
            "Dyco is a student of FTDS Batch-2 Surabaya Campus.\n"
          ]
        }
      ]
    },
    {
      "cell_type": "markdown",
      "source": [
        "### Multiple Inheritance\n",
        "\n",
        "Multiple inheritance is when a class derived by many parent classes."
      ],
      "metadata": {
        "id": "eTgcCrJ0hKgo"
      }
    },
    {
      "cell_type": "code",
      "source": [
        "#Parent 1\n",
        "class Student:\n",
        "  def __init__(self, name, batch):\n",
        "    self.name = name\n",
        "    self.batch = batch\n",
        "\n",
        "  def __str__(self):\n",
        "    return f\"{self.name},{self.batch}\"\n",
        "\n",
        "#Parent 2\n",
        "class LC1:\n",
        "  def __init__(self, lc1_score):\n",
        "    self.lc1_score = lc1_score\n",
        "\n",
        "#Parent 3\n",
        "class GC1:\n",
        "  def __init__(self, gc1_score):\n",
        "    self.gc1_score = gc1_score\n",
        "\n",
        "#Child\n",
        "class FTDS_W1(Student, LC1, GC1):\n",
        "  def __init__(self, name, batch, lc1_score, gc1_score):\n",
        "    self.total = lc1_score+gc1_score\n",
        "\n",
        "    Student.__init__(self, name, batch)\n",
        "    LC1.__init__(self, lc1_score)\n",
        "    GC1.__init__(self, gc1_score)"
      ],
      "metadata": {
        "id": "mY_enCP2hPEl"
      },
      "execution_count": 49,
      "outputs": []
    },
    {
      "cell_type": "code",
      "source": [
        "raka = FTDS_W1('Raka','HCK-5',80,95)\n",
        "raka.total"
      ],
      "metadata": {
        "colab": {
          "base_uri": "https://localhost:8080/"
        },
        "id": "oXdYlzIRt4gI",
        "outputId": "b9e24e61-13a0-4a7a-b734-dc6cfa68b762"
      },
      "execution_count": 51,
      "outputs": [
        {
          "output_type": "execute_result",
          "data": {
            "text/plain": [
              "175"
            ]
          },
          "metadata": {},
          "execution_count": 51
        }
      ]
    },
    {
      "cell_type": "code",
      "source": [
        "print(f\"LC1 Score: {raka.lc1_score} and GC1 Score: {raka.gc1_score}\")"
      ],
      "metadata": {
        "colab": {
          "base_uri": "https://localhost:8080/"
        },
        "id": "PZtOSKzCvVa3",
        "outputId": "28686169-6cec-49da-f3e7-49aec7fa69cf"
      },
      "execution_count": 52,
      "outputs": [
        {
          "output_type": "stream",
          "name": "stdout",
          "text": [
            "LC1 Score: 80 and GC1 Score: 95\n"
          ]
        }
      ]
    },
    {
      "cell_type": "markdown",
      "source": [
        "# Encapsulation\n",
        "\n",
        "Encapsulation in object-oriented programming combines data and methods into a class, allowing for organized and structured code.\n",
        "\n",
        "In Python, encapsulation is achieved through class definitions and the use of access modifiers, such as the leading underscore _, to indicate the intended visibility of attributes and methods.\n",
        "\n",
        "Although not strictly enforced, the underscore convention serves as a signal to developers that certain members should be treated as internal or \"private\" to the class, discouraging direct access or modification from outside the class."
      ],
      "metadata": {
        "id": "ZGTNm_B6Nh5B"
      }
    },
    {
      "cell_type": "code",
      "source": [
        "class BankAccount:\n",
        "\n",
        "  def __init__(self, account_number, balance):\n",
        "    self.__account_number = account_number # `__` indicate that the attribute is private\n",
        "    self.__balance = balance # private attribute cannot be called when a class be an object\n",
        "\n",
        "  def deposit(self, amount):\n",
        "    self.__balance += amount\n",
        "\n",
        "  def withdraw(self, amount):\n",
        "    if self.__balance >= amount:\n",
        "      self.__balance -= amount\n",
        "    else:\n",
        "      print('Insufficient Balance')\n",
        "\n",
        "  def get_balance(self): #If you use return schema on a function/method, you can \"transform\" a private attribute to public\n",
        "    return self.__balance #__balance can be access but through get_balance when a class be an object"
      ],
      "metadata": {
        "id": "uQ5-Fg_1NjJb"
      },
      "execution_count": 58,
      "outputs": []
    },
    {
      "cell_type": "code",
      "source": [
        "#Creating instance of bank account\n",
        "\n",
        "account = BankAccount(12345678, 1500)"
      ],
      "metadata": {
        "id": "Isd4-06Px2jA"
      },
      "execution_count": 59,
      "outputs": []
    },
    {
      "cell_type": "code",
      "source": [
        "#Calling __balance\n",
        "\n",
        "account.__balance #An error will appears"
      ],
      "metadata": {
        "colab": {
          "base_uri": "https://localhost:8080/",
          "height": 215
        },
        "id": "CBY-xHQ4yAdu",
        "outputId": "c08fe2a6-5b5a-4ead-97b7-1d14b0b2bdd4"
      },
      "execution_count": 60,
      "outputs": [
        {
          "output_type": "error",
          "ename": "AttributeError",
          "evalue": "ignored",
          "traceback": [
            "\u001b[0;31m---------------------------------------------------------------------------\u001b[0m",
            "\u001b[0;31mAttributeError\u001b[0m                            Traceback (most recent call last)",
            "\u001b[0;32m<ipython-input-60-6c02f6b15750>\u001b[0m in \u001b[0;36m<cell line: 3>\u001b[0;34m()\u001b[0m\n\u001b[1;32m      1\u001b[0m \u001b[0;31m#Calling __balance\u001b[0m\u001b[0;34m\u001b[0m\u001b[0;34m\u001b[0m\u001b[0m\n\u001b[1;32m      2\u001b[0m \u001b[0;34m\u001b[0m\u001b[0m\n\u001b[0;32m----> 3\u001b[0;31m \u001b[0maccount\u001b[0m\u001b[0;34m.\u001b[0m\u001b[0m__balance\u001b[0m\u001b[0;34m\u001b[0m\u001b[0;34m\u001b[0m\u001b[0m\n\u001b[0m",
            "\u001b[0;31mAttributeError\u001b[0m: 'BankAccount' object has no attribute '__balance'"
          ]
        }
      ]
    },
    {
      "cell_type": "code",
      "source": [
        "account.get_balance() #value of __balance can be accessed by get_balance method"
      ],
      "metadata": {
        "colab": {
          "base_uri": "https://localhost:8080/"
        },
        "id": "Xq0fPe8SygV-",
        "outputId": "1c95c1e5-9cb3-4d67-b444-6326b45162d0"
      },
      "execution_count": 61,
      "outputs": [
        {
          "output_type": "execute_result",
          "data": {
            "text/plain": [
              "1500"
            ]
          },
          "metadata": {},
          "execution_count": 61
        }
      ]
    },
    {
      "cell_type": "code",
      "source": [
        "#Make a deposit\n",
        "account.deposit(500)\n",
        "account.get_balance()"
      ],
      "metadata": {
        "colab": {
          "base_uri": "https://localhost:8080/"
        },
        "id": "vHKRJw-uyqR6",
        "outputId": "896f833b-b57e-4ebb-af43-b5dc1e70d199"
      },
      "execution_count": 63,
      "outputs": [
        {
          "output_type": "execute_result",
          "data": {
            "text/plain": [
              "2500"
            ]
          },
          "metadata": {},
          "execution_count": 63
        }
      ]
    },
    {
      "cell_type": "code",
      "source": [
        "#Withdraw but more than the balance\n",
        "account.withdraw(5000)"
      ],
      "metadata": {
        "colab": {
          "base_uri": "https://localhost:8080/"
        },
        "id": "VFfXNL71yy8k",
        "outputId": "63f12c96-6d93-4adc-ca2a-fcdf45bb5274"
      },
      "execution_count": 64,
      "outputs": [
        {
          "output_type": "stream",
          "name": "stdout",
          "text": [
            "Insufficient Balance\n"
          ]
        }
      ]
    },
    {
      "cell_type": "code",
      "source": [
        "#Withdraw less than the balance\n",
        "account.withdraw(750)\n",
        "account.get_balance()"
      ],
      "metadata": {
        "colab": {
          "base_uri": "https://localhost:8080/"
        },
        "id": "pbim6oEHy4zt",
        "outputId": "22930785-c49c-463d-ccce-33c7ae14d23d"
      },
      "execution_count": 65,
      "outputs": [
        {
          "output_type": "execute_result",
          "data": {
            "text/plain": [
              "1750"
            ]
          },
          "metadata": {},
          "execution_count": 65
        }
      ]
    },
    {
      "cell_type": "markdown",
      "source": [
        "# Polymorphism\n",
        "\n",
        "Polymorphism means having many forms. In programming, polymorphism means the same function name (but different signatures) being used for different types. The key difference is the data types and number of arguments used in function."
      ],
      "metadata": {
        "id": "t00YhobyNlUA"
      }
    },
    {
      "cell_type": "markdown",
      "source": [
        "## Method Overriding\n",
        "\n",
        "When a subclass provides its own implementation of a method that is already defined in its superclass, it overrides the superclass method. When the method is called on an object of the subclass, the overridden method in the subclass is executed."
      ],
      "metadata": {
        "id": "hSKtyNeXNrU6"
      }
    },
    {
      "cell_type": "code",
      "source": [
        "class Animal:\n",
        "  def sound(self):\n",
        "    print(\"Animal makes a sound.\")\n",
        "\n",
        "class Cat(Animal):\n",
        "  def sound(self):\n",
        "    print('Cat Meows')\n",
        "\n",
        "class Dog(Animal):\n",
        "  def sound(self):\n",
        "    print('Dog Barks')\n",
        "\n",
        "#Polymorphic behaviour\n",
        "\n",
        "animals = [Cat(), Dog()]\n",
        "\n",
        "for animal in animals:\n",
        "  animal.sound()"
      ],
      "metadata": {
        "colab": {
          "base_uri": "https://localhost:8080/"
        },
        "id": "ZMkAyphNNscx",
        "outputId": "a8e3e8e1-4a27-4f97-e130-b643e5c0066c"
      },
      "execution_count": 1,
      "outputs": [
        {
          "output_type": "stream",
          "name": "stdout",
          "text": [
            "Cat Meows\n",
            "Dog Barks\n"
          ]
        }
      ]
    },
    {
      "cell_type": "markdown",
      "source": [
        "When the animals is called by for loop, the text \"Animal makes a sound.\" didn't appear and it overrided by Cat and Dog classes, despite Cat and Dog inheret to Animal."
      ],
      "metadata": {
        "id": "liwRvuAg-5Tq"
      }
    },
    {
      "cell_type": "markdown",
      "source": [
        "### Another Example"
      ],
      "metadata": {
        "id": "IvyF-SAQ-j7f"
      }
    },
    {
      "cell_type": "code",
      "source": [
        "class India():\n",
        "    def capital(self):\n",
        "        print(\"New Delhi is the capital of India.\")\n",
        "\n",
        "    def language(self):\n",
        "        print(\"Hindi is the most widely spoken language of India.\")\n",
        "\n",
        "    def type(self):\n",
        "        print(\"India is a developing country.\")\n",
        "\n",
        "class USA():\n",
        "    def capital(self):\n",
        "        print(\"Washington, D.C. is the capital of USA.\")\n",
        "\n",
        "    def language(self):\n",
        "        print(\"English is the primary language of USA.\")\n",
        "\n",
        "    def type(self):\n",
        "        print(\"USA is a developed country.\")\n",
        "\n",
        "obj_ind = India()\n",
        "obj_usa = USA()\n",
        "\n",
        "\n",
        "for country in (obj_ind, obj_usa):\n",
        "    country.capital()\n",
        "    country.language()\n",
        "    country.type()"
      ],
      "metadata": {
        "colab": {
          "base_uri": "https://localhost:8080/"
        },
        "id": "aKyPD3vP-mip",
        "outputId": "cca12a93-40f7-4d9e-cc72-5ed1be766376"
      },
      "execution_count": 2,
      "outputs": [
        {
          "output_type": "stream",
          "name": "stdout",
          "text": [
            "New Delhi is the capital of India.\n",
            "Hindi is the most widely spoken language of India.\n",
            "India is a developing country.\n",
            "Washington, D.C. is the capital of USA.\n",
            "English is the primary language of USA.\n",
            "USA is a developed country.\n"
          ]
        }
      ]
    },
    {
      "cell_type": "markdown",
      "source": [
        "It is magic that we only call country.capital() and so on without specify which class we want to call, but every class in the tuple was called."
      ],
      "metadata": {
        "id": "YnHPvfvK-whs"
      }
    },
    {
      "cell_type": "markdown",
      "source": [
        "## Method Overloading\n",
        "\n",
        "Two or more methods have the same name but different numbers of parameters or different types of parameters, or both. These methods are called overloaded methods and this is called method overloading.\n",
        "\n",
        "This allows you to have different versions of the method that can be called based on the arguments provided.\n",
        "\n",
        "The problem with method overloading in Python is that we may overload the methods but can only use the latest defined method.\n"
      ],
      "metadata": {
        "id": "RXhgiFlJNsk1"
      }
    },
    {
      "cell_type": "code",
      "source": [
        "class MathOperations:\n",
        "  def add(self,a,b):\n",
        "    return a + b\n",
        "\n",
        "  def add(self, a, b, c): #we define another method with the same name as the first one\n",
        "    return a + b + c\n",
        "\n",
        "math = MathOperations()\n",
        "\n",
        "print(math.add(2, 3))\n",
        "print(math.add(2, 3, 4))"
      ],
      "metadata": {
        "colab": {
          "base_uri": "https://localhost:8080/",
          "height": 232
        },
        "id": "qWxt5oiVNtu0",
        "outputId": "d5a3f301-573f-4354-939b-5212f7d969ac"
      },
      "execution_count": 4,
      "outputs": [
        {
          "output_type": "error",
          "ename": "TypeError",
          "evalue": "ignored",
          "traceback": [
            "\u001b[0;31m---------------------------------------------------------------------------\u001b[0m",
            "\u001b[0;31mTypeError\u001b[0m                                 Traceback (most recent call last)",
            "\u001b[0;32m<ipython-input-4-4e1329916525>\u001b[0m in \u001b[0;36m<cell line: 10>\u001b[0;34m()\u001b[0m\n\u001b[1;32m      8\u001b[0m \u001b[0mmath\u001b[0m \u001b[0;34m=\u001b[0m \u001b[0mMathOperations\u001b[0m\u001b[0;34m(\u001b[0m\u001b[0;34m)\u001b[0m\u001b[0;34m\u001b[0m\u001b[0;34m\u001b[0m\u001b[0m\n\u001b[1;32m      9\u001b[0m \u001b[0;34m\u001b[0m\u001b[0m\n\u001b[0;32m---> 10\u001b[0;31m \u001b[0mprint\u001b[0m\u001b[0;34m(\u001b[0m\u001b[0mmath\u001b[0m\u001b[0;34m.\u001b[0m\u001b[0madd\u001b[0m\u001b[0;34m(\u001b[0m\u001b[0;36m2\u001b[0m\u001b[0;34m,\u001b[0m \u001b[0;36m3\u001b[0m\u001b[0;34m)\u001b[0m\u001b[0;34m)\u001b[0m\u001b[0;34m\u001b[0m\u001b[0;34m\u001b[0m\u001b[0m\n\u001b[0m\u001b[1;32m     11\u001b[0m \u001b[0mprint\u001b[0m\u001b[0;34m(\u001b[0m\u001b[0mmath\u001b[0m\u001b[0;34m.\u001b[0m\u001b[0madd\u001b[0m\u001b[0;34m(\u001b[0m\u001b[0;36m2\u001b[0m\u001b[0;34m,\u001b[0m \u001b[0;36m3\u001b[0m\u001b[0;34m,\u001b[0m \u001b[0;36m4\u001b[0m\u001b[0;34m)\u001b[0m\u001b[0;34m)\u001b[0m\u001b[0;34m\u001b[0m\u001b[0;34m\u001b[0m\u001b[0m\n",
            "\u001b[0;31mTypeError\u001b[0m: MathOperations.add() missing 1 required positional argument: 'c'"
          ]
        }
      ]
    },
    {
      "cell_type": "markdown",
      "source": [
        "Error raised when we applied the method overloading in our class, it is still a problem in Python so we cannot apply the method overloading efficiently in Python's OOP."
      ],
      "metadata": {
        "id": "NBo-6F1zBMTO"
      }
    },
    {
      "cell_type": "markdown",
      "source": [
        "# Additional"
      ],
      "metadata": {
        "id": "9o34sbulNviL"
      }
    },
    {
      "cell_type": "markdown",
      "source": [
        "## `if __name__ == \"__main__\"` Idiom\n",
        "\n",
        "This is an additional section to wrap up our knowledge about functions, module, and OOP.\n",
        "\n",
        "`if __name__ == \"__main__\"` is mainly used in Python scripting. It allows you to execute code when the file runs as a script, but not when it's imported as a module.\n",
        "\n",
        "For example, we make a simple module in a python script file such this.\n",
        "\n",
        "```py\n",
        "\n",
        "class Human:\n",
        "  def __init__(self, name, age):\n",
        "    self.name = name\n",
        "    self.age = age\n",
        "  \n",
        "  def greet(self):\n",
        "    print(f\"Hi! my name is {self.name} and I am {self.age} years old.\")\n",
        "\n",
        "if __name__ == \"__main__\":\n",
        "  john = Human(\"John Smith\",36)\n",
        "  john.greet()\n",
        "\n",
        "```\n",
        "\n",
        "Let's create the file"
      ],
      "metadata": {
        "id": "5sucq9FnN2Gf"
      }
    },
    {
      "cell_type": "code",
      "source": [
        "with open('human.py', 'w') as writefile:\n",
        "    writefile.write('''class Human:\n",
        "  def __init__(self, name, age):\n",
        "    self.name = name\n",
        "    self.age = age\n",
        "\n",
        "  def greet(self):\n",
        "    print(f\"Hi! my name is {self.name} and I am {self.age} years old.\")\n",
        "\n",
        "if __name__ == \"__main__\":\n",
        "  john = Human(\"John Smith\",36)\n",
        "  john.greet()''')"
      ],
      "metadata": {
        "id": "Pc_Y0wohNwrd"
      },
      "execution_count": 9,
      "outputs": []
    },
    {
      "cell_type": "markdown",
      "source": [
        "If we import the `human.py` as a module, the lines `john = Human(\"John Smith\",36)` and `john.greet()` will be ignored."
      ],
      "metadata": {
        "id": "FKVK7S60EdQy"
      }
    },
    {
      "cell_type": "code",
      "source": [
        "import human\n",
        "\n",
        "human"
      ],
      "metadata": {
        "colab": {
          "base_uri": "https://localhost:8080/"
        },
        "id": "VRw9gRtyEbC1",
        "outputId": "8d29a02a-73e6-43cd-b60c-01c8d62155a7"
      },
      "execution_count": 6,
      "outputs": [
        {
          "output_type": "execute_result",
          "data": {
            "text/plain": [
              "<module 'human' from '/content/human.py'>"
            ]
          },
          "metadata": {},
          "execution_count": 6
        }
      ]
    },
    {
      "cell_type": "code",
      "source": [
        "laila = human.Human(\"Laila Zahra\", 22)\n",
        "print(laila.name)\n",
        "print(laila.age)\n",
        "laila.greet()"
      ],
      "metadata": {
        "colab": {
          "base_uri": "https://localhost:8080/"
        },
        "id": "VpD3XgaPEyB6",
        "outputId": "d330306c-062b-4848-818e-77b5fe0baea0"
      },
      "execution_count": 7,
      "outputs": [
        {
          "output_type": "stream",
          "name": "stdout",
          "text": [
            "Laila Zahra\n",
            "22\n",
            "Hi! my name is Laila Zahra and I am 22 years old.\n"
          ]
        }
      ]
    },
    {
      "cell_type": "markdown",
      "source": [
        "However, if we run the script in prompt, the lines after `if __name__ == \"__main__\"` will be executed."
      ],
      "metadata": {
        "id": "2Xwj2x7vEda6"
      }
    },
    {
      "cell_type": "code",
      "source": [
        "!python human.py"
      ],
      "metadata": {
        "colab": {
          "base_uri": "https://localhost:8080/"
        },
        "id": "gdVc3KdRFMzB",
        "outputId": "366cff3b-456e-4728-8938-47d3813d6970"
      },
      "execution_count": 8,
      "outputs": [
        {
          "output_type": "stream",
          "name": "stdout",
          "text": [
            "Hi! my name is John Smith and I am 36 years old.\n"
          ]
        }
      ]
    },
    {
      "cell_type": "markdown",
      "source": [
        "# Exercise"
      ],
      "metadata": {
        "id": "Joyg9azeN65B"
      }
    },
    {
      "cell_type": "markdown",
      "source": [
        "## Case 1\n",
        "\n",
        "Write a Python class BankAccount with attributes like account_number, balance, date_of_opening and customer_name, and methods like deposit, withdraw, and check_balance.\n"
      ],
      "metadata": {
        "id": "rY-aZNdcN8dP"
      }
    },
    {
      "cell_type": "code",
      "source": [
        "#@title the solution\n",
        "class BankAccount:\n",
        "    def __init__(self, account_number, balance, date_of_opening, customer_name):\n",
        "        self.account_number = account_number\n",
        "        self.balance = balance\n",
        "        self.date_of_opening = date_of_opening\n",
        "        self.customer_name = customer_name\n",
        "\n",
        "    def deposit(self, amount):\n",
        "        self.balance += amount\n",
        "        print(f\"Deposit of {amount} successful. New balance: {self.balance}\")\n",
        "\n",
        "    def withdraw(self, amount):\n",
        "        if amount <= self.balance:\n",
        "            self.balance -= amount\n",
        "            print(f\"Withdrawal of {amount} successful. New balance: {self.balance}\")\n",
        "        else:\n",
        "            print(\"Insufficient funds.\")\n",
        "\n",
        "    def check_balance(self):\n",
        "        print(f\"Account balance: {self.balance}\")"
      ],
      "metadata": {
        "cellView": "form",
        "id": "8zPsz-Q-N-HS"
      },
      "execution_count": 10,
      "outputs": []
    },
    {
      "cell_type": "code",
      "source": [
        "#@title testing the solution\n",
        "\n",
        "# Creating an instance of BankAccount\n",
        "account = BankAccount(\"1234567890\", 1000, \"2023-07-12\", \"John Doe\")\n",
        "\n",
        "# Depositing and withdrawing money\n",
        "account.deposit(500)  # Output: Deposit of 500 successful. New balance: 1500\n",
        "account.withdraw(200)  # Output: Withdrawal of 200 successful. New balance: 1300\n",
        "\n",
        "# Checking account balance\n",
        "account.check_balance()  # Output: Account balance: 1300"
      ],
      "metadata": {
        "colab": {
          "base_uri": "https://localhost:8080/"
        },
        "cellView": "form",
        "id": "jm9SgESeFiKo",
        "outputId": "8f8d3728-b677-4bb1-a46e-ac1457da5b6f"
      },
      "execution_count": 11,
      "outputs": [
        {
          "output_type": "stream",
          "name": "stdout",
          "text": [
            "Deposit of 500 successful. New balance: 1500\n",
            "Withdrawal of 200 successful. New balance: 1300\n",
            "Account balance: 1300\n"
          ]
        }
      ]
    },
    {
      "cell_type": "markdown",
      "source": [
        "## Case 2\n",
        "\n",
        "Write a Python class Employee with attributes like emp_id, emp_name, emp_salary, and emp_department and methods like calculate_emp_salary, emp_assign_department, and print_employee_details.\n",
        "\n",
        "```\n",
        "Sample Employee Data:\n",
        "\"ADAMS\", \"E7876\", 50000, \"ACCOUNTING\"\n",
        "\"JONES\", \"E7499\", 45000, \"RESEARCH\"\n",
        "\"MARTIN\", \"E7900\", 50000, \"SALES\"\n",
        "\"SMITH\", \"E7698\", 55000, \"OPERATIONS\"\n",
        "```\n",
        "\n",
        "- Use 'assign_department' method to change the department of an employee.\n",
        "- Use 'print_employee_details' method to print the details of an employee.\n",
        "- Use 'calculate_emp_salary' method takes two arguments: salary and hours_worked, which is the number of hours worked by the employee. If the number of hours worked is more than 50, the method computes overtime and adds it to the salary. Overtime is calculated as following formula:\n",
        "\n",
        "`Overtime = hours_worked - 50`\n",
        "\n",
        "`Overtime amount = (overtime * (salary / 50))`\n"
      ],
      "metadata": {
        "id": "HCbCXPxON-VS"
      }
    },
    {
      "cell_type": "code",
      "source": [
        "#@title the solution\n",
        "\n",
        "class Employee:\n",
        "    def __init__(self, emp_id, emp_name, emp_salary, emp_department):\n",
        "        self.emp_id = emp_id\n",
        "        self.emp_name = emp_name\n",
        "        self.emp_salary = emp_salary\n",
        "        self.emp_department = emp_department\n",
        "\n",
        "    def assign_department(self, new_department):\n",
        "        self.emp_department = new_department\n",
        "\n",
        "    def print_employee_details(self):\n",
        "        print(f\"Employee ID: {self.emp_id}\")\n",
        "        print(f\"Employee Name: {self.emp_name}\")\n",
        "        print(f\"Employee Salary: {self.emp_salary}\")\n",
        "        print(f\"Employee Department: {self.emp_department}\")\n",
        "\n",
        "    def calculate_emp_salary(self, hours_worked):\n",
        "        if hours_worked > 50:\n",
        "            overtime = hours_worked - 50\n",
        "            overtime_amount = (overtime * (self.emp_salary / 50))\n",
        "            total_salary = self.emp_salary + overtime_amount\n",
        "        else:\n",
        "            total_salary = self.emp_salary\n",
        "\n",
        "        return total_salary"
      ],
      "metadata": {
        "cellView": "form",
        "id": "HwhjUmvQFuHd"
      },
      "execution_count": 12,
      "outputs": []
    },
    {
      "cell_type": "code",
      "source": [
        "#@title testing the answer\n",
        "\n",
        "# Creating instances of Employee\n",
        "employee1 = Employee(\"E7876\", \"ADAMS\", 50000, \"ACCOUNTING\")\n",
        "employee2 = Employee(\"E7499\", \"JONES\", 45000, \"RESEARCH\")\n",
        "employee3 = Employee(\"E7900\", \"MARTIN\", 50000, \"SALES\")\n",
        "employee4 = Employee(\"E7698\", \"SMITH\", 55000, \"OPERATIONS\")\n",
        "\n",
        "# Changing department of an employee\n",
        "employee1.assign_department(\"HR\")\n",
        "\n",
        "# Printing employee details\n",
        "employee1.print_employee_details()\n",
        "\n",
        "# Calculating employee salary\n",
        "hours_worked = 55\n",
        "total_salary = employee1.calculate_emp_salary(hours_worked)\n",
        "print(f\"Total Salary: {total_salary}\")"
      ],
      "metadata": {
        "colab": {
          "base_uri": "https://localhost:8080/"
        },
        "cellView": "form",
        "id": "v9J2sQ1-Fxos",
        "outputId": "529d521f-8701-4770-c0e6-92c241e7e78b"
      },
      "execution_count": 13,
      "outputs": [
        {
          "output_type": "stream",
          "name": "stdout",
          "text": [
            "Employee ID: E7876\n",
            "Employee Name: ADAMS\n",
            "Employee Salary: 50000\n",
            "Employee Department: HR\n",
            "Total Salary: 55000.0\n"
          ]
        }
      ]
    }
  ]
}