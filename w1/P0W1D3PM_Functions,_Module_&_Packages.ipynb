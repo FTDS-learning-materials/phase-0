{
  "nbformat": 4,
  "nbformat_minor": 0,
  "metadata": {
    "kernelspec": {
      "display_name": "Python 3",
      "language": "python",
      "name": "python3"
    },
    "language_info": {
      "codemirror_mode": {
        "name": "ipython",
        "version": 3
      },
      "file_extension": ".py",
      "mimetype": "text/x-python",
      "name": "python",
      "nbconvert_exporter": "python",
      "pygments_lexer": "ipython3",
      "version": "3.8.2"
    },
    "toc": {
      "base_numbering": 1,
      "nav_menu": {},
      "number_sections": true,
      "sideBar": true,
      "skip_h1_title": false,
      "title_cell": "Table of Contents",
      "title_sidebar": "Contents",
      "toc_cell": false,
      "toc_position": {},
      "toc_section_display": true,
      "toc_window_display": false
    },
    "colab": {
      "provenance": [],
      "collapsed_sections": [
        "_AT0VcQbwYBG",
        "SZD-J1k_uuja"
      ]
    }
  },
  "cells": [
    {
      "cell_type": "markdown",
      "metadata": {
        "id": "NIC1E4wZwYBE"
      },
      "source": [
        "# Week 1: Day 3 PM // Python: Functions, Module & Packages"
      ]
    },
    {
      "cell_type": "markdown",
      "metadata": {
        "id": "_AT0VcQbwYBG"
      },
      "source": [
        "# Python Function\n",
        "\n",
        "A function is a block of organized, **reusable code** that is used to perform a single, related action. Functions provide better modularity for your application and a high degree of code reusing.\n",
        "\n",
        "As you already know, Python gives you many built-in functions like `print()`, etc. but you can also create your own functions. These functions are called user-defined functions.\n",
        "\n",
        "### Defining a Function\n",
        "\n",
        "You can define functions to provide the required functionality. Here are simple rules to define a function in Python.\n",
        "\n",
        "* Function blocks begin with the keyword `def` followed by the function name and parentheses ( `( )` ).\n",
        "* Any input parameters or arguments should be placed within these parentheses. You can also define parameters inside these parentheses.\n",
        "* The first statement of a function can be an optional statement - the documentation string of the function or docstring.\n",
        "* The code block within every function starts with a colon (`:`) and is indented.\n",
        "* The statement return `[expression]` exits a function, optionally passing back an expression to the caller. A return statement with no arguments is the same as return None.\n",
        "\n",
        "```\n",
        "def function_name( parameters ):\n",
        "   '''docstring'''\n",
        "   statement(s)\n",
        "```\n",
        "\n",
        "By default, parameters have a positional behavior and you need to inform them in the same order that they were defined.\n",
        "\n",
        "The first string after the function header is called the docstring and is short for documentation string. It is used to explain in brief, what a function does.\n",
        "\n",
        "Although optional, documentation is a good programming practice. Unless you can remember what you had for dinner last week, always document your code.\n",
        "\n",
        "In the above example, we have a docstring immediately below the function header. We generally use triple quotes so that docstring can extend up to multiple lines. This string is available to us as `__doc__` attribute of the function."
      ]
    },
    {
      "cell_type": "code",
      "metadata": {
        "id": "6zdApKGqwYBL"
      },
      "source": [
        "# Example of Function Creation\n",
        "\n",
        "def my_function(p, l):\n",
        "    '''Function to calculate area of a square'''\n",
        "    print(p * l)\n",
        "\n",
        "\n",
        "def printme( str_input ):\n",
        "   '''This prints a passed string into this function'''\n",
        "   print(str_input)"
      ],
      "execution_count": null,
      "outputs": []
    },
    {
      "cell_type": "markdown",
      "metadata": {
        "id": "3KWLAfsgwYBV"
      },
      "source": [
        "### Calling a Function\n",
        "\n",
        "Defining a function only gives it a name, specifies the parameters that are to be included in the function and structures the blocks of code. Once the basic structure of a function is finalized, you can execute it by calling it from another function or directly from the Python prompt. The code below is the example to call `printme()` function."
      ]
    },
    {
      "cell_type": "code",
      "metadata": {
        "id": "1opi6MmnwYBW",
        "colab": {
          "base_uri": "https://localhost:8080/"
        },
        "outputId": "c9ff3174-6cbc-4986-f045-fd0eccd89fad"
      },
      "source": [
        "# Function definition is here\n",
        "def printme( str_input ):\n",
        "   '''This prints a passed string into this function'''\n",
        "   print(str_input)\n",
        "\n",
        "# Now you can call printme function\n",
        "printme(\"I'm first call to user defined function!\")\n",
        "printme(\"Again second call to the same function\")"
      ],
      "execution_count": null,
      "outputs": [
        {
          "output_type": "stream",
          "name": "stdout",
          "text": [
            "I'm first call to user defined function!\n",
            "Again second call to the same function\n"
          ]
        }
      ]
    },
    {
      "cell_type": "markdown",
      "metadata": {
        "id": "8OOn0UiewYBY"
      },
      "source": [
        "### Pass by reference vs value\n",
        "\n",
        "All parameters (arguments) in the Python language are passed by reference. It means if you change what a parameter refers to within a function, the change also reflects back in the calling function. For example"
      ]
    },
    {
      "cell_type": "code",
      "metadata": {
        "id": "MaI14tj7wYBa",
        "colab": {
          "base_uri": "https://localhost:8080/"
        },
        "outputId": "ef196fa4-6292-4075-9d8a-efa209991b5d"
      },
      "source": [
        "# Function definition is here\n",
        "def changeme( mylist ):\n",
        "   '''This changes a passed list into this function'''\n",
        "   mylist = mylist+[1,2,3,4]\n",
        "   print(\"\\nValues inside the function : \", mylist)\n",
        "   return mylist\n",
        "\n",
        "# Now you can call changeme function\n",
        "mylist = [10,20,30]\n",
        "print(\"\\nValues outside the function - before : \", mylist)\n",
        "mylist = changeme( mylist )\n",
        "print(\"\\nValues outside the function - after  : \", mylist)"
      ],
      "execution_count": null,
      "outputs": [
        {
          "output_type": "stream",
          "name": "stdout",
          "text": [
            "\n",
            "Values outside the function - before :  [10, 20, 30]\n",
            "\n",
            "Values inside the function :  [10, 20, 30, 1, 2, 3, 4]\n",
            "\n",
            "Values outside the function - after  :  [10, 20, 30, 1, 2, 3, 4]\n"
          ]
        }
      ]
    },
    {
      "cell_type": "markdown",
      "metadata": {
        "id": "25bU7I7ywYBc"
      },
      "source": [
        "There is one more example where argument is being passed by reference and the reference is being overwritten inside the called function."
      ]
    },
    {
      "cell_type": "code",
      "metadata": {
        "id": "qu_lZIgHwYBd",
        "colab": {
          "base_uri": "https://localhost:8080/"
        },
        "outputId": "6c1112d9-7265-47a8-c64b-332910813c3c"
      },
      "source": [
        "# Function definition is here\n",
        "def changeme( mylist ):\n",
        "   '''This changes a passed list into this function'''\n",
        "   mylist = [1, 2, 3, 4] # This would assign new reference in mylist\n",
        "   print(\"Values inside the function  : \", mylist)\n",
        "\n",
        "# Now you can call changeme function\n",
        "mylist = [10, 20, 30]\n",
        "changeme( mylist )\n",
        "print(\"Values outside the function : \", mylist)"
      ],
      "execution_count": null,
      "outputs": [
        {
          "output_type": "stream",
          "name": "stdout",
          "text": [
            "Values inside the function  :  [1, 2, 3, 4]\n",
            "Values outside the function :  [10, 20, 30]\n"
          ]
        }
      ]
    },
    {
      "cell_type": "markdown",
      "metadata": {
        "id": "zKwc30ZxwYBf"
      },
      "source": [
        "### Function Arguments\n",
        "\n",
        "You can call a function by using the following types of formal arguments −\n",
        "\n",
        "- Required arguments\n",
        "- Keyword arguments\n",
        "- Default arguments\n",
        "- Variable-length arguments"
      ]
    },
    {
      "cell_type": "markdown",
      "metadata": {
        "id": "O8XEMyLVVjra"
      },
      "source": [
        "#### **Required arguments**\n",
        "\n",
        "Required arguments are the arguments passed to a function in **correct positional order**. Here, the number of arguments in the function call should match exactly with the function definition.\n",
        "\n",
        "To call the function `printme()`, you definitely need to pass one argument, otherwise it gives a syntax error as follows."
      ]
    },
    {
      "cell_type": "code",
      "metadata": {
        "id": "7JNf0Kn6wYBg",
        "colab": {
          "base_uri": "https://localhost:8080/"
        },
        "outputId": "f5e3c3c1-818e-4086-b7b3-4735504b8999"
      },
      "source": [
        "# Function definition is here\n",
        "def printme( str_input ):\n",
        "   '''This prints a passed string into this function'''\n",
        "   print(str_input)\n",
        "\n",
        "# Now you can call printme function\n",
        "printme(\"Hello\")\n",
        "\n",
        "# # This syntax will give you an error\n",
        "# printme()"
      ],
      "execution_count": null,
      "outputs": [
        {
          "output_type": "stream",
          "name": "stdout",
          "text": [
            "Hello\n"
          ]
        }
      ]
    },
    {
      "cell_type": "markdown",
      "metadata": {
        "id": "hyDcKDhVUVUZ"
      },
      "source": [
        "One more example of required arguments. Let's create function that can calculate area of rectangle."
      ]
    },
    {
      "cell_type": "code",
      "metadata": {
        "colab": {
          "base_uri": "https://localhost:8080/"
        },
        "id": "v7WTfj0bUkcy",
        "outputId": "8e90759e-d219-4934-a5c8-dddcf824915f"
      },
      "source": [
        "# Function definition is here\n",
        "def calculate_rect(length, width):\n",
        "  '''This function is used to calculate area of rectangle'''\n",
        "  print('Area : ', length*width)\n",
        "\n",
        "# Define parameters\n",
        "length = 100\n",
        "width = 20\n",
        "\n",
        "# Call calculate_rect\n",
        "calculate_rect(length, width)\n",
        "\n",
        "# # This syntax will give you an error\n",
        "# calculate_rect(length)"
      ],
      "execution_count": null,
      "outputs": [
        {
          "output_type": "stream",
          "name": "stdout",
          "text": [
            "Area :  2000\n"
          ]
        }
      ]
    },
    {
      "cell_type": "markdown",
      "metadata": {
        "id": "VyDDpyJiwYBi"
      },
      "source": [
        "#### **Keyword Arguments**\n",
        "\n",
        "Keyword arguments are related to the function calls. When you use keyword arguments in a function call, the caller **identifies the arguments by the parameter name**.\n",
        "\n",
        "This allows you to **skip arguments or place them out of order** because the Python interpreter is able to use the keywords provided to match the values with parameters. You can also make keyword calls to the `printme()` function in the following ways.\n"
      ]
    },
    {
      "cell_type": "code",
      "metadata": {
        "id": "EBtfAm5FwYBj",
        "colab": {
          "base_uri": "https://localhost:8080/"
        },
        "outputId": "486ecbde-2236-4465-9ffc-6aebbe9c8bd3"
      },
      "source": [
        "# Function definition is here\n",
        "def printme( str_input ):\n",
        "   '''This prints a passed string into this function'''\n",
        "   print(str_input)\n",
        "\n",
        "# Now you can call printme function\n",
        "printme(str_input = \"Hacktiv8\")"
      ],
      "execution_count": null,
      "outputs": [
        {
          "output_type": "stream",
          "name": "stdout",
          "text": [
            "Hacktiv8\n"
          ]
        }
      ]
    },
    {
      "cell_type": "markdown",
      "metadata": {
        "id": "DLkgwa38wYBl"
      },
      "source": [
        "The following example gives more clear picture. Note that the order of parameters does not matter."
      ]
    },
    {
      "cell_type": "code",
      "metadata": {
        "id": "rbCjYTQVwYBm",
        "colab": {
          "base_uri": "https://localhost:8080/"
        },
        "outputId": "e353bc8a-9aac-4f9d-cadc-233f251d6cfa"
      },
      "source": [
        "# Function definition is here\n",
        "def printinfo( name, age ):\n",
        "   '''This prints a passed info into this function'''\n",
        "   print(\"Name : \", name)\n",
        "   print(\"Age. : \", age)\n",
        "\n",
        "# Now you can call printinfo function\n",
        "printinfo( age=4, name=\"a\" )"
      ],
      "execution_count": null,
      "outputs": [
        {
          "output_type": "stream",
          "name": "stdout",
          "text": [
            "Name :  a\n",
            "Age. :  4\n"
          ]
        }
      ]
    },
    {
      "cell_type": "markdown",
      "metadata": {
        "id": "Fa5H4CsQwYBo"
      },
      "source": [
        "#### **Default Arguments**\n",
        "\n",
        "A default argument is an argument that **assumes a default value if a value is not provided** in the function call for that argument. The following example gives an idea on default arguments, it prints default `age` if it is not passed."
      ]
    },
    {
      "cell_type": "code",
      "metadata": {
        "id": "3hxY489-wYBp",
        "colab": {
          "base_uri": "https://localhost:8080/"
        },
        "outputId": "5f7f4298-1094-4e5e-96ed-c690101960ca"
      },
      "source": [
        "# Function definition is here\n",
        "def printinfo( name, age = 26 ):\n",
        "   '''This prints a passed info into this function'''\n",
        "   print(\"Name : \", name)\n",
        "   print(\"Age  : \", age)\n",
        "   print(\"\")\n",
        "\n",
        "# Now you can call printinfo function\n",
        "printinfo( age=50, name=\"hacktiv8\" )\n",
        "printinfo( name=\"hacktiv\" )"
      ],
      "execution_count": null,
      "outputs": [
        {
          "output_type": "stream",
          "name": "stdout",
          "text": [
            "Name :  hacktiv8\n",
            "Age  :  50\n",
            "\n",
            "Name :  hacktiv\n",
            "Age  :  26\n",
            "\n"
          ]
        }
      ]
    },
    {
      "cell_type": "markdown",
      "metadata": {
        "id": "odr9gzLDXvFw"
      },
      "source": [
        "You must write default-arguments **after** required-argument\n",
        "\n",
        "Example :\n",
        "> `def printinfo(name, age=26):`\n",
        "\n",
        "NOT\n",
        "> `def printinfo(age=26, name):`"
      ]
    },
    {
      "cell_type": "code",
      "metadata": {
        "colab": {
          "base_uri": "https://localhost:8080/"
        },
        "id": "4vojZZnDWsbS",
        "outputId": "2438e200-afc5-466b-da10-71795fec7923"
      },
      "source": [
        "# Function definition is here\n",
        "def printinfo( name, age = 26 ):\n",
        "   '''This prints a passed info into this function'''\n",
        "   print(\"Name : \", name)\n",
        "   print(\"Age  : \", age)\n",
        "   print(\"\")\n",
        "\n",
        "# Now you can call printinfo function\n",
        "printinfo( age=50, name=\"hacktiv8\" )"
      ],
      "execution_count": null,
      "outputs": [
        {
          "output_type": "stream",
          "name": "stdout",
          "text": [
            "Name :  hacktiv8\n",
            "Age  :  50\n",
            "\n"
          ]
        }
      ]
    },
    {
      "cell_type": "code",
      "metadata": {
        "id": "VdJMfdANW1a4"
      },
      "source": [
        "# # Function definition is here\n",
        "# def printinfo( age = 26, name ):\n",
        "#    '''This prints a passed info into this function'''\n",
        "#    print(\"Name : \", name)\n",
        "#    print(\"Age  : \", age)\n",
        "#    print(\"\")\n",
        "\n",
        "# # Now you can call printinfo function\n",
        "# printinfo( age=50, name=\"hacktiv8\" )"
      ],
      "execution_count": null,
      "outputs": []
    },
    {
      "cell_type": "markdown",
      "metadata": {
        "id": "NEzZud0rwYBs"
      },
      "source": [
        "#### **Variable-length Arguments**\n",
        "\n",
        "You may need to process a function for **more arguments than you specified** while defining the function. These arguments are called variable-length arguments and are not named in the function definition, unlike required and default arguments.\n",
        "\n",
        "Syntax for a function with non-keyword variable arguments is this −\n",
        "\n",
        "```py\n",
        "def functionname(args, *var_args_tuple ):\n",
        "   '''function_docstring'''\n",
        "   function_suite\n",
        "   return [expression]\n",
        "```\n",
        "\n",
        "An asterisk (`*`) is placed before the variable name that holds the values of all nonkeyword variable arguments. All variable values in an asterisk, will be saved into a `tuple`. This `tuple` remains empty if no additional arguments are specified during the function call. The code below is a simple example."
      ]
    },
    {
      "cell_type": "code",
      "metadata": {
        "id": "e35VRFNfwYBt",
        "colab": {
          "base_uri": "https://localhost:8080/"
        },
        "outputId": "1f0d37f9-1e46-466b-aca1-70aeb0d88edb"
      },
      "source": [
        "# Function definition is here\n",
        "def printinfo( arg1, *vartuple ):\n",
        "# def printinfo(arg1, arg2, arg3, arg4):\n",
        "   '''This prints a variable passed arguments'''\n",
        "   print('arg1     : ', arg1)\n",
        "   print('vartuple : ', vartuple)\n",
        "   print('')\n",
        "\n",
        "   for var in vartuple:\n",
        "      print('isi vartuple : ', var)\n",
        "\n",
        "# Now you can call printinfo function\n",
        "printinfo( 10 )\n",
        "printinfo( 70, 60, 50, \"a\" )"
      ],
      "execution_count": null,
      "outputs": [
        {
          "output_type": "stream",
          "name": "stdout",
          "text": [
            "arg1     :  10\n",
            "vartuple :  ()\n",
            "\n",
            "arg1     :  70\n",
            "vartuple :  (60, 50, 'a')\n",
            "\n",
            "isi vartuple :  60\n",
            "isi vartuple :  50\n",
            "isi vartuple :  a\n"
          ]
        }
      ]
    },
    {
      "cell_type": "markdown",
      "metadata": {
        "id": "uXFZYCxKZIai"
      },
      "source": [
        "Variable-length Argument have two types.\n",
        "\n",
        "* `*` : All nonkeyword variables will be saved in a `tuple`.\n",
        "```py\n",
        "def functionname(args, *var_args_tuple ):\n",
        "   '''function_docstring'''\n",
        "   function_suite\n",
        "   return [expression]\n",
        "```\n",
        "\n",
        "* `**` : All nonkeyword variables will be saved in a `dict`.\n",
        "```py\n",
        "def functionname(args, **var_args_dict ):\n",
        "   '''function_docstring'''\n",
        "   function_suite\n",
        "   return [expression]\n",
        "```"
      ]
    },
    {
      "cell_type": "code",
      "metadata": {
        "colab": {
          "base_uri": "https://localhost:8080/"
        },
        "id": "ZSeg_P5__Mth",
        "outputId": "b3e96ffd-b509-40b6-b902-dd23c0aaaa2f"
      },
      "source": [
        "# Create a function with nonkeyword variables\n",
        "\n",
        "def person_car(total_data, **kwargs):\n",
        "  '''Create a function to print who owns what car'''\n",
        "  print('Total Data : ', total_data)\n",
        "  for key, value in kwargs.items():\n",
        "    print('Person : ', key)\n",
        "    print('Car    : ', value)\n",
        "    print('')\n",
        "\n",
        "person_car(3, jimmy='chevrolet', frank='ford', tina='honda')\n",
        "person_car(3)\n",
        "\n",
        "# Parameters (jimmy='chevrolet', frank='ford', tina='honda') will be equal to\n",
        "# kwargs = {\n",
        "#     'jimmy': 'chevrolet',\n",
        "#     'frank': 'ford',\n",
        "#     'tina': 'honda'\n",
        "# }"
      ],
      "execution_count": null,
      "outputs": [
        {
          "output_type": "stream",
          "name": "stdout",
          "text": [
            "Total Data :  3\n",
            "Person :  jimmy\n",
            "Car    :  chevrolet\n",
            "\n",
            "Person :  frank\n",
            "Car    :  ford\n",
            "\n",
            "Person :  tina\n",
            "Car    :  honda\n",
            "\n",
            "Total Data :  3\n"
          ]
        }
      ]
    },
    {
      "cell_type": "markdown",
      "metadata": {
        "id": "C72AESjfwYBv"
      },
      "source": [
        "### The Anonymous Functions\n",
        "\n",
        "These functions are called anonymous because they are not declared in the standard manner by using the `def` keyword. You can use the `lambda` keyword to create small anonymous functions.\n",
        "\n",
        "- `lambda` forms can take any number of arguments but return just one value in the form of an expression. They cannot contain commands or multiple expressions.\n",
        "- An anonymous function cannot be a direct call to `print` because `lambda` requires an expression\n",
        "- `lambda` functions have their own local namespace and cannot access variables other than those in their parameter list and those in the global namespace.\n",
        "\n",
        "The syntax of `lambda` functions contains only a single statement, which is as follows −\n",
        "\n",
        "`lambda [arg1 [,arg2,.....argn]]:expression`\n",
        "\n",
        "The code below is the example to show how `lambda` form of function works."
      ]
    },
    {
      "cell_type": "code",
      "metadata": {
        "id": "V1K6SPtKwYBx",
        "colab": {
          "base_uri": "https://localhost:8080/"
        },
        "outputId": "3def5224-a086-4d77-8fcc-7b19999f087d"
      },
      "source": [
        "# Function definition is here\n",
        "sum = lambda arg1, arg2: arg1 + arg2\n",
        "\n",
        "# That lambda function will be equal to :\n",
        "# def sum(arg1, arg2):\n",
        "#     return arg1+arg2\n",
        "\n",
        "# Now you can call sum as a function\n",
        "print(\"Value of total : \", sum( 10, 20 ))\n",
        "print(\"Value of total : \", sum( 20, 20 ))"
      ],
      "execution_count": null,
      "outputs": [
        {
          "output_type": "stream",
          "name": "stdout",
          "text": [
            "Value of total :  30\n",
            "Value of total :  40\n"
          ]
        }
      ]
    },
    {
      "cell_type": "markdown",
      "metadata": {
        "id": "tR0HAVaXwYBy"
      },
      "source": [
        "### The `return` Statement\n",
        "\n",
        "The statement `return [expression]` exits a function, optionally passing back an `expression` to the caller. A `return` statement with no arguments is the same as `return None`.\n",
        "\n",
        "All the above examples are not returning any value. You can return a value from a function as follows."
      ]
    },
    {
      "cell_type": "code",
      "metadata": {
        "id": "OVO-ksiqwYBz",
        "colab": {
          "base_uri": "https://localhost:8080/"
        },
        "outputId": "3141ef4c-24e7-4af9-f7ef-70dddc61c6ae"
      },
      "source": [
        "# Function definition is here\n",
        "def sum(arg1, arg2):\n",
        "    # Add both the parameters and return them.\"\n",
        "    total = arg1 + arg2\n",
        "    return total\n",
        "\n",
        "# Now you can call sum function\n",
        "total = sum(10, 20)\n",
        "print(\"Result function : \", total)"
      ],
      "execution_count": null,
      "outputs": [
        {
          "output_type": "stream",
          "name": "stdout",
          "text": [
            "Result function :  30\n"
          ]
        }
      ]
    },
    {
      "cell_type": "markdown",
      "metadata": {
        "id": "ngA2KhwbwYB0"
      },
      "source": [
        "### Scope of Variables\n",
        "\n",
        "All variables in a program may not be accessible at all locations in that program. This depends on where you have declared a variable.\n",
        "\n",
        "The scope of a variable determines the portion of the program where you can access a particular identifier. There are two basic scopes of variables in Python\n",
        "\n",
        "- Global variables\n",
        "- Local variables\n",
        "\n",
        "**Global vs. Local variables**\n",
        "\n",
        "Variables that are defined inside a function body have a local scope, and those defined outside have a global scope.\n",
        "\n",
        "This means that local variables can be accessed only inside the function in which they are declared, whereas global variables can be accessed throughout the program body by all functions. When you call a function, the variables declared inside it are brought into scope."
      ]
    },
    {
      "cell_type": "code",
      "metadata": {
        "id": "kWpz91yDwYB2",
        "colab": {
          "base_uri": "https://localhost:8080/"
        },
        "outputId": "357cc3d2-f035-4d91-dffe-49805bea82ce"
      },
      "source": [
        "# Declare a global variable\n",
        "total = 0\n",
        "\n",
        "# Create sum function\n",
        "def sum( arg1, arg2 ):\n",
        "   total = arg1 + arg2;\n",
        "   print(\"Inside the function local total   : \", total)\n",
        "\n",
        "# Call a function\n",
        "sum( 10, 20 )\n",
        "print(\"Outside the function global total : \", total)"
      ],
      "execution_count": null,
      "outputs": [
        {
          "output_type": "stream",
          "name": "stdout",
          "text": [
            "Inside the function local total   :  30\n",
            "Outside the function global total :  0\n"
          ]
        }
      ]
    },
    {
      "cell_type": "markdown",
      "metadata": {
        "id": "Xs7_QwE7jJJl"
      },
      "source": [
        "Let's check effect of `return` statement to the above code and pass it into the same-name variable. We will see that variable `total` has changed in global scope."
      ]
    },
    {
      "cell_type": "code",
      "metadata": {
        "colab": {
          "base_uri": "https://localhost:8080/"
        },
        "id": "taVGIsPojY90",
        "outputId": "eb317c85-7aa8-4e01-b90d-82c5ce0c9cb4"
      },
      "source": [
        "# Declare a global variable\n",
        "total = 0\n",
        "\n",
        "# Create sum function\n",
        "def sum( arg1, arg2 ):\n",
        "   total = arg1 + arg2;\n",
        "   print(\"Inside the function local total   : \", total)\n",
        "   return total\n",
        "\n",
        "# Call a function\n",
        "print(\"Outside the function global total - before : \", total)\n",
        "total = sum( 10, 20 )\n",
        "print(\"Outside the function global total - after  : \", total)"
      ],
      "execution_count": null,
      "outputs": [
        {
          "output_type": "stream",
          "name": "stdout",
          "text": [
            "Outside the function global total - before :  0\n",
            "Inside the function local total   :  30\n",
            "Outside the function global total - after  :  30\n"
          ]
        }
      ]
    },
    {
      "cell_type": "markdown",
      "metadata": {
        "id": "PYrBRpiwj30j"
      },
      "source": [
        "### Docstring\n",
        "\n",
        "A docstring is a string literal that occurs as the first statement in a module, function, class, or method definition. Such a docstring becomes the `__doc__` special attribute of that object.\n",
        "\n",
        "All modules should normally have docstrings, and all functions and classes exported by a module should also have docstrings.\n",
        "\n",
        "For consistency, always use '''triple single quotes''' or \"\"\"triple double-quotes\"\"\" around docstrings.\n",
        "\n",
        "There is no strict rules how to write the docstring. You can write the docstring as you like. For clear explanation, Docstring usually contains 3 parts :\n",
        "* Aims of a module, function, class, or method.\n",
        "* Description of input parameter with their types.\n",
        "* Description of output parameter (only if return something)."
      ]
    },
    {
      "cell_type": "code",
      "metadata": {
        "id": "8XPckCkhx_2p"
      },
      "source": [
        "# Example of docstring in a function\n",
        "\n",
        "def sum_number(num1, num2):\n",
        "  '''\n",
        "  This function is used to sum of 2 variables.\n",
        "  :param num1: Input number 1 | int or float\n",
        "  :param num2: Input number 2 | int or float\n",
        "\n",
        "  :return: num3: Sum of number | int or float\n",
        "  '''\n",
        "\n",
        "  num3 = num1 + num2\n",
        "  return num3"
      ],
      "execution_count": null,
      "outputs": []
    },
    {
      "cell_type": "code",
      "metadata": {
        "colab": {
          "base_uri": "https://localhost:8080/"
        },
        "id": "WECZpLi4lSsh",
        "outputId": "4c73561c-b09a-427a-ace2-ce57c77021cd"
      },
      "source": [
        "# Syntax to get explanation/docstring from a particular module/function/class\n",
        "\n",
        "print(sum_number.__doc__)"
      ],
      "execution_count": null,
      "outputs": [
        {
          "output_type": "stream",
          "name": "stdout",
          "text": [
            "\n",
            "  This function is used to sum of 2 variables.\n",
            "  :param num1: Input number 1 | int or float\n",
            "  :param num2: Input number 2 | int or float\n",
            "  \n",
            "  :return: num3: Sum of number | int or float\n",
            "  \n"
          ]
        }
      ]
    },
    {
      "cell_type": "markdown",
      "metadata": {
        "id": "rLNvEbcBqqcJ"
      },
      "source": []
    },
    {
      "cell_type": "markdown",
      "metadata": {
        "id": "SZD-J1k_uuja"
      },
      "source": [
        "# Module & Packages\n",
        "\n",
        "This sections explores Python modules and Python packages, two mechanisms that facilitate modular programming.\n",
        "\n",
        "Modular programming refers to the process of breaking a large, unwieldy programming task into separate, smaller, more manageable subtasks or modules. Individual modules can then be cobbled together like building blocks to create a larger application.\n",
        "\n",
        "There are several advantages to modularizing code in a large application:\n",
        "\n",
        "- **Simplicity**: Rather than focusing on the entire problem at hand, a module typically focuses on **one relatively small portion of the problem**. If you’re working on a single module, you’ll have a smaller problem domain to wrap your head around. This makes development easier and less error-prone.\n",
        "\n",
        "- **Maintainability**: Modules are typically designed so that they enforce logical boundaries between different problem domains. If modules are written in a way that minimizes interdependency, there is decreased likelihood that modifications to a single module will have an impact on other parts of the program. **(You may even be able to make changes to a module without having any knowledge of the application outside that module.)** This makes it more viable for a team of many programmers to work collaboratively on a large application.\n",
        "\n",
        "- **Reusability**: Functionality defined in a single module can be easily reused (through an appropriately defined interface) by other parts of the application. **This eliminates the need to recreate duplicate code.**\n",
        "\n",
        "- **Scoping**: Modules typically define a separate namespace, which helps **avoid collisions** between identifiers in different areas of a program."
      ]
    },
    {
      "cell_type": "markdown",
      "metadata": {
        "id": "XAJklZOkuujb"
      },
      "source": [
        "## Python Modules: Overview\n",
        "There are actually three different ways to define a module in Python:\n",
        "\n",
        "- A module can be written in Python itself such as `Scrapy`,  `Scikit-Learn`.\n",
        "- A module can be written in C and loaded dynamically at run-time, like the `re` (regular expression) module.\n",
        "- A built-in module is intrinsically contained in the interpreter, like the `time`, `os`, `sys` modules.\n",
        "\n",
        "A module’s contents are accessed the same way in all three cases: with the `import` statement.\n",
        "\n",
        "Here, the focus will mostly be on modules that are written in Python. The cool thing about modules written in Python is that they are exceedingly straightforward to build. All you need to do is create a file that contains legitimate Python code and then give the file a name with a `.py` extension. That’s it! No special syntax or voodoo is necessary.\n",
        "\n",
        "For example, suppose you have created a file called `person.py` containing the code below :"
      ]
    },
    {
      "cell_type": "code",
      "metadata": {
        "id": "Gej3PYX1uujb"
      },
      "source": [
        "name = 'zack'\n",
        "devices = ['laptop', 'smartphone', 'tablet']\n",
        "\n",
        "def display(arg):\n",
        "    print(f'arg = {arg}')"
      ],
      "execution_count": null,
      "outputs": []
    },
    {
      "cell_type": "markdown",
      "metadata": {
        "id": "KQzJ6D66uujc"
      },
      "source": [
        "Several objects are defined in person.py:\n",
        "\n",
        "- `name` (a string)\n",
        "- `devices` (a list)\n",
        "- `display()` (a function)\n",
        "\n",
        "Assuming `person.py` is in an appropriate location, which you will learn more about shortly, these objects can be accessed by importing the module as follows :\n",
        "\n",
        "```console\n",
        ">>> import person\n",
        ">>> print(person.name)\n",
        "zack\n",
        ">>> mod.devices\n",
        "['laptop', 'smartphone', 'tablet']\n",
        ">>> mod.display('Good Morning !')\n",
        "arg = 'Good Morning !'\n",
        "```"
      ]
    },
    {
      "cell_type": "code",
      "metadata": {
        "colab": {
          "base_uri": "https://localhost:8080/"
        },
        "id": "eNtn_EU0xiei",
        "outputId": "69030118-660d-46ac-d114-ea2689be8c03"
      },
      "source": [
        "import person\n",
        "print(person.name)"
      ],
      "execution_count": null,
      "outputs": [
        {
          "output_type": "stream",
          "name": "stdout",
          "text": [
            "zack\n"
          ]
        }
      ]
    },
    {
      "cell_type": "markdown",
      "metadata": {
        "id": "UB-GSCaxuujc"
      },
      "source": [
        "## The Module Search Path\n",
        "\n",
        "Continuing with the above example, let’s take a look at what happens when Python executes the statement:\n",
        "\n",
        "`import person`\n",
        "\n",
        "When the interpreter executes the above `import` statement, it searches for `person.py` in a list of directories assembled from the following sources :\n",
        "\n",
        "- The directory from which the input script was run or **the current directory** if the interpreter is being run interactively.\n",
        "- The list of directories contained in the **PYTHONPATH** environment variable, if it is set. (The format for PYTHONPATH is OS-dependent but should mimic the PATH environment variable.)\n",
        "\n",
        "The resulting search path is accessible in the Python variable `sys.path`, which is obtained from a module named `sys`:\n",
        "\n",
        "```console\n",
        ">>> import sys\n",
        ">>> sys.path\n",
        "\n",
        "['', '/usr/local/anaconda3/lib/python37.zip', '/usr/local/anaconda3/lib/python3.7', '/usr/local/anaconda3/lib/python3.7/lib-dynload', '/usr/local/anaconda3/lib/python3.7/site-packages', '/usr/local/anaconda3/lib/python3.7/site-packages/aeosa']\n",
        "```"
      ]
    },
    {
      "cell_type": "code",
      "metadata": {
        "colab": {
          "base_uri": "https://localhost:8080/"
        },
        "id": "Sc_s1L53zNJ7",
        "outputId": "163315ab-f481-4f05-b5fe-e893db60edb8"
      },
      "source": [
        "# If you are using Google Collaboratory, you will find similar results\n",
        "\n",
        "import sys\n",
        "print(sys.path)"
      ],
      "execution_count": null,
      "outputs": [
        {
          "output_type": "stream",
          "name": "stdout",
          "text": [
            "['', '/content', '/env/python', '/usr/lib/python37.zip', '/usr/lib/python3.7', '/usr/lib/python3.7/lib-dynload', '/usr/local/lib/python3.7/dist-packages', '/usr/lib/python3/dist-packages', '/usr/local/lib/python3.7/dist-packages/IPython/extensions', '/root/.ipython']\n"
          ]
        }
      ]
    },
    {
      "cell_type": "markdown",
      "metadata": {
        "id": "oDfFCTMRuujd"
      },
      "source": [
        "Thus, to ensure your module is found, you need to do one of the following:\n",
        "\n",
        "- Put `person.py` in the directory where the input script is located or **the current directory**, if interactive.\n",
        "- **Modify the PYTHONPATH** environment variable to contain the directory where `person.py` is located before starting the interpreter\n",
        "- Put `person.py` in one of **the directories already contained in the PYTHONPATH** variable\n",
        "\n",
        "There is actually one additional option : you can put the module file in any directory of your choice and then modify `sys.path` at run-time so that it contains that directory. For example, in this case, your current directory is at `/Users/ardhiraka/`. You could put `person.py` in directory `/Users/ardhiraka/Desktop/H8Py` and then issue the following statements :\n",
        "\n",
        "```console\n",
        ">>> sys.path.append(r'/Users/ardhiraka/Desktop/H8Py')\n",
        ">>> sys.path\n",
        "\n",
        "['', '/usr/local/anaconda3/lib/python37.zip', '/usr/local/anaconda3/lib/python3.7', '/usr/local/anaconda3/lib/python3.7/lib-dynload', '/usr/local/anaconda3/lib/python3.7/site-packages', '/usr/local/anaconda3/lib/python3.7/site-packages/aeosa', '/usr/local/', '/Users/ardhiraka/Desktop/H8Py']\n",
        "\n",
        "import person\n",
        "```\n"
      ]
    },
    {
      "cell_type": "markdown",
      "metadata": {
        "id": "b0bUuiKDuuje"
      },
      "source": [
        "Once a module has been imported, you can determine the location where it was found with the module’s `__file__` attribute:\n",
        "\n",
        "```console\n",
        ">>> import mod\n",
        ">>> mod.__file__\n",
        "'/Users/ardhiraka/Desktop/H8Py'\n",
        "\n",
        ">>> import re\n",
        ">>> re.__file__\n",
        "'/usr/local/anaconda3/lib/python3.7/re.py'\n",
        "```\n",
        "\n",
        "The directory portion of `__file__` should be one of the directories in `sys.path`."
      ]
    },
    {
      "cell_type": "markdown",
      "metadata": {
        "id": "X8bLWGYu-hr-"
      },
      "source": [
        "## The import Statement"
      ]
    },
    {
      "cell_type": "markdown",
      "metadata": {
        "id": "shXlikKbuujf"
      },
      "source": [
        "### Default Syntax\n",
        "\n",
        "Module contents are made available to the caller with the `import` statement. The `import` statement takes many different forms, shown below.\n",
        "\n",
        "> `import <module_name>`\n",
        "\n",
        "Note, that this does not make the module contents directly accessible to the caller. Each module has its own private symbol table, which serves as the global symbol table for all objects defined in the module. Thus, a module creates a separate namespace, as already noted.\n",
        "\n",
        "The statement import `<module_name>` only places `<module_name>` in the caller’s symbol table. The objects that are defined in the module remain in the module’s private symbol table.\n",
        "\n",
        "From the caller, objects in the module are only accessible when prefixed with `<module_name>` via dot notation (`.`), as illustrated below.\n",
        "\n",
        "After the following import statement, `person` is placed into the local symbol table. Thus, `person` has meaning in the caller’s local context:\n",
        "\n",
        "```console\n",
        ">>> import person\n",
        ">>> person\n",
        "<module 'person' from '/Users/ardhiraka/Desktop/H8Py'>\n",
        "```\n",
        "\n",
        "But `name` and `devices` remain in the module’s private symbol table and are not meaningful in the local context:\n",
        "\n",
        "```console\n",
        ">>> name\n",
        "NameError: name 'name' is not defined\n",
        ">>> display('Good Morning')\n",
        "NameError: name 'display' is not defined\n",
        "```\n",
        "\n",
        "To be accessed in the local context, names of objects defined in the module must be prefixed by `person` :\n",
        "\n",
        "```console\n",
        ">>> person.name\n",
        "'zack'\n",
        ">>> person.display('Good Morning')\n",
        "arg = Good Morning\n",
        "```\n",
        "\n",
        "Several comma-separated modules may be specified in a single import statement :\n",
        "\n",
        "`import <module_name_1>, <module_name_2>, <module_name_3>`\n",
        "\n",
        "---\n"
      ]
    },
    {
      "cell_type": "markdown",
      "metadata": {
        "id": "TiXhEr3Q-xlM"
      },
      "source": [
        "### from \\<module_name> import \\<something>\n",
        "\n",
        "An alternate form of the `import` statement allows individual objects from the module to be imported directly into the caller’s symbol table :\n",
        "\n",
        "> `from <module_name> import <something>`\n",
        "\n",
        "Following execution of the above statement, `<something>` can be referenced in the caller’s environment without the `<module_name>` prefix:\n",
        "\n",
        "```console\n",
        ">>> from person import name, display\n",
        ">>> name\n",
        "'zack'\n",
        ">>> display('Good Morning')\n",
        "arg = Good Morning\n",
        "```\n",
        "\n",
        "Because this form of `import` places the object names directly into the caller’s symbol table, any objects that already exist with the same name will be overwritten:\n",
        "\n",
        "```console\n",
        ">>> devices = ['speaker', 'keyboard']\n",
        ">>> devices\n",
        "['speaker', 'keyboard']\n",
        "\n",
        ">>> from person import devices\n",
        ">>> devices\n",
        "['laptop', 'smartphone', 'tablet']\n",
        "```\n",
        "\n",
        "It is even possible to indiscriminately `import` everything from a module at one fell swoop:\n",
        "\n",
        "`from <module_name> import *`\n",
        "\n",
        "This will place the names of all objects from `<module_name>` into the local symbol table.\n",
        "\n",
        "For example :\n",
        "\n",
        "```console\n",
        ">>> from person import *\n",
        ">>> name\n",
        "'zack'\n",
        ">>> devices\n",
        "['laptop', 'smartphone', 'tablet']\n",
        ">>> display('Good Morning')\n",
        "arg = Good Morning\n",
        "```\n",
        "\n",
        "This is **not recommended** in large-scale production code. It’s a bit dangerous because you are entering names into the local symbol table. Unless you know them all well and can be confident there won’t be a conflict, you have a decent chance of overwriting an existing name inadvertently. However, this syntax is quite handy when you are just mucking around with the interactive interpreter, for testing or discovery purposes, because it quickly gives you access to everything a module has to offer without a lot of typing.\n",
        "\n",
        "---"
      ]
    },
    {
      "cell_type": "markdown",
      "metadata": {
        "id": "uOz-pXSe_5dR"
      },
      "source": [
        "### from \\<module_name> import \\<something> as \\<alt_name>\n",
        "    \n",
        "It is also possible to import individual objects but enter them into the local symbol table with alternate names :\n",
        "\n",
        "> `from <module_name> import <something> as <alt_name>`\n",
        "\n",
        "This makes it possible to place names directly into the local symbol table but avoid conflicts with previously existing names :\n",
        "\n",
        "```console\n",
        ">>> name = 'alex'\n",
        ">>> devices = ['tv', 'ac', 'speaker']\n",
        "\n",
        ">>> from person import name as p_name, devices as p_devices\n",
        ">>> name\n",
        "'alex'\n",
        ">>> p_name\n",
        "'zack'\n",
        ">>> devices\n",
        "['tv', 'ac', 'speaker']\n",
        ">>> p_devices\n",
        "['laptop', 'smartphone', 'tablet']\n",
        "```\n",
        "---"
      ]
    },
    {
      "cell_type": "markdown",
      "metadata": {
        "id": "OCUv3-CYA5PH"
      },
      "source": [
        "### import \\<module_name> as \\<alt_name>\n",
        "\n",
        "You can also import an entire module under an alternate name:\n",
        "\n",
        "`import <module_name> as <alt_name>`\n",
        "\n",
        "```console\n",
        ">>> import person as my_person\n",
        ">>> my_person.name\n",
        "'zack'\n",
        ">>> my_module.display('Good Morning')\n",
        "arg = Good Morning\n",
        "```\n",
        "\n",
        "Module contents can be imported from within a function definition. In that case, the `import` does not occur until the function is called :\n",
        "\n",
        "```console\n",
        ">>> def greetings():\n",
        "...     from person import display\n",
        "...     display('Good Morning')\n",
        "...\n",
        "\n",
        ">>> greetings()\n",
        "arg = Good Morning\n",
        "```\n",
        "\n",
        "However, **Python 3 does not allow** the indiscriminate `import *` syntax from within a function:\n",
        "\n",
        "```console\n",
        ">>> def greetings():\n",
        "...     from person import *\n",
        "...     display('Good Morning')\n",
        "...\n",
        "SyntaxError: import * only allowed at module level\n",
        "```"
      ]
    },
    {
      "cell_type": "code",
      "metadata": {
        "id": "6KCByc1zBpvx"
      },
      "source": [
        "# # This code will get error\n",
        "\n",
        "# def greetings():\n",
        "#   from person import *\n",
        "#   display('Good Morning')\n",
        "\n",
        "# greetings()"
      ],
      "execution_count": null,
      "outputs": []
    },
    {
      "cell_type": "code",
      "metadata": {
        "colab": {
          "base_uri": "https://localhost:8080/"
        },
        "id": "qJ8SnTNQDLYP",
        "outputId": "0d251c02-166c-477e-f2cf-b86361ed9d30"
      },
      "source": [
        "import person\n",
        "dir(person)"
      ],
      "execution_count": null,
      "outputs": [
        {
          "output_type": "execute_result",
          "data": {
            "text/plain": [
              "['__builtins__',\n",
              " '__cached__',\n",
              " '__doc__',\n",
              " '__file__',\n",
              " '__loader__',\n",
              " '__name__',\n",
              " '__package__',\n",
              " '__spec__',\n",
              " 'devices',\n",
              " 'display',\n",
              " 'name']"
            ]
          },
          "metadata": {},
          "execution_count": 7
        }
      ]
    },
    {
      "cell_type": "markdown",
      "metadata": {
        "id": "hja11LRNuujg"
      },
      "source": [
        "## The `dir()` Function\n",
        "\n",
        "The built-in function `dir()` returns a list of defined names in a namespace. Without arguments, it produces an alphabetically sorted list of names in the current local symbol table:\n",
        "\n",
        "```console\n",
        ">>> dir()\n",
        "['__annotations__', '__builtins__', '__doc__', '__loader__', '__name__', '__package__', '__spec__']\n",
        "\n",
        ">>> mylist = [1, 2, 3, 4, 5]\n",
        ">>> dir()\n",
        "['__annotations__', '__builtins__', '__doc__', '__loader__', '__name__',\n",
        "'__package__', '__spec__', 'mylist']\n",
        "\n",
        ">>> color = 'red'\n",
        ">>> dir()\n",
        "['Bar', '__annotations__', '__builtins__', '__doc__', '__loader__', '__name__',\n",
        "'__package__', '__spec__', 'mylist', 'color']\n",
        "```\n",
        "\n",
        "Note how the first call to `dir()` above lists several names that are automatically defined and already in the namespace when the interpreter starts. As new variables are defined (`mylist` and `color`), they appear on subsequent invocations of `dir()`.\n",
        "\n",
        "---\n",
        "\n",
        "This can be useful for identifying what exactly has been added to the namespace by an `import` statement:\n",
        "\n",
        "```console\n",
        ">>> dir()\n",
        "['__annotations__', '__builtins__', '__doc__', '__loader__', '__name__',\n",
        "'__package__', '__spec__']\n",
        "\n",
        ">>> import person\n",
        ">>> dir(person)\n",
        "['__builtins__', '__cached__', '__doc__', '__file__', '__loader__', '__name__', '__package__', '__spec__', 'devices', 'display', 'name']\n",
        "```\n",
        "\n",
        "---\n",
        "\n",
        "When given an argument that is the name of a variable, dir() lists the built-in functions for that particular variable. See the code below."
      ]
    },
    {
      "cell_type": "code",
      "metadata": {
        "colab": {
          "base_uri": "https://localhost:8080/"
        },
        "id": "lycLKadMFJjy",
        "outputId": "94e7d979-b4a6-4090-f715-0ed1f75328fb"
      },
      "source": [
        "from person import name, devices\n",
        "dir(name)"
      ],
      "execution_count": null,
      "outputs": [
        {
          "output_type": "execute_result",
          "data": {
            "text/plain": [
              "['__add__',\n",
              " '__class__',\n",
              " '__contains__',\n",
              " '__delattr__',\n",
              " '__dir__',\n",
              " '__doc__',\n",
              " '__eq__',\n",
              " '__format__',\n",
              " '__ge__',\n",
              " '__getattribute__',\n",
              " '__getitem__',\n",
              " '__getnewargs__',\n",
              " '__gt__',\n",
              " '__hash__',\n",
              " '__init__',\n",
              " '__init_subclass__',\n",
              " '__iter__',\n",
              " '__le__',\n",
              " '__len__',\n",
              " '__lt__',\n",
              " '__mod__',\n",
              " '__mul__',\n",
              " '__ne__',\n",
              " '__new__',\n",
              " '__reduce__',\n",
              " '__reduce_ex__',\n",
              " '__repr__',\n",
              " '__rmod__',\n",
              " '__rmul__',\n",
              " '__setattr__',\n",
              " '__sizeof__',\n",
              " '__str__',\n",
              " '__subclasshook__',\n",
              " 'capitalize',\n",
              " 'casefold',\n",
              " 'center',\n",
              " 'count',\n",
              " 'encode',\n",
              " 'endswith',\n",
              " 'expandtabs',\n",
              " 'find',\n",
              " 'format',\n",
              " 'format_map',\n",
              " 'index',\n",
              " 'isalnum',\n",
              " 'isalpha',\n",
              " 'isascii',\n",
              " 'isdecimal',\n",
              " 'isdigit',\n",
              " 'isidentifier',\n",
              " 'islower',\n",
              " 'isnumeric',\n",
              " 'isprintable',\n",
              " 'isspace',\n",
              " 'istitle',\n",
              " 'isupper',\n",
              " 'join',\n",
              " 'ljust',\n",
              " 'lower',\n",
              " 'lstrip',\n",
              " 'maketrans',\n",
              " 'partition',\n",
              " 'replace',\n",
              " 'rfind',\n",
              " 'rindex',\n",
              " 'rjust',\n",
              " 'rpartition',\n",
              " 'rsplit',\n",
              " 'rstrip',\n",
              " 'split',\n",
              " 'splitlines',\n",
              " 'startswith',\n",
              " 'strip',\n",
              " 'swapcase',\n",
              " 'title',\n",
              " 'translate',\n",
              " 'upper',\n",
              " 'zfill']"
            ]
          },
          "metadata": {},
          "execution_count": 8
        }
      ]
    },
    {
      "cell_type": "markdown",
      "metadata": {
        "id": "FxXYBVv6uujh"
      },
      "source": [
        "## Executing a Module as a Script\n",
        "\n",
        "Any `.py` file that contains a module is essentially also a Python script, and there isn’t any reason it can’t be executed like one.\n",
        "\n",
        "Here again is `person.py` as it was defined above :\n",
        "```py\n",
        "name = 'zack'\n",
        "devices = ['laptop', 'smartphone', 'tablet']\n",
        "\n",
        "def display(arg):\n",
        "    print(f'arg = {arg}')\n",
        "```\n",
        "\n",
        "This can be run as a script:\n",
        "\n",
        "```console\n",
        "(base) ardhiraka@rakas-Macbook-Very-Pro ~ %python person.py\n",
        "(base) ardhiraka@rakas-Macbook-Very-Pro ~ %\n",
        "```\n",
        "\n",
        "There are no errors, so it apparently worked. Granted, it’s not very interesting. As it is written, it only defines objects. It doesn’t do anything with them, and it doesn’t generate any output.\n",
        "\n",
        "---\n",
        "\n",
        "Let’s modify the above Python module so it does generate some output when run as a script :\n",
        "\n",
        "`person2.py`\n",
        "```py\n",
        "name = 'zack'\n",
        "devices = ['laptop', 'smartphone', 'tablet']\n",
        "\n",
        "def display(arg):\n",
        "    print(f'arg = {arg}')\n",
        "\n",
        "print(name)\n",
        "print(devices)\n",
        "print(display('Good Morning')\n",
        "```\n",
        "\n",
        "Now it should be a little more interesting:\n",
        "\n",
        "```console\n",
        "(base) ardhiraka@rakas-Macbook-Very-Pro ~ % person2.py\n",
        "zack\n",
        "['laptop', 'smartphone', 'tablet']\n",
        "arg = Good Morning\n",
        "```\n",
        "\n",
        "---\n",
        "\n",
        "Unfortunately, now it also generates output when imported as a module:\n",
        "\n",
        "```console\n",
        ">>> import person2\n",
        "zack\n",
        "['laptop', 'smartphone', 'tablet']\n",
        "arg = Good Morning\n",
        "```\n",
        "\n",
        "This is probably not what you want. It isn’t usual for a module to generate output when it is imported.\n",
        "\n",
        "---\n",
        "\n",
        "Wouldn’t it be nice if you could distinguish between when the file is loaded as a module and when it is run as a standalone script ?\n",
        "\n",
        "When a `.py` file is imported as a module, Python sets the special dunder variable `__name__` to the name of the module. However, if a file is run as a standalone script, `__name__` is (creatively) set to the string `'__main__'`. Using this fact, you can discern which is the case at run-time and alter behavior accordingly :\n",
        "\n",
        "`person3.py`\n",
        "\n",
        "```py\n",
        "name = 'zack'\n",
        "devices = ['laptop', 'smartphone', 'tablet']\n",
        "\n",
        "def display(arg):\n",
        "    print(f'arg = {arg}')\n",
        "\n",
        "if (__name__ == '__main__'):\n",
        "  print('Executing as standalone script')\n",
        "  print(name)\n",
        "  print(devices)\n",
        "  print(display('Good Morning'))\n",
        "```\n",
        "\n",
        "Now, if you run as a script, you get output :\n",
        "\n",
        "```console\n",
        "(base) ardhiraka@rakas-Macbook-Very-Pro ~ % python person.py\n",
        "Executing as standalone script\n",
        "zack\n",
        "['laptop', 'smartphone', 'tablet']\n",
        "arg = Good Morning\n",
        "```\n",
        "\n",
        "But if you import as a module, you don’t get same output like code above :\n",
        "\n",
        "```console\n",
        ">>> import person3\n",
        ">>> person3.display('Good Morning')\n",
        "arg = Good Morning\n",
        "```"
      ]
    },
    {
      "cell_type": "markdown",
      "metadata": {
        "id": "VL0CBDnCuujh"
      },
      "source": [
        "### Reloading a Module\n",
        "\n",
        "For reasons of efficiency, **a module is only loaded once per interpreter session**. That is fine for function and class definitions, which typically make up the bulk of a module’s contents. But a module can contain executable statements as well, usually for initialization. Be aware that these statements will only be executed the first time a module is imported.\n",
        "\n",
        "Consider the following file `car.py`:\n",
        "\n",
        "```py\n",
        "brands = ['honda', 'toyota', 'ford']\n",
        "print('brands = ', brands)\n",
        "```\n",
        "\n",
        "```console\n",
        ">>> import car\n",
        "brands = ['honda', 'toyota', 'ford']\n",
        ">>> import car\n",
        ">>> import car\n",
        "\n",
        ">>> car.brands\n",
        "brands = ['honda', 'toyota', 'ford']\n",
        "```\n",
        "\n",
        "The `print()` statement is not executed on subsequent imports. (For that matter, neither is the assignment statement, but as the final display of the value of `car.brands` shows, that doesn’t matter. Once the assignment is made, it sticks.)\n",
        "\n",
        "If you make a change to a module and need to reload it, you need to either restart the interpreter or use a function called `reload()` from module `importlib`:\n",
        "\n",
        "```console\n",
        ">>> import car\n",
        "brands = ['honda', 'toyota', 'ford']\n",
        "\n",
        ">>> import car\n",
        "\n",
        ">>> import importlib\n",
        ">>> importlib.reload(car)\n",
        "brands = ['honda', 'toyota', 'ford']\n",
        "<module 'car' from '/Users/ardhiraka/Desktop/H8Py/car.py'>\n",
        "```\n"
      ]
    },
    {
      "cell_type": "code",
      "metadata": {
        "id": "2ACA0smpKJmA"
      },
      "source": [
        "import car\n",
        "import importlib\n",
        "importlib.reload(car)"
      ],
      "execution_count": null,
      "outputs": []
    },
    {
      "cell_type": "markdown",
      "metadata": {
        "id": "6bvAKWo-uuji"
      },
      "source": [
        "## Python Packages\n",
        "\n",
        "Suppose you have developed a very large application that includes many modules. As the number of modules grows, it becomes difficult to keep track all of them if they are dumped into one location. This is particularly so if they have similar names or functionality. You might wish for a means of **grouping and organizing** them.\n",
        "\n",
        "Packages allow for a hierarchical structuring of the module namespace using dot (`.`) notation. **In the same way that modules help avoid collisions between global variable names, packages help avoid collisions between module names.**\n",
        "\n",
        "Creating a package is quite straightforward, since it makes use of the operating system’s inherent hierarchical file structure. Consider the following arrangement:\n",
        "\n",
        "<img src='https://files.realpython.com/media/pkg1.9af1c7aea48f.png' />\n",
        "\n",
        "Here, there is a directory named pkg that contains two modules, `mod1.py` and `mod2.py`. The contents of the modules are:\n",
        "\n",
        "`mod1.py`\n",
        "\n",
        "```py\n",
        "kitchen_sets = ['fork', 'spoon', 'plate']\n",
        "kitchen_name = 'My Kitchen'\n",
        "color = 'red'\n",
        "```\n",
        "\n",
        "`mod2.py`\n",
        "\n",
        "```py\n",
        "artist_kits = ['guitar', 'bass', 'drum']\n",
        "artist_name = 'Queen'\n",
        "color = 'yellow'\n",
        "```\n",
        "\n",
        "---"
      ]
    },
    {
      "cell_type": "markdown",
      "metadata": {
        "id": "jnVaIrih1l3n"
      },
      "source": [
        "Given this structure, if the `pkg` directory resides in a location where it can be found (in one of the directories contained in `sys.path`), you can refer to the two modules with dot notation (`pkg.mod1`, `pkg.mod2`) and `import` them with the syntax you are already familiar with:\n",
        "\n",
        "`import <folder/package><.module_name_1>, <folder/package>.<module_name_2>`\n",
        "\n",
        "```console\n",
        ">>> import pkg.mod1, pkg.mod2\n",
        ">>> pkg.mod1.kitchen_sets\n",
        "['fork', 'spoon', 'plate']\n",
        "\n",
        ">>> pkg.mod2.artist_kits\n",
        "['guitar', 'bass', 'drum']\n",
        "```\n",
        "\n",
        "`from <pakckage>.<module_name> import <something>`\n",
        "\n",
        "```console\n",
        ">>> from pkg.mod1 import kitchen_sets\n",
        ">>> kitchen_sets\n",
        "['fork', 'spoon', 'plate']\n",
        "```\n",
        "\n",
        "`from <package>.<module_name> import <something> as <alt_name>`\n",
        "\n",
        "```console\n",
        ">>> from pkg.mod1 import kitchen_sets as ks\n",
        ">>> ks\n",
        "['fork', 'spoon', 'plate']\n",
        "```\n",
        "\n",
        "---"
      ]
    },
    {
      "cell_type": "markdown",
      "metadata": {
        "id": "XQoI2gBN1WoG"
      },
      "source": [
        "You can import modules with these statements as well:\n",
        "\n",
        "```py\n",
        "from <package_name> import <modules_name>\n",
        "from <package_name> import <module_name> as <alt_name>\n",
        "```\n",
        "\n",
        "```console\n",
        ">>> from pkg import mod1\n",
        ">>> mod1.kitchen_sets\n",
        "['fork', 'spoon', 'plate']\n",
        "\n",
        ">>> from pkg import mod2 as m2\n",
        ">>> m2.color\n",
        "'yellow'\n",
        "```---\n",
        "\n",
        "You can import modules with these statements as well:\n",
        "\n",
        "```py\n",
        "from <package_name> import <modules_name>\n",
        "from <package_name> import <module_name> as <alt_name>\n",
        "```\n",
        "\n",
        "```console\n",
        ">>> from pkg import mod1\n",
        ">>> mod1.kitchen_sets\n",
        "['fork', 'spoon', 'plate']\n",
        "\n",
        ">>> from pkg import mod2 as m2\n",
        ">>> m2.color\n",
        "'yellow'\n",
        "```"
      ]
    },
    {
      "cell_type": "markdown",
      "metadata": {
        "id": "NXBgzZo4uuji"
      },
      "source": [
        "## PIP\n",
        "\n",
        "So, what is `pip`? `pip` is a package manager for Python. That means it’s **a tool that allows you to install and manage additional libraries and dependencies** that are not distributed as part of the standard library.\n",
        "\n",
        "Package management is so important that `pip` has been included with the Python installer since versions 3.4 for Python 3 and 2.7.9 for Python 2, and it’s used by many Python projects, which makes it an essential tool for every Pythonista.\n",
        "\n",
        "The concept of a package manager might be familiar to you if you are coming from other languages. JavaScript uses `npm` for package management, Ruby uses `gem`, and .NET use `NuGet`. In Python, `pip` has become the standard package manager.\n",
        "\n",
        "The Python installer installs `pip`, so it should be ready for you to use, unless you installed an old version of Python. You can verify that `pip` is available by running the following command in your console:\n",
        "\n",
        "```sh\n",
        "$ pip --version\n",
        "\n",
        "pip 20.0.2 from /Library/Frameworks/Python.framework/Versions/3.7/lib/python3.7/site-packages/pip (python 3.7)\n",
        "```\n",
        "\n",
        "You should see a similar output displaying the `pip` version, as well as the location and version of Python. If you are using an old version of Python that does not include `pip`, then you can install it by following the instructions for your system in the `pip` installation documentation."
      ]
    },
    {
      "cell_type": "code",
      "metadata": {
        "colab": {
          "base_uri": "https://localhost:8080/"
        },
        "id": "Mfnqi6WuNrNc",
        "outputId": "08b68fd1-7e9f-4d9c-88b7-49cfdac024c5"
      },
      "source": [
        "# This is code to install package called TwitterApi\n",
        "\n",
        "!pip install TwitterAPI"
      ],
      "execution_count": null,
      "outputs": [
        {
          "output_type": "stream",
          "text": [
            "Collecting twitter_api\n",
            "  Downloading twitter_api-0.1.7-py2.py3-none-any.whl (7.1 kB)\n",
            "Collecting appier\n",
            "  Downloading appier-1.24.0-py2.py3-none-any.whl (287 kB)\n",
            "\u001b[K     |████████████████████████████████| 287 kB 7.6 MB/s \n",
            "\u001b[?25hInstalling collected packages: appier, twitter-api\n",
            "Successfully installed appier-1.24.0 twitter-api-0.1.7\n"
          ],
          "name": "stdout"
        }
      ]
    },
    {
      "cell_type": "markdown",
      "metadata": {
        "id": "Cr-4TXMWuujj"
      },
      "source": [
        "### Basic Package Installation\n",
        "\n",
        "PyPI hosts a very popular library to perform HTTP requests called `requests`. You can learn all about it in its official documentation site. The first step is to install the `requests` package into your environment. You can learn about `pip` supported commands by running it with help:\n",
        "\n",
        "`pip help`\n",
        "\n",
        "As you can see, `pip` provides an install command to install packages. You can run it to install the requests package:\n",
        "\n",
        "`pip install requests`\n",
        "\n",
        "You should see an output similar to the one above. **You use `pip` with an install command followed by the name of the package you want to install.** `pip` looks for the package in PyPI, calculates its dependencies, and installs them to insure requests will work.\n",
        "\n",
        "---"
      ]
    },
    {
      "cell_type": "code",
      "metadata": {
        "colab": {
          "base_uri": "https://localhost:8080/"
        },
        "id": "r0a8ehwM4PU1",
        "outputId": "03b7bab6-4fe4-4655-db1f-9475bea068fa"
      },
      "source": [
        "pip help"
      ],
      "execution_count": null,
      "outputs": [
        {
          "output_type": "stream",
          "name": "stdout",
          "text": [
            "\n",
            "Usage:   \n",
            "  pip3 <command> [options]\n",
            "\n",
            "Commands:\n",
            "  install                     Install packages.\n",
            "  download                    Download packages.\n",
            "  uninstall                   Uninstall packages.\n",
            "  freeze                      Output installed packages in requirements format.\n",
            "  list                        List installed packages.\n",
            "  show                        Show information about installed packages.\n",
            "  check                       Verify installed packages have compatible dependencies.\n",
            "  config                      Manage local and global configuration.\n",
            "  search                      Search PyPI for packages.\n",
            "  cache                       Inspect and manage pip's wheel cache.\n",
            "  wheel                       Build wheels from your requirements.\n",
            "  hash                        Compute hashes of package archives.\n",
            "  completion                  A helper command used for command completion.\n",
            "  debug                       Show information useful for debugging.\n",
            "  help                        Show help for commands.\n",
            "\n",
            "General Options:\n",
            "  -h, --help\n",
            "  Show help.\n",
            "  --isolated\n",
            "  Run pip in\n",
            "  an isolated\n",
            "  mode,\n",
            "  ignoring\n",
            "  environment\n",
            "  variables\n",
            "  and user co\n",
            "  nfiguration\n",
            "  .\n",
            "  -v, --verbose\n",
            "  Give more\n",
            "  output.\n",
            "  Option is\n",
            "  additive,\n",
            "  and can be\n",
            "  used up to\n",
            "  3 times.\n",
            "  -V, --version\n",
            "  Show\n",
            "  version and\n",
            "  exit.\n",
            "  -q, --quiet\n",
            "  Give less\n",
            "  output.\n",
            "  Option is\n",
            "  additive,\n",
            "  and can be\n",
            "  used up to\n",
            "  3 times (co\n",
            "  rresponding\n",
            "  to WARNING,\n",
            "  ERROR, and\n",
            "  CRITICAL\n",
            "  logging\n",
            "  levels).\n",
            "  --log <path>\n",
            "  Path to a\n",
            "  verbose\n",
            "  appending\n",
            "  log.\n",
            "  --no-input\n",
            "  Disable\n",
            "  prompting\n",
            "  for input.\n",
            "  --proxy <proxy>\n",
            "  Specify a\n",
            "  proxy in\n",
            "  the form [u\n",
            "  ser:passwd@\n",
            "  ]proxy.serv\n",
            "  er:port.\n",
            "  --retries <retries>\n",
            "  Maximum\n",
            "  number of\n",
            "  retries\n",
            "  each\n",
            "  connection\n",
            "  should\n",
            "  attempt\n",
            "  (default 5\n",
            "  times).\n",
            "  --timeout <sec>\n",
            "  Set the\n",
            "  socket\n",
            "  timeout\n",
            "  (default 15\n",
            "  seconds).\n",
            "  --exists-action <action>\n",
            "  Default\n",
            "  action when\n",
            "  a path\n",
            "  already\n",
            "  exists:\n",
            "  (s)witch,\n",
            "  (i)gnore,\n",
            "  (w)ipe,\n",
            "  (b)ackup,\n",
            "  (a)bort.\n",
            "  --trusted-host <hostname>\n",
            "  Mark this\n",
            "  host or\n",
            "  host:port\n",
            "  pair as\n",
            "  trusted,\n",
            "  even though\n",
            "  it does not\n",
            "  have valid\n",
            "  or any\n",
            "  HTTPS.\n",
            "  --cert <path>\n",
            "  Path to\n",
            "  PEM-encoded\n",
            "  CA\n",
            "  certificate\n",
            "  bundle. If\n",
            "  provided,\n",
            "  overrides\n",
            "  the\n",
            "  default.\n",
            "  See 'SSL\n",
            "  Certificate\n",
            "  Verificatio\n",
            "  n' in pip d\n",
            "  ocumentatio\n",
            "  n for more \n",
            "  information\n",
            "  .\n",
            "  --client-cert <path>\n",
            "  Path to SSL\n",
            "  client cert\n",
            "  ificate, a\n",
            "  single file\n",
            "  containing\n",
            "  the private\n",
            "  key and the\n",
            "  certificate\n",
            "  in PEM\n",
            "  format.\n",
            "  --cache-dir <dir>\n",
            "  Store the\n",
            "  cache data\n",
            "  in <dir>.\n",
            "  --no-cache-dir\n",
            "  Disable the\n",
            "  cache.\n",
            "  --disable-pip-version-check\n",
            "  Don't perio\n",
            "  dically\n",
            "  check PyPI\n",
            "  to\n",
            "  determine\n",
            "  whether a\n",
            "  new version\n",
            "  of pip is\n",
            "  available\n",
            "  for\n",
            "  download.\n",
            "  Implied\n",
            "  with --no-\n",
            "  index.\n",
            "  --no-color\n",
            "  Suppress\n",
            "  colored\n",
            "  output.\n",
            "  --no-python-version-warning\n",
            "  Silence\n",
            "  deprecation\n",
            "  warnings\n",
            "  for\n",
            "  upcoming\n",
            "  unsupported\n",
            "  Pythons.\n",
            "  --use-feature <feature>\n",
            "  Enable new \n",
            "  functionali\n",
            "  ty, that\n",
            "  may be\n",
            "  backward in\n",
            "  compatible.\n",
            "  --use-deprecated <feature>\n",
            "  Enable\n",
            "  deprecated \n",
            "  functionali\n",
            "  ty, that\n",
            "  will be\n",
            "  removed in\n",
            "  the future.\n"
          ]
        }
      ]
    },
    {
      "cell_type": "markdown",
      "metadata": {
        "id": "e6Sq9TRN3Qz1"
      },
      "source": [
        "You can also see that the current environment is using `pip` version 18.1, but version 19.0.1 is available. It also shows the command you should use to update pip, so let’s do that:\n",
        "\n",
        "`python -m pip install --upgrade pip`\n",
        "\n",
        "Notice that you use `python -m` to update `pip`. The `-m` switch tells Python to run a module as an executable. This is necessary because in order for you to update `pip`, the old version has to be uninstalled before installing the new version, and removing it while running the tool can cause errors.\n",
        "\n",
        "When you run `pip` as a module, Python loads the module in memory and allows the package to be removed while it is being used. You can run packages as if they were scripts if the package provides a top-level script `__main__.py`.\n",
        "\n",
        "---\n",
        "\n"
      ]
    },
    {
      "cell_type": "markdown",
      "metadata": {
        "id": "McgnBP6k3kwR"
      },
      "source": [
        "Now that you have installed `requests` and upgraded `pip`, you can use the list command to see the packages installed in your environment:\n",
        "\n",
        "`pip list`\n",
        "\n",
        "As you can see, `pip` has been upgraded to version 19.0.1 (the latest version at the moment), and `requests` version 2.21.0 has been installed.\n",
        "\n",
        "The `pip install <package>` command **always looks for the latest version** of the package and installs it. It also searches for dependencies listed in the package metadata and installs those dependencies to insure that the package has all the requirements it needs.\n",
        "\n",
        "As you can see, multiple packages were installed. You can look at the package metadata by using the show command in `pip`:\n",
        "\n",
        "`pip show requests`\n",
        "    \n",
        "The metadata lists `certifi`, `chardet`, `idna`, and `urllib3` as dependencies, and you can see they were also installed.\n",
        "\n",
        "With the `requests` package installed, you can modify the example above and see how easy it is to retrieve the contents of a web page:\n",
        "\n",
        "```py\n",
        "# In using-requests.py\n",
        "\n",
        "import requests\n",
        "\n",
        "url = 'https://www.google.com'\n",
        "response = requests.get(url)\n",
        "print(f'Response returned: {response.status_code}, {response.reason}')\n",
        "print(response.text)\n",
        "```\n",
        "\n",
        "You can import the `requests` package as any other standard package because it is now installed in your environment.\n",
        "\n",
        "As you can see, `requests.get()` handles the HTTP connection for you and returns a response object similar to the original example but with some interface improvements.\n",
        "\n",
        "You don’t have to deal with the encoding of the page because `requests` will handle that for you in most situations. Still, `requests` provides a flexible interface to handle special cases through the `requests.Response` object.\n",
        "\n",
        "---"
      ]
    },
    {
      "cell_type": "markdown",
      "metadata": {
        "id": "yZoizXbRuujj"
      },
      "source": [
        "### Using Requirement Files\n",
        "The `pip` install command always installs the latest published version of a package, but sometimes, you may want to install a specific version that you know works with your code.\n",
        "\n",
        "You want to create a specification of the dependencies and versions you used to develop and test your application, so there are no surprises when you use the application in production.\n",
        "\n",
        "**Requirement files allow you to specify exactly which packages and versions should be installed.** Running `pip` help shows that there is a freeze command that outputs the installed packages in requirements format. You can use this command, redirecting the output to a file to generate a requirements file:\n",
        "\n",
        "```console\n",
        "pip freeze > requirements.txt\n",
        "cat requirements.txt\n",
        "```\n",
        "\n",
        "The freeze command dumps all the packages and their versions to standard output, so you can redirect the output to a file that can be used to install the exact requirements into another system. The convention is to name this file `requirements.txt`, but you can give it any name you want.\n",
        "\n",
        "When you want to replicate the environment in another system, you can run `pip install` specifying the requirements file using the `-r` switch:\n",
        "\n",
        "> `pip install -r requirements.txt`\n",
        "\n",
        "The versions of the packages will match those listed in requirements.txt:\n",
        "\n",
        "`pip list`\n",
        "\n",
        "You can submit the `requirements.tx`t file into source control and use it to create the exact environment in other machines."
      ]
    },
    {
      "cell_type": "markdown",
      "metadata": {
        "id": "7WJPxWM6uujj"
      },
      "source": [
        "### Finding Packages to Use\n",
        "\n",
        "As you become a more experienced Pythonista, there’ll be a set of packages that you’ll know by heart and that you’ll use in most of your applications. The requests and pytest packages are good candidates to become useful tools in your Python toolbox.\n",
        "\n",
        "There will be times though when you will need to solve a different problem, and you will want to look for a different tool or library that can help you with it. As you can see above, `pip` help shows that there is a search command that looks for packages published to PyPI.\n",
        "\n",
        "Let’s see how this command can help us:\n",
        "\n",
        "`pip help search`\n",
        "\n",
        "The command takes a set of options listed above and a `<query>`. The query is just a string to search for and will match packages and their descriptions.\n",
        "\n",
        "Let’s say your application needs to access a service that is using OAuth2 for authorization. Ideally, there is a library that works with requests or with a similar interface that can help us. Let’s search PyPI for it using pip:\n",
        "\n",
        "`pip search requests oauth`\n",
        "\n",
        "The search term yields quite an extensive collection of packages. Some of them seem specific to a service or technology like django-oauth. Others look promising, like requests-oauth. Unfortunately, there isn’t much information other than a brief description.\n",
        "\n",
        "Most of the time, you want to search for packages directly in the PyPI website. PyPI provides search capabilities for its index and a way to filter results by the metadata exposed in the package, like framework, topic, development status, and so on.\n",
        "\n",
        "A search for the same terms in PyPI yields a lot of results, but you can filter them by different categories. For example, you can expand the Intended Audience and select Developers since you want a library that helps you with developing your application. Also, you probably want a package that is stable and production-ready. You can expand the Development Status category and select Production/Stable:\n",
        "\n",
        "<img src='https://files.realpython.com/media/search_results.1151d72a4b9b.png' />\n",
        "\n",
        "You can apply additional filters and tweak the search terms until you find the package that you are looking for.\n",
        "\n",
        "The results provide a link to the package page, which contains more information and hopefully some documentation. Let’s take a look at the information for requests-oauth2:\n",
        "\n",
        "<img src='https://files.realpython.com/media/request_oauth_page.a5c341a27a69.png' />\n",
        "\n",
        "The project page provides more information, and it seems to have a link to the project homepage. The link takes you to the project repository on GitHub. There, you can see some more information about the project and some usage examples.\n",
        "\n",
        "Finding the original source code repository can be an invaluable resource. There, you can find some hints about the status of the project by looking at the date of the latest commits, number of pull request and open issues, and so forth.\n",
        "\n",
        "Another option to find a package is to Google it. Widely used Python libraries will show up at the top of google searches, and you should be able to find a link to the package in PyPI or its source code repository.\n",
        "\n",
        "Finding the right package may take some time and research, but it will also speed up your development process once you find it.\n",
        "\n",
        "---\n"
      ]
    },
    {
      "cell_type": "markdown",
      "metadata": {
        "id": "PvhZ8A9duujj"
      },
      "source": [
        "### Uninstalling Packages\n",
        "Once in a while, you will have to uninstall a package. You either found a better library to replace it, or it is something you don’t really need. Uninstalling packages can be a bit tricky.\n",
        "\n",
        "Notice that, when you installed requests, `pip` installed other dependencies too. The more packages you install, the bigger the chances that multiple packages depend on the same dependency. This is where the show command in pip comes in handy.\n",
        "\n",
        "Before you uninstall a package, make sure you run the show command for that package:\n",
        "\n",
        "`pip show requests`\n",
        "\n",
        "Notice the last two fields Requires and Required-by. The show command tells us that `requests` requires `urllib3`, `certifi`, `chardet`, and `idna`. You probably want to uninstall those two. You can also see that requests is not required by any other package, so it is safe to uninstall it.\n",
        "\n",
        "You should run the show command against all of the requests dependencies to make sure that no other libraries also depend on them. Once you understand the dependency order of the packages you want to uninstall, you can remove them using the uninstall command:\n",
        "\n",
        "`pip uninstall certifi`\n",
        "\n",
        "Uninstalling a package shows you the files that will be removed and will ask for confirmation. If you are sure you want to remove the package because you’ve checked its dependencies and know that nothing else is using it, you can pass a `-y` switch to suppress the file list and confirmation:\n",
        "\n",
        "`pip uninstall urllib3 -y`\n",
        "\n",
        "---\n",
        "\n"
      ]
    },
    {
      "cell_type": "markdown",
      "metadata": {
        "id": "0N0k1tAJuujj"
      },
      "source": [
        "### Alternatives to pip\n",
        "\n",
        "`pip` is an essential tool for all Pythonistas, and it is used by many applications and projects for package management. This tutorial has helped you with the basics, but the Python community is very active in providing great tools and libraries for other developers to use. These include other alternatives to pip that try to simplify and improve package management.\n",
        "\n",
        "- Conda\n",
        "- Pipenv\n",
        "- Poetry"
      ]
    }
  ]
}