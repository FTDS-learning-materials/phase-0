{
  "nbformat": 4,
  "nbformat_minor": 0,
  "metadata": {
    "kernelspec": {
      "display_name": "Python 3",
      "language": "python",
      "name": "python3"
    },
    "language_info": {
      "codemirror_mode": {
        "name": "ipython",
        "version": 3
      },
      "file_extension": ".py",
      "mimetype": "text/x-python",
      "name": "python",
      "nbconvert_exporter": "python",
      "pygments_lexer": "ipython3",
      "version": "3.8.6-final"
    },
    "toc": {
      "base_numbering": 1,
      "nav_menu": {},
      "number_sections": true,
      "sideBar": true,
      "skip_h1_title": false,
      "title_cell": "Table of Contents",
      "title_sidebar": "Contents",
      "toc_cell": false,
      "toc_position": {},
      "toc_section_display": true,
      "toc_window_display": true
    },
    "colab": {
      "provenance": [],
      "collapsed_sections": [
        "qTyANE712j2y",
        "KBQy79zphQ3m",
        "StTLVAPN2j3p",
        "IqNFeMQP2j3_",
        "0-bG0s832j4L",
        "NtNYQFiq2j4U",
        "NV7-WxZ_2j4i",
        "ZHE_y-xc2j4s",
        "G0ucg9ig2j4z",
        "wG53Hg8X2j42",
        "X-I-knhn2j5C",
        "fOtK1Oqd2j5G",
        "lggqo5Y22j5K",
        "HRAqt-192j5M",
        "OcJh0hYV2j55",
        "x2jnhehX2j5-",
        "rICet6Pr2j6A",
        "Osy5et-Y2j6E",
        "TOFwcgm52j6F",
        "TEkIUAxq2j6H",
        "T2TbcDtQ2j6N",
        "QG4MUBcf2j6V",
        "NpmbEMVE2j6X"
      ]
    }
  },
  "cells": [
    {
      "cell_type": "markdown",
      "metadata": {
        "id": "qTyANE712j2y"
      },
      "source": [
        "# Python: Basic Syntax, Variables, Data Type"
      ]
    },
    {
      "cell_type": "markdown",
      "metadata": {
        "id": "gU1CWlTR2j3E"
      },
      "source": [
        "Python is a high-level, interpreted scripting language developed in the late 1980s by Guido van Rossum at the National Research Institute for Mathematics and Computer Science in the Netherlands. The initial version was published at the alt.sources newsgroup in 1991, and version 1.0 was released in 1994.\n",
        "\n",
        "Python 2.0 was released in 2000, and the 2.x versions were the prevalent releases until December 2008. At that time, the development team made the decision to release version 3.0, which contained a few relatively small but significant changes that were not backward compatible with the 2.x versions. Python 2 and 3 are very similar, and some features of Python 3 have been backported to Python 2. But in general, they remain not quite compatible.\n",
        "\n",
        "Both Python 2 and 3 have continued to be maintained and developed, with periodic release updates for both. As of this writing, the most recent versions available are 2.7.15 and 3.6.5. However, an official End Of Life date of January 1, 2020 has been established for Python 2, after which time it will no longer be maintained. If you are a newcomer to Python, it is recommended that you focus on Python 3, as this tutorial will do.\n",
        "\n",
        "Python is still maintained by a core development team at the Institute, and Guido is still in charge, having been given the title of BDFL (Benevolent Dictator For Life) by the Python community. The name Python, by the way, derives not from the snake, but from the British comedy troupe Monty Python’s Flying Circus, of which Guido was, and presumably still is, a fan. It is common to find references to Monty Python sketches and movies scattered throughout the Python documentation."
      ]
    },
    {
      "cell_type": "markdown",
      "metadata": {
        "id": "KUEPUkeC2j3I"
      },
      "source": [
        "## Why Choose Python?\n",
        "\n",
        "If you’re going to write programs, there are literally dozens of commonly used languages to choose from. Why choose Python? Here are some of the features that make Python an appealing choice.\n",
        "\n",
        "### Python is Popular\n",
        "\n",
        "Python has been growing in popularity over the last few years. The 2018 Stack Overflow Developer Survey ranked Python as the 7th most popular and the number one most wanted technology of the year. World-class software development companies around the globe use Python every single day.\n",
        "\n",
        "According to research by Dice Python is also one of the hottest skills to have and the most popular programming language in the world based on the Popularity of Programming Language Index.\n",
        "\n",
        "Due to the popularity and widespread use of Python as a programming language, Python developers are sought after and paid well. If you’d like to dig deeper into Python salary statistics and job opportunities, you can do so here.\n",
        "\n",
        "### Python is Interpreted\n",
        "\n",
        "Many languages are compiled, meaning the source code you create needs to be translated into machine code, the language of your computer’s processor, before it can be run. Programs written in an interpreted language are passed straight to an interpreter that runs them directly.\n",
        "\n",
        "This makes for a quicker development cycle because you just type in your code and run it, without the intermediate compilation step.\n",
        "\n",
        "One potential downside to interpreted languages is execution speed. Programs that are compiled into the native language of the computer processor tend to run more quickly than interpreted programs. For some applications that are particularly computationally intensive, like graphics processing or intense number crunching, this can be limiting.\n",
        "\n",
        "In practice, however, for most programs, the difference in execution speed is measured in milliseconds, or seconds at most, and not appreciably noticeable to a human user. The expediency of coding in an interpreted language is typically worth it for most applications.\n",
        "\n",
        "### Python is Free\n",
        "\n",
        "The Python interpreter is developed under an OSI-approved open-source license, making it free to install, use, and distribute, even for commercial purposes.\n",
        "\n",
        "A version of the interpreter is available for virtually any platform there is, including all flavors of Unix, Windows, macOS, smartphones and tablets, and probably anything else you ever heard of. A version even exists for the half dozen people remaining who use OS/2.\n",
        "\n",
        "Python is Portable\n",
        "Because Python code is interpreted and not compiled into native machine instructions, code written for one platform will work on any other platform that has the Python interpreter installed. (This is true of any interpreted language, not just Python.)\n",
        "\n",
        "### Python is Simple\n",
        "\n",
        "As programming languages go, Python is relatively uncluttered, and the developers have deliberately kept it that way.\n",
        "\n",
        "A rough estimate of the complexity of a language can be gleaned from the number of keywords or reserved words in the language. These are words that are reserved for special meaning by the compiler or interpreter because they designate specific built-in functionality of the language.\n",
        "\n",
        "Python 3 has 33 keywords, and Python 2 has 31. By contrast, C++ has 62, Java has 53, and Visual Basic has more than 120, though these latter examples probably vary somewhat by implementation or dialect.\n",
        "\n",
        "Python code has a simple and clean structure that is easy to learn and easy to read. In fact, as you will see, the language definition enforces code structure that is easy to read.\n",
        "\n",
        "### But It’s Not That Simple\n",
        "\n",
        "For all its syntactical simplicity, Python supports most constructs that would be expected in a very high-level language, including complex dynamic data types, structured and functional programming, and object-oriented programming.\n",
        "\n",
        "Additionally, a very extensive library of classes and functions is available that provides capability well beyond what is built into the language, such as database manipulation or GUI programming.\n",
        "\n",
        "Python accomplishes what many programming languages don’t: the language itself is simply designed, but it is very versatile in terms of what you can accomplish with it."
      ]
    },
    {
      "cell_type": "markdown",
      "metadata": {
        "id": "KBQy79zphQ3m"
      },
      "source": [
        "# DATA TYPES, VARIABLES & OPERATORS"
      ]
    },
    {
      "cell_type": "markdown",
      "metadata": {
        "id": "dB-z7rJr2j3T"
      },
      "source": [
        "## Integers\n",
        "\n",
        "In Python 3, there is effectively no limit to how long an integer value can be. Of course, it is constrained by the amount of memory your system has, as are all things, but beyond that an integer can be as long as you need it to be:"
      ]
    },
    {
      "cell_type": "code",
      "metadata": {
        "id": "oaPeTOSA2j3Z",
        "outputId": "5e2941dd-c28b-4df6-9fc9-1c0deb0a0c56"
      },
      "source": [
        "print(123123123123123123123123123123123123123123123123 + 1)"
      ],
      "execution_count": null,
      "outputs": [
        {
          "output_type": "stream",
          "text": [
            "123123123123123123123123123123123123123123123124\n"
          ],
          "name": "stdout"
        }
      ]
    },
    {
      "cell_type": "code",
      "metadata": {
        "id": "Ov_bgai72j3e",
        "outputId": "f0bd8714-c3bd-4ecd-9b0d-9671da1f5492"
      },
      "source": [
        "# Python interprets a sequence of decimal digits without any prefix to be a decimal number:\n",
        "\n",
        "print(10)\n",
        "print(type(10))"
      ],
      "execution_count": null,
      "outputs": [
        {
          "output_type": "stream",
          "text": [
            "10\n",
            "<class 'int'>\n"
          ],
          "name": "stdout"
        }
      ]
    },
    {
      "cell_type": "markdown",
      "metadata": {
        "id": "5kmmgRBL2j3g"
      },
      "source": [
        "## Floating-Point Numbers\n",
        "\n",
        "The float type in Python designates a floating-point number. float values are specified with a decimal point. Optionally, the character e or E followed by a positive or negative integer may be appended to specify scientific notation:"
      ]
    },
    {
      "cell_type": "code",
      "metadata": {
        "id": "0KSKLXjY2j3h",
        "outputId": "d1eb4e7b-cec7-4464-e6a6-f2dd46891e71"
      },
      "source": [
        "print(4.2)\n",
        "print(type(4.2))\n",
        "\n",
        "print(4.)\n",
        "\n",
        "print(.2)\n",
        "\n",
        "print(.4e7)\n",
        "\n",
        "print(4.2e-4)"
      ],
      "execution_count": null,
      "outputs": [
        {
          "output_type": "stream",
          "text": [
            "4.2\n",
            "<class 'float'>\n",
            "4.0\n",
            "0.2\n",
            "4000000.0\n",
            "0.00042\n"
          ],
          "name": "stdout"
        }
      ]
    },
    {
      "cell_type": "markdown",
      "metadata": {
        "id": "TCccEwzQ2j3i"
      },
      "source": [
        "## Strings\n",
        "\n",
        "Strings are sequences of character data. The string type in Python is called str.\n",
        "\n",
        "String literals may be delimited using either single or double quotes. All the characters between the opening delimiter and matching closing delimiter are part of the string:"
      ]
    },
    {
      "cell_type": "code",
      "metadata": {
        "id": "bmkmI_np2j3k",
        "outputId": "8fd72efc-ce0b-4ae1-9906-46134f35f431"
      },
      "source": [
        "print(\"Hacktiv8\")\n",
        "print(type(\"Hacktiv8\"))"
      ],
      "execution_count": null,
      "outputs": [
        {
          "output_type": "stream",
          "text": [
            "Hacktiv8\n",
            "<class 'str'>\n"
          ],
          "name": "stdout"
        }
      ]
    },
    {
      "cell_type": "markdown",
      "metadata": {
        "id": "UmP7SBtQ2j3l"
      },
      "source": [
        "A string in Python can contain as many characters as you wish. The only limit is your machine’s memory resources. A string can also be empty:"
      ]
    },
    {
      "cell_type": "code",
      "metadata": {
        "id": "Cih4gmfr2j3m",
        "outputId": "b3b5bc92-69ce-43e7-a1dc-7d49c8160a95"
      },
      "source": [
        "print('')"
      ],
      "execution_count": null,
      "outputs": [
        {
          "output_type": "stream",
          "text": [
            "\n"
          ],
          "name": "stdout"
        }
      ]
    },
    {
      "cell_type": "code",
      "metadata": {
        "id": "ECpmOwFr2j3n",
        "outputId": "ef63d02c-86d0-487c-898a-8b267f653a16"
      },
      "source": [
        "print(\"This string contains a single quote (') character.\")\n",
        "\n",
        "print('This string contains a double quote (\") character.')"
      ],
      "execution_count": null,
      "outputs": [
        {
          "output_type": "stream",
          "text": [
            "This string contains a single quote (') character.\n",
            "This string contains a double quote (\") character.\n"
          ],
          "name": "stdout"
        }
      ]
    },
    {
      "cell_type": "markdown",
      "metadata": {
        "id": "StTLVAPN2j3p"
      },
      "source": [
        "## Boolean Type, Boolean Context, and “Truthiness”\n",
        "\n",
        "Python 3 provides a Boolean data type. Objects of Boolean type may have one of two values, True or False:"
      ]
    },
    {
      "cell_type": "code",
      "metadata": {
        "id": "6H5KmJse2j3q",
        "outputId": "2e89a5ff-baba-4136-f30d-5e3c7d08cc7c"
      },
      "source": [
        "print(type(True))\n",
        "\n",
        "print(type(False))"
      ],
      "execution_count": null,
      "outputs": [
        {
          "output_type": "stream",
          "text": [
            "<class 'bool'>\n",
            "<class 'bool'>\n"
          ],
          "name": "stdout"
        }
      ]
    },
    {
      "cell_type": "markdown",
      "metadata": {
        "id": "IqNFeMQP2j3_"
      },
      "source": [
        "## Variable Assignment\n",
        "\n",
        "Think of a variable as a name attached to a particular object. In Python, variables need not be declared or defined in advance, as is the case in many other programming languages. To create a variable, you just assign it a value and then start using it. Assignment is done with a single equals sign (=):\n",
        "\n"
      ]
    },
    {
      "cell_type": "code",
      "metadata": {
        "id": "DnGpGvbo2j4B"
      },
      "source": [
        "n = 300"
      ],
      "execution_count": null,
      "outputs": []
    },
    {
      "cell_type": "code",
      "metadata": {
        "id": "gHTMaVHS2j4C",
        "outputId": "9302c6dc-3d35-4907-cdaa-727ea40b24ae"
      },
      "source": [
        "print(n)"
      ],
      "execution_count": null,
      "outputs": [
        {
          "output_type": "stream",
          "text": [
            "300\n"
          ],
          "name": "stdout"
        }
      ]
    },
    {
      "cell_type": "code",
      "metadata": {
        "id": "4EXbT6wd2j4D",
        "outputId": "1b74222a-3400-4489-edfd-bbbda7e76e6c"
      },
      "source": [
        "n"
      ],
      "execution_count": null,
      "outputs": [
        {
          "output_type": "execute_result",
          "data": {
            "text/plain": [
              "300"
            ]
          },
          "metadata": {
            "tags": []
          },
          "execution_count": 10
        }
      ]
    },
    {
      "cell_type": "code",
      "metadata": {
        "id": "mEGCJWnH2j4H",
        "outputId": "613058d1-9b74-4fad-95ee-4accef3865c8"
      },
      "source": [
        "# Later, if you change the value of n and use it again, the new value will be substituted instead:\n",
        "\n",
        "n = 1000\n",
        "print(n)\n",
        "\n",
        "n"
      ],
      "execution_count": null,
      "outputs": [
        {
          "output_type": "stream",
          "text": [
            "1000\n"
          ],
          "name": "stdout"
        },
        {
          "output_type": "execute_result",
          "data": {
            "text/plain": [
              "1000"
            ]
          },
          "metadata": {
            "tags": []
          },
          "execution_count": 11
        }
      ]
    },
    {
      "cell_type": "markdown",
      "metadata": {
        "id": "ssovQ0tp2j4I"
      },
      "source": [
        "Python also allows chained assignment, which makes it possible to assign the same value to several variables simultaneously:"
      ]
    },
    {
      "cell_type": "code",
      "metadata": {
        "id": "eUHfPy982j4J",
        "outputId": "bb23a544-dd39-4a0d-8784-b2d9266bf4ec"
      },
      "source": [
        "a = b = c = 300\n",
        "print(a, b, c)"
      ],
      "execution_count": null,
      "outputs": [
        {
          "output_type": "stream",
          "text": [
            "300 300 300\n"
          ],
          "name": "stdout"
        }
      ]
    },
    {
      "cell_type": "markdown",
      "metadata": {
        "id": "0-bG0s832j4L"
      },
      "source": [
        "## Variable Types in Python\n",
        "\n",
        "In many programming languages, variables are statically typed. That means a variable is initially declared to have a specific data type, and any value assigned to it during its lifetime must always have that type.\n",
        "\n",
        "Variables in Python are not subject to this restriction. In Python, a variable may be assigned a value of one type and then later re-assigned a value of a different type:\n",
        "\n"
      ]
    },
    {
      "cell_type": "code",
      "metadata": {
        "id": "zja0_eJs2j4S",
        "outputId": "787eaa10-c985-42cc-ade4-d6854bccdb0f"
      },
      "source": [
        "var = 23.5\n",
        "print(var)\n",
        "\n",
        "var = \"Now I'm a string\"\n",
        "print(var)"
      ],
      "execution_count": null,
      "outputs": [
        {
          "output_type": "stream",
          "text": [
            "23.5\n",
            "Now I'm a string\n"
          ],
          "name": "stdout"
        }
      ]
    },
    {
      "cell_type": "markdown",
      "metadata": {
        "id": "NtNYQFiq2j4U"
      },
      "source": [
        "## Variable Names\n",
        "\n",
        "The examples you have seen so far have used short, terse variable names like m and n. But variable names can be more verbose. In fact, it is usually beneficial if they are because it makes the purpose of the variable more evident at first glance.\n",
        "\n",
        "Officially, variable names in Python can be any length and can consist of uppercase and lowercase letters (A-Z, a-z), digits (0-9), and the underscore character (_). An additional restriction is that, although a variable name can contain digits, the first character of a variable name cannot be a digit."
      ]
    },
    {
      "cell_type": "code",
      "metadata": {
        "id": "bJvAzuWM2j4W",
        "outputId": "6e33e210-a1d0-4a09-d097-a985ec9f8304"
      },
      "source": [
        "name = \"Hacktiv8\"\n",
        "Age = 54\n",
        "has_laptops = True\n",
        "print(name, Age, has_laptops)"
      ],
      "execution_count": null,
      "outputs": [
        {
          "output_type": "stream",
          "text": [
            "Hacktiv8 54 True\n"
          ],
          "name": "stdout"
        }
      ]
    },
    {
      "cell_type": "markdown",
      "metadata": {
        "id": "jvVrjhXj2j4X"
      },
      "source": [
        "But this one is not, because a variable name can’t begin with a digit:"
      ]
    },
    {
      "cell_type": "code",
      "metadata": {
        "id": "D4010ouA2j4a"
      },
      "source": [
        "# 9_kepala_naga = True"
      ],
      "execution_count": null,
      "outputs": []
    },
    {
      "cell_type": "markdown",
      "metadata": {
        "id": "-R3DFlBK2j4b"
      },
      "source": [
        "Note that case is significant. Lowercase and uppercase letters are not the same. Use of the underscore character is significant as well. Each of the following defines a different variable:"
      ]
    },
    {
      "cell_type": "code",
      "metadata": {
        "id": "o6oUO0sz2j4c",
        "outputId": "fd12c654-d0bf-478b-c764-0da20af57c39"
      },
      "source": [
        "age = 1\n",
        "Age = 2\n",
        "aGe = 3\n",
        "AGE = 4\n",
        "a_g_e = 5\n",
        "_age = 6\n",
        "age_ = 7\n",
        "_AGE_ = 8\n",
        "\n",
        "print(age, Age, aGe, AGE, a_g_e, _age, age_, _AGE_)"
      ],
      "execution_count": null,
      "outputs": [
        {
          "output_type": "stream",
          "text": [
            "1 2 3 4 5 6 7 8\n"
          ],
          "name": "stdout"
        }
      ]
    },
    {
      "cell_type": "markdown",
      "metadata": {
        "id": "FxCCVhri2j4e"
      },
      "source": [
        "On the other hand, they aren’t all necessarily equally legible. As with many things, it is a matter of personal preference, but most people would find the first two examples, where the letters are all shoved together, to be harder to read, particularly the one in all capital letters. The most commonly used methods of constructing a multi-word variable name are the last three examples:\n",
        "\n",
        "- Camel Case: Second and subsequent words are capitalized, to make word boundaries easier to see. (Presumably, it struck someone at some point that the capital letters strewn throughout the variable name vaguely resemble camel humps.) <br />\n",
        "Example: numberOfCollegeGraduates\n",
        "\n",
        "- Pascal Case: Identical to Camel Case, except the first word is also capitalized. <br />\n",
        "Example: NumberOfCollegeGraduates\n",
        "\n",
        "- Snake Case: Words are separated by underscores. <br />\n",
        "Example: number_of_college_graduates\n",
        "\n",
        "Programmers debate hotly, with surprising fervor, which of these is preferable. Decent arguments can be made for all of them. Use whichever of the three is most visually appealing to you. Pick one and use it consistently."
      ]
    },
    {
      "cell_type": "markdown",
      "metadata": {
        "id": "NV7-WxZ_2j4i"
      },
      "source": [
        "## Operators and Expressions in Python"
      ]
    },
    {
      "cell_type": "markdown",
      "metadata": {
        "id": "xQZx5eFG2j4j"
      },
      "source": [
        "In Python, operators are special symbols that designate that some sort of computation should be performed. The values that an operator acts on are called operands.\n",
        "\n",
        "Here is an example:"
      ]
    },
    {
      "cell_type": "code",
      "metadata": {
        "id": "bIGZEfDB2j4k",
        "outputId": "75105a5b-2381-49f7-a699-cf3ce370ef0c"
      },
      "source": [
        "a = 10\n",
        "b = 20\n",
        "a + b"
      ],
      "execution_count": null,
      "outputs": [
        {
          "output_type": "execute_result",
          "data": {
            "text/plain": [
              "30"
            ]
          },
          "metadata": {
            "tags": []
          },
          "execution_count": 17
        }
      ]
    },
    {
      "cell_type": "markdown",
      "metadata": {
        "id": "KiXifXOL2j4m"
      },
      "source": [
        "In this case, the + operator adds the operands a and b together. An operand can be either a literal value or a variable that references an object:"
      ]
    },
    {
      "cell_type": "code",
      "metadata": {
        "id": "TaMv_DRQ2j4n",
        "outputId": "516ee062-c433-4d21-d1c9-7588fc8e7a91"
      },
      "source": [
        "a = 10\n",
        "b = 20\n",
        "a + b - 5"
      ],
      "execution_count": null,
      "outputs": [
        {
          "output_type": "execute_result",
          "data": {
            "text/plain": [
              "25"
            ]
          },
          "metadata": {
            "tags": []
          },
          "execution_count": 18
        }
      ]
    },
    {
      "cell_type": "markdown",
      "metadata": {
        "id": "Ze9DW-Ka2j4r"
      },
      "source": [
        "A sequence of operands and operators, like a + b - 5, is called an expression. Python supports many operators for combining data objects into expressions."
      ]
    },
    {
      "cell_type": "markdown",
      "metadata": {
        "id": "ZHE_y-xc2j4s"
      },
      "source": [
        "### Aritmetic Operators"
      ]
    },
    {
      "cell_type": "code",
      "metadata": {
        "id": "Lk5b-gRt2j4t",
        "outputId": "9000fe66-76c5-444a-83ae-d59f001a8e54"
      },
      "source": [
        "# Here are some examples of these operators in use:\n",
        "\n",
        "a = 4\n",
        "b = 3\n",
        "\n",
        "print(a + b)\n",
        "print(a - b)\n",
        "print(a * b)\n",
        "print(a / b)\n",
        "print(a % b)\n",
        "print(a ** b)"
      ],
      "execution_count": null,
      "outputs": [
        {
          "output_type": "stream",
          "text": [
            "7\n",
            "1\n",
            "12\n",
            "1.3333333333333333\n",
            "1\n",
            "64\n"
          ],
          "name": "stdout"
        }
      ]
    },
    {
      "cell_type": "code",
      "metadata": {
        "id": "pQyv7MEh2j4v",
        "outputId": "fe19d667-f02f-4a4d-c5e1-92934e8bcd0d"
      },
      "source": [
        "# The result of standard division (/) is always a float, even if the dividend is evenly divisible by the divisor:\n",
        "\n",
        "10 / 5"
      ],
      "execution_count": null,
      "outputs": [
        {
          "output_type": "execute_result",
          "data": {
            "text/plain": [
              "2.0"
            ]
          },
          "metadata": {
            "tags": []
          },
          "execution_count": 20
        }
      ]
    },
    {
      "cell_type": "markdown",
      "metadata": {
        "id": "G0ucg9ig2j4z"
      },
      "source": [
        "### Comparison Operators"
      ]
    },
    {
      "cell_type": "code",
      "metadata": {
        "id": "QmG8M28H2j40",
        "outputId": "7ad778a8-108c-4558-c244-487397c189d1"
      },
      "source": [
        "# Here are examples of the comparison operators in use:\n",
        "\n",
        "a = 10\n",
        "b = 20\n",
        "print(a == b)\n",
        "\n",
        "print(a != b)\n",
        "\n",
        "print(a <= b)\n",
        "\n",
        "print(a >= b)\n",
        "\n",
        "\n",
        "a = 30\n",
        "b = 30\n",
        "print(a == b)\n",
        "\n",
        "print(a <= b)\n",
        "\n",
        "print(a >= b)"
      ],
      "execution_count": null,
      "outputs": [
        {
          "output_type": "stream",
          "text": [
            "False\n",
            "True\n",
            "True\n",
            "False\n",
            "True\n",
            "True\n",
            "True\n"
          ],
          "name": "stdout"
        }
      ]
    },
    {
      "cell_type": "markdown",
      "metadata": {
        "id": "wG53Hg8X2j42"
      },
      "source": [
        "## String Manipulation"
      ]
    },
    {
      "cell_type": "code",
      "metadata": {
        "id": "40o2vGdG2j43",
        "outputId": "84230b81-6d0d-44f4-e858-5b3008176d88"
      },
      "source": [
        "# + Operators\n",
        "s = 'foo'\n",
        "t = 'bar'\n",
        "u = 'baz'\n",
        "\n",
        "print(s + t)\n",
        "\n",
        "print(s + t + u)\n",
        "\n",
        "\n",
        "print('Hacktiv8 ' + 'Inalum')"
      ],
      "execution_count": null,
      "outputs": [
        {
          "output_type": "stream",
          "text": [
            "foobar\n",
            "foobarbaz\n",
            "Hacktiv8 Inalum\n"
          ],
          "name": "stdout"
        }
      ]
    },
    {
      "cell_type": "code",
      "metadata": {
        "id": "zEviSyKx2j47",
        "outputId": "193a2de4-6db5-4543-9e3f-c38f864f3bf4"
      },
      "source": [
        "# * Operators\n",
        "\n",
        "s = 'foo.'\n",
        "\n",
        "s * 4"
      ],
      "execution_count": null,
      "outputs": [
        {
          "output_type": "execute_result",
          "data": {
            "text/plain": [
              "'foo.foo.foo.foo.'"
            ]
          },
          "metadata": {
            "tags": []
          },
          "execution_count": 23
        }
      ]
    },
    {
      "cell_type": "code",
      "metadata": {
        "id": "M0pZ9lQZ2j49",
        "outputId": "7fcb1298-a7b2-402d-f61a-96e36f1db9f1"
      },
      "source": [
        "# in Operators\n",
        "\n",
        "s = 'foo'\n",
        "\n",
        "print(s in 'That food for us')\n",
        "\n",
        "print(s in 'That good for us')"
      ],
      "execution_count": null,
      "outputs": [
        {
          "output_type": "stream",
          "text": [
            "True\n",
            "False\n"
          ],
          "name": "stdout"
        }
      ]
    },
    {
      "cell_type": "code",
      "metadata": {
        "id": "FaFQoMmm2j4-",
        "outputId": "c7a4a370-7c9f-4ccd-aa7d-959dbce30998"
      },
      "source": [
        "# Case Conversion\n",
        "s = 'HackTIV8'\n",
        "\n",
        "# Capitalize\n",
        "print(s.capitalize())\n",
        "\n",
        "# Lower\n",
        "print(s.lower())\n",
        "\n",
        "# Swapcase\n",
        "print(s.swapcase())\n",
        "\n",
        "# Title\n",
        "print(s.title())\n",
        "\n",
        "# Uppercase\n",
        "print(s.upper())"
      ],
      "execution_count": null,
      "outputs": [
        {
          "output_type": "stream",
          "text": [
            "Hacktiv8\n",
            "hacktiv8\n",
            "hACKtiv8\n",
            "Hacktiv8\n",
            "HACKTIV8\n"
          ],
          "name": "stdout"
        }
      ]
    },
    {
      "cell_type": "markdown",
      "metadata": {
        "id": "X-I-knhn2j5C"
      },
      "source": [
        "## Python Lists\n",
        "\n",
        "In short, a list is a collection of arbitrary objects, somewhat akin to an array in many other programming languages but more flexible. Lists are defined in Python by enclosing a comma-separated sequence of objects in square brackets `([])`, as shown below:"
      ]
    },
    {
      "cell_type": "code",
      "metadata": {
        "id": "Bh8wk9CE2j5D",
        "outputId": "277fafb8-9e40-4c4b-ae81-ec79f3666572"
      },
      "source": [
        "a = ['foo', 'bar', 'baz', 'qux']\n",
        "\n",
        "print(a)"
      ],
      "execution_count": null,
      "outputs": [
        {
          "output_type": "stream",
          "text": [
            "['foo', 'bar', 'baz', 'qux']\n"
          ],
          "name": "stdout"
        }
      ]
    },
    {
      "cell_type": "markdown",
      "metadata": {
        "id": "M_e_XZrl2j5E"
      },
      "source": [
        "The important characteristics of Python lists are as follows:\n",
        "\n",
        "- Lists are ordered.\n",
        "- Lists can contain any arbitrary objects.\n",
        "- List elements can be accessed by index.\n",
        "- Lists can be nested to arbitrary depth.\n",
        "- Lists are mutable.\n",
        "- Lists are dynamic."
      ]
    },
    {
      "cell_type": "markdown",
      "metadata": {
        "id": "fOtK1Oqd2j5G"
      },
      "source": [
        "### Lists Are Ordered\n",
        "\n",
        "A list is not merely a collection of objects. It is an ordered collection of objects. The order in which you specify the elements when you define a list is an innate characteristic of that list and is maintained for that list’s lifetime. (You will see a Python data type that is not ordered in the next tutorial on dictionaries.)\n",
        "\n",
        "Lists that have the same elements in a different order are not the same:"
      ]
    },
    {
      "cell_type": "code",
      "metadata": {
        "id": "ctd9Fszc2j5I",
        "outputId": "7f619316-0726-4970-8a63-66597e4b00fe"
      },
      "source": [
        "a = ['foo', 'bar', 'baz', 'qux']\n",
        "b = ['baz', 'qux', 'bar', 'foo']\n",
        "\n",
        "a == b"
      ],
      "execution_count": null,
      "outputs": [
        {
          "output_type": "execute_result",
          "data": {
            "text/plain": [
              "False"
            ]
          },
          "metadata": {
            "tags": []
          },
          "execution_count": 27
        }
      ]
    },
    {
      "cell_type": "markdown",
      "metadata": {
        "id": "lggqo5Y22j5K"
      },
      "source": [
        "### Lists Can Contain Arbitrary Objects\n",
        "\n",
        "A list can contain any assortment of objects. The elements of a list can all be the same type:"
      ]
    },
    {
      "cell_type": "code",
      "metadata": {
        "id": "e2SS-I1B2j5L",
        "outputId": "53c3d81f-7ef6-4879-bc8f-8dcf2f58221d"
      },
      "source": [
        "a = [21.42, 'foobar', 3, 4, 'bark', False, 3.14159]\n",
        "\n",
        "print(a)"
      ],
      "execution_count": null,
      "outputs": [
        {
          "output_type": "stream",
          "text": [
            "[21.42, 'foobar', 3, 4, 'bark', False, 3.14159]\n"
          ],
          "name": "stdout"
        }
      ]
    },
    {
      "cell_type": "markdown",
      "metadata": {
        "id": "HRAqt-192j5M"
      },
      "source": [
        "### List Elements Can Be Accessed by Index\n",
        "\n",
        "Individual elements in a list can be accessed using an index in square brackets. This is exactly analogous to accessing individual characters in a string. List indexing is zero-based as it is with strings.\n",
        "\n",
        "Consider the following list:\n",
        "\n"
      ]
    },
    {
      "cell_type": "code",
      "metadata": {
        "id": "bCh1e6LJ2j5O"
      },
      "source": [
        "a = ['foo', 'bar', 'baz', 'qux', 'quux', 'corge']"
      ],
      "execution_count": null,
      "outputs": []
    },
    {
      "cell_type": "markdown",
      "metadata": {
        "id": "YO7CqESh2j5P"
      },
      "source": [
        "<img src='https://files.realpython.com/media/t.eb0b38e642c5.png' />"
      ]
    },
    {
      "cell_type": "code",
      "metadata": {
        "id": "CtzeHVXA2j5Q",
        "outputId": "5b153280-6bf4-45a4-c612-af8f49c1c9b3"
      },
      "source": [
        "print(a[0])\n",
        "print(a[5])"
      ],
      "execution_count": null,
      "outputs": [
        {
          "output_type": "stream",
          "text": [
            "foo\n",
            "corge\n"
          ],
          "name": "stdout"
        }
      ]
    },
    {
      "cell_type": "markdown",
      "metadata": {
        "id": "gKwvG3KQ2j5R"
      },
      "source": [
        "Virtually everything about string indexing works similarly for lists. For example, a negative list index counts from the end of the list:"
      ]
    },
    {
      "cell_type": "markdown",
      "metadata": {
        "id": "nUesaHiH2j5r"
      },
      "source": [
        "<img src='https://files.realpython.com/media/t.c11ea56e8ca2.png' />"
      ]
    },
    {
      "cell_type": "code",
      "metadata": {
        "id": "IP1cEXJR2j5t",
        "outputId": "919e5003-74e9-40ee-c793-c1396beff401"
      },
      "source": [
        "print(a[-1])\n",
        "print(a[-6])"
      ],
      "execution_count": null,
      "outputs": [
        {
          "output_type": "stream",
          "text": [
            "corge\n",
            "foo\n"
          ],
          "name": "stdout"
        }
      ]
    },
    {
      "cell_type": "markdown",
      "metadata": {
        "id": "4YczDSav2j5x"
      },
      "source": [
        "Slicing also works. If a is a list, the expression `a[m:n]` returns the portion of a from index m to, but not including, index n:"
      ]
    },
    {
      "cell_type": "code",
      "metadata": {
        "id": "mmet-54v2j5z",
        "outputId": "e9733b8a-6428-4e2f-ed13-30a137bf7a00"
      },
      "source": [
        "a = ['foo', 'bar', 'baz', 'qux', 'quux', 'corge']\n",
        "\n",
        "a[2:5]"
      ],
      "execution_count": null,
      "outputs": [
        {
          "output_type": "execute_result",
          "data": {
            "text/plain": [
              "['baz', 'qux', 'quux']"
            ]
          },
          "metadata": {
            "tags": []
          },
          "execution_count": 32
        }
      ]
    },
    {
      "cell_type": "code",
      "metadata": {
        "id": "TCKEGbE12j52",
        "outputId": "f60d9fc4-7b0d-4dc2-d30e-67cbab7c491f"
      },
      "source": [
        "# The concatenation (+) and replication (*) operators:\n",
        "\n",
        "print(a)\n",
        "\n",
        "print(a + ['grault', 'garply'])\n",
        "print(a * 2)"
      ],
      "execution_count": null,
      "outputs": [
        {
          "output_type": "stream",
          "text": [
            "['foo', 'bar', 'baz', 'qux', 'quux', 'corge']\n",
            "['foo', 'bar', 'baz', 'qux', 'quux', 'corge', 'grault', 'garply']\n",
            "['foo', 'bar', 'baz', 'qux', 'quux', 'corge', 'foo', 'bar', 'baz', 'qux', 'quux', 'corge']\n"
          ],
          "name": "stdout"
        }
      ]
    },
    {
      "cell_type": "code",
      "metadata": {
        "id": "3hPx13zv2j53",
        "outputId": "e5c1243b-e821-4ea3-98c5-55bc16112ee2"
      },
      "source": [
        "# len(), min(), max()\n",
        "\n",
        "print(a)\n",
        "\n",
        "print(len(a))\n",
        "print(min(a))\n",
        "print(max(a))"
      ],
      "execution_count": null,
      "outputs": [
        {
          "output_type": "stream",
          "text": [
            "['foo', 'bar', 'baz', 'qux', 'quux', 'corge']\n",
            "6\n",
            "bar\n",
            "qux\n"
          ],
          "name": "stdout"
        }
      ]
    },
    {
      "cell_type": "markdown",
      "metadata": {
        "id": "OcJh0hYV2j55"
      },
      "source": [
        "### Modifying a Single List Value\n",
        "\n",
        "A single value in a list can be replaced by indexing and simple assignment:"
      ]
    },
    {
      "cell_type": "code",
      "metadata": {
        "id": "JSRTOsdQ2j56",
        "outputId": "eb9e1bf5-cd20-411c-c4a1-8bd841128c8b"
      },
      "source": [
        "a = ['foo', 'bar', 'baz', 'qux', 'quux', 'corge']\n",
        "\n",
        "print(a)\n",
        "\n",
        "a[2] = 10\n",
        "a[-1] = 20\n",
        "\n",
        "print(a)"
      ],
      "execution_count": null,
      "outputs": [
        {
          "output_type": "stream",
          "text": [
            "['foo', 'bar', 'baz', 'qux', 'quux', 'corge']\n",
            "['foo', 'bar', 10, 'qux', 'quux', 20]\n"
          ],
          "name": "stdout"
        }
      ]
    },
    {
      "cell_type": "code",
      "metadata": {
        "id": "biEYfQyo2j58"
      },
      "source": [
        "# A list item can be deleted with the del command:\n",
        "\n",
        "del a[3]"
      ],
      "execution_count": null,
      "outputs": []
    },
    {
      "cell_type": "code",
      "metadata": {
        "id": "0zPjNDSL2j59",
        "outputId": "0963cbbf-66d1-4f86-bf34-d0388261a128"
      },
      "source": [
        "print(a)"
      ],
      "execution_count": null,
      "outputs": [
        {
          "output_type": "stream",
          "text": [
            "['foo', 'bar', 10, 'quux', 20]\n"
          ],
          "name": "stdout"
        }
      ]
    },
    {
      "cell_type": "markdown",
      "metadata": {
        "id": "x2jnhehX2j5-"
      },
      "source": [
        "### Modifying Multiple List Values\n",
        "\n",
        "What if you want to change several contiguous elements in a list at one time? Python allows this with slice assignment, which has the following syntax:"
      ]
    },
    {
      "cell_type": "code",
      "metadata": {
        "id": "40yWcfxI2j5-",
        "outputId": "8852adff-eef6-4a84-f358-e757be168bd1"
      },
      "source": [
        "a = ['foo', 'bar', 'baz', 'qux', 'quux', 'corge']\n",
        "\n",
        "print(a[1:4])\n",
        "\n",
        "a[1:4] = [1.1, 2.2, 3.3, 4.4, 5.5]\n",
        "\n",
        "print(a)"
      ],
      "execution_count": null,
      "outputs": [
        {
          "output_type": "stream",
          "text": [
            "['bar', 'baz', 'qux']\n",
            "['foo', 1.1, 2.2, 3.3, 4.4, 5.5, 'quux', 'corge']\n"
          ],
          "name": "stdout"
        }
      ]
    },
    {
      "cell_type": "markdown",
      "metadata": {
        "id": "rICet6Pr2j6A"
      },
      "source": [
        "## Python Tuples\n",
        "\n",
        "Python provides another type that is an ordered collection of objects, called a tuple.\n",
        "\n",
        "Pronunciation varies depending on whom you ask. Some pronounce it as though it were spelled “too-ple” (rhyming with “Mott the Hoople”), and others as though it were spelled “tup-ple” (rhyming with “supple”). My inclination is the latter, since it presumably derives from the same origin as “quintuple,” “sextuple,” “octuple,” and so on, and everyone I know pronounces these latter as though they rhymed with “supple.”\n",
        "\n",
        "### Defining and Using Tuples\n",
        "\n",
        "Tuples are identical to lists in all respects, except for the following properties:\n",
        "\n",
        "Tuples are defined by enclosing the elements in parentheses (()) instead of square brackets ([]).\n",
        "Tuples are immutable.\n",
        "Here is a short example showing a tuple definition, indexing, and slicing:"
      ]
    },
    {
      "cell_type": "code",
      "metadata": {
        "id": "6L48b2zn2j6B",
        "outputId": "2353eae2-3459-4290-bde9-c6dd79eafed3"
      },
      "source": [
        "t = ('foo', 'bar', 'baz', 'qux', 'quux', 'corge')\n",
        "\n",
        "print(t)"
      ],
      "execution_count": null,
      "outputs": [
        {
          "output_type": "stream",
          "text": [
            "('foo', 'bar', 'baz', 'qux', 'quux', 'corge')\n"
          ],
          "name": "stdout"
        }
      ]
    },
    {
      "cell_type": "code",
      "metadata": {
        "id": "MHA8Kg0i2j6C",
        "outputId": "84ff50f1-dff3-4aa3-a8b2-3f198a747b21"
      },
      "source": [
        "print(t[0])\n",
        "\n",
        "print(t[-1])"
      ],
      "execution_count": null,
      "outputs": [
        {
          "output_type": "stream",
          "text": [
            "foo\n",
            "corge\n"
          ],
          "name": "stdout"
        }
      ]
    },
    {
      "cell_type": "code",
      "metadata": {
        "id": "xtNoxiCQ2j6D",
        "outputId": "436f12b9-b492-4288-ef3b-97e365a84ab9"
      },
      "source": [
        "# packing and unpacking\n",
        "\n",
        "(s1, s2, s3, s4) = ('foo', 'bar', 'baz', 'qux')\n",
        "\n",
        "s1"
      ],
      "execution_count": null,
      "outputs": [
        {
          "output_type": "execute_result",
          "data": {
            "text/plain": [
              "'foo'"
            ]
          },
          "metadata": {
            "tags": []
          },
          "execution_count": 41
        }
      ]
    },
    {
      "cell_type": "markdown",
      "metadata": {
        "id": "Osy5et-Y2j6E"
      },
      "source": [
        "## Python Dictionary\n",
        "\n",
        "ictionaries and lists share the following characteristics:\n",
        "\n",
        "- Both are mutable.\n",
        "- Both are dynamic. They can grow and shrink as needed.\n",
        "- Both can be nested. A list can contain another list. A dictionary can contain another dictionary. A dictionary can also contain a list, and vice versa.\n",
        "\n",
        "Dictionaries differ from lists primarily in how elements are accessed:\n",
        "\n",
        "- List elements are accessed by their position in the list, via indexing.\n",
        "- Dictionary elements are accessed via keys."
      ]
    },
    {
      "cell_type": "markdown",
      "metadata": {
        "id": "TOFwcgm52j6F"
      },
      "source": [
        "### Defining a Dictionary\n",
        "Dictionaries are Python’s implementation of a data structure that is more generally known as an associative array. A dictionary consists of a collection of key-value pairs. Each key-value pair maps the key to its associated value.\n",
        "\n",
        "You can define a dictionary by enclosing a comma-separated list of key-value pairs in curly braces ({}). A colon (:) separates each key from its associated value.\n",
        "\n",
        "The following defines a dictionary that maps a location to the name of its corresponding Major League Baseball team:"
      ]
    },
    {
      "cell_type": "code",
      "metadata": {
        "id": "pl3ZaMC52j6G"
      },
      "source": [
        "MLB_team = {\n",
        "    'Colorado': 'Rockies',\n",
        "    'Boston': 'Red Sox',\n",
        "    'Minnesota': 'Twins',\n",
        "    'Milwaukee': 'Brewers',\n",
        "    'Seattle': 'Mariners'\n",
        "}"
      ],
      "execution_count": null,
      "outputs": []
    },
    {
      "cell_type": "markdown",
      "metadata": {
        "id": "g_L3JsfY2j6H"
      },
      "source": [
        "<img src='https://files.realpython.com/media/t.b3e3d8f2d100.png' width='30%'/>"
      ]
    },
    {
      "cell_type": "markdown",
      "metadata": {
        "id": "TEkIUAxq2j6H"
      },
      "source": [
        "### Accessing Dictionary Values\n",
        "\n",
        "Of course, dictionary elements must be accessible somehow. If you don’t get them by index, then how do you get them?\n",
        "\n",
        "A value is retrieved from a dictionary by specifying its corresponding key in square brackets ([]):\n",
        "\n"
      ]
    },
    {
      "cell_type": "code",
      "metadata": {
        "id": "VAWnONZf2j6I",
        "outputId": "109f5103-34e0-4a61-f1db-3d98d6b3d6a3"
      },
      "source": [
        "print(MLB_team['Minnesota'])\n",
        "print(MLB_team['Colorado'])\n",
        "\n",
        "# error\n",
        "# MLB_team['Toronto']"
      ],
      "execution_count": null,
      "outputs": [
        {
          "output_type": "stream",
          "text": [
            "Twins\n",
            "Rockies\n"
          ],
          "name": "stdout"
        }
      ]
    },
    {
      "cell_type": "code",
      "metadata": {
        "id": "5_sQpI232j6J",
        "outputId": "d7c02889-ba7d-41d2-97ac-0d62c9ce1323"
      },
      "source": [
        "#Adding an entry to an existing dictionary is simply a matter of assigning a new key and value:\n",
        "\n",
        "MLB_team['Kansas City'] = 'Royals'\n",
        "MLB_team"
      ],
      "execution_count": null,
      "outputs": [
        {
          "output_type": "execute_result",
          "data": {
            "text/plain": [
              "{'Colorado': 'Rockies',\n",
              " 'Boston': 'Red Sox',\n",
              " 'Minnesota': 'Twins',\n",
              " 'Milwaukee': 'Brewers',\n",
              " 'Seattle': 'Mariners',\n",
              " 'Kansas City': 'Royals'}"
            ]
          },
          "metadata": {
            "tags": []
          },
          "execution_count": 44
        }
      ]
    },
    {
      "cell_type": "code",
      "metadata": {
        "id": "wSz91oQO2j6K",
        "outputId": "875485af-8fa1-438e-fb57-54f103f02e7c"
      },
      "source": [
        "# If you want to update an entry, you can just assign a new value to an existing key:\n",
        "\n",
        "MLB_team['Seattle'] = 'Seahawks'\n",
        "MLB_team"
      ],
      "execution_count": null,
      "outputs": [
        {
          "output_type": "execute_result",
          "data": {
            "text/plain": [
              "{'Colorado': 'Rockies',\n",
              " 'Boston': 'Red Sox',\n",
              " 'Minnesota': 'Twins',\n",
              " 'Milwaukee': 'Brewers',\n",
              " 'Seattle': 'Seahawks',\n",
              " 'Kansas City': 'Royals'}"
            ]
          },
          "metadata": {
            "tags": []
          },
          "execution_count": 45
        }
      ]
    },
    {
      "cell_type": "code",
      "metadata": {
        "id": "mgRYD9Hk2j6L",
        "outputId": "dcd1f22b-78c3-481a-bbce-84b7fdcc036d"
      },
      "source": [
        "# To delete an entry, use the del statement, specifying the key to delete:\n",
        "\n",
        "del MLB_team['Seattle']\n",
        "MLB_team"
      ],
      "execution_count": null,
      "outputs": [
        {
          "output_type": "execute_result",
          "data": {
            "text/plain": [
              "{'Colorado': 'Rockies',\n",
              " 'Boston': 'Red Sox',\n",
              " 'Minnesota': 'Twins',\n",
              " 'Milwaukee': 'Brewers',\n",
              " 'Kansas City': 'Royals'}"
            ]
          },
          "metadata": {
            "tags": []
          },
          "execution_count": 46
        }
      ]
    },
    {
      "cell_type": "markdown",
      "metadata": {
        "id": "T2TbcDtQ2j6N"
      },
      "source": [
        "### Building a Dictionary Incrementally\n",
        "\n",
        "Defining a dictionary using curly braces and a list of key-value pairs, as shown above, is fine if you know all the keys and values in advance. But what if you want to build a dictionary on the fly?\n",
        "\n",
        "You can start by creating an empty dictionary, which is specified by empty curly braces. Then you can add new keys and values one at a time:"
      ]
    },
    {
      "cell_type": "code",
      "metadata": {
        "id": "vAHV0ftf2j6N"
      },
      "source": [
        "person = {}\n",
        "type(person)\n",
        "\n",
        "person['fname'] = 'Hack'\n",
        "person['lname'] = 'Inalum'\n",
        "person['age'] = 51\n",
        "person['spouse'] = 'Edna'\n",
        "person['children'] = ['Ralph', 'Betty', 'Joey']\n",
        "person['pets'] = {'dog': 'Fido', 'cat': 'Sox'}"
      ],
      "execution_count": null,
      "outputs": []
    },
    {
      "cell_type": "code",
      "metadata": {
        "id": "OWLFfFOS2j6O",
        "outputId": "36f616df-072e-494a-90a8-cd62d2628d8b"
      },
      "source": [
        "person"
      ],
      "execution_count": null,
      "outputs": [
        {
          "output_type": "execute_result",
          "data": {
            "text/plain": [
              "{'fname': 'Hack',\n",
              " 'lname': 'Inalum',\n",
              " 'age': 51,\n",
              " 'spouse': 'Edna',\n",
              " 'children': ['Ralph', 'Betty', 'Joey'],\n",
              " 'pets': {'dog': 'Fido', 'cat': 'Sox'}}"
            ]
          },
          "metadata": {
            "tags": []
          },
          "execution_count": 48
        }
      ]
    },
    {
      "cell_type": "code",
      "metadata": {
        "id": "3YPEFzeo2j6P",
        "outputId": "d6047bc7-b942-4a70-e941-0598afed55d2"
      },
      "source": [
        "print(person['fname'])\n",
        "print(person['lname'])"
      ],
      "execution_count": null,
      "outputs": [
        {
          "output_type": "stream",
          "text": [
            "Hack\n",
            "Inalum\n"
          ],
          "name": "stdout"
        }
      ]
    },
    {
      "cell_type": "code",
      "metadata": {
        "id": "Y8xSegOZ2j6Q",
        "outputId": "ce79c405-1190-437c-c020-51a853743a87"
      },
      "source": [
        "print(person['children'])\n",
        "print(person['children'][1])"
      ],
      "execution_count": null,
      "outputs": [
        {
          "output_type": "stream",
          "text": [
            "['Ralph', 'Betty', 'Joey']\n",
            "Betty\n"
          ],
          "name": "stdout"
        }
      ]
    },
    {
      "cell_type": "code",
      "metadata": {
        "id": "6kACoR_92j6S",
        "outputId": "a03f3a50-e1fe-4fed-bd28-ff10c7584b0b"
      },
      "source": [
        "print(person['pets'])\n",
        "print(person['pets']['cat'])"
      ],
      "execution_count": null,
      "outputs": [
        {
          "output_type": "stream",
          "text": [
            "{'dog': 'Fido', 'cat': 'Sox'}\n",
            "Sox\n"
          ],
          "name": "stdout"
        }
      ]
    },
    {
      "cell_type": "code",
      "metadata": {
        "id": "ywJbpKlO2j6T",
        "outputId": "f3d6019d-2bd8-4dc3-9a8e-916004579a34"
      },
      "source": [
        "# Built-in Methods\n",
        "d = {'a': 10, 'b': 20, 'c': 30}\n",
        "\n",
        "# items\n",
        "print(d.items())\n",
        "\n",
        "# keys\n",
        "print(d.keys())\n",
        "\n",
        "# values\n",
        "print(d.values())"
      ],
      "execution_count": null,
      "outputs": [
        {
          "output_type": "stream",
          "text": [
            "dict_items([('a', 10), ('b', 20), ('c', 30)])\n",
            "dict_keys(['a', 'b', 'c'])\n",
            "dict_values([10, 20, 30])\n"
          ],
          "name": "stdout"
        }
      ]
    },
    {
      "cell_type": "markdown",
      "metadata": {
        "id": "GPHcXyLV2j6U"
      },
      "source": [
        "You have now covered Python variables, operators, and data types in depth, and you’ve seen quite a bit of example code. Up to now, the code has consisted of short individual statements, simply assigning objects to variables or displaying values.\n",
        "\n",
        "But you want to do more than just define data and display it! Let’s start arranging code into more complex groupings."
      ]
    },
    {
      "cell_type": "markdown",
      "metadata": {
        "id": "QG4MUBcf2j6V"
      },
      "source": [
        "## Python Statements\n",
        "\n",
        "Statements are the basic units of instruction that the Python interpreter parses and processes. In general, the interpreter executes statements sequentially, one after the next as it encounters them. (You will see in the next tutorial on conditional statements that it is possible to alter this behavior.)\n",
        "\n",
        "In a REPL session, statements are executed as they are typed in, until the interpreter is terminated. When you execute a script file, the interpreter reads statements from the file and executes them until end-of-file is encountered.\n",
        "\n",
        "Python programs are typically organized with one statement per line. In other words, each statement occupies a single line, with the end of the statement delimited by the newline character that marks the end of the line. The majority of the examples so far in this tutorial series have followed this pattern:"
      ]
    },
    {
      "cell_type": "code",
      "metadata": {
        "id": "JC6HqEEj2j6V",
        "outputId": "4cd998b8-23ac-48e7-e8b9-2ecb2b3941db"
      },
      "source": [
        "print('Hello, World!')\n",
        "\n",
        "x = [1, 2, 3]\n",
        "print(x)"
      ],
      "execution_count": null,
      "outputs": [
        {
          "output_type": "stream",
          "text": [
            "Hello, World!\n",
            "[1, 2, 3]\n"
          ],
          "name": "stdout"
        }
      ]
    },
    {
      "cell_type": "markdown",
      "metadata": {
        "id": "NpmbEMVE2j6X"
      },
      "source": [
        "## Line Continuation\n",
        "\n",
        "Suppose a single statement in your Python code is especially long. For example, you may have an assignment statement with many terms:"
      ]
    },
    {
      "cell_type": "code",
      "metadata": {
        "id": "InnWfGAd2j6X",
        "outputId": "015aae89-8ac8-4a5a-a971-5f931daad3ff"
      },
      "source": [
        "person1_age = 42\n",
        "person2_age = 16\n",
        "person3_age = 71\n",
        "\n",
        "someone_is_of_working_age = (person1_age >= 18 and person1_age <= 65) or (person2_age >= 18 and person2_age <= 65) or (person3_age >= 18 and person3_age <= 65)\n",
        "someone_is_of_working_age"
      ],
      "execution_count": null,
      "outputs": [
        {
          "output_type": "execute_result",
          "data": {
            "text/plain": [
              "True"
            ]
          },
          "metadata": {
            "tags": []
          },
          "execution_count": 54
        }
      ]
    },
    {
      "cell_type": "code",
      "metadata": {
        "id": "6ZgyiMKr2j6Z",
        "outputId": "5dd8e4de-1db4-4f5a-a5e1-7357724310a3"
      },
      "source": [
        "someone_is_of_working_age = (\n",
        "    (person1_age >= 18 and person1_age <= 65)\n",
        "    or (person2_age >= 18 and person2_age <= 65)\n",
        "    or (person3_age >= 18 and person3_age <= 65)\n",
        ")\n",
        "\n",
        "someone_is_of_working_age"
      ],
      "execution_count": null,
      "outputs": [
        {
          "output_type": "execute_result",
          "data": {
            "text/plain": [
              "True"
            ]
          },
          "metadata": {
            "tags": []
          },
          "execution_count": 55
        }
      ]
    }
  ]
}