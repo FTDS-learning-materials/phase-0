{
  "nbformat": 4,
  "nbformat_minor": 0,
  "metadata": {
    "kernelspec": {
      "display_name": "Python 3",
      "language": "python",
      "name": "python3"
    },
    "language_info": {
      "codemirror_mode": {
        "name": "ipython",
        "version": 3
      },
      "file_extension": ".py",
      "mimetype": "text/x-python",
      "name": "python",
      "nbconvert_exporter": "python",
      "pygments_lexer": "ipython3",
      "version": "3.8.2"
    },
    "toc": {
      "base_numbering": 1,
      "nav_menu": {},
      "number_sections": true,
      "sideBar": true,
      "skip_h1_title": false,
      "title_cell": "Table of Contents",
      "title_sidebar": "Contents",
      "toc_cell": false,
      "toc_position": {},
      "toc_section_display": true,
      "toc_window_display": true
    },
    "colab": {
      "provenance": []
    }
  },
  "cells": [
    {
      "cell_type": "markdown",
      "metadata": {
        "id": "B_itmmqfxOC5"
      },
      "source": [
        "# Week 1: Day 2 PM // Python: Conditionals and loops"
      ]
    },
    {
      "cell_type": "markdown",
      "metadata": {
        "id": "B9ijnjcW0aLS"
      },
      "source": [
        "# CONDITIONAL"
      ]
    },
    {
      "cell_type": "markdown",
      "metadata": {
        "id": "OmxYNHm-0aLT"
      },
      "source": [
        "Python supports the usual `logical conditions` from mathematics:\n",
        "\n",
        "- Equals: a == b\n",
        "- Not Equals: a != b\n",
        "- Less than: a < b\n",
        "- Less than or equal to: a <= b\n",
        "- Greater than: a > b\n",
        "- Greater than or equal to: a >= b\n",
        "- These conditions can be used in several ways, most commonly in \"if statements\" and loops.\n",
        "\n",
        "An \"if statement\" is written by using the `if` keyword.\n",
        "\n",
        "In a Python program, the `if statement` is how you perform this sort of **decision-making**. It allows for conditional execution of a statement or group of statements based on the value of an expression."
      ]
    },
    {
      "cell_type": "markdown",
      "metadata": {
        "id": "1anBI1Yg0aLV"
      },
      "source": [
        "### Introduction to the if Statement\n",
        "\n",
        "We’ll start by looking at the most basic type of if statement. In its simplest form, it looks like this:\n",
        "\n",
        "```py\n",
        "if <expr>:\n",
        "    <statement>\n",
        "```\n",
        "\n",
        "In the form shown above:\n",
        "\n",
        "- `<expr>` is an expression evaluated in Boolean context.\n",
        "- `<statement>` is a valid Python statement, which must be indented.\n",
        "\n",
        "If `<expr>` is true (evaluates to a value that is “truthy”), then `<statement>` is executed. If `<expr>` is false, then `<statement>` is skipped over and not executed.\n",
        "\n",
        "Note that the colon `(:)` following `<expr>` is required. Some programming languages require `<expr>` to be enclosed in parentheses, but Python does not."
      ]
    },
    {
      "cell_type": "code",
      "metadata": {
        "id": "kwGGngHl0aLX",
        "outputId": "8a49b10a-4112-4b16-e640-fd95dd384d33"
      },
      "source": [
        "x = 0\n",
        "y = 5\n",
        "\n",
        "if x < y:                            # Truthy\n",
        "    print('yes')\n",
        "\n",
        "if y < x:                            # Falsy\n",
        "    print('yes')\n",
        "\n",
        "if x:                                # Falsy\n",
        "    print('yes')\n",
        "\n",
        "if y:                                # Truthy\n",
        "    print('yes')\n",
        "\n",
        "if 'aul' in 'grault':                # Truthy\n",
        "    print('yes')\n",
        "\n",
        "if 'quux' in ['foo', 'bar', 'baz']:  # Falsy\n",
        "    print('yes')"
      ],
      "execution_count": null,
      "outputs": [
        {
          "output_type": "stream",
          "text": [
            "yes\n",
            "yes\n",
            "yes\n"
          ],
          "name": "stdout"
        }
      ]
    },
    {
      "cell_type": "markdown",
      "metadata": {
        "id": "lyBLT9Ug0aLa"
      },
      "source": [
        "### Grouping Statements: Indentation and Blocks\n",
        "\n",
        "So far, so good.\n",
        "\n",
        "But let’s say you want to evaluate a condition and then do more than one thing if it is true:\n",
        "\n",
        "If the weather is nice, then I will:\n",
        "\n",
        "- Mow the lawn\n",
        "- Weed the garden\n",
        "- Take the dog for a walk\n",
        "\n",
        "(If the weather isn’t nice, then I won’t do any of these things.)\n",
        "\n",
        "In all the examples shown above, each if `<expr>`: has been followed by only a single `<statement>`. There needs to be some way to say “If `<expr>` is true, do all of the following things.”\n",
        "\n",
        "The usual approach taken by most programming languages is to define a syntactic device that groups multiple statements into one compound statement or block. A block is regarded syntactically as a single entity. When it is the target of an if statement, and `<expr>` is true, then all the statements in the block are executed. If `<expr>` is false, then none of them are.\n",
        "\n",
        "Virtually all programming languages provide the capability to define blocks, but they don’t all provide it in the same way. Let’s see how Python does it.\n",
        "\n",
        "**Python: It’s All About the Indentation**\n",
        "\n",
        "Python follows a convention known as the off-side rule, a term coined by British computer scientist Peter J. Landin. (The term is taken from the offside law in association football.) Languages that adhere to the off-side rule define blocks by indentation. Python is one of a relatively small set of off-side rule languages.\n",
        "\n",
        "Recall from the previous tutorial on Python program structure that indentation has special significance in a Python program. Now you know why: indentation is used to define compound statements or blocks. In a Python program, contiguous statements that are indented to the same level are considered to be part of the same block.\n",
        "\n",
        "Thus, a compound if statement in Python looks like this:\n",
        "\n",
        "```py\n",
        "if <expr>:\n",
        "    <statement>\n",
        "    <statement>\n",
        "    ...\n",
        "    <statement>\n",
        "<following_statement>\n",
        "```\n",
        "\n",
        "Here, all the statements at the matching indentation level (lines 2 to 5) are considered part of the same block. The entire block is executed if `<expr>` is true, or skipped over if `<expr>` is false. Either way, execution proceeds with `<following_statement>` (line 6) afterward.\n",
        "    \n",
        "<img src='https://files.realpython.com/media/t.78f3bacaa261.png' />\n",
        "    \n",
        "Notice that there is no token that denotes the end of the block. Rather, the end of the block is indicated by a line that is indented less than the lines of the block itself."
      ]
    },
    {
      "cell_type": "code",
      "metadata": {
        "id": "ZGS_rYRZ0aLd",
        "outputId": "c77ad5e0-3b26-4a8a-c322-ad0085495582"
      },
      "source": [
        "if 'foo' in ['bar', 'baz', 'qux']:\n",
        "    print('Expression was true')\n",
        "    print('Executing statement in suite')\n",
        "    print('...')\n",
        "    print('Done.')\n",
        "\n",
        "print('After conditional')"
      ],
      "execution_count": null,
      "outputs": [
        {
          "output_type": "stream",
          "text": [
            "After conditional\n"
          ],
          "name": "stdout"
        }
      ]
    },
    {
      "cell_type": "markdown",
      "metadata": {
        "id": "uzvYtj8g0aLe"
      },
      "source": [
        "The four print() statements on lines 2 to 5 are indented to the same level as one another. They constitute the block that would be executed if the condition were true. But it is false, so all the statements in the block are skipped. After the end of the compound if statement has been reached (whether the statements in the block on lines 2 to 5 are executed or not), execution proceeds to the first statement having a lesser indentation level: the print() statement on line 6.\n",
        "\n",
        "Blocks can be nested to arbitrary depth. Each indent defines a new block, and each outdent ends the preceding block. The resulting structure is straightforward, consistent, and intuitive.\n",
        "\n",
        "Here is a more complicated script:"
      ]
    },
    {
      "cell_type": "code",
      "metadata": {
        "id": "7OR3OO410aLg",
        "outputId": "16e4b7ad-43d2-48b8-cda5-4be0ed59ff20"
      },
      "source": [
        "# Does line execute?                        Yes    No\n",
        "#                                           ---    --\n",
        "if 'foo' in ['foo', 'bar', 'baz']:        #  x\n",
        "    print('Outer condition is true')      #  x\n",
        "\n",
        "    if 10 > 20:                           #  x\n",
        "        print('Inner condition 1')        #        x\n",
        "\n",
        "    print('Between inner conditions')     #  x\n",
        "\n",
        "    if 10 < 20:                           #  x\n",
        "        print('Inner condition 2')        #  x\n",
        "\n",
        "    print('End of outer condition')       #  x\n",
        "print('After outer condition')            #  x"
      ],
      "execution_count": null,
      "outputs": [
        {
          "output_type": "stream",
          "text": [
            "Outer condition is true\n",
            "Between inner conditions\n",
            "Inner condition 2\n",
            "End of outer condition\n",
            "After outer condition\n"
          ],
          "name": "stdout"
        }
      ]
    },
    {
      "cell_type": "markdown",
      "metadata": {
        "id": "DD0zhL-f0aLi"
      },
      "source": [
        "### The else and elif Clauses\n",
        "\n",
        "Now you know how to use an if statement to conditionally execute a single statement or a block of several statements. It’s time to find out what else you can do.\n",
        "\n",
        "Sometimes, you want to evaluate a condition and take one path if it is true but specify an alternative path if it is not. This is accomplished with an else clause:\n",
        "\n",
        "```py\n",
        "if <expr>:\n",
        "    <statement(s)>\n",
        "else:\n",
        "    <statement(s)>\n",
        "```\n",
        "\n",
        "If `<expr>` is true, the first suite is executed, and the second is skipped. If <expr> is false, the first suite is skipped and the second is executed. Either way, execution then resumes after the second suite. Both suites are defined by indentation, as described above.\n",
        "\n",
        "In this example, x is less than 50, so the first suite (lines 4 to 5) are executed, and the second suite (lines 7 to 8) are skipped:"
      ]
    },
    {
      "cell_type": "code",
      "metadata": {
        "colab": {
          "base_uri": "https://localhost:8080/"
        },
        "id": "hzxMWiaJ0aLj",
        "outputId": "dbb84774-082f-44dc-bb63-39ac75802e84"
      },
      "source": [
        "x = 20\n",
        "\n",
        "if x < 50:\n",
        "    print('(first suite)')\n",
        "    print('x is small')\n",
        "else:\n",
        "    print('(second suite)')\n",
        "    print('x is large')"
      ],
      "execution_count": null,
      "outputs": [
        {
          "output_type": "stream",
          "text": [
            "(first suite)\n",
            "x is small\n"
          ],
          "name": "stdout"
        }
      ]
    },
    {
      "cell_type": "markdown",
      "metadata": {
        "id": "6F6duhif0aLl"
      },
      "source": [
        "Here, on the other hand, x is greater than 50, so the first suite is passed over, and the second suite executed:"
      ]
    },
    {
      "cell_type": "code",
      "metadata": {
        "id": "GykvTnTH0aLl",
        "outputId": "2de146e8-ea6e-4792-a6ae-5e2e2afbc214"
      },
      "source": [
        "x = 120\n",
        "\n",
        "if x < 50:\n",
        "    print('(first suite)')\n",
        "    print('x is small')\n",
        "else:\n",
        "    print('(second suite)')\n",
        "    print('x is large')"
      ],
      "execution_count": null,
      "outputs": [
        {
          "output_type": "stream",
          "text": [
            "(second suite)\n",
            "x is large\n"
          ],
          "name": "stdout"
        }
      ]
    },
    {
      "cell_type": "code",
      "metadata": {
        "id": "g-UWru310aLm",
        "outputId": "2f4e89a8-1067-401d-e715-cc2728236ea0"
      },
      "source": [
        "hargaBuku = 20000\n",
        "hargaMajalah = 5000\n",
        "uang = 2000\n",
        "\n",
        "if uang > hargaBuku:\n",
        "    print(\"beli buku\")\n",
        "else:\n",
        "    print(\"uang tidak cukup\")"
      ],
      "execution_count": null,
      "outputs": [
        {
          "output_type": "stream",
          "text": [
            "uang tidak cukup\n"
          ],
          "name": "stdout"
        }
      ]
    },
    {
      "cell_type": "markdown",
      "metadata": {
        "id": "Tev8x74p0aLn"
      },
      "source": [
        "There is also syntax for branching execution based on several alternatives. For this, use one or more elif (short for else if) clauses. Python evaluates each `<expr>` in turn and executes the suite corresponding to the first that is true. If none of the expressions are true, and an else clause is specified, then its suite is executed:\n",
        "    \n",
        "```py\n",
        "if <expr>:\n",
        "    <statement(s)>\n",
        "elif <expr>:\n",
        "    <statement(s)>\n",
        "elif <expr>:\n",
        "    <statement(s)>\n",
        "    ...\n",
        "else:\n",
        "    <statement(s)>\n",
        "```\n",
        "\n",
        "An arbitrary number of elif clauses can be specified. The else clause is optional. If it is present, there can be only one, and it must be specified last:"
      ]
    },
    {
      "cell_type": "code",
      "metadata": {
        "id": "XjbF2pyO0aLo",
        "outputId": "39e5fe94-a686-4ab3-8f2c-2725fed3478f"
      },
      "source": [
        "hargaBuku = 20000\n",
        "hargaMajalah = 5000\n",
        "uang = 2000\n",
        "\n",
        "if uang > hargaBuku:\n",
        "    print(\"beli buku\")\n",
        "elif uang > hargaMajalah:\n",
        "    print(\"beli majalah\")\n",
        "else:\n",
        "    print(\"uang tidak cukup\")"
      ],
      "execution_count": null,
      "outputs": [
        {
          "output_type": "stream",
          "text": [
            "uang tidak cukup\n"
          ],
          "name": "stdout"
        }
      ]
    },
    {
      "cell_type": "code",
      "metadata": {
        "id": "tHEHSZsv0aLp",
        "outputId": "29824216-b33a-40ab-9387-fe591a64dd90"
      },
      "source": [
        "name = 'Hacktiv8'\n",
        "if name == 'Fred':\n",
        "    print('Hello Fred')\n",
        "elif name == 'Xander':\n",
        "    print('Hello Xander')\n",
        "elif name == 'Hacktiv8':\n",
        "    print('Hello Hacktiv8')\n",
        "elif name == 'Arnold':\n",
        "    print('Hello Arnold')\n",
        "else:\n",
        "    print(\"I don't know who you are!\")"
      ],
      "execution_count": null,
      "outputs": [
        {
          "output_type": "stream",
          "text": [
            "Hello Hacktiv8\n"
          ],
          "name": "stdout"
        }
      ]
    },
    {
      "cell_type": "markdown",
      "metadata": {
        "id": "Cn4TpW6v0aLq"
      },
      "source": [
        "At most, one of the code blocks specified will be executed. If an else clause isn’t included, and all the conditions are false, then none of the blocks will be executed."
      ]
    },
    {
      "cell_type": "markdown",
      "metadata": {
        "id": "DA9gEOln0aLq"
      },
      "source": [
        "An if statement with elif clauses uses short-circuit evaluation, analogous to what you saw with the and and or operators. Once one of the expressions is found to be true and its block is executed, none of the remaining expressions are tested. This is demonstrated below:"
      ]
    },
    {
      "cell_type": "code",
      "metadata": {
        "id": "mvXeT8ls0aLr",
        "outputId": "badfafe4-d418-4bda-9be3-88f70b87c0d0"
      },
      "source": [
        "if 'a' in 'bar':\n",
        "    print('foo')\n",
        "elif 1/0:\n",
        "    print(\"This won't happen\")\n",
        "elif var:\n",
        "    print(\"This won't either\")"
      ],
      "execution_count": null,
      "outputs": [
        {
          "output_type": "stream",
          "text": [
            "foo\n"
          ],
          "name": "stdout"
        }
      ]
    },
    {
      "cell_type": "markdown",
      "metadata": {
        "id": "aEqx1xc_0aLs"
      },
      "source": [
        "### One-Line if Statements\n",
        "\n",
        "It is customary to write if `<expr>` on one line and `<statement>` indented on the following line like this:\n",
        "\n",
        "```py\n",
        "if <expr>:\n",
        "    <statement>\n",
        "```\n",
        "\n",
        "But it is permissible to write an entire if statement on one line. The following is functionally equivalent to the example above:\n",
        "\n",
        "`if <expr>: <statement>`\n",
        "\n",
        "There can even be more than one `<statement>` on the same line, separated by semicolons:\n",
        "\n",
        "`if <expr>: <statement_1>; <statement_2>; ...; <statement_n>`\n",
        "\n",
        "But what does this mean? There are two possible interpretations:\n",
        "\n",
        "If `<expr>` is true, execute `<statement_1>`.\n",
        "\n",
        "Then, execute `<statement_2>` ... `<statement_n>` unconditionally, irrespective of whether `<expr>` is true or not.\n",
        "\n",
        "If `<expr>` is true, execute all of `<statement_1>` ... `<statement_n>`. Otherwise, don’t execute any of them.\n",
        "\n",
        "Python takes the latter interpretation. The semicolon separating the `<statements>` has higher precedence than the colon following `<expr>`—in computer lingo, the semicolon is said to bind more tightly than the colon. Thus, the `<statements>` are treated as a suite, and either all of them are executed, or none of them are:"
      ]
    },
    {
      "cell_type": "code",
      "metadata": {
        "id": "w8-OIop60aLt",
        "outputId": "4183afbe-b725-47bf-e57d-a3830c5d43de"
      },
      "source": [
        "if 'f' in 'foo': print('1'); print('2'); print('3')"
      ],
      "execution_count": null,
      "outputs": [
        {
          "output_type": "stream",
          "text": [
            "1\n",
            "2\n",
            "3\n"
          ],
          "name": "stdout"
        }
      ]
    },
    {
      "cell_type": "code",
      "metadata": {
        "id": "2HCYOkzk0aLv"
      },
      "source": [
        "if 'z' in 'foo': print('1'); print('2'); print('3')"
      ],
      "execution_count": null,
      "outputs": []
    },
    {
      "cell_type": "markdown",
      "metadata": {
        "id": "sqswpa1F0aLw"
      },
      "source": [
        "Multiple statements may be specified on the same line as an elif or else clause as well:"
      ]
    },
    {
      "cell_type": "code",
      "metadata": {
        "id": "0tJfnAdK0aLx",
        "outputId": "d77fed38-3ddc-4fd9-e0b8-1f9c81803efe"
      },
      "source": [
        "x = 2\n",
        "\n",
        "if x == 1: print('foo'); print('bar'); print('baz')\n",
        "elif x == 2: print('qux'); print('quux')\n",
        "else: print('corge'); print('grault')"
      ],
      "execution_count": null,
      "outputs": [
        {
          "output_type": "stream",
          "text": [
            "qux\n",
            "quux\n"
          ],
          "name": "stdout"
        }
      ]
    },
    {
      "cell_type": "code",
      "metadata": {
        "id": "cRfKDi8K0aLy",
        "outputId": "0d030d5c-fcff-491f-e1d0-ca6b8d95f1cb"
      },
      "source": [
        "x = 3\n",
        "if x == 1: print('foo'); print('bar'); print('baz')\n",
        "elif x == 2: print('qux'); print('quux')\n",
        "else: print('corge'); print('grault')"
      ],
      "execution_count": null,
      "outputs": [
        {
          "output_type": "stream",
          "text": [
            "corge\n",
            "grault\n"
          ],
          "name": "stdout"
        }
      ]
    },
    {
      "cell_type": "markdown",
      "metadata": {
        "id": "-0kWa8nh0aLz"
      },
      "source": [
        "While all of this works, and the interpreter allows it, it is generally discouraged on the grounds that it leads to poor readability, particularly for complex if statements. PEP 8 specifically recommends against it.\n",
        "\n",
        "As usual, it is somewhat a matter of taste. Most people would find the following more visually appealing and easier to understand at first glance than the example above:"
      ]
    },
    {
      "cell_type": "code",
      "metadata": {
        "id": "7b2ddTsX0aL0",
        "outputId": "89cc8def-855b-4783-ca33-332f7f35eda8"
      },
      "source": [
        "x = 3\n",
        "if x == 1:\n",
        "    print('foo')\n",
        "    print('bar')\n",
        "    print('baz')\n",
        "elif x == 2:\n",
        "    print('qux')\n",
        "    print('quux')\n",
        "else:\n",
        "    print('corge')\n",
        "    print('grault')"
      ],
      "execution_count": null,
      "outputs": [
        {
          "output_type": "stream",
          "text": [
            "corge\n",
            "grault\n"
          ],
          "name": "stdout"
        }
      ]
    },
    {
      "cell_type": "markdown",
      "metadata": {
        "id": "qB9bN0UH0aL1"
      },
      "source": [
        "### Conditional Expressions (Python’s Ternary Operator)\n",
        "\n",
        "Python supports one additional decision-making entity called a conditional expression. (It is also referred to as a conditional operator or ternary operator in various places in the Python documentation.) Conditional expressions were proposed for addition to the language in PEP 308 and green-lighted by Guido in 2005.\n",
        "\n",
        "In its simplest form, the syntax of the conditional expression is as follows:\n",
        "\n",
        "`<expr1> if <conditional_expr> else <expr2>`\n",
        "\n",
        "This is different from the if statement forms listed above because it is not a control structure that directs the flow of program execution. It acts more like an operator that defines an expression. In the above example, `<conditional_expr>` is evaluated first. If it is true, the expression evaluates to `<expr1>`. If it is false, the expression evaluates to `<expr2>`.\n",
        "\n",
        "Notice the non-obvious order: the middle expression is evaluated first, and based on that result, one of the expressions on the ends is returned. Here are some examples that will hopefully help clarify:"
      ]
    },
    {
      "cell_type": "code",
      "metadata": {
        "id": "HzxSicZW0aL2",
        "outputId": "c6c97f90-bef3-4eb2-cdcc-36c15b58c04f"
      },
      "source": [
        "raining = False\n",
        "print(\"Let's go to the\", 'beach' if not raining else 'library')"
      ],
      "execution_count": null,
      "outputs": [
        {
          "output_type": "stream",
          "text": [
            "Let's go to the beach\n"
          ],
          "name": "stdout"
        }
      ]
    },
    {
      "cell_type": "code",
      "metadata": {
        "id": "y68-CLyB0aL3",
        "outputId": "59b47c47-2a34-4cf4-e2d9-ddab790794d0"
      },
      "source": [
        "raining = True\n",
        "print(\"Let's go to the\", 'beach' if not raining else 'library')"
      ],
      "execution_count": null,
      "outputs": [
        {
          "output_type": "stream",
          "text": [
            "Let's go to the library\n"
          ],
          "name": "stdout"
        }
      ]
    },
    {
      "cell_type": "code",
      "metadata": {
        "id": "KFMA8X2I0aL4",
        "outputId": "9f167ac0-10ce-453b-be2f-6237e5f352f9"
      },
      "source": [
        "age = 12\n",
        "s = 'teen' if age < 21 else 'adult'\n",
        "s"
      ],
      "execution_count": null,
      "outputs": [
        {
          "output_type": "execute_result",
          "data": {
            "text/plain": [
              "'teen'"
            ]
          },
          "metadata": {
            "tags": []
          },
          "execution_count": 17
        }
      ]
    },
    {
      "cell_type": "code",
      "metadata": {
        "id": "Ke61oTpg0aL6",
        "outputId": "f9b38eaa-10ce-46d3-8da1-e704db4f6dc6"
      },
      "source": [
        "'yes' if ('qux' in ['foo', 'bar', 'baz']) else 'no'"
      ],
      "execution_count": null,
      "outputs": [
        {
          "output_type": "execute_result",
          "data": {
            "text/plain": [
              "'no'"
            ]
          },
          "metadata": {
            "tags": []
          },
          "execution_count": 18
        }
      ]
    },
    {
      "cell_type": "markdown",
      "metadata": {
        "id": "hTIfxkjc0aL7"
      },
      "source": [
        "You could use a standard if statement with an else clause:\n",
        "\n",
        "```py\n",
        "if a > b:\n",
        "    m = a\n",
        "else:\n",
        "    m = b\n",
        "```\n",
        "\n",
        "But a conditional expression is shorter and arguably more readable as well:\n",
        "\n",
        "`m = a if a > b else b`\n",
        "\n",
        "Remember that the conditional expression behaves like an expression syntactically. It can be used as part of a longer expression. The conditional expression has lower precedence than virtually all the other operators, so parentheses are needed to group it by itself."
      ]
    },
    {
      "cell_type": "markdown",
      "metadata": {
        "id": "iKtjc8z_0aL8"
      },
      "source": [
        "In the expression `<expr1>` if `<conditional_expr>` else `<expr2>`:\n",
        "\n",
        "`If <conditional_expr> is true, <expr1> is returned and <expr2> is not evaluated.`\n",
        "\n",
        "`If <conditional_expr> is false, <expr2> is returned and <expr1> is not evaluated.`"
      ]
    },
    {
      "cell_type": "markdown",
      "metadata": {
        "id": "R6c9zZE10aL8"
      },
      "source": [
        "### The Python pass Statement\n",
        "\n",
        "Occasionally, you may find that you want to write what is called a code stub: a placeholder for where you will eventually put a block of code that you haven’t implemented yet."
      ]
    },
    {
      "cell_type": "markdown",
      "metadata": {
        "id": "SRgByiF90aL9"
      },
      "source": [
        "Consider this script foo.py:\n",
        "\n",
        "```py\n",
        "if True:\n",
        "\n",
        "print('foo')\n",
        "```\n",
        "\n",
        "If you try to run foo.py, you’ll get this:\n",
        "\n",
        "```py\n",
        "  File \"foo.py\", line 3\n",
        "    print('foo')\n",
        "        ^\n",
        "IndentationError: expected an indented block\n",
        "```\n",
        "\n",
        "The Python pass statement solves this problem. It doesn’t change program behavior at all. It is used as a placeholder to keep the interpreter happy in any situation where a statement is syntactically required, but you don’t really want to do anything:\n",
        "\n",
        "```py\n",
        "if True:\n",
        "    pass\n",
        "\n",
        "print('foo')\n",
        "```\n",
        "\n",
        "Now file runs without error.\n",
        "\n",
        "______"
      ]
    },
    {
      "cell_type": "code",
      "metadata": {
        "id": "Cx7couN50aL-",
        "outputId": "dda5c0ab-7ff4-4b8e-e5d5-fb6bf2ee3599"
      },
      "source": [
        "if True:\n",
        "    pass\n",
        "print('foo')"
      ],
      "execution_count": null,
      "outputs": [
        {
          "output_type": "stream",
          "text": [
            "foo\n"
          ],
          "name": "stdout"
        }
      ]
    },
    {
      "cell_type": "markdown",
      "metadata": {
        "id": "fzUAwrC3xOC9"
      },
      "source": [
        "# ITERATION\n",
        "\n",
        "**Iteration** means executing the same block of code over and over, potentially many times. A programming structure that implements iteration is called a loop.\n",
        "\n",
        "In programming, there are two types of iteration, indefinite and definite:\n",
        "\n",
        "- With **indefinite iteration**, the number of times the loop is executed isn’t specified explicitly in advance. Rather, the designated block is executed repeatedly as long as some condition is met.\n",
        "- With **definite iteration**, the number of times the designated block will be executed is specified explicitly at the time the loop starts."
      ]
    },
    {
      "cell_type": "markdown",
      "metadata": {
        "id": "xSJMXW6UxOC-"
      },
      "source": [
        "## Python \"while\" Loops"
      ]
    },
    {
      "cell_type": "markdown",
      "metadata": {
        "id": "CvBie-XTxOC_"
      },
      "source": [
        "Let’s see how Python’s while statement is used to construct loops. We’ll start simple and embellish as we go.\n",
        "\n",
        "The format of a rudimentary while loop is shown below:\n",
        "\n",
        "```py\n",
        "while <expr>:\n",
        "    <statement(s)>\n",
        "```\n",
        "\n",
        "`<statement(s)>` represents the block to be repeatedly executed, often referred to as the body of the loop. This is denoted with indentation, just as in an if statement.\n",
        "\n",
        "The controlling expression, `<expr>`, typically involves one or more variables that are initialized prior to starting the loop and then modified somewhere in the loop body.\n",
        "\n",
        "When a while loop is encountered, `<expr>` is first evaluated in Boolean context. If it is true, the loop body is executed. Then `<expr>` is checked again, and if still true, the body is executed again. This continues until `<expr>` becomes false, at which point program execution proceeds to the first statement beyond the loop body.\n",
        "\n",
        "Consider this loop:"
      ]
    },
    {
      "cell_type": "code",
      "metadata": {
        "id": "knssqIjqxODA",
        "outputId": "e3cf39bb-147d-412b-8fa2-9cdbd95758c7"
      },
      "source": [
        "n = 5\n",
        "while n > 0:\n",
        "    n -= 1\n",
        "    print(n)"
      ],
      "execution_count": null,
      "outputs": [
        {
          "output_type": "stream",
          "text": [
            "4\n",
            "3\n",
            "2\n",
            "1\n",
            "0\n"
          ],
          "name": "stdout"
        }
      ]
    },
    {
      "cell_type": "code",
      "metadata": {
        "id": "shmioWUJxODC",
        "outputId": "e9bcc72f-4db7-484a-db73-1e5b8fd96d82"
      },
      "source": [
        "i = 1\n",
        "while i < 6:\n",
        "  print(i)\n",
        "  i += 1"
      ],
      "execution_count": null,
      "outputs": [
        {
          "output_type": "stream",
          "text": [
            "1\n",
            "2\n",
            "3\n",
            "4\n",
            "5\n"
          ],
          "name": "stdout"
        }
      ]
    },
    {
      "cell_type": "markdown",
      "metadata": {
        "id": "hwaHbRXoxODC"
      },
      "source": [
        "Here’s what’s happening in this example:\n",
        "\n",
        "- n is initially 5. The expression in the while statement header on line 2 is n > 0, which is true, so the loop body executes. Inside the loop body on line 3, n is decremented by 1 to 4, and then printed.\n",
        "\n",
        "- When the body of the loop has finished, program execution returns to the top of the loop at line 2, and the expression is evaluated again. It is still true, so the body executes again, and 3 is printed.\n",
        "\n",
        "- This continues until n becomes 0. At that point, when the expression is tested, it is false, and the loop terminates. Execution would resume at the first statement following the loop body, but there isn’t one in this case."
      ]
    },
    {
      "cell_type": "markdown",
      "metadata": {
        "id": "pTtOwv3-xODD"
      },
      "source": [
        "### The Python break and continue Statements\n",
        "\n",
        "In each example you have seen so far, the entire body of the while loop is executed on each iteration. Python provides two keywords that terminate a loop iteration prematurely:\n",
        "\n",
        "- The Python break statement immediately terminates a loop entirely. Program execution proceeds to the first statement following the loop body.\n",
        "\n",
        "- The Python continue statement immediately terminates the current loop iteration. Execution jumps to the top of the loop, and the controlling expression is re-evaluated to determine whether the loop will execute again or terminate.\n",
        "\n",
        "The distinction between break and continue is demonstrated in the following diagram:\n",
        "\n",
        "<img src='https://files.realpython.com/media/t.899f357dd948.png' />"
      ]
    },
    {
      "cell_type": "code",
      "metadata": {
        "id": "iaf3gbd0xODD",
        "outputId": "0a64c091-a753-4bd8-b699-db89c3e3e112"
      },
      "source": [
        "n = 5\n",
        "while n > 0:\n",
        "    n -= 1\n",
        "    if n == 2:\n",
        "        break # Break Statement\n",
        "    print(n)\n",
        "print('Loop ended.')"
      ],
      "execution_count": null,
      "outputs": [
        {
          "output_type": "stream",
          "text": [
            "4\n",
            "3\n",
            "Loop ended.\n"
          ],
          "name": "stdout"
        }
      ]
    },
    {
      "cell_type": "markdown",
      "metadata": {
        "id": "3u1B1xZhxODE"
      },
      "source": [
        "When n becomes 2, the break statement is executed. The loop is terminated completely, and program execution jumps to the print() statement on line 7.\n",
        "\n",
        "The next script, continue, is identical except for a continue statement in place of the break:\n",
        "\n"
      ]
    },
    {
      "cell_type": "code",
      "metadata": {
        "id": "TfPWsYQ7xODE",
        "outputId": "bade4be8-3293-4998-d691-ee7ca811371b"
      },
      "source": [
        "n = 5\n",
        "while n > 0:\n",
        "    n -= 1\n",
        "    if n == 2:\n",
        "        continue\n",
        "    print(n)\n",
        "print('Loop ended.')"
      ],
      "execution_count": null,
      "outputs": [
        {
          "output_type": "stream",
          "text": [
            "4\n",
            "3\n",
            "1\n",
            "0\n",
            "Loop ended.\n"
          ],
          "name": "stdout"
        }
      ]
    },
    {
      "cell_type": "markdown",
      "metadata": {
        "id": "O_8bQAkTxODF"
      },
      "source": [
        "This time, when n is 2, the continue statement causes termination of that iteration. Thus, 2 isn’t printed. Execution returns to the top of the loop, the condition is re-evaluated, and it is still true. The loop resumes, terminating when n becomes 0, as previously."
      ]
    },
    {
      "cell_type": "markdown",
      "metadata": {
        "id": "bcD1hAbqxODF"
      },
      "source": [
        "### The else Clause\n",
        "Python allows an optional else clause at the end of a while loop. This is a unique feature of Python, not found in most other programming languages. The syntax is shown below:\n",
        "\n",
        "```py\n",
        "while <expr>:\n",
        "    <statement(s)>\n",
        "else:\n",
        "    <additional_statement(s)>\n",
        "```\n",
        "The `<additional_statement(s)>` specified in the else clause will be executed when the while loop terminates."
      ]
    },
    {
      "cell_type": "code",
      "metadata": {
        "id": "k6f3md0_xODF",
        "outputId": "4e56bddd-fd65-4450-87b9-2cb81335a8b5"
      },
      "source": [
        "n = 5\n",
        "while n > 0:\n",
        "    n -= 1\n",
        "    print(n)\n",
        "else:\n",
        "    print('Loop done.')"
      ],
      "execution_count": null,
      "outputs": [
        {
          "output_type": "stream",
          "text": [
            "4\n",
            "3\n",
            "2\n",
            "1\n",
            "0\n",
            "Loop done.\n"
          ],
          "name": "stdout"
        }
      ]
    },
    {
      "cell_type": "markdown",
      "metadata": {
        "id": "yFfkYDkvxODG"
      },
      "source": [
        "In this case, the loop repeated until the condition was exhausted: n became 0, so n > 0 became false. Because the loop lived out its natural life, so to speak, the else clause was executed. Now observe the difference here:"
      ]
    },
    {
      "cell_type": "code",
      "metadata": {
        "id": "L8wGpGPJxODG",
        "outputId": "8314b286-a7f1-475d-c71a-d3749db3d023"
      },
      "source": [
        "n = 5\n",
        "while n > 0:\n",
        "    n -= 1\n",
        "    print(n)\n",
        "    if n == 2:\n",
        "        break\n",
        "else:\n",
        "    print('Loop done.')"
      ],
      "execution_count": null,
      "outputs": [
        {
          "output_type": "stream",
          "text": [
            "4\n",
            "3\n",
            "2\n"
          ],
          "name": "stdout"
        }
      ]
    },
    {
      "cell_type": "markdown",
      "metadata": {
        "id": "DS4X_TmuxODH"
      },
      "source": [
        "This loop is terminated prematurely with break, so the else clause isn’t executed."
      ]
    },
    {
      "cell_type": "markdown",
      "metadata": {
        "id": "Yj2mWsi8xODH"
      },
      "source": [
        "### Infinite Loops\n",
        "\n",
        "Suppose you write a while loop that theoretically never ends. Sounds weird, right?\n",
        "\n",
        "Consider this example:\n",
        "\n",
        "```py\n",
        "while True:\n",
        "    print('foo')\n",
        "```"
      ]
    },
    {
      "cell_type": "markdown",
      "metadata": {
        "id": "n6p3Bh6bxODH"
      },
      "source": [
        "### Nested while Loops\n",
        "\n",
        "In general, Python control structures can be nested within one another. For example, if/elif/else conditional statements can be nested:\n",
        "\n",
        "```py\n",
        "if age < 18:\n",
        "    if gender == 'M':\n",
        "        print('son')\n",
        "    else:\n",
        "        print('daughter')\n",
        "elif age >= 18 and age < 65:\n",
        "    if gender == 'M':\n",
        "        print('father')\n",
        "    else:\n",
        "        print('mother')\n",
        "else:\n",
        "    if gender == 'M':\n",
        "        print('grandfather')\n",
        "    else:\n",
        "        print('grandmother')\n",
        "```\n",
        "\n",
        "Similarly, a while loop can be contained within another while loop, as shown here:"
      ]
    },
    {
      "cell_type": "code",
      "metadata": {
        "id": "Pln8Q0SfxODI",
        "outputId": "d74d73da-4a79-4b2d-89a5-9cac22339355"
      },
      "source": [
        "a = ['foo', 'bar']\n",
        "\n",
        "while len(a):\n",
        "    print(a.pop(0))\n",
        "\n",
        "    b = ['baz', 'qux']\n",
        "\n",
        "    while len(b):\n",
        "        print('>', b.pop(0))"
      ],
      "execution_count": null,
      "outputs": [
        {
          "output_type": "stream",
          "text": [
            "foo\n",
            "> baz\n",
            "> qux\n",
            "bar\n",
            "> baz\n",
            "> qux\n"
          ],
          "name": "stdout"
        }
      ]
    },
    {
      "cell_type": "markdown",
      "metadata": {
        "id": "zdMXl9kDxODI"
      },
      "source": [
        "A break or continue statement found within nested loops applies to the nearest enclosing loop:\n",
        "\n",
        "```py\n",
        "while <expr1>:\n",
        "    statement\n",
        "    statement\n",
        "\n",
        "    while <expr2>:\n",
        "        statement\n",
        "        statement\n",
        "        break  # Applies to while <expr2>: loop\n",
        "\n",
        "    break  # Applies to while <expr1>: loop\n",
        "```\n",
        "\n",
        "Additionally, while loops can be nested inside if/elif/else statements, and vice versa:\n",
        "\n",
        "```py\n",
        "if <expr>:\n",
        "    statement\n",
        "    while <expr>:\n",
        "        statement\n",
        "        statement\n",
        "else:\n",
        "    while <expr>:\n",
        "        statement\n",
        "        statement\n",
        "    statement\n",
        "while <expr>:\n",
        "    if <expr>:\n",
        "        statement\n",
        "    elif <expr>:\n",
        "        statement\n",
        "    else:\n",
        "        statement\n",
        "\n",
        "    if <expr>:\n",
        "        statement\n",
        "```"
      ]
    },
    {
      "cell_type": "markdown",
      "metadata": {
        "id": "q1Q-T5gbxODI"
      },
      "source": [
        "### One-Line while Loops\n",
        "\n",
        "As with an if statement, a while loop can be specified on one line. If there are multiple statements in the block that makes up the loop body, they can be separated by semicolons (;):"
      ]
    },
    {
      "cell_type": "code",
      "metadata": {
        "id": "yYv6_sVVxODJ",
        "outputId": "84212edb-7276-4527-8a6c-977b7eed7645"
      },
      "source": [
        "n = 5\n",
        "while n > 0: n -= 1; print(n)"
      ],
      "execution_count": null,
      "outputs": [
        {
          "output_type": "stream",
          "text": [
            "4\n",
            "3\n",
            "2\n",
            "1\n",
            "0\n"
          ],
          "name": "stdout"
        }
      ]
    },
    {
      "cell_type": "markdown",
      "metadata": {
        "id": "QnkfE1qNxODJ"
      },
      "source": [
        "_____\n",
        "\n",
        "## A Survey of Definite Iteration in Programming\n",
        "\n",
        "Definite iteration loops are frequently referred to as for loops because for is the keyword that is used to introduce them in nearly all programming languages, including Python.\n",
        "\n",
        "Historically, programming languages have offered a few assorted flavors of for loop. These are briefly described in the following sections.\n",
        "\n",
        "**Numeric Range Loop**\n",
        "\n",
        "The most basic for loop is a simple numeric range statement with start and end values. The exact format varies depending on the language but typically looks something like this:\n",
        "\n",
        "```py\n",
        "for i = 1 to 10\n",
        "    <loop body>\n",
        "```\n",
        "\n",
        "Here, the body of the loop is executed ten times. The variable i assumes the value 1 on the first iteration, 2 on the second, and so on. This sort of for loop is used in the languages BASIC, Algol, and Pascal.\n",
        "\n",
        "**Three-Expression Loop**\n",
        "\n",
        "Another form of for loop popularized by the C programming language contains three parts:\n",
        "\n",
        "- An initialization\n",
        "- An expression specifying an ending condition\n",
        "- An action to be performed at the end of each iteration.\n",
        "\n",
        "This type of has the following form:\n",
        "\n",
        "```py\n",
        "for (i = 1; i <= 10; i++)\n",
        "    <loop body>\n",
        "```\n",
        "\n",
        "This loop is interpreted as follows:\n",
        "\n",
        "- Initialize i to 1.\n",
        "- Continue looping as long as i <= 10.\n",
        "- Increment i by 1 after each loop iteration.\n",
        "\n",
        "Three-expression for loops are popular because the expressions specified for the three parts can be nearly anything, so this has quite a bit more flexibility than the simpler numeric range form shown above. These for loops are also featured in the C++, Java, PHP, and Perl languages.\n",
        "\n",
        "**Collection-Based or Iterator-Based Loop**\n",
        "\n",
        "This type of loop iterates over a collection of objects, rather than specifying numeric values or conditions:\n",
        "\n",
        "```py\n",
        "for i in <collection>\n",
        "    <loop body>\n",
        "```\n",
        "\n",
        "Each time through the loop, the variable i takes on the value of the next object in `<collection>`. This type of for loop is arguably the most generalized and abstract. Perl and PHP also support this type of loop, but it is introduced by the keyword foreach instead of for."
      ]
    },
    {
      "cell_type": "markdown",
      "metadata": {
        "id": "EMQo19e9xODK"
      },
      "source": [
        "## The Python for Loop\n",
        "\n",
        "Of the loop types listed above, Python only implements the last: collection-based iteration. At first blush, that may seem like a raw deal, but rest assured that Python’s implementation of definite iteration is so versatile that you won’t end up feeling cheated!\n",
        "\n",
        "Shortly, you’ll dig into the guts of Python’s for loop in detail. But for now, let’s start with a quick prototype and example, just to get acquainted.\n",
        "\n",
        "Python’s for loop looks like this:\n",
        "\n",
        "```py\n",
        "for <var> in <iterable>:\n",
        "    <statement(s)>\n",
        "```\n",
        "\n",
        "`<iterable>` is a collection of objects—for example, a list or tuple. The <statement(s)> in the loop body are denoted by indentation, as with all Python control structures, and are executed once for each item in `<iterable>`. The loop variable `<var>` takes on the value of the next element in `<iterable>` each time through the loop.\n",
        "\n",
        "Here is a representative example:"
      ]
    },
    {
      "cell_type": "code",
      "metadata": {
        "id": "NGCCmnbhxODL",
        "outputId": "deff7ed3-775c-4919-9afa-d9d503278087"
      },
      "source": [
        "a = ['foo', 'bar', 'baz']\n",
        "for i in a:\n",
        "    print(i)"
      ],
      "execution_count": null,
      "outputs": [
        {
          "output_type": "stream",
          "text": [
            "foo\n",
            "bar\n",
            "baz\n"
          ],
          "name": "stdout"
        }
      ]
    },
    {
      "cell_type": "markdown",
      "metadata": {
        "id": "-n0KYiNSxODM"
      },
      "source": [
        "In this example, `<iterable>` is the list a, and `<var>` is the variable i. Each time through the loop, i takes on a successive item in a, so print() displays the values 'foo', 'bar', and 'baz', respectively. A for loop like this is the Pythonic way to process the items in an iterable."
      ]
    },
    {
      "cell_type": "code",
      "metadata": {
        "id": "nbogOp-xxODM",
        "outputId": "5f887f8f-2c28-4c11-9372-b1ed1ac261cd"
      },
      "source": [
        "d = {'foo': 1, 'bar': 2, 'baz': 3}\n",
        "for k in d:\n",
        "    print(k)"
      ],
      "execution_count": null,
      "outputs": [
        {
          "output_type": "stream",
          "text": [
            "foo\n",
            "bar\n",
            "baz\n"
          ],
          "name": "stdout"
        }
      ]
    },
    {
      "cell_type": "code",
      "metadata": {
        "id": "TXDdzvtqxODM",
        "outputId": "fdc21ba3-b0a5-4fc4-dd5c-50bcb64fcd55"
      },
      "source": [
        "for k in d:\n",
        "    print(d[k])"
      ],
      "execution_count": null,
      "outputs": [
        {
          "output_type": "stream",
          "text": [
            "1\n",
            "2\n",
            "3\n"
          ],
          "name": "stdout"
        }
      ]
    },
    {
      "cell_type": "code",
      "metadata": {
        "id": "KSPozDsBxODN",
        "outputId": "16b78a93-3a00-481b-f115-719b2e214965"
      },
      "source": [
        "for k in d.values():\n",
        "    print(k)"
      ],
      "execution_count": null,
      "outputs": [
        {
          "output_type": "stream",
          "text": [
            "1\n",
            "2\n",
            "3\n"
          ],
          "name": "stdout"
        }
      ]
    },
    {
      "cell_type": "code",
      "metadata": {
        "id": "5rwrUzmZxODN",
        "outputId": "0a84ce34-1479-4661-dff0-9ba517b1a490"
      },
      "source": [
        "for k, v in d.items():\n",
        "    print(k, \":\", v)"
      ],
      "execution_count": null,
      "outputs": [
        {
          "output_type": "stream",
          "text": [
            "foo : 1\n",
            "bar : 2\n",
            "baz : 3\n"
          ],
          "name": "stdout"
        }
      ]
    },
    {
      "cell_type": "markdown",
      "metadata": {
        "id": "4lC1hENWxODO"
      },
      "source": [
        "### Iterating Through a Dictionary\n",
        "\n",
        "What happens when you loop through a dictionary? Let’s see:\n",
        "\n",
        "```py\n",
        "d = {'foo': 1, 'bar': 2, 'baz': 3}\n",
        "for k in d:\n",
        "    print(k)\n",
        "```\n",
        "\n",
        "As you can see, when a for loop iterates through a dictionary, the loop variable is assigned to the dictionary’s keys.\n",
        "\n",
        "To access the dictionary values within the loop, you can make a dictionary reference using the key as usual:\n",
        "\n",
        "```py\n",
        "for k in d:\n",
        "    print(d[k])\n",
        "```\n",
        "\n",
        "You can also iterate through a dictionary’s values directly by using .values():\n",
        "\n",
        "```py\n",
        "for v in d.values():\n",
        "    print(v)\n",
        "```"
      ]
    },
    {
      "cell_type": "markdown",
      "metadata": {
        "id": "UlJXOUD0xODO"
      },
      "source": [
        "### The range() Function\n",
        "\n",
        "In the first section of this session, you saw a type of for loop called a numeric range loop, in which starting and ending numeric values are specified. Although this form of for loop isn’t directly built into Python, it is easily arrived at.\n",
        "\n",
        "For example, if you wanted to iterate through the values from 0 to 4, you could simply do this:\n",
        "\n",
        "```py\n",
        "for n in (0, 1, 2, 3, 4):\n",
        "    print(n)\n",
        "```\n",
        "\n",
        "This solution isn’t too bad when there are just a few numbers. But if the number range were much larger, it would become tedious pretty quickly.\n",
        "\n",
        "Happily, Python provides a better option—the built-in range() function, which returns an iterable that yields a sequence of integers.\n",
        "\n",
        "range(`<end>`) returns an iterable that yields integers starting with 0, up to but not including `<end>`:\n",
        "\n",
        "```py\n",
        "x = range(5)\n",
        "```\n",
        "\n",
        "Note that range() returns an object of class range, not a list or tuple of the values. Because a range object is an iterable, you can obtain the values by iterating over them with a for loop:\n",
        "\n",
        "```py\n",
        "for n in x:\n",
        "    print(n)\n",
        "```\n",
        "\n",
        "### Altering for Loop Behavior\n",
        "\n",
        "You saw in the previous section in this session how execution of a while loop can be interrupted with break and continue statements and modified with an else clause. These capabilities are available with the for loop as well.\n",
        "\n",
        "**The break and continue Statements**\n",
        "\n",
        "break and continue work the same way with for loops as with while loops. break terminates the loop completely and proceeds to the first statement following the loop:\n",
        "\n"
      ]
    },
    {
      "cell_type": "code",
      "metadata": {
        "id": "EGjM5S0MxODO",
        "outputId": "622f059f-c3f4-462d-f0a7-da7b8daee007"
      },
      "source": [
        "for i in ['foo', 'bar', 'baz', 'qux']:\n",
        "    if 'b' in i:\n",
        "        break\n",
        "    print(i)"
      ],
      "execution_count": null,
      "outputs": [
        {
          "output_type": "stream",
          "text": [
            "foo\n"
          ],
          "name": "stdout"
        }
      ]
    },
    {
      "cell_type": "markdown",
      "metadata": {
        "id": "Sezc7Vl_xODP"
      },
      "source": [
        "continue terminates the current iteration and proceeds to the next iteration:"
      ]
    },
    {
      "cell_type": "code",
      "metadata": {
        "id": "eFHKfn-2xODP",
        "outputId": "185429fd-5c7e-42a8-9e40-3fe908f738f0"
      },
      "source": [
        "for i in ['foo', 'bar', 'baz', 'qux']:\n",
        "    if 'b' in i:\n",
        "        continue\n",
        "    print(i)"
      ],
      "execution_count": null,
      "outputs": [
        {
          "output_type": "stream",
          "text": [
            "foo\n",
            "qux\n"
          ],
          "name": "stdout"
        }
      ]
    },
    {
      "cell_type": "markdown",
      "metadata": {
        "id": "tjUq3HWpxODQ"
      },
      "source": [
        "**The else Clause**\n",
        "\n",
        "A for loop can have an else clause as well. The interpretation is analogous to that of a while loop. The else clause will be executed if the loop terminates through exhaustion of the iterable:"
      ]
    },
    {
      "cell_type": "code",
      "metadata": {
        "id": "FTErTWNpxODQ",
        "outputId": "00e57c4b-a6d3-40d1-ba9e-c68c68d390b2"
      },
      "source": [
        "for i in ['foo', 'bar', 'baz', 'qux']:\n",
        "    print(i)\n",
        "else:\n",
        "    print('Done.')  # Will execute"
      ],
      "execution_count": null,
      "outputs": [
        {
          "output_type": "stream",
          "text": [
            "foo\n",
            "bar\n",
            "baz\n",
            "qux\n",
            "Done.\n"
          ],
          "name": "stdout"
        }
      ]
    },
    {
      "cell_type": "markdown",
      "metadata": {
        "id": "a3PA_UAGxODR"
      },
      "source": [
        "The else clause won’t be executed if the list is broken out of with a break statement:"
      ]
    },
    {
      "cell_type": "code",
      "metadata": {
        "colab": {
          "base_uri": "https://localhost:8080/"
        },
        "id": "s4Lwpn3v6LSR",
        "outputId": "5a5ae838-651d-4e5a-a6bd-0c61db5c4515"
      },
      "source": [
        "for i in ['foo', 'bar', 'baz', 'qux']:\n",
        "  if i == 'bar':\n",
        "    break\n",
        "  print(i)\n",
        "else:\n",
        "  print('Done.')"
      ],
      "execution_count": null,
      "outputs": [
        {
          "output_type": "stream",
          "text": [
            "foo\n"
          ],
          "name": "stdout"
        }
      ]
    },
    {
      "cell_type": "markdown",
      "source": [
        "# Excercise 1\n",
        "\n",
        "Write a Python program to construct the following pattern, using a nested loop number.\n",
        "\n",
        "Expected Output:\n",
        "```\n",
        "1\n",
        "22\n",
        "333\n",
        "4444\n",
        "55555\n",
        "666666\n",
        "7777777\n",
        "88888888\n",
        "999999999\n",
        "```\n"
      ],
      "metadata": {
        "id": "tGh0GrYnRZft"
      }
    },
    {
      "cell_type": "code",
      "source": [
        "#@title Solution\n",
        "\n",
        "for i in range(1, 10):\n",
        "    for j in range(i):\n",
        "        print(i, end='')\n",
        "    print()\n"
      ],
      "metadata": {
        "cellView": "form",
        "id": "dDflu_QXRbwN"
      },
      "execution_count": null,
      "outputs": []
    },
    {
      "cell_type": "markdown",
      "source": [
        "# Exercise 2\n",
        "\n",
        "Write a Python program to check the validity of passwords input by users.\n",
        "```\n",
        "Validation :\n",
        "At least 1 letter between [a-z] and 1 letter between [A-Z].\n",
        "At least 1 number between [0-9].\n",
        "At least 1 character from [$#@].\n",
        "Minimum length 6 characters.\n",
        "Maximum length 16 characters.\n",
        "```\n"
      ],
      "metadata": {
        "id": "04Cav_1VTtUr"
      }
    },
    {
      "cell_type": "code",
      "source": [
        "#@title Solution\n",
        "valid = False\n",
        "\n",
        "while not valid:\n",
        "    password = input(\"Enter a password: \")\n",
        "\n",
        "    if len(password) < 6 or len(password) > 16:\n",
        "        print(\"Password must be between 6 and 16 characters.\")\n",
        "    elif not any(c.islower() for c in password):\n",
        "        print(\"Password must contain at least one lowercase letter.\")\n",
        "    elif not any(c.isupper() for c in password):\n",
        "        print(\"Password must contain at least one uppercase letter.\")\n",
        "    elif not any(c.isdigit() for c in password):\n",
        "        print(\"Password must contain at least one digit.\")\n",
        "    elif not any(c in ['$','#','@'] for c in password):\n",
        "        print(\"Password must contain at least one of the characters $, #, or @.\")\n",
        "    else:\n",
        "        valid = True\n",
        "        print(\"Password is valid.\")\n"
      ],
      "metadata": {
        "cellView": "form",
        "id": "1G1mT4Q3TLje"
      },
      "execution_count": null,
      "outputs": []
    }
  ]
}