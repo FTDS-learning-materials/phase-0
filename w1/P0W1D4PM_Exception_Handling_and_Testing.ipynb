{
  "nbformat": 4,
  "nbformat_minor": 0,
  "metadata": {
    "colab": {
      "provenance": []
    },
    "kernelspec": {
      "name": "python3",
      "display_name": "Python 3"
    },
    "language_info": {
      "name": "python"
    }
  },
  "cells": [
    {
      "cell_type": "markdown",
      "source": [
        "# **Exception and Error Handling**\n",
        "\n",
        "An exception is a python object that represents an error. It is an event, which occurs during the execution of a program that disrupts the normal flow of the program's instructions. When such a situation occurs and if python is not able to cope with it, it raises and exception. We have been seeing errors like TypeError and NameError or IndentationError throughout our tutorial which caused our application or that code to stop the execution. To prevent this from happening, we have to handle such exceptions.\n",
        "Following is a hierarchy for built-in exceptions in python:\n",
        "\n",
        "```\n",
        "BaseException\n",
        " +-- SystemExit\n",
        " +-- KeyboardInterrupt\n",
        " +-- GeneratorExit\n",
        " +-- Exception\n",
        "      +-- StopIteration\n",
        "      +-- StandardError\n",
        "      |    +-- BufferError\n",
        "      |    +-- ArithmeticError\n",
        "      |    |    +-- FloatingPointError\n",
        "      |    |    +-- OverflowError\n",
        "      |    |    +-- ZeroDivisionError\n",
        "      |    +-- AssertionError\n",
        "      |    +-- AttributeError\n",
        "      |    +-- EnvironmentError\n",
        "      |    |    +-- IOError\n",
        "      |    |    +-- OSError\n",
        "      |    |         +-- WindowsError (Windows)\n",
        "      |    |         +-- VMSError (VMS)\n",
        "      |    +-- EOFError\n",
        "      |    +-- ImportError\n",
        "      |    +-- LookupError\n",
        "      |    |    +-- IndexError\n",
        "      |    |    +-- KeyError\n",
        "      |    +-- MemoryError\n",
        "      |    +-- NameError\n",
        "      |    |    +-- UnboundLocalError\n",
        "      |    +-- ReferenceError\n",
        "      |    +-- RuntimeError\n",
        "      |    |    +-- NotImplementedError\n",
        "      |    +-- SyntaxError\n",
        "      |    |    +-- IndentationError\n",
        "      |    |         +-- TabError\n",
        "      |    +-- SystemError\n",
        "      |    +-- TypeError\n",
        "      |    +-- ValueError\n",
        "      |         +-- UnicodeError\n",
        "      |              +-- UnicodeDecodeError\n",
        "      |              +-- UnicodeEncodeError\n",
        "      |              +-- UnicodeTranslateError\n",
        "      +-- Warning\n",
        "           +-- DeprecationWarning\n",
        "           +-- PendingDeprecationWarning\n",
        "           +-- RuntimeWarning\n",
        "           +-- SyntaxWarning\n",
        "           +-- UserWarning\n",
        "           +-- FutureWarning\n",
        "       +-- ImportWarning\n",
        "       +-- UnicodeWarning\n",
        "       +-- BytesWarning\n",
        "```"
      ],
      "metadata": {
        "id": "9Vzp6SggHTvH"
      }
    },
    {
      "cell_type": "markdown",
      "source": [
        "However, we will only take a look some examples based on the list on the slide page 5 one by one"
      ],
      "metadata": {
        "id": "fmSkvQJQIGQ9"
      }
    },
    {
      "cell_type": "markdown",
      "source": [
        "### AssertionError\n",
        "\n",
        "raised when the assert statement fails."
      ],
      "metadata": {
        "id": "nQPkoY3ZIPUl"
      }
    },
    {
      "cell_type": "code",
      "execution_count": 1,
      "metadata": {
        "colab": {
          "base_uri": "https://localhost:8080/",
          "height": 215
        },
        "id": "MSmZyW_CHMbh",
        "outputId": "fe5b9662-7218-4477-b0da-57cb822cd7ba"
      },
      "outputs": [
        {
          "output_type": "error",
          "ename": "AssertionError",
          "evalue": "ignored",
          "traceback": [
            "\u001b[0;31m---------------------------------------------------------------------------\u001b[0m",
            "\u001b[0;31mAssertionError\u001b[0m                            Traceback (most recent call last)",
            "\u001b[0;32m<ipython-input-1-507631670db6>\u001b[0m in \u001b[0;36m<cell line: 2>\u001b[0;34m()\u001b[0m\n\u001b[1;32m      1\u001b[0m \u001b[0mx\u001b[0m \u001b[0;34m=\u001b[0m \u001b[0;36m5\u001b[0m\u001b[0;34m\u001b[0m\u001b[0;34m\u001b[0m\u001b[0m\n\u001b[0;32m----> 2\u001b[0;31m \u001b[0;32massert\u001b[0m \u001b[0mx\u001b[0m \u001b[0;34m==\u001b[0m \u001b[0;36m10\u001b[0m\u001b[0;34m,\u001b[0m \u001b[0;34m\"x should be equal to 10\"\u001b[0m\u001b[0;34m\u001b[0m\u001b[0;34m\u001b[0m\u001b[0m\n\u001b[0m\u001b[1;32m      3\u001b[0m \u001b[0;31m# Raises AssertionError: x should be equal to 10\u001b[0m\u001b[0;34m\u001b[0m\u001b[0;34m\u001b[0m\u001b[0m\n",
            "\u001b[0;31mAssertionError\u001b[0m: x should be equal to 10"
          ]
        }
      ],
      "source": [
        "x = 5\n",
        "assert x == 10, \"x should be equal to 10\""
      ]
    },
    {
      "cell_type": "markdown",
      "source": [
        "### AttributeError\n",
        "\n",
        "raised when the attribute assignment or reference fails.\n"
      ],
      "metadata": {
        "id": "eKPzsSy3Iazx"
      }
    },
    {
      "cell_type": "code",
      "source": [
        "class MyClass:\n",
        "    pass\n",
        "\n",
        "obj = MyClass()\n",
        "print(obj.attribute)  # Raises AttributeError: 'MyClass' object has no attribute 'attribute'"
      ],
      "metadata": {
        "colab": {
          "base_uri": "https://localhost:8080/",
          "height": 215
        },
        "id": "riKixgBaIbIU",
        "outputId": "9a271f1e-be20-4b0a-a26b-3057c91d5214"
      },
      "execution_count": 3,
      "outputs": [
        {
          "output_type": "error",
          "ename": "AttributeError",
          "evalue": "ignored",
          "traceback": [
            "\u001b[0;31m---------------------------------------------------------------------------\u001b[0m",
            "\u001b[0;31mAttributeError\u001b[0m                            Traceback (most recent call last)",
            "\u001b[0;32m<ipython-input-3-7a79919e6131>\u001b[0m in \u001b[0;36m<cell line: 5>\u001b[0;34m()\u001b[0m\n\u001b[1;32m      3\u001b[0m \u001b[0;34m\u001b[0m\u001b[0m\n\u001b[1;32m      4\u001b[0m \u001b[0mobj\u001b[0m \u001b[0;34m=\u001b[0m \u001b[0mMyClass\u001b[0m\u001b[0;34m(\u001b[0m\u001b[0;34m)\u001b[0m\u001b[0;34m\u001b[0m\u001b[0;34m\u001b[0m\u001b[0m\n\u001b[0;32m----> 5\u001b[0;31m \u001b[0mprint\u001b[0m\u001b[0;34m(\u001b[0m\u001b[0mobj\u001b[0m\u001b[0;34m.\u001b[0m\u001b[0mattribute\u001b[0m\u001b[0;34m)\u001b[0m  \u001b[0;31m# Raises AttributeError: 'MyClass' object has no attribute 'attribute'\u001b[0m\u001b[0;34m\u001b[0m\u001b[0;34m\u001b[0m\u001b[0m\n\u001b[0m",
            "\u001b[0;31mAttributeError\u001b[0m: 'MyClass' object has no attribute 'attribute'"
          ]
        }
      ]
    },
    {
      "cell_type": "markdown",
      "source": [
        "### TabError\n",
        "\n",
        "raised when the indentations consist of inconsistent tabs or spaces.\n",
        "\n",
        "```\n",
        ">>> def func(depth,width):\n",
        "...   if (depth!=0):\n",
        "...     for i in range(width):\n",
        "...       print(depth,i)\n",
        "...       func(depth-1,width)\n",
        "  File \"<stdin>\", line 5\n",
        "    func(depth-1,width)\n",
        "                  ^\n",
        "TabError: inconsistent use of tabs and spaces in indentation\n",
        "```"
      ],
      "metadata": {
        "id": "zrtAjHw8IbQH"
      }
    },
    {
      "cell_type": "markdown",
      "source": [
        "### ImportError\n",
        "\n",
        "raised when importing the module fails.\n"
      ],
      "metadata": {
        "id": "KmLANS_kIbgP"
      }
    },
    {
      "cell_type": "code",
      "source": [
        "import non_existent_module"
      ],
      "metadata": {
        "colab": {
          "base_uri": "https://localhost:8080/",
          "height": 314
        },
        "id": "CrilXKZXIbol",
        "outputId": "c69c3cde-3950-47e3-824f-eb8083c0fd68"
      },
      "execution_count": 5,
      "outputs": [
        {
          "output_type": "error",
          "ename": "ModuleNotFoundError",
          "evalue": "ignored",
          "traceback": [
            "\u001b[0;31m---------------------------------------------------------------------------\u001b[0m",
            "\u001b[0;31mModuleNotFoundError\u001b[0m                       Traceback (most recent call last)",
            "\u001b[0;32m<ipython-input-5-187f3de191a9>\u001b[0m in \u001b[0;36m<cell line: 1>\u001b[0;34m()\u001b[0m\n\u001b[0;32m----> 1\u001b[0;31m \u001b[0;32mimport\u001b[0m \u001b[0mnon_existent_module\u001b[0m\u001b[0;34m\u001b[0m\u001b[0;34m\u001b[0m\u001b[0m\n\u001b[0m",
            "\u001b[0;31mModuleNotFoundError\u001b[0m: No module named 'non_existent_module'",
            "",
            "\u001b[0;31m---------------------------------------------------------------------------\u001b[0;32m\nNOTE: If your import is failing due to a missing package, you can\nmanually install dependencies using either !pip or !apt.\n\nTo view examples of installing some common dependencies, click the\n\"Open Examples\" button below.\n\u001b[0;31m---------------------------------------------------------------------------\u001b[0m\n"
          ],
          "errorDetails": {
            "actions": [
              {
                "action": "open_url",
                "actionText": "Open Examples",
                "url": "/notebooks/snippets/importing_libraries.ipynb"
              }
            ]
          }
        }
      ]
    },
    {
      "cell_type": "markdown",
      "source": [
        "### IndexError\n",
        "\n",
        "occurs when the index of a sequence is out of range"
      ],
      "metadata": {
        "id": "7XSI7O5oIbwZ"
      }
    },
    {
      "cell_type": "code",
      "source": [
        "my_list = [1, 2, 3]\n",
        "print(my_list[5])"
      ],
      "metadata": {
        "colab": {
          "base_uri": "https://localhost:8080/",
          "height": 199
        },
        "id": "rDg1Y0uUIb3b",
        "outputId": "07c565bf-4d81-4b7a-f757-8af6794c1d78"
      },
      "execution_count": 6,
      "outputs": [
        {
          "output_type": "error",
          "ename": "IndexError",
          "evalue": "ignored",
          "traceback": [
            "\u001b[0;31m---------------------------------------------------------------------------\u001b[0m",
            "\u001b[0;31mIndexError\u001b[0m                                Traceback (most recent call last)",
            "\u001b[0;32m<ipython-input-6-d183bc319386>\u001b[0m in \u001b[0;36m<cell line: 2>\u001b[0;34m()\u001b[0m\n\u001b[1;32m      1\u001b[0m \u001b[0mmy_list\u001b[0m \u001b[0;34m=\u001b[0m \u001b[0;34m[\u001b[0m\u001b[0;36m1\u001b[0m\u001b[0;34m,\u001b[0m \u001b[0;36m2\u001b[0m\u001b[0;34m,\u001b[0m \u001b[0;36m3\u001b[0m\u001b[0;34m]\u001b[0m\u001b[0;34m\u001b[0m\u001b[0;34m\u001b[0m\u001b[0m\n\u001b[0;32m----> 2\u001b[0;31m \u001b[0mprint\u001b[0m\u001b[0;34m(\u001b[0m\u001b[0mmy_list\u001b[0m\u001b[0;34m[\u001b[0m\u001b[0;36m5\u001b[0m\u001b[0;34m]\u001b[0m\u001b[0;34m)\u001b[0m\u001b[0;34m\u001b[0m\u001b[0;34m\u001b[0m\u001b[0m\n\u001b[0m",
            "\u001b[0;31mIndexError\u001b[0m: list index out of range"
          ]
        }
      ]
    },
    {
      "cell_type": "markdown",
      "source": [
        "### KeyboardInterrupt\n",
        "\n",
        "raised when the user inputs interrupt keys (Ctrl + C or Delete)."
      ],
      "metadata": {
        "id": "va4cxBEqIb-v"
      }
    },
    {
      "cell_type": "code",
      "source": [
        "my_list = []\n",
        "while True:\n",
        "    my_list.append(1) #error will be raised when you click stop button"
      ],
      "metadata": {
        "colab": {
          "base_uri": "https://localhost:8080/",
          "height": 215
        },
        "id": "DNpVIsTNIcGR",
        "outputId": "6f086178-951f-40e2-a06a-71bfe3ab72db"
      },
      "execution_count": 10,
      "outputs": [
        {
          "output_type": "error",
          "ename": "KeyboardInterrupt",
          "evalue": "ignored",
          "traceback": [
            "\u001b[0;31m---------------------------------------------------------------------------\u001b[0m",
            "\u001b[0;31mKeyboardInterrupt\u001b[0m                         Traceback (most recent call last)",
            "\u001b[0;32m<ipython-input-10-5de781439ef7>\u001b[0m in \u001b[0;36m<cell line: 2>\u001b[0;34m()\u001b[0m\n\u001b[1;32m      1\u001b[0m \u001b[0mmy_list\u001b[0m \u001b[0;34m=\u001b[0m \u001b[0;34m[\u001b[0m\u001b[0;34m]\u001b[0m\u001b[0;34m\u001b[0m\u001b[0;34m\u001b[0m\u001b[0m\n\u001b[1;32m      2\u001b[0m \u001b[0;32mwhile\u001b[0m \u001b[0;32mTrue\u001b[0m\u001b[0;34m:\u001b[0m\u001b[0;34m\u001b[0m\u001b[0;34m\u001b[0m\u001b[0m\n\u001b[0;32m----> 3\u001b[0;31m     \u001b[0mmy_list\u001b[0m\u001b[0;34m.\u001b[0m\u001b[0mappend\u001b[0m\u001b[0;34m(\u001b[0m\u001b[0;36m1\u001b[0m\u001b[0;34m)\u001b[0m\u001b[0;34m\u001b[0m\u001b[0;34m\u001b[0m\u001b[0m\n\u001b[0m",
            "\u001b[0;31mKeyboardInterrupt\u001b[0m: "
          ]
        }
      ]
    },
    {
      "cell_type": "markdown",
      "source": [
        "### RuntimeError\n",
        "\n",
        "occurs when an error does not fall into any category."
      ],
      "metadata": {
        "id": "0Id5zhbyJA_v"
      }
    },
    {
      "cell_type": "code",
      "source": [
        "def my_function():\n",
        "    raise RuntimeError(\"Something went wrong.\")\n",
        "\n",
        "my_function()"
      ],
      "metadata": {
        "colab": {
          "base_uri": "https://localhost:8080/",
          "height": 314
        },
        "id": "yytIzWxyJBG-",
        "outputId": "42f0483c-89d4-40f4-9eaf-067b80c67937"
      },
      "execution_count": 7,
      "outputs": [
        {
          "output_type": "error",
          "ename": "RuntimeError",
          "evalue": "ignored",
          "traceback": [
            "\u001b[0;31m---------------------------------------------------------------------------\u001b[0m",
            "\u001b[0;31mRuntimeError\u001b[0m                              Traceback (most recent call last)",
            "\u001b[0;32m<ipython-input-7-dbb9c3d9e8fe>\u001b[0m in \u001b[0;36m<cell line: 4>\u001b[0;34m()\u001b[0m\n\u001b[1;32m      2\u001b[0m     \u001b[0;32mraise\u001b[0m \u001b[0mRuntimeError\u001b[0m\u001b[0;34m(\u001b[0m\u001b[0;34m\"Something went wrong.\"\u001b[0m\u001b[0;34m)\u001b[0m\u001b[0;34m\u001b[0m\u001b[0;34m\u001b[0m\u001b[0m\n\u001b[1;32m      3\u001b[0m \u001b[0;34m\u001b[0m\u001b[0m\n\u001b[0;32m----> 4\u001b[0;31m \u001b[0mmy_function\u001b[0m\u001b[0;34m(\u001b[0m\u001b[0;34m)\u001b[0m\u001b[0;34m\u001b[0m\u001b[0;34m\u001b[0m\u001b[0m\n\u001b[0m",
            "\u001b[0;32m<ipython-input-7-dbb9c3d9e8fe>\u001b[0m in \u001b[0;36mmy_function\u001b[0;34m()\u001b[0m\n\u001b[1;32m      1\u001b[0m \u001b[0;32mdef\u001b[0m \u001b[0mmy_function\u001b[0m\u001b[0;34m(\u001b[0m\u001b[0;34m)\u001b[0m\u001b[0;34m:\u001b[0m\u001b[0;34m\u001b[0m\u001b[0;34m\u001b[0m\u001b[0m\n\u001b[0;32m----> 2\u001b[0;31m     \u001b[0;32mraise\u001b[0m \u001b[0mRuntimeError\u001b[0m\u001b[0;34m(\u001b[0m\u001b[0;34m\"Something went wrong.\"\u001b[0m\u001b[0;34m)\u001b[0m\u001b[0;34m\u001b[0m\u001b[0;34m\u001b[0m\u001b[0m\n\u001b[0m\u001b[1;32m      3\u001b[0m \u001b[0;34m\u001b[0m\u001b[0m\n\u001b[1;32m      4\u001b[0m \u001b[0mmy_function\u001b[0m\u001b[0;34m(\u001b[0m\u001b[0;34m)\u001b[0m\u001b[0;34m\u001b[0m\u001b[0;34m\u001b[0m\u001b[0m\n",
            "\u001b[0;31mRuntimeError\u001b[0m: Something went wrong."
          ]
        }
      ]
    },
    {
      "cell_type": "markdown",
      "source": [
        "### NameError\n",
        "\n",
        "raised when a variable is not found in the local or global scope."
      ],
      "metadata": {
        "id": "_kRUl9YhJBOC"
      }
    },
    {
      "cell_type": "code",
      "source": [
        "x = 5\n",
        "print(y)"
      ],
      "metadata": {
        "colab": {
          "base_uri": "https://localhost:8080/",
          "height": 199
        },
        "id": "BNF0QweNJBUj",
        "outputId": "cf022e50-4fdb-4123-d671-54bded5c63c6"
      },
      "execution_count": 8,
      "outputs": [
        {
          "output_type": "error",
          "ename": "NameError",
          "evalue": "ignored",
          "traceback": [
            "\u001b[0;31m---------------------------------------------------------------------------\u001b[0m",
            "\u001b[0;31mNameError\u001b[0m                                 Traceback (most recent call last)",
            "\u001b[0;32m<ipython-input-8-8773f19e91b5>\u001b[0m in \u001b[0;36m<cell line: 2>\u001b[0;34m()\u001b[0m\n\u001b[1;32m      1\u001b[0m \u001b[0mx\u001b[0m \u001b[0;34m=\u001b[0m \u001b[0;36m5\u001b[0m\u001b[0;34m\u001b[0m\u001b[0;34m\u001b[0m\u001b[0m\n\u001b[0;32m----> 2\u001b[0;31m \u001b[0mprint\u001b[0m\u001b[0;34m(\u001b[0m\u001b[0my\u001b[0m\u001b[0;34m)\u001b[0m\u001b[0;34m\u001b[0m\u001b[0;34m\u001b[0m\u001b[0m\n\u001b[0m",
            "\u001b[0;31mNameError\u001b[0m: name 'y' is not defined"
          ]
        }
      ]
    },
    {
      "cell_type": "markdown",
      "source": [
        "### ValueError\n",
        "\n",
        "occurs when the operation or function receives an argument with the right type but the wrong value."
      ],
      "metadata": {
        "id": "j3r9GZ2TJBpp"
      }
    },
    {
      "cell_type": "code",
      "source": [
        "int(\"one\")"
      ],
      "metadata": {
        "colab": {
          "base_uri": "https://localhost:8080/",
          "height": 182
        },
        "id": "SfSC_sCoJBw6",
        "outputId": "b83e6d05-b762-4375-823d-ccd2ca66c647"
      },
      "execution_count": 23,
      "outputs": [
        {
          "output_type": "error",
          "ename": "ValueError",
          "evalue": "ignored",
          "traceback": [
            "\u001b[0;31m---------------------------------------------------------------------------\u001b[0m",
            "\u001b[0;31mValueError\u001b[0m                                Traceback (most recent call last)",
            "\u001b[0;32m<ipython-input-23-d992879e91e3>\u001b[0m in \u001b[0;36m<cell line: 1>\u001b[0;34m()\u001b[0m\n\u001b[0;32m----> 1\u001b[0;31m \u001b[0mint\u001b[0m\u001b[0;34m(\u001b[0m\u001b[0;34m\"one\"\u001b[0m\u001b[0;34m)\u001b[0m\u001b[0;34m\u001b[0m\u001b[0;34m\u001b[0m\u001b[0m\n\u001b[0m",
            "\u001b[0;31mValueError\u001b[0m: invalid literal for int() with base 10: 'one'"
          ]
        }
      ]
    },
    {
      "cell_type": "markdown",
      "source": [
        "### ZeroDivisionError\n",
        "\n",
        "raised when you divide a value or variable with zero."
      ],
      "metadata": {
        "id": "dhqjweZ7JB6E"
      }
    },
    {
      "cell_type": "code",
      "source": [
        "x = 10\n",
        "y = 0\n",
        "result = x / y"
      ],
      "metadata": {
        "colab": {
          "base_uri": "https://localhost:8080/",
          "height": 215
        },
        "id": "SBU3zcoTJCBF",
        "outputId": "f5f1eb6b-787a-4e24-e372-2ed960a5b908"
      },
      "execution_count": 12,
      "outputs": [
        {
          "output_type": "error",
          "ename": "ZeroDivisionError",
          "evalue": "ignored",
          "traceback": [
            "\u001b[0;31m---------------------------------------------------------------------------\u001b[0m",
            "\u001b[0;31mZeroDivisionError\u001b[0m                         Traceback (most recent call last)",
            "\u001b[0;32m<ipython-input-12-3a69873df072>\u001b[0m in \u001b[0;36m<cell line: 3>\u001b[0;34m()\u001b[0m\n\u001b[1;32m      1\u001b[0m \u001b[0mx\u001b[0m \u001b[0;34m=\u001b[0m \u001b[0;36m10\u001b[0m\u001b[0;34m\u001b[0m\u001b[0;34m\u001b[0m\u001b[0m\n\u001b[1;32m      2\u001b[0m \u001b[0my\u001b[0m \u001b[0;34m=\u001b[0m \u001b[0;36m0\u001b[0m\u001b[0;34m\u001b[0m\u001b[0;34m\u001b[0m\u001b[0m\n\u001b[0;32m----> 3\u001b[0;31m \u001b[0mresult\u001b[0m \u001b[0;34m=\u001b[0m \u001b[0mx\u001b[0m \u001b[0;34m/\u001b[0m \u001b[0my\u001b[0m\u001b[0;34m\u001b[0m\u001b[0;34m\u001b[0m\u001b[0m\n\u001b[0m",
            "\u001b[0;31mZeroDivisionError\u001b[0m: division by zero"
          ]
        }
      ]
    },
    {
      "cell_type": "markdown",
      "source": [
        "### SyntaxError\n",
        "\n",
        "raised by the parser when the Python syntax is wrong."
      ],
      "metadata": {
        "id": "PNIOB0GrJCJZ"
      }
    },
    {
      "cell_type": "code",
      "source": [
        "if x = 5:  # Raises SyntaxError: invalid syntax (should be '==')\n",
        "    print(\"x is 5\")"
      ],
      "metadata": {
        "colab": {
          "base_uri": "https://localhost:8080/",
          "height": 149
        },
        "id": "ap-JVNVkJCPo",
        "outputId": "8bf02dfc-22b7-4db3-d151-6c3c14ef6fcc"
      },
      "execution_count": 13,
      "outputs": [
        {
          "output_type": "error",
          "ename": "SyntaxError",
          "evalue": "ignored",
          "traceback": [
            "\u001b[0;36m  File \u001b[0;32m\"<ipython-input-13-922a52c0bd1e>\"\u001b[0;36m, line \u001b[0;32m1\u001b[0m\n\u001b[0;31m    if x = 5:  # Raises SyntaxError: invalid syntax (should be '==')\u001b[0m\n\u001b[0m       ^\u001b[0m\n\u001b[0;31mSyntaxError\u001b[0m\u001b[0;31m:\u001b[0m invalid syntax. Maybe you meant '==' or ':=' instead of '='?\n"
          ]
        }
      ]
    },
    {
      "cell_type": "markdown",
      "source": [
        "### IndentationError\n",
        "\n",
        "occurs when there is a wrong indentation."
      ],
      "metadata": {
        "id": "4d2m-yHaJf4B"
      }
    },
    {
      "cell_type": "code",
      "source": [
        "def my_function():\n",
        "print(\"Hello, World!\")"
      ],
      "metadata": {
        "colab": {
          "base_uri": "https://localhost:8080/",
          "height": 149
        },
        "id": "s10NTR5OJgEC",
        "outputId": "1a8baf40-5032-4770-ebb2-837ed3eb2eb5"
      },
      "execution_count": 14,
      "outputs": [
        {
          "output_type": "error",
          "ename": "IndentationError",
          "evalue": "ignored",
          "traceback": [
            "\u001b[0;36m  File \u001b[0;32m\"<ipython-input-14-998c97d73be8>\"\u001b[0;36m, line \u001b[0;32m2\u001b[0m\n\u001b[0;31m    print(\"Hello, World!\")  # Raises IndentationError: expected an indented block\u001b[0m\n\u001b[0m    ^\u001b[0m\n\u001b[0;31mIndentationError\u001b[0m\u001b[0;31m:\u001b[0m expected an indented block after function definition on line 1\n"
          ]
        }
      ]
    },
    {
      "cell_type": "markdown",
      "source": [
        "## __Try - Except - Else - Finally Clause__"
      ],
      "metadata": {
        "id": "QhDoB_zcNhhJ"
      }
    },
    {
      "cell_type": "markdown",
      "source": [
        "We’re trying to make our system can run seamlessly and without error. But, how do we do when the exception raise? We can handle it using try-except-else-finally clause.\n"
      ],
      "metadata": {
        "id": "3MjrW5NTNgIo"
      }
    },
    {
      "cell_type": "markdown",
      "source": [
        "### Try - Except Example 1\n",
        "\n",
        "Try-Except clause can be used for skipping the trouble value or code"
      ],
      "metadata": {
        "id": "NxLfPafANtwO"
      }
    },
    {
      "cell_type": "code",
      "source": [
        "for i in [1,2,3,'four','5']:\n",
        "  print(float(i))"
      ],
      "metadata": {
        "colab": {
          "base_uri": "https://localhost:8080/",
          "height": 248
        },
        "id": "XPsxPSoANwFL",
        "outputId": "05c3ade7-97d3-435f-aff9-06ce05a88940"
      },
      "execution_count": 24,
      "outputs": [
        {
          "output_type": "stream",
          "name": "stdout",
          "text": [
            "1.0\n",
            "2.0\n",
            "3.0\n"
          ]
        },
        {
          "output_type": "error",
          "ename": "ValueError",
          "evalue": "ignored",
          "traceback": [
            "\u001b[0;31m---------------------------------------------------------------------------\u001b[0m",
            "\u001b[0;31mValueError\u001b[0m                                Traceback (most recent call last)",
            "\u001b[0;32m<ipython-input-24-72cbe652f522>\u001b[0m in \u001b[0;36m<cell line: 1>\u001b[0;34m()\u001b[0m\n\u001b[1;32m      1\u001b[0m \u001b[0;32mfor\u001b[0m \u001b[0mi\u001b[0m \u001b[0;32min\u001b[0m \u001b[0;34m[\u001b[0m\u001b[0;36m1\u001b[0m\u001b[0;34m,\u001b[0m\u001b[0;36m2\u001b[0m\u001b[0;34m,\u001b[0m\u001b[0;36m3\u001b[0m\u001b[0;34m,\u001b[0m\u001b[0;34m'four'\u001b[0m\u001b[0;34m,\u001b[0m\u001b[0;34m'5'\u001b[0m\u001b[0;34m]\u001b[0m\u001b[0;34m:\u001b[0m\u001b[0;34m\u001b[0m\u001b[0;34m\u001b[0m\u001b[0m\n\u001b[0;32m----> 2\u001b[0;31m   \u001b[0mprint\u001b[0m\u001b[0;34m(\u001b[0m\u001b[0mfloat\u001b[0m\u001b[0;34m(\u001b[0m\u001b[0mi\u001b[0m\u001b[0;34m)\u001b[0m\u001b[0;34m)\u001b[0m\u001b[0;34m\u001b[0m\u001b[0;34m\u001b[0m\u001b[0m\n\u001b[0m",
            "\u001b[0;31mValueError\u001b[0m: could not convert string to float: 'four'"
          ]
        }
      ]
    },
    {
      "cell_type": "code",
      "source": [
        "for i in [1,2,3,'four','5']:\n",
        "  try:\n",
        "    print(float(i))\n",
        "  except:\n",
        "    pass"
      ],
      "metadata": {
        "colab": {
          "base_uri": "https://localhost:8080/"
        },
        "id": "D_P5sU2nOND3",
        "outputId": "acbd26c0-cb4c-4cf5-c350-00dceb6412a5"
      },
      "execution_count": 27,
      "outputs": [
        {
          "output_type": "stream",
          "name": "stdout",
          "text": [
            "1.0\n",
            "2.0\n",
            "3.0\n",
            "5.0\n"
          ]
        }
      ]
    },
    {
      "cell_type": "markdown",
      "source": [
        "### Try - Execept Example 2\n",
        "\n",
        "Try-Execpt clause can be used for changing the raised error message"
      ],
      "metadata": {
        "id": "dxMgKreJOBVI"
      }
    },
    {
      "cell_type": "code",
      "source": [
        "numerator = 10\n",
        "denominator = 0\n",
        "result = numerator / denominator\n",
        "print(\"Result:\", result)"
      ],
      "metadata": {
        "colab": {
          "base_uri": "https://localhost:8080/",
          "height": 232
        },
        "id": "-4LXOpCzOktr",
        "outputId": "5915e376-b958-4793-aaa3-52c0d134ff6d"
      },
      "execution_count": 29,
      "outputs": [
        {
          "output_type": "error",
          "ename": "ZeroDivisionError",
          "evalue": "ignored",
          "traceback": [
            "\u001b[0;31m---------------------------------------------------------------------------\u001b[0m",
            "\u001b[0;31mZeroDivisionError\u001b[0m                         Traceback (most recent call last)",
            "\u001b[0;32m<ipython-input-29-34f475f5a478>\u001b[0m in \u001b[0;36m<cell line: 3>\u001b[0;34m()\u001b[0m\n\u001b[1;32m      1\u001b[0m \u001b[0mnumerator\u001b[0m \u001b[0;34m=\u001b[0m \u001b[0;36m10\u001b[0m\u001b[0;34m\u001b[0m\u001b[0;34m\u001b[0m\u001b[0m\n\u001b[1;32m      2\u001b[0m \u001b[0mdenominator\u001b[0m \u001b[0;34m=\u001b[0m \u001b[0;36m0\u001b[0m\u001b[0;34m\u001b[0m\u001b[0;34m\u001b[0m\u001b[0m\n\u001b[0;32m----> 3\u001b[0;31m \u001b[0mresult\u001b[0m \u001b[0;34m=\u001b[0m \u001b[0mnumerator\u001b[0m \u001b[0;34m/\u001b[0m \u001b[0mdenominator\u001b[0m\u001b[0;34m\u001b[0m\u001b[0;34m\u001b[0m\u001b[0m\n\u001b[0m\u001b[1;32m      4\u001b[0m \u001b[0mprint\u001b[0m\u001b[0;34m(\u001b[0m\u001b[0;34m\"Result:\"\u001b[0m\u001b[0;34m,\u001b[0m \u001b[0mresult\u001b[0m\u001b[0;34m)\u001b[0m\u001b[0;34m\u001b[0m\u001b[0;34m\u001b[0m\u001b[0m\n",
            "\u001b[0;31mZeroDivisionError\u001b[0m: division by zero"
          ]
        }
      ]
    },
    {
      "cell_type": "code",
      "source": [
        "try:\n",
        "    numerator = 10\n",
        "    denominator = 0\n",
        "    result = numerator / denominator\n",
        "    print(\"Result:\", result)\n",
        "except ZeroDivisionError:\n",
        "    print(\"Error: Cannot divide by zero.\")\n"
      ],
      "metadata": {
        "colab": {
          "base_uri": "https://localhost:8080/"
        },
        "id": "ofgTZEGZOBeI",
        "outputId": "ae43ee31-8d18-4058-9255-6e0b9e702565"
      },
      "execution_count": 28,
      "outputs": [
        {
          "output_type": "stream",
          "name": "stdout",
          "text": [
            "Error: Cannot divide by zero.\n"
          ]
        }
      ]
    },
    {
      "cell_type": "markdown",
      "source": [
        "### Try-Except Example 3"
      ],
      "metadata": {
        "id": "nAYW05TyO-JT"
      }
    },
    {
      "cell_type": "code",
      "source": [
        "try:\n",
        "    file_path = \"non_existent_file.txt\"\n",
        "    with open(file_path, 'r') as file:\n",
        "        contents = file.read()\n",
        "    print(\"File contents:\", contents)\n",
        "except FileNotFoundError:\n",
        "    print(f\"Error: File '{file_path}' not found.\")\n"
      ],
      "metadata": {
        "colab": {
          "base_uri": "https://localhost:8080/"
        },
        "id": "vJjPcReoPCGb",
        "outputId": "f951f05b-7130-4b00-bb2a-11eb0772378a"
      },
      "execution_count": 30,
      "outputs": [
        {
          "output_type": "stream",
          "name": "stdout",
          "text": [
            "Error: File 'non_existent_file.txt' not found.\n"
          ]
        }
      ]
    },
    {
      "cell_type": "markdown",
      "source": [
        "### Using Else-Finally Clause to make our script running more seamlessly"
      ],
      "metadata": {
        "id": "Bt03dc94PQEL"
      }
    },
    {
      "cell_type": "code",
      "source": [
        "a = 10\n",
        "b = 0\n",
        "\n",
        "try:\n",
        "  x = a/b\n",
        "except ZeroDivisionError:\n",
        "  print(\"Cannot devide by Zero\")\n",
        "else: #Will running when there is no error raised\n",
        "  print(x)\n",
        "finally: #Always executed\n",
        "  print(\"Program Done\")"
      ],
      "metadata": {
        "colab": {
          "base_uri": "https://localhost:8080/"
        },
        "id": "z5bMRiHyPgk-",
        "outputId": "433e294c-c6fb-4fb2-84ab-687836df1289"
      },
      "execution_count": 32,
      "outputs": [
        {
          "output_type": "stream",
          "name": "stdout",
          "text": [
            "Cannot devide by Zero\n",
            "Program Done\n"
          ]
        }
      ]
    },
    {
      "cell_type": "code",
      "source": [
        "a = 10\n",
        "b = 2\n",
        "\n",
        "try:\n",
        "  x = a/b\n",
        "except ZeroDivisionError:\n",
        "  print(\"Cannot devide by Zero\")\n",
        "else: #Will running when there is no error raised\n",
        "  print(x)\n",
        "finally: #Always executed\n",
        "  print(\"Program Done\")"
      ],
      "metadata": {
        "colab": {
          "base_uri": "https://localhost:8080/"
        },
        "id": "6Pr1DU_sQCNz",
        "outputId": "5e50644e-c669-4887-9ff5-a51af9eff170"
      },
      "execution_count": 33,
      "outputs": [
        {
          "output_type": "stream",
          "name": "stdout",
          "text": [
            "5.0\n",
            "Program Done\n"
          ]
        }
      ]
    },
    {
      "cell_type": "markdown",
      "source": [
        "## Catch Specific Exception\n",
        "\n",
        "You can catch specific exceptions by specifying the exception type in the except block. This allows you to handle different exceptions differently based on their specific types."
      ],
      "metadata": {
        "id": "e1LYDtmaQHXf"
      }
    },
    {
      "cell_type": "code",
      "source": [
        "try:\n",
        "  x = 10/0\n",
        "except ZeroDivisionError:\n",
        "  print(\"Cannot devide by Zero\")\n",
        "except ValueError:\n",
        "  print(\"Invalid Value\")\n",
        "except Exception:\n",
        "  print(\"An error occured\")"
      ],
      "metadata": {
        "colab": {
          "base_uri": "https://localhost:8080/"
        },
        "id": "79YkdZOzQOqZ",
        "outputId": "e9e9be91-0477-40f4-8ae8-4ef74ed641f1"
      },
      "execution_count": 34,
      "outputs": [
        {
          "output_type": "stream",
          "name": "stdout",
          "text": [
            "Cannot devide by Zero\n"
          ]
        }
      ]
    },
    {
      "cell_type": "code",
      "source": [
        "try:\n",
        "  x = int(10/\"0\")\n",
        "except ZeroDivisionError:\n",
        "  print(\"Cannot devide by Zero\")\n",
        "except ValueError:\n",
        "  print(\"Invalid Value\")\n",
        "except Exception:\n",
        "  print(\"An error occured\")"
      ],
      "metadata": {
        "colab": {
          "base_uri": "https://localhost:8080/"
        },
        "id": "9XVtqb_CQl_Y",
        "outputId": "1bdb2d73-9dad-4a54-b4e9-6d4b7c0c6ff9"
      },
      "execution_count": 37,
      "outputs": [
        {
          "output_type": "stream",
          "name": "stdout",
          "text": [
            "An error occured\n"
          ]
        }
      ]
    },
    {
      "cell_type": "code",
      "source": [
        "try:\n",
        "  x = int(\"10a\")\n",
        "except ZeroDivisionError:\n",
        "  print(\"Cannot devide by Zero\")\n",
        "except ValueError:\n",
        "  print(\"Invalid Value\")\n",
        "except Exception:\n",
        "  print(\"An error occured\")"
      ],
      "metadata": {
        "colab": {
          "base_uri": "https://localhost:8080/"
        },
        "id": "0TcTCJ7IRH3X",
        "outputId": "303408db-ff3d-4c2d-deed-fa4b0ea6a603"
      },
      "execution_count": 38,
      "outputs": [
        {
          "output_type": "stream",
          "name": "stdout",
          "text": [
            "Invalid Value\n"
          ]
        }
      ]
    },
    {
      "cell_type": "markdown",
      "source": [
        "## Raising Error\n",
        "\n",
        "The raise statement allows you to indicate that a specific error condition has occurred within your code."
      ],
      "metadata": {
        "id": "SMvn6iFJRQhh"
      }
    },
    {
      "cell_type": "code",
      "source": [
        "def devide_numbers(a, b):\n",
        "  if b == 0:\n",
        "    raise ValueError(\"Cannot devide by Zero!\")\n",
        "  return a/b\n",
        "\n",
        "devide_numbers(5,0)"
      ],
      "metadata": {
        "colab": {
          "base_uri": "https://localhost:8080/",
          "height": 331
        },
        "id": "tzMTnnmDRXZ5",
        "outputId": "c7971c0b-a218-4c5e-a3fc-b92f82e34ac3"
      },
      "execution_count": 40,
      "outputs": [
        {
          "output_type": "error",
          "ename": "ValueError",
          "evalue": "ignored",
          "traceback": [
            "\u001b[0;31m---------------------------------------------------------------------------\u001b[0m",
            "\u001b[0;31mValueError\u001b[0m                                Traceback (most recent call last)",
            "\u001b[0;32m<ipython-input-40-9b992ab5e9cf>\u001b[0m in \u001b[0;36m<cell line: 6>\u001b[0;34m()\u001b[0m\n\u001b[1;32m      4\u001b[0m   \u001b[0;32mreturn\u001b[0m \u001b[0ma\u001b[0m\u001b[0;34m/\u001b[0m\u001b[0mb\u001b[0m\u001b[0;34m\u001b[0m\u001b[0;34m\u001b[0m\u001b[0m\n\u001b[1;32m      5\u001b[0m \u001b[0;34m\u001b[0m\u001b[0m\n\u001b[0;32m----> 6\u001b[0;31m \u001b[0mdevide_numbers\u001b[0m\u001b[0;34m(\u001b[0m\u001b[0;36m5\u001b[0m\u001b[0;34m,\u001b[0m\u001b[0;36m0\u001b[0m\u001b[0;34m)\u001b[0m\u001b[0;34m\u001b[0m\u001b[0;34m\u001b[0m\u001b[0m\n\u001b[0m",
            "\u001b[0;32m<ipython-input-40-9b992ab5e9cf>\u001b[0m in \u001b[0;36mdevide_numbers\u001b[0;34m(a, b)\u001b[0m\n\u001b[1;32m      1\u001b[0m \u001b[0;32mdef\u001b[0m \u001b[0mdevide_numbers\u001b[0m\u001b[0;34m(\u001b[0m\u001b[0ma\u001b[0m\u001b[0;34m,\u001b[0m \u001b[0mb\u001b[0m\u001b[0;34m)\u001b[0m\u001b[0;34m:\u001b[0m\u001b[0;34m\u001b[0m\u001b[0;34m\u001b[0m\u001b[0m\n\u001b[1;32m      2\u001b[0m   \u001b[0;32mif\u001b[0m \u001b[0mb\u001b[0m \u001b[0;34m==\u001b[0m \u001b[0;36m0\u001b[0m\u001b[0;34m:\u001b[0m\u001b[0;34m\u001b[0m\u001b[0;34m\u001b[0m\u001b[0m\n\u001b[0;32m----> 3\u001b[0;31m     \u001b[0;32mraise\u001b[0m \u001b[0mValueError\u001b[0m\u001b[0;34m(\u001b[0m\u001b[0;34m\"Cannot devide by Zero!\"\u001b[0m\u001b[0;34m)\u001b[0m\u001b[0;34m\u001b[0m\u001b[0;34m\u001b[0m\u001b[0m\n\u001b[0m\u001b[1;32m      4\u001b[0m   \u001b[0;32mreturn\u001b[0m \u001b[0ma\u001b[0m\u001b[0;34m/\u001b[0m\u001b[0mb\u001b[0m\u001b[0;34m\u001b[0m\u001b[0;34m\u001b[0m\u001b[0m\n\u001b[1;32m      5\u001b[0m \u001b[0;34m\u001b[0m\u001b[0m\n",
            "\u001b[0;31mValueError\u001b[0m: Cannot devide by Zero!"
          ]
        }
      ]
    },
    {
      "cell_type": "markdown",
      "source": [
        "The Error is `ValueError` instead of `ZeroDivisionError`\n",
        "\n",
        "We can also modify as long as we want"
      ],
      "metadata": {
        "id": "WO8tUNSIRuTB"
      }
    },
    {
      "cell_type": "code",
      "source": [
        "def devide_numbers(a, b):\n",
        "  if b == a:\n",
        "    raise ValueError(\"Cannot devide by the same number as nominator!\")\n",
        "  return a/b\n",
        "\n",
        "devide_numbers(5,5)"
      ],
      "metadata": {
        "colab": {
          "base_uri": "https://localhost:8080/",
          "height": 331
        },
        "id": "5QFvn5THR1L5",
        "outputId": "b3101014-73f9-476a-ef8e-657307ce10bc"
      },
      "execution_count": 42,
      "outputs": [
        {
          "output_type": "error",
          "ename": "ValueError",
          "evalue": "ignored",
          "traceback": [
            "\u001b[0;31m---------------------------------------------------------------------------\u001b[0m",
            "\u001b[0;31mValueError\u001b[0m                                Traceback (most recent call last)",
            "\u001b[0;32m<ipython-input-42-01100648ed6f>\u001b[0m in \u001b[0;36m<cell line: 6>\u001b[0;34m()\u001b[0m\n\u001b[1;32m      4\u001b[0m   \u001b[0;32mreturn\u001b[0m \u001b[0ma\u001b[0m\u001b[0;34m/\u001b[0m\u001b[0mb\u001b[0m\u001b[0;34m\u001b[0m\u001b[0;34m\u001b[0m\u001b[0m\n\u001b[1;32m      5\u001b[0m \u001b[0;34m\u001b[0m\u001b[0m\n\u001b[0;32m----> 6\u001b[0;31m \u001b[0mdevide_numbers\u001b[0m\u001b[0;34m(\u001b[0m\u001b[0;36m5\u001b[0m\u001b[0;34m,\u001b[0m\u001b[0;36m5\u001b[0m\u001b[0;34m)\u001b[0m\u001b[0;34m\u001b[0m\u001b[0;34m\u001b[0m\u001b[0m\n\u001b[0m",
            "\u001b[0;32m<ipython-input-42-01100648ed6f>\u001b[0m in \u001b[0;36mdevide_numbers\u001b[0;34m(a, b)\u001b[0m\n\u001b[1;32m      1\u001b[0m \u001b[0;32mdef\u001b[0m \u001b[0mdevide_numbers\u001b[0m\u001b[0;34m(\u001b[0m\u001b[0ma\u001b[0m\u001b[0;34m,\u001b[0m \u001b[0mb\u001b[0m\u001b[0;34m)\u001b[0m\u001b[0;34m:\u001b[0m\u001b[0;34m\u001b[0m\u001b[0;34m\u001b[0m\u001b[0m\n\u001b[1;32m      2\u001b[0m   \u001b[0;32mif\u001b[0m \u001b[0mb\u001b[0m \u001b[0;34m==\u001b[0m \u001b[0ma\u001b[0m\u001b[0;34m:\u001b[0m\u001b[0;34m\u001b[0m\u001b[0;34m\u001b[0m\u001b[0m\n\u001b[0;32m----> 3\u001b[0;31m     \u001b[0;32mraise\u001b[0m \u001b[0mValueError\u001b[0m\u001b[0;34m(\u001b[0m\u001b[0;34m\"Cannot devide by the same number as nominator!\"\u001b[0m\u001b[0;34m)\u001b[0m\u001b[0;34m\u001b[0m\u001b[0;34m\u001b[0m\u001b[0m\n\u001b[0m\u001b[1;32m      4\u001b[0m   \u001b[0;32mreturn\u001b[0m \u001b[0ma\u001b[0m\u001b[0;34m/\u001b[0m\u001b[0mb\u001b[0m\u001b[0;34m\u001b[0m\u001b[0;34m\u001b[0m\u001b[0m\n\u001b[1;32m      5\u001b[0m \u001b[0;34m\u001b[0m\u001b[0m\n",
            "\u001b[0;31mValueError\u001b[0m: Cannot devide by the same number as nominator!"
          ]
        }
      ]
    },
    {
      "cell_type": "markdown",
      "source": [
        "# **Testing - Python Unit Test**\n",
        "\n",
        "In this course, we will perform the unit test. To perform the unit test in Python, you will need a library called unittest.\n",
        "\n",
        "The unittest has been built into the Python standard library since version 2.1.\n",
        "\n",
        "unittest contains both a testing framework and a test runner. unittest has some important requirements for writing and executing tests."
      ],
      "metadata": {
        "id": "3XaND9g0HYc8"
      }
    },
    {
      "cell_type": "markdown",
      "source": [
        "First of all, we will create a python script file in this Google Colab so you don't need to open your VSCode and create a new file.\n",
        "\n",
        "However, in real world case, you cannot do this on Google Colab!"
      ],
      "metadata": {
        "id": "bK3VHR_tSnMV"
      }
    },
    {
      "cell_type": "code",
      "source": [
        "with open(\"unit_test.py\", \"w\") as f:\n",
        "  f.write('''\n",
        "import unittest\n",
        "\n",
        "def add_numbers(a,b):\n",
        "  return a + b\n",
        "\n",
        "class TestAddNumbers(unittest.TestCase):\n",
        "  def test_add_numbers(self):\n",
        "    result = add_numbers(2, 3)\n",
        "    self.assertEqual(result, 5)\n",
        "\n",
        "if __name__ == \"__main__\":\n",
        "  unittest.main()\n",
        "  ''')"
      ],
      "metadata": {
        "id": "xfk8SUgPSc5h"
      },
      "execution_count": 43,
      "outputs": []
    },
    {
      "cell_type": "code",
      "source": [
        "!python unit_test.py"
      ],
      "metadata": {
        "colab": {
          "base_uri": "https://localhost:8080/"
        },
        "id": "LcKf_QFqUOEa",
        "outputId": "45c36176-7567-4b23-f13c-3b78ed7a4e47"
      },
      "execution_count": 44,
      "outputs": [
        {
          "output_type": "stream",
          "name": "stdout",
          "text": [
            ".\n",
            "----------------------------------------------------------------------\n",
            "Ran 1 test in 0.000s\n",
            "\n",
            "OK\n"
          ]
        }
      ]
    },
    {
      "cell_type": "markdown",
      "source": [
        "This unittest has 3 possible outcomes. They are mentioned below:\n",
        "\n",
        "    OK: If all test cases are passed, the output shows OK.\n",
        "\n",
        "    Failure: If any of test cases failed and raised an AssertionError exception\n",
        "\n",
        "    Error: If any exception other than AssertionError exception is raised."
      ],
      "metadata": {
        "id": "awq0j3aTVWF9"
      }
    },
    {
      "cell_type": "markdown",
      "source": [
        "What if the result doesn't match with our expectation. We change math operator in the `add_numbers` to substraction, but because we already know that add_numbers will add two nambers, so we expect the result will be 5.\n",
        "\n",
        "However, the result is different as the error will be raised from the unit test. This indicate that a unit has error and should be improved."
      ],
      "metadata": {
        "id": "5q1WJZd1bdB9"
      }
    },
    {
      "cell_type": "code",
      "source": [
        "with open(\"unit_test_wrong.py\", \"w\") as f:\n",
        "  f.write('''\n",
        "import unittest\n",
        "\n",
        "def add_numbers(a,b):\n",
        "  return a - b\n",
        "\n",
        "class TestAddNumbers(unittest.TestCase):\n",
        "  def test_add_numbers(self):\n",
        "    result = add_numbers(2, 3)\n",
        "    self.assertEqual(result, 5)\n",
        "\n",
        "if __name__ == \"__main__\":\n",
        "  unittest.main()\n",
        "  ''')"
      ],
      "metadata": {
        "id": "Jag-BH0UUTNR"
      },
      "execution_count": 45,
      "outputs": []
    },
    {
      "cell_type": "code",
      "source": [
        "!python unit_test_wrong.py"
      ],
      "metadata": {
        "colab": {
          "base_uri": "https://localhost:8080/"
        },
        "id": "raycL8KnUZZl",
        "outputId": "5778f077-0a18-444f-82c5-3ed2a573c86c"
      },
      "execution_count": 46,
      "outputs": [
        {
          "output_type": "stream",
          "name": "stdout",
          "text": [
            "F\n",
            "======================================================================\n",
            "FAIL: test_add_numbers (__main__.TestAddNumbers)\n",
            "----------------------------------------------------------------------\n",
            "Traceback (most recent call last):\n",
            "  File \"/content/unit_test_wrong.py\", line 10, in test_add_numbers\n",
            "    self.assertEqual(result, 5)\n",
            "AssertionError: -1 != 5\n",
            "\n",
            "----------------------------------------------------------------------\n",
            "Ran 1 test in 0.000s\n",
            "\n",
            "FAILED (failures=1)\n"
          ]
        }
      ]
    },
    {
      "cell_type": "markdown",
      "source": [
        "## Another Example"
      ],
      "metadata": {
        "id": "eE-rzuMkaoOi"
      }
    },
    {
      "cell_type": "code",
      "source": [
        "with open(\"calc_test.py\", \"w\") as f:\n",
        "  f.write(\"\"\"\n",
        "import unittest\n",
        "\n",
        "class Calculator:\n",
        "    def add(self, a, b):\n",
        "        return a + b\n",
        "\n",
        "    def subtract(self, a, b):\n",
        "        return a - b\n",
        "\n",
        "    def multiply(self, a, b):\n",
        "        return a * b\n",
        "\n",
        "    def divide(self, a, b):\n",
        "        if b == 0:\n",
        "            raise ValueError(\"Cannot divide by zero.\")\n",
        "        return a / b\n",
        "\n",
        "\n",
        "class TestCalculator(unittest.TestCase):\n",
        "    def setUp(self):\n",
        "        self.calculator = Calculator()\n",
        "\n",
        "    def test_add(self):\n",
        "        result = self.calculator.add(2, 3)\n",
        "        self.assertEqual(result, 5)\n",
        "\n",
        "    def test_subtract(self):\n",
        "        result = self.calculator.subtract(5, 2)\n",
        "        self.assertEqual(result, 3)\n",
        "\n",
        "    def test_multiply(self):\n",
        "        result = self.calculator.multiply(4, 6)\n",
        "        self.assertEqual(result, 24)\n",
        "\n",
        "    def test_divide(self):\n",
        "        result = self.calculator.divide(10, 2)\n",
        "        self.assertEqual(result, 5)\n",
        "\n",
        "    def test_divide_by_zero(self):\n",
        "        with self.assertRaises(ValueError):\n",
        "            self.calculator.divide(10, 0)\n",
        "\n",
        "\n",
        "if __name__ == \"__main__\":\n",
        "    unittest.main()\n",
        "\"\"\")"
      ],
      "metadata": {
        "id": "Jqm5Sf10aqpf"
      },
      "execution_count": 66,
      "outputs": []
    },
    {
      "cell_type": "code",
      "source": [
        "!python calc_test.py"
      ],
      "metadata": {
        "colab": {
          "base_uri": "https://localhost:8080/"
        },
        "id": "lwS1NfPfa4d3",
        "outputId": "917e3153-75cc-40fe-8d7f-1aebf74bebd5"
      },
      "execution_count": 67,
      "outputs": [
        {
          "output_type": "stream",
          "name": "stdout",
          "text": [
            ".....\n",
            "----------------------------------------------------------------------\n",
            "Ran 5 tests in 0.000s\n",
            "\n",
            "OK\n"
          ]
        }
      ]
    },
    {
      "cell_type": "markdown",
      "source": [
        "## A Complex Example"
      ],
      "metadata": {
        "id": "4fpfdWF1U9I2"
      }
    },
    {
      "cell_type": "markdown",
      "source": [
        "First of all we have to write some code to unit test them. We will have a Python class. The main purpose of the class is to store and retrieve person’s name. So, we write `set_name()` function to store the data and `get_name()` function to retrieve name from the class."
      ],
      "metadata": {
        "id": "DZb_CMBWZnuV"
      }
    },
    {
      "cell_type": "code",
      "source": [
        "with open(\"person.py\", \"w\") as f:\n",
        "  f.write('''\n",
        "class Person:\n",
        "    name = []\n",
        "\n",
        "    def set_name(self, user_name):\n",
        "        self.name.append(user_name)\n",
        "        return len(self.name) - 1\n",
        "\n",
        "    def get_name(self, user_id):\n",
        "        if user_id >= len(self.name):\n",
        "            return 'There is no such user'\n",
        "        else:\n",
        "            return self.name[user_id]\n",
        "\n",
        "\n",
        "if __name__ == '__main__':\n",
        "    person = Person()\n",
        "    print('User Abbas has been added with id ', person.set_name('Abbas'))\n",
        "    print('User associated with id 0 is ', person.get_name(0))\n",
        "\n",
        "    ''')"
      ],
      "metadata": {
        "id": "O1bmMX1QU_Ky"
      },
      "execution_count": 55,
      "outputs": []
    },
    {
      "cell_type": "markdown",
      "source": [
        "Now, we will test those function using unittest. So we have designed two test cases for those two function.\n",
        "\n",
        "Note that the unittest module executes the test functions in the order of their name, not in the order they are defined. And since we want our set_name test to execute first, we have named our test case functions as `test_0_set_name` and `test_1_get_name`."
      ],
      "metadata": {
        "id": "XtEe0BbbZ389"
      }
    },
    {
      "cell_type": "code",
      "source": [
        "with open(\"testing.py\", \"w\") as f:\n",
        "  f.write('''\n",
        "import unittest\n",
        "import person as PersonClass\n",
        "\n",
        "class Test(unittest.TestCase):\n",
        "\n",
        "    person = PersonClass.Person()\n",
        "    user_id = []\n",
        "    user_name = []\n",
        "\n",
        "    def test_0_set_name(self):\n",
        "        print(\"Start set_name test\\\\n\")\n",
        "\n",
        "        for i in range(4):\n",
        "            name = 'name' + str(i)\n",
        "            self.user_name.append(name)\n",
        "            user_id = self.person.set_name(name)\n",
        "            self.assertIsNotNone(user_id)\n",
        "            self.user_id.append(user_id)\n",
        "        print(\"user_id length = \", len(self.user_id))\n",
        "        print(self.user_id)\n",
        "        print(\"user_name length = \", len(self.user_name))\n",
        "        print(self.user_name)\n",
        "        print(\"\\\\nFinish set_name test\\\\n\")\n",
        "\n",
        "    def test_1_get_name(self):\n",
        "        print(\"\\\\nStart get_name test\\\\n\")\n",
        "        length = len(self.user_id)\n",
        "        print(\"user_id length = \", length)\n",
        "        print(\"user_name length = \", len(self.user_name))\n",
        "        for i in range(6):\n",
        "            if i < length:\n",
        "                self.assertEqual(self.user_name[i], self.person.get_name(self.user_id[i]))\n",
        "            else:\n",
        "                print(\"Testing for get_name no user test\")\n",
        "\n",
        "                self.assertEqual('There is no such user', self.person.get_name(i))\n",
        "        print(\"\\\\nFinish get_name test\\\\n\")\n",
        "\n",
        "\n",
        "if __name__ == '__main__':\n",
        "    unittest.main()\n",
        "''')"
      ],
      "metadata": {
        "id": "ratQnFcgVISb"
      },
      "execution_count": 64,
      "outputs": []
    },
    {
      "cell_type": "code",
      "source": [
        "#another way to run the unittest\n",
        "!python -m unittest testing.Test"
      ],
      "metadata": {
        "colab": {
          "base_uri": "https://localhost:8080/"
        },
        "id": "NthK_mAiX_2a",
        "outputId": "448b420d-fac7-4987-caa8-4fa97baf7f15"
      },
      "execution_count": 65,
      "outputs": [
        {
          "output_type": "stream",
          "name": "stdout",
          "text": [
            "Start set_name test\n",
            "\n",
            "user_id length =  4\n",
            "[0, 1, 2, 3]\n",
            "user_name length =  4\n",
            "['name0', 'name1', 'name2', 'name3']\n",
            "\n",
            "Finish set_name test\n",
            "\n",
            ".\n",
            "Start get_name test\n",
            "\n",
            "user_id length =  4\n",
            "user_name length =  4\n",
            "Testing for get_name no user test\n",
            "Testing for get_name no user test\n",
            "\n",
            "Finish get_name test\n",
            "\n",
            ".\n",
            "----------------------------------------------------------------------\n",
            "Ran 2 tests in 0.000s\n",
            "\n",
            "OK\n"
          ]
        }
      ]
    },
    {
      "cell_type": "code",
      "source": [
        "#@title see the clear code and the explanation of testing.py\n",
        "\n",
        "import unittest\n",
        "\n",
        "# This is the class we want to test. So, we need to import it\n",
        "import Person as PersonClass\n",
        "\n",
        "class Test(unittest.TestCase):\n",
        "\n",
        "    person = PersonClass.Person()  # instantiate the Person Class\n",
        "    user_id = []  # variable that stores obtained user_id\n",
        "    user_name = []  # variable that stores person name\n",
        "\n",
        "    # test case function to check the Person.set_name function\n",
        "    def test_0_set_name(self):\n",
        "        print(\"Start set_name test\\n\")\n",
        "\n",
        "        #Any method which starts with ``test_`` will considered as a test case.\n",
        "\n",
        "        for i in range(4):\n",
        "            name = 'name' + str(i) # initialize a name\n",
        "            self.user_name.append(name) # store the name into the list variable\n",
        "            user_id = self.person.set_name(name) # get the user id obtained from the function\n",
        "\n",
        "            # check if the obtained user id is null or not\n",
        "            self.assertIsNotNone(user_id)  # null user id will fail the test\n",
        "\n",
        "            self.user_id.append(user_id) # store the user id to the list\n",
        "        print(\"user_id length = \", len(self.user_id))\n",
        "        print(self.user_id)\n",
        "        print(\"user_name length = \", len(self.user_name))\n",
        "        print(self.user_name)\n",
        "        print(\"\\nFinish set_name test\\n\")\n",
        "\n",
        "    # test case function to check the Person.get_name function\n",
        "    def test_1_get_name(self):\n",
        "        print(\"\\nStart get_name test\\n\")\n",
        "\n",
        "        #Any method that starts with ``test_`` will be considered as a test case.\n",
        "\n",
        "        length = len(self.user_id)  # total number of stored user information\n",
        "        print(\"user_id length = \", length)\n",
        "        print(\"user_name length = \", len(self.user_name))\n",
        "        for i in range(6):\n",
        "            if i < length:  # if i not exceed total length then verify the returned name\n",
        "                self.assertEqual(self.user_name[i], self.person.get_name(self.user_id[i])) # if the two name not matches it will fail the test case\n",
        "            else:\n",
        "                print(\"Testing for get_name no user test\")  # if length exceeds then check the 'no such user' type message\n",
        "\n",
        "                self.assertEqual('There is no such user', self.person.get_name(i))\n",
        "        print(\"\\nFinish get_name test\\n\")\n",
        "\n",
        "\n",
        "if __name__ == '__main__':\n",
        "    unittest.main()"
      ],
      "metadata": {
        "cellView": "form",
        "id": "JVeVLnnoXfR-"
      },
      "execution_count": null,
      "outputs": []
    }
  ]
}